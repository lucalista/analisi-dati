{
 "cells": [
  {
   "cell_type": "markdown",
   "metadata": {},
   "source": [
    "# Proposte per possibili progetti\n",
    "\n",
    "Fermo restando che le proposte fatte dagli studenti sono ben accette, di seguito alcune proposte di possibili progetti per l'esame."
   ]
  },
  {
   "cell_type": "markdown",
   "metadata": {},
   "source": [
    "## Misura della frequenza di risonanza di un circuito RLC in serie\n",
    "\n",
    "* se si misurano ampiezza e/o fase della corrente in un RLC in serie in funzione della frequenza del generatore, si può determinare la frequenza di risonanza che è data da $\\omega_{\\mathrm{R}} = 1/\\sqrt{LC}$. Su dati simulati (che può fornire il docente) si può determinare $\\omega_{\\mathrm{R}}$ con un **fit simultaneo** ad ampiezza e fase, o addirittura ad un fit simultaneo a misure ottenute con diversi valori della resistenza $R$, che non cambia $\\omega_{\\mathrm{R}}$ ma rende più o meno larga la risonanza."
   ]
  },
  {
   "cell_type": "markdown",
   "metadata": {},
   "source": [
    "## Sismicità nei Campi Flegrei\n",
    "\n",
    "L'INGV pubblica diversi dati sulla sismicità nei Campi Flegrei:\n",
    "* http://sismolab.ov.ingv.it/sismo/CATALOGO_STATICO/VESUVIO/ves_2000_2019.html\n",
    "* http://sismolab.ov.ingv.it/sismo/CATALOGO_STATICO/FLEGREI/fle_2000_2019.html\n",
    "* http://pcvh.ov.ingv.it:8000/~rosario/3dse/flegrei.html\n",
    "* https://www.nature.com/articles/s41598-021-86506-6\n",
    "\n",
    "In particolare, il sollevamento del suolo negli ultimi anni è *correlato* all'aumento della frequenza dei terremoti nell'area della Solfatara di Pozzuoli.\n",
    "\n",
    "Si sviluppi un modello che preveda come evolverà la frequenza dei terremoti al crescere del livello del suolo."
   ]
  },
  {
   "cell_type": "markdown",
   "metadata": {},
   "source": [
    "## Modello della prima ondata del COVID-19\n",
    "\n",
    "Il DPC pubblica quotidianamente gli aggiornamenti sulla situazione del COVID-19 in Italia.\n",
    "* https://github.com/pcm-dpc/COVID-19\n",
    "\n",
    "A differenza della seconda ondata, la prima ondata è stata caratterissata da un andamento regolare della pandemia a livello nazionale che segue un'evoluzione che potrebbe essere descritta da diversi modelli (es.: SIR). \n",
    "\n",
    "Provare diversi modelli (es.: curva logistica, modello di Gompetrz, ecc.) per descrivere l'evoluzione della \"prima ondata\"."
   ]
  },
  {
   "cell_type": "markdown",
   "metadata": {},
   "source": [
    "## Misura della massa della Z\n",
    "\n",
    "L'esperimento CMS pubblica campioni di dati ottenuto con le collisioni protone-protone ad LHC\n",
    "\n",
    "https://github.com/cms-opendata-education/cms-jupyter-materials-english\n",
    "\n",
    "In particolare, esistono campioni con una Z che decade in coppie di elettroni e di muoni. \n",
    "Provare a misurare la massa della Z con un modello della sua *line shape* che, a differenza della $\\mathrm{J}/\\psi$, combina i contributi di larghezza intrinseca e risoluzione sperimentale.\n",
    "\n",
    "A seconda della complicazione del modello, si potrebbe anche provare un fit simultanel con coppie di muoni e di elettroni."
   ]
  },
  {
   "cell_type": "markdown",
   "metadata": {},
   "source": [
    "## Le estrazioni del lotto sono equiprobabili?\n",
    "\n",
    "Verificarlo con i dati storici:\n",
    "    \n",
    "*    http://lottoscar.altervista.org/archivi.html\n",
    "\n",
    "In particolare, considerare i dati fino agli anni '90 in cui l'estrazione avveniva con un dispositivo meccanico."
   ]
  },
  {
   "cell_type": "code",
   "execution_count": null,
   "metadata": {},
   "outputs": [],
   "source": []
  }
 ],
 "metadata": {
  "kernelspec": {
   "display_name": "Python 3",
   "language": "python",
   "name": "python3"
  },
  "language_info": {
   "codemirror_mode": {
    "name": "ipython",
    "version": 3
   },
   "file_extension": ".py",
   "mimetype": "text/x-python",
   "name": "python",
   "nbconvert_exporter": "python",
   "pygments_lexer": "ipython3",
   "version": "3.7.3"
  }
 },
 "nbformat": 4,
 "nbformat_minor": 4
}
