{
 "cells": [
  {
   "cell_type": "markdown",
   "metadata": {},
   "source": [
    "# Il naufragio del RMS Titanic e la probabilità secondo Kolmogorov\n",
    "\n",
    "La lista dei passegeri è pubblica con una serie di informazioni interessanti, compreso l'esito del viaggio."
   ]
  },
  {
   "cell_type": "code",
   "execution_count": 1,
   "metadata": {},
   "outputs": [],
   "source": [
    "import pandas as pd\n",
    "import matplotlib.pyplot as plt\n",
    "import numpy as np\n",
    "import wget"
   ]
  },
  {
   "cell_type": "markdown",
   "metadata": {},
   "source": [
    "Diversi dati sui passeggeri del Titanic sono dispoibili online. Sorgente: https://github.com/tpradeep8/tableau-animation\n",
    "\n",
    "Per comodità, possiamo scaricare direttamente il file in un'area locale con ```wget```.\n",
    "\n",
    "Consideriamo anche che in futuro quei dati potrebbero non essere più disponibili in rete!"
   ]
  },
  {
   "cell_type": "code",
   "execution_count": 5,
   "metadata": {},
   "outputs": [
    {
     "data": {
      "text/plain": [
       "'data/titanic passenger list.csv'"
      ]
     },
     "execution_count": 5,
     "metadata": {},
     "output_type": "execute_result"
    }
   ],
   "source": [
    "wget.download('https://raw.githubusercontent.com/tpradeep8/tableau-data-visualization/master/titanic passenger list.csv', out='data')"
   ]
  },
  {
   "cell_type": "markdown",
   "metadata": {},
   "source": [
    "Il file con i dati può essere anche caricato direttamente dal repository remoto:\n",
    "\n",
    "```\n",
    "df = pd.read_csv('https://github.com/tpradeep8/tableau-data-visualization/raw/master/titanic%20passenger%20list.csv')\n",
    "```\n",
    "\n",
    "Per motivi di rapidità e per avere una soluzione in caso di problemi di rete, è conveniente avere i dati in locale:"
   ]
  },
  {
   "cell_type": "code",
   "execution_count": 9,
   "metadata": {},
   "outputs": [],
   "source": [
    "df = pd.read_csv('data/titanic passenger list.csv')"
   ]
  },
  {
   "cell_type": "markdown",
   "metadata": {},
   "source": [
    "# Visualizzazione\n",
    "I dati si possono visualizzare in forma di tabella"
   ]
  },
  {
   "cell_type": "code",
   "execution_count": 3,
   "metadata": {},
   "outputs": [
    {
     "data": {
      "text/html": [
       "<div>\n",
       "<style scoped>\n",
       "    .dataframe tbody tr th:only-of-type {\n",
       "        vertical-align: middle;\n",
       "    }\n",
       "\n",
       "    .dataframe tbody tr th {\n",
       "        vertical-align: top;\n",
       "    }\n",
       "\n",
       "    .dataframe thead th {\n",
       "        text-align: right;\n",
       "    }\n",
       "</style>\n",
       "<table border=\"1\" class=\"dataframe\">\n",
       "  <thead>\n",
       "    <tr style=\"text-align: right;\">\n",
       "      <th></th>\n",
       "      <th>pclass</th>\n",
       "      <th>survived</th>\n",
       "      <th>name</th>\n",
       "      <th>sex</th>\n",
       "      <th>age</th>\n",
       "      <th>sibsp</th>\n",
       "      <th>parch</th>\n",
       "      <th>ticket</th>\n",
       "      <th>fare</th>\n",
       "      <th>cabin</th>\n",
       "      <th>embarked</th>\n",
       "      <th>boat</th>\n",
       "      <th>body</th>\n",
       "      <th>home.dest</th>\n",
       "    </tr>\n",
       "  </thead>\n",
       "  <tbody>\n",
       "    <tr>\n",
       "      <th>0</th>\n",
       "      <td>1</td>\n",
       "      <td>1</td>\n",
       "      <td>Allen, Miss. Elisabeth Walton</td>\n",
       "      <td>female</td>\n",
       "      <td>29.00</td>\n",
       "      <td>0</td>\n",
       "      <td>0</td>\n",
       "      <td>24160</td>\n",
       "      <td>211.3375</td>\n",
       "      <td>B5</td>\n",
       "      <td>S</td>\n",
       "      <td>2</td>\n",
       "      <td>NaN</td>\n",
       "      <td>St Louis, MO</td>\n",
       "    </tr>\n",
       "    <tr>\n",
       "      <th>1</th>\n",
       "      <td>1</td>\n",
       "      <td>1</td>\n",
       "      <td>Allison, Master. Hudson Trevor</td>\n",
       "      <td>male</td>\n",
       "      <td>0.92</td>\n",
       "      <td>1</td>\n",
       "      <td>2</td>\n",
       "      <td>113781</td>\n",
       "      <td>151.5500</td>\n",
       "      <td>C22 C26</td>\n",
       "      <td>S</td>\n",
       "      <td>11</td>\n",
       "      <td>NaN</td>\n",
       "      <td>Montreal, PQ / Chesterville, ON</td>\n",
       "    </tr>\n",
       "    <tr>\n",
       "      <th>2</th>\n",
       "      <td>1</td>\n",
       "      <td>0</td>\n",
       "      <td>Allison, Miss. Helen Loraine</td>\n",
       "      <td>female</td>\n",
       "      <td>2.00</td>\n",
       "      <td>1</td>\n",
       "      <td>2</td>\n",
       "      <td>113781</td>\n",
       "      <td>151.5500</td>\n",
       "      <td>C22 C26</td>\n",
       "      <td>S</td>\n",
       "      <td>NaN</td>\n",
       "      <td>NaN</td>\n",
       "      <td>Montreal, PQ / Chesterville, ON</td>\n",
       "    </tr>\n",
       "    <tr>\n",
       "      <th>3</th>\n",
       "      <td>1</td>\n",
       "      <td>0</td>\n",
       "      <td>Allison, Mr. Hudson Joshua Creighton</td>\n",
       "      <td>male</td>\n",
       "      <td>30.00</td>\n",
       "      <td>1</td>\n",
       "      <td>2</td>\n",
       "      <td>113781</td>\n",
       "      <td>151.5500</td>\n",
       "      <td>C22 C26</td>\n",
       "      <td>S</td>\n",
       "      <td>NaN</td>\n",
       "      <td>135.0</td>\n",
       "      <td>Montreal, PQ / Chesterville, ON</td>\n",
       "    </tr>\n",
       "    <tr>\n",
       "      <th>4</th>\n",
       "      <td>1</td>\n",
       "      <td>0</td>\n",
       "      <td>Allison, Mrs. Hudson J C (Bessie Waldo Daniels)</td>\n",
       "      <td>female</td>\n",
       "      <td>25.00</td>\n",
       "      <td>1</td>\n",
       "      <td>2</td>\n",
       "      <td>113781</td>\n",
       "      <td>151.5500</td>\n",
       "      <td>C22 C26</td>\n",
       "      <td>S</td>\n",
       "      <td>NaN</td>\n",
       "      <td>NaN</td>\n",
       "      <td>Montreal, PQ / Chesterville, ON</td>\n",
       "    </tr>\n",
       "    <tr>\n",
       "      <th>...</th>\n",
       "      <td>...</td>\n",
       "      <td>...</td>\n",
       "      <td>...</td>\n",
       "      <td>...</td>\n",
       "      <td>...</td>\n",
       "      <td>...</td>\n",
       "      <td>...</td>\n",
       "      <td>...</td>\n",
       "      <td>...</td>\n",
       "      <td>...</td>\n",
       "      <td>...</td>\n",
       "      <td>...</td>\n",
       "      <td>...</td>\n",
       "      <td>...</td>\n",
       "    </tr>\n",
       "    <tr>\n",
       "      <th>1304</th>\n",
       "      <td>3</td>\n",
       "      <td>0</td>\n",
       "      <td>Zabour, Miss. Hileni</td>\n",
       "      <td>female</td>\n",
       "      <td>14.50</td>\n",
       "      <td>1</td>\n",
       "      <td>0</td>\n",
       "      <td>2665</td>\n",
       "      <td>14.4542</td>\n",
       "      <td>NaN</td>\n",
       "      <td>C</td>\n",
       "      <td>NaN</td>\n",
       "      <td>328.0</td>\n",
       "      <td>NaN</td>\n",
       "    </tr>\n",
       "    <tr>\n",
       "      <th>1305</th>\n",
       "      <td>3</td>\n",
       "      <td>0</td>\n",
       "      <td>Zabour, Miss. Thamine</td>\n",
       "      <td>female</td>\n",
       "      <td>NaN</td>\n",
       "      <td>1</td>\n",
       "      <td>0</td>\n",
       "      <td>2665</td>\n",
       "      <td>14.4542</td>\n",
       "      <td>NaN</td>\n",
       "      <td>C</td>\n",
       "      <td>NaN</td>\n",
       "      <td>NaN</td>\n",
       "      <td>NaN</td>\n",
       "    </tr>\n",
       "    <tr>\n",
       "      <th>1306</th>\n",
       "      <td>3</td>\n",
       "      <td>0</td>\n",
       "      <td>Zakarian, Mr. Mapriededer</td>\n",
       "      <td>male</td>\n",
       "      <td>26.50</td>\n",
       "      <td>0</td>\n",
       "      <td>0</td>\n",
       "      <td>2656</td>\n",
       "      <td>7.2250</td>\n",
       "      <td>NaN</td>\n",
       "      <td>C</td>\n",
       "      <td>NaN</td>\n",
       "      <td>304.0</td>\n",
       "      <td>NaN</td>\n",
       "    </tr>\n",
       "    <tr>\n",
       "      <th>1307</th>\n",
       "      <td>3</td>\n",
       "      <td>0</td>\n",
       "      <td>Zakarian, Mr. Ortin</td>\n",
       "      <td>male</td>\n",
       "      <td>27.00</td>\n",
       "      <td>0</td>\n",
       "      <td>0</td>\n",
       "      <td>2670</td>\n",
       "      <td>7.2250</td>\n",
       "      <td>NaN</td>\n",
       "      <td>C</td>\n",
       "      <td>NaN</td>\n",
       "      <td>NaN</td>\n",
       "      <td>NaN</td>\n",
       "    </tr>\n",
       "    <tr>\n",
       "      <th>1308</th>\n",
       "      <td>3</td>\n",
       "      <td>0</td>\n",
       "      <td>Zimmerman, Mr. Leo</td>\n",
       "      <td>male</td>\n",
       "      <td>29.00</td>\n",
       "      <td>0</td>\n",
       "      <td>0</td>\n",
       "      <td>315082</td>\n",
       "      <td>7.8750</td>\n",
       "      <td>NaN</td>\n",
       "      <td>S</td>\n",
       "      <td>NaN</td>\n",
       "      <td>NaN</td>\n",
       "      <td>NaN</td>\n",
       "    </tr>\n",
       "  </tbody>\n",
       "</table>\n",
       "<p>1309 rows × 14 columns</p>\n",
       "</div>"
      ],
      "text/plain": [
       "      pclass  survived                                             name  \\\n",
       "0          1         1                    Allen, Miss. Elisabeth Walton   \n",
       "1          1         1                   Allison, Master. Hudson Trevor   \n",
       "2          1         0                     Allison, Miss. Helen Loraine   \n",
       "3          1         0             Allison, Mr. Hudson Joshua Creighton   \n",
       "4          1         0  Allison, Mrs. Hudson J C (Bessie Waldo Daniels)   \n",
       "...      ...       ...                                              ...   \n",
       "1304       3         0                             Zabour, Miss. Hileni   \n",
       "1305       3         0                            Zabour, Miss. Thamine   \n",
       "1306       3         0                        Zakarian, Mr. Mapriededer   \n",
       "1307       3         0                              Zakarian, Mr. Ortin   \n",
       "1308       3         0                               Zimmerman, Mr. Leo   \n",
       "\n",
       "         sex    age  sibsp  parch  ticket      fare    cabin embarked boat  \\\n",
       "0     female  29.00      0      0   24160  211.3375       B5        S    2   \n",
       "1       male   0.92      1      2  113781  151.5500  C22 C26        S   11   \n",
       "2     female   2.00      1      2  113781  151.5500  C22 C26        S  NaN   \n",
       "3       male  30.00      1      2  113781  151.5500  C22 C26        S  NaN   \n",
       "4     female  25.00      1      2  113781  151.5500  C22 C26        S  NaN   \n",
       "...      ...    ...    ...    ...     ...       ...      ...      ...  ...   \n",
       "1304  female  14.50      1      0    2665   14.4542      NaN        C  NaN   \n",
       "1305  female    NaN      1      0    2665   14.4542      NaN        C  NaN   \n",
       "1306    male  26.50      0      0    2656    7.2250      NaN        C  NaN   \n",
       "1307    male  27.00      0      0    2670    7.2250      NaN        C  NaN   \n",
       "1308    male  29.00      0      0  315082    7.8750      NaN        S  NaN   \n",
       "\n",
       "       body                        home.dest  \n",
       "0       NaN                     St Louis, MO  \n",
       "1       NaN  Montreal, PQ / Chesterville, ON  \n",
       "2       NaN  Montreal, PQ / Chesterville, ON  \n",
       "3     135.0  Montreal, PQ / Chesterville, ON  \n",
       "4       NaN  Montreal, PQ / Chesterville, ON  \n",
       "...     ...                              ...  \n",
       "1304  328.0                              NaN  \n",
       "1305    NaN                              NaN  \n",
       "1306  304.0                              NaN  \n",
       "1307    NaN                              NaN  \n",
       "1308    NaN                              NaN  \n",
       "\n",
       "[1309 rows x 14 columns]"
      ]
     },
     "execution_count": 3,
     "metadata": {},
     "output_type": "execute_result"
    }
   ],
   "source": [
    "df"
   ]
  },
  {
   "cell_type": "markdown",
   "metadata": {},
   "source": [
    "Gli istrogrammi possono essere visualizzati direttamente da Pandas"
   ]
  },
  {
   "cell_type": "code",
   "execution_count": 4,
   "metadata": {},
   "outputs": [
    {
     "data": {
      "text/plain": [
       "male      843\n",
       "female    466\n",
       "Name: sex, dtype: int64"
      ]
     },
     "execution_count": 4,
     "metadata": {},
     "output_type": "execute_result"
    }
   ],
   "source": [
    "sex_counts = df['sex'].value_counts()\n",
    "sex_counts"
   ]
  },
  {
   "cell_type": "code",
   "execution_count": 5,
   "metadata": {},
   "outputs": [
    {
     "name": "stdout",
     "output_type": "stream",
     "text": [
      "1309\n"
     ]
    }
   ],
   "source": [
    "all=sex_counts.sum()\n",
    "print(all)"
   ]
  },
  {
   "cell_type": "code",
   "execution_count": 6,
   "metadata": {},
   "outputs": [
    {
     "data": {
      "image/png": "[encoded data removed]",
      "text/plain": [
       "<Figure size 864x432 with 1 Axes>"
      ]
     },
     "metadata": {
      "needs_background": "light"
     },
     "output_type": "display_data"
    }
   ],
   "source": [
    "plt.figure(figsize=(12,6))\n",
    "sex_counts.plot(kind='bar')\n",
    "plt.xlabel('gender')\n",
    "plt.xticks(rotation=0)\n",
    "plt.show()"
   ]
  },
  {
   "cell_type": "code",
   "execution_count": 7,
   "metadata": {},
   "outputs": [
    {
     "data": {
      "image/png": "[encoded data removed]",
      "text/plain": [
       "<Figure size 864x432 with 1 Axes>"
      ]
     },
     "metadata": {
      "needs_background": "light"
     },
     "output_type": "display_data"
    }
   ],
   "source": [
    "plt.figure(figsize=(12,6))\n",
    "df['pclass'].value_counts().sort_index().plot(kind='bar')\n",
    "plt.xlabel('class')\n",
    "plt.xticks(rotation=0)\n",
    "plt.show()"
   ]
  },
  {
   "cell_type": "code",
   "execution_count": 8,
   "metadata": {},
   "outputs": [
    {
     "data": {
      "image/png": "[encoded data removed]",
      "text/plain": [
       "<Figure size 864x432 with 1 Axes>"
      ]
     },
     "metadata": {
      "needs_background": "light"
     },
     "output_type": "display_data"
    }
   ],
   "source": [
    "plt.figure(figsize=(12,6))\n",
    "df['survived'].value_counts().sort_index().rename({0: 'dead', 1: 'survived'}).plot(kind='bar')\n",
    "plt.xlabel('outcome')\n",
    "plt.xticks(rotation=0)\n",
    "plt.show()"
   ]
  },
  {
   "cell_type": "markdown",
   "metadata": {},
   "source": [
    "Studiamo la distribuzione di età"
   ]
  },
  {
   "cell_type": "code",
   "execution_count": 9,
   "metadata": {},
   "outputs": [
    {
     "data": {
      "text/plain": [
       "0.17     1\n",
       "0.33     1\n",
       "0.42     1\n",
       "0.67     1\n",
       "0.75     3\n",
       "        ..\n",
       "70.50    1\n",
       "71.00    2\n",
       "74.00    1\n",
       "76.00    1\n",
       "80.00    1\n",
       "Name: age, Length: 98, dtype: int64"
      ]
     },
     "execution_count": 9,
     "metadata": {},
     "output_type": "execute_result"
    }
   ],
   "source": [
    "df['age'].value_counts().sort_index()"
   ]
  },
  {
   "cell_type": "markdown",
   "metadata": {},
   "source": [
    "Possiamo approssimare a zero le età minori di un anno"
   ]
  },
  {
   "cell_type": "code",
   "execution_count": 10,
   "metadata": {},
   "outputs": [],
   "source": [
    "age_distr = np.floor(df['age']).value_counts().sort_index()"
   ]
  },
  {
   "cell_type": "code",
   "execution_count": 11,
   "metadata": {},
   "outputs": [
    {
     "data": {
      "image/png": "[encoded data removed]",
      "text/plain": [
       "<Figure size 864x576 with 1 Axes>"
      ]
     },
     "metadata": {
      "needs_background": "light"
     },
     "output_type": "display_data"
    }
   ],
   "source": [
    "fig, ax = plt.subplots(figsize=(9, 6))\n",
    "age_distr.plot(figsize=(12,8),marker='o')\n",
    "ax.set_xlabel('age')\n",
    "ax.set_ylabel('n.')\n",
    "fig.show()"
   ]
  },
  {
   "cell_type": "markdown",
   "metadata": {},
   "source": [
    "La distribuzione cumulativa si può calcolare con ```cumsum()```."
   ]
  },
  {
   "cell_type": "code",
   "execution_count": 12,
   "metadata": {},
   "outputs": [
    {
     "name": "stdout",
     "output_type": "stream",
     "text": [
      "all passengers:  1309 age unknown:  263\n"
     ]
    },
    {
     "data": {
      "image/png": "[encoded data removed]",
      "text/plain": [
       "<Figure size 864x576 with 1 Axes>"
      ]
     },
     "metadata": {
      "needs_background": "light"
     },
     "output_type": "display_data"
    }
   ],
   "source": [
    "fig, ax = plt.subplots(figsize=(9, 6))\n",
    "age_distr.cumsum().plot(figsize=(12,8),marker='o')\n",
    "ax.set_xlabel('age')\n",
    "ax.set_ylabel('n.')\n",
    "na = df.age.isna().sum()\n",
    "print(\"all passengers: \", all, \"age unknown: \", na)\n",
    "age_known = all-na\n",
    "plt.plot([0, 80],[age_known,age_known])\n",
    "fig.show()\n"
   ]
  },
  {
   "cell_type": "code",
   "execution_count": 13,
   "metadata": {},
   "outputs": [
    {
     "name": "stdout",
     "output_type": "stream",
     "text": [
      "genders:  ['female' 'male']\n"
     ]
    }
   ],
   "source": [
    "genders = df.sex.value_counts().sort_index().index.values\n",
    "print('genders: ',genders)"
   ]
  },
  {
   "cell_type": "code",
   "execution_count": 14,
   "metadata": {},
   "outputs": [
    {
     "data": {
      "text/plain": [
       "male      843\n",
       "female    466\n",
       "Name: sex, dtype: int64"
      ]
     },
     "execution_count": 14,
     "metadata": {},
     "output_type": "execute_result"
    }
   ],
   "source": [
    "df.sex.value_counts()"
   ]
  },
  {
   "cell_type": "code",
   "execution_count": 15,
   "metadata": {},
   "outputs": [
    {
     "data": {
      "text/plain": [
       "female    466\n",
       "male      843\n",
       "Name: sex, dtype: int64"
      ]
     },
     "execution_count": 15,
     "metadata": {},
     "output_type": "execute_result"
    }
   ],
   "source": [
    "df.sex.value_counts().sort_index()"
   ]
  },
  {
   "cell_type": "code",
   "execution_count": 16,
   "metadata": {},
   "outputs": [
    {
     "name": "stdout",
     "output_type": "stream",
     "text": [
      "female : 466 male : 843\n"
     ]
    }
   ],
   "source": [
    "c_gender = df.sex.value_counts().sort_index().values\n",
    "print(genders[0],\":\", c_gender[0], genders[1],\":\", c_gender[1])"
   ]
  },
  {
   "cell_type": "code",
   "execution_count": 17,
   "metadata": {},
   "outputs": [
    {
     "data": {
      "text/plain": [
       "0    682\n",
       "1    161\n",
       "Name: survived, dtype: int64"
      ]
     },
     "execution_count": 17,
     "metadata": {},
     "output_type": "execute_result"
    }
   ],
   "source": [
    "df[df.sex=='male'].survived.value_counts()"
   ]
  },
  {
   "cell_type": "code",
   "execution_count": 18,
   "metadata": {},
   "outputs": [
    {
     "data": {
      "text/plain": [
       "1    339\n",
       "0    127\n",
       "Name: survived, dtype: int64"
      ]
     },
     "execution_count": 18,
     "metadata": {},
     "output_type": "execute_result"
    }
   ],
   "source": [
    "df[df.sex=='female'].survived.value_counts()"
   ]
  },
  {
   "cell_type": "code",
   "execution_count": 19,
   "metadata": {},
   "outputs": [
    {
     "name": "stdout",
     "output_type": "stream",
     "text": [
      "m, survived:  161  dead:  682\n",
      "f, survived:  339  dead:  127\n"
     ]
    }
   ],
   "source": [
    "m_survived = df[df.sex=='male'].survived.value_counts().sort_index()\n",
    "f_survived = df[df.sex=='female'].survived.value_counts().sort_index()\n",
    "print(\"m, survived: \", m_survived[1], \" dead: \", m_survived[0])\n",
    "print(\"f, survived: \", f_survived[1], \" dead: \", f_survived[0])"
   ]
  },
  {
   "cell_type": "code",
   "execution_count": 20,
   "metadata": {},
   "outputs": [],
   "source": [
    "survived = df[df.survived==1].sex.value_counts().sort_index().values\n",
    "dead = df[df.survived==0].sex.value_counts().sort_index().values"
   ]
  },
  {
   "cell_type": "code",
   "execution_count": 21,
   "metadata": {},
   "outputs": [
    {
     "name": "stdout",
     "output_type": "stream",
     "text": [
      "survived, f:  339  m:  161\n",
      "dead, f:  127  m:  682\n"
     ]
    }
   ],
   "source": [
    "print(\"survived, f: \", survived[0], \" m: \", survived[1])\n",
    "print(\"dead, f: \", dead[0], \" m: \", dead[1])"
   ]
  },
  {
   "cell_type": "code",
   "execution_count": 22,
   "metadata": {},
   "outputs": [
    {
     "data": {
      "image/png": "[encoded data removed]",
      "text/plain": [
       "<Figure size 864x432 with 1 Axes>"
      ]
     },
     "metadata": {
      "needs_background": "light"
     },
     "output_type": "display_data"
    }
   ],
   "source": [
    "plt.figure(figsize=(12,6))\n",
    "plt.bar(x=genders, height=survived, label='survived')\n",
    "plt.bar(x=genders, bottom=survived, height=dead, label='dead')\n",
    "plt.xlabel('gender')\n",
    "plt.ylabel('number')\n",
    "plt.legend()\n",
    "plt.show()"
   ]
  },
  {
   "cell_type": "markdown",
   "metadata": {},
   "source": [
    "# Approccio assiomatico di Kolmogorov alla probabilità\n",
    "\n",
    "Consideriamo un *sample space* $\\Omega$ e un *event space* $F \\subseteq 2^\\Omega$ che contiene $\\Omega$ ($2^\\Omega$ è l'insieme delle parti di $\\Omega$), la probabilità $P$ è una funzione che associa ad ogni elemento $E$ di $F$ un valore reale. \n",
    "\n",
    "$P$ deve soddisfare alcune proprietà che la caratterizzano come misura:\n",
    "1. $P(E)\\ge 0\\,\\,\\, \\forall E\\in F$\n",
    "* $P(\\Omega)=1$ (normalizzazione)\n",
    "* $\\forall(E_1,\\cdots,E_n)\\in F^n: E_i\\cap E_j=0,\\,\\,\\, P\\left(\\bigcup\\limits_{i=1}^n E_i\\right) = \\sum\\limits_{i=1}^n P(E_i)$"
   ]
  },
  {
   "cell_type": "markdown",
   "metadata": {},
   "source": [
    "In questo caso, potremmo definire $\\Omega$ come l'insieme dei 1309 passeggeri del Titanic. L'insieme delle parti comprende diversi sottoinsiemi di $\\Omega$. Ad esempio:\n",
    "* maschi\n",
    "* femmine\n",
    "* sopravvissuti\n",
    "* passeggeri in 1^ classe, 2^ classe, 3^ classe\n",
    "* maschi sopravvissuti\n",
    "* donne sopravvissute\n",
    "* maschi sopravvissuti in 3^ classe\n",
    "* ... ecc.\n",
    "\n",
    "La probabilità di uno dei sottoinsiemi $E$ può essere definita come:\n",
    "\n",
    "$P(E) = \\frac{\\displaystyle n(E)}{\\displaystyle n(\\Omega)}$\n",
    "\n",
    "Dove $n(\\Omega)=1309$. Dividere per $n(\\Omega)$ fornisce la normalizzazzione corretta affinché $P(\\Omega)=1$.\n",
    "\n",
    "Nel caso dei passeggerei del Titanic **non abbiamo alcun fenomeno casuale**. L'applicazione della teoria della probabilità di Kolmogorov è possibile interpretando la probabilità come frequenza di un evento $E$ rispetto al totale del campione di 1309 passeggeri.\n"
   ]
  },
  {
   "cell_type": "code",
   "execution_count": 23,
   "metadata": {},
   "outputs": [
    {
     "name": "stdout",
     "output_type": "stream",
     "text": [
      "[0.72746781 0.19098458] [466 843]\n"
     ]
    },
    {
     "data": {
      "image/png": "[encoded data removed]",
      "text/plain": [
       "<Figure size 864x432 with 1 Axes>"
      ]
     },
     "metadata": {
      "needs_background": "light"
     },
     "output_type": "display_data"
    }
   ],
   "source": [
    "plt.figure(figsize=(12,6))\n",
    "pos=(0, (c_gender[0]+c_gender[1])/2)\n",
    "all=survived+dead\n",
    "p_survived = survived/all\n",
    "p_dead = dead/all\n",
    "print(p_survived, c_gender)\n",
    "plt.bar(x=pos, height=p_survived, width=c_gender, label='survived')\n",
    "plt.bar(x=pos, bottom=p_survived, height=p_dead, width=c_gender, label='dead')\n",
    "plt.xticks(pos, genders)\n",
    "plt.legend()\n",
    "plt.xlabel('gender')\n",
    "plt.ylabel('fraction')\n",
    "plt.show()"
   ]
  },
  {
   "cell_type": "code",
   "execution_count": 24,
   "metadata": {},
   "outputs": [
    {
     "data": {
      "image/png": "[encoded data removed]",
      "text/plain": [
       "<Figure size 864x432 with 1 Axes>"
      ]
     },
     "metadata": {
      "needs_background": "light"
     },
     "output_type": "display_data"
    }
   ],
   "source": [
    "classes = df.pclass.value_counts().sort_index().index.values\n",
    "c_classes = df.pclass.value_counts().sort_index().values\n",
    "plt.figure(figsize=(12,6))\n",
    "pos=[0, (c_classes[0]+c_classes[1])/2, (c_classes[0]+c_classes[2])/2+c_classes[1]]\n",
    "survived = df[df.survived==1].pclass.value_counts().sort_index().values\n",
    "dead = df[df.survived==0].pclass.value_counts().sort_index().values\n",
    "all=survived+dead\n",
    "p_survived = survived/all\n",
    "p_dead = dead/all\n",
    "plt.bar(x=pos, height=p_survived, width=c_classes, label='survived')\n",
    "plt.bar(x=pos, bottom=p_survived, height=p_dead, width=c_classes, label='dead')\n",
    "plt.xticks(pos, classes)\n",
    "plt.legend()\n",
    "plt.xlabel('class')\n",
    "plt.ylabel('fraction')\n",
    "plt.show()"
   ]
  },
  {
   "cell_type": "markdown",
   "metadata": {},
   "source": [
    "Nei grafici sopra abbiamo rappresentato gli istogrammi con una larghezza pari al numero di persone in ciascuna categoria (maschi o femmine; 1^, 2^, o 3^ classe). Sull'asse verticale abbiamo rappresentato la probabilità dell'esito (sopravvissuto o morto). **Ciasuno dei rettangoli ha l'area proporzionale al numero di persone in ciascuna categoria**. In un istogramma classico, invece, il numero di persone è rappresentato come altezza della barra."
   ]
  },
  {
   "cell_type": "code",
   "execution_count": 25,
   "metadata": {},
   "outputs": [
    {
     "data": {
      "text/plain": [
       "sex     pclass\n",
       "female  1         144\n",
       "        2         106\n",
       "        3         216\n",
       "male    1         179\n",
       "        2         171\n",
       "        3         493\n",
       "dtype: int64"
      ]
     },
     "execution_count": 25,
     "metadata": {},
     "output_type": "execute_result"
    }
   ],
   "source": [
    "df_sex_pclass=df.groupby(['sex','pclass']).size()\n",
    "df_sex_pclass"
   ]
  },
  {
   "cell_type": "code",
   "execution_count": 26,
   "metadata": {},
   "outputs": [
    {
     "data": {
      "text/html": [
       "<div>\n",
       "<style scoped>\n",
       "    .dataframe tbody tr th:only-of-type {\n",
       "        vertical-align: middle;\n",
       "    }\n",
       "\n",
       "    .dataframe tbody tr th {\n",
       "        vertical-align: top;\n",
       "    }\n",
       "\n",
       "    .dataframe thead th {\n",
       "        text-align: right;\n",
       "    }\n",
       "</style>\n",
       "<table border=\"1\" class=\"dataframe\">\n",
       "  <thead>\n",
       "    <tr style=\"text-align: right;\">\n",
       "      <th>pclass</th>\n",
       "      <th>1</th>\n",
       "      <th>2</th>\n",
       "      <th>3</th>\n",
       "    </tr>\n",
       "    <tr>\n",
       "      <th>sex</th>\n",
       "      <th></th>\n",
       "      <th></th>\n",
       "      <th></th>\n",
       "    </tr>\n",
       "  </thead>\n",
       "  <tbody>\n",
       "    <tr>\n",
       "      <th>female</th>\n",
       "      <td>144</td>\n",
       "      <td>106</td>\n",
       "      <td>216</td>\n",
       "    </tr>\n",
       "    <tr>\n",
       "      <th>male</th>\n",
       "      <td>179</td>\n",
       "      <td>171</td>\n",
       "      <td>493</td>\n",
       "    </tr>\n",
       "  </tbody>\n",
       "</table>\n",
       "</div>"
      ],
      "text/plain": [
       "pclass    1    2    3\n",
       "sex                  \n",
       "female  144  106  216\n",
       "male    179  171  493"
      ]
     },
     "execution_count": 26,
     "metadata": {},
     "output_type": "execute_result"
    }
   ],
   "source": [
    "map =df_sex_pclass.unstack(level=1)\n",
    "map"
   ]
  },
  {
   "cell_type": "code",
   "execution_count": 27,
   "metadata": {},
   "outputs": [
    {
     "data": {
      "text/plain": [
       "MultiIndex([('female', 1),\n",
       "            ('female', 2),\n",
       "            ('female', 3),\n",
       "            (  'male', 1),\n",
       "            (  'male', 2),\n",
       "            (  'male', 3)],\n",
       "           names=['sex', 'pclass'])"
      ]
     },
     "execution_count": 27,
     "metadata": {},
     "output_type": "execute_result"
    }
   ],
   "source": [
    "df_sex_pclass.index"
   ]
  },
  {
   "cell_type": "code",
   "execution_count": 28,
   "metadata": {},
   "outputs": [
    {
     "data": {
      "text/plain": [
       "Index(['female', 'male'], dtype='object', name='sex')"
      ]
     },
     "execution_count": 28,
     "metadata": {},
     "output_type": "execute_result"
    }
   ],
   "source": [
    "idx0= df_sex_pclass.index.get_level_values(0).unique()\n",
    "idx0"
   ]
  },
  {
   "cell_type": "code",
   "execution_count": 29,
   "metadata": {},
   "outputs": [
    {
     "data": {
      "text/plain": [
       "Int64Index([1, 2, 3], dtype='int64', name='pclass')"
      ]
     },
     "execution_count": 29,
     "metadata": {},
     "output_type": "execute_result"
    }
   ],
   "source": [
    "idx1=df_sex_pclass.index.get_level_values(1).unique()\n",
    "idx1"
   ]
  },
  {
   "cell_type": "code",
   "execution_count": 30,
   "metadata": {},
   "outputs": [
    {
     "name": "stdout",
     "output_type": "stream",
     "text": [
      "2 3\n"
     ]
    }
   ],
   "source": [
    "print(idx0.size, idx1.size)"
   ]
  },
  {
   "cell_type": "code",
   "execution_count": 31,
   "metadata": {},
   "outputs": [
    {
     "data": {
      "text/plain": [
       "216"
      ]
     },
     "execution_count": 31,
     "metadata": {},
     "output_type": "execute_result"
    }
   ],
   "source": [
    "map.iloc[0,2]"
   ]
  },
  {
   "cell_type": "markdown",
   "metadata": {},
   "source": [
    "Documentazione su heatmap e argomenti simili si trovano qui:\n",
    "    \n",
    "* heatmap in matplotlib:\n",
    "    https://matplotlib.org/3.1.1/gallery/images_contours_and_fields/image_annotated_heatmap.html\n",
    "* diverse colormap disponibili:\n",
    "    https://matplotlib.org/tutorials/colors/colormaps.html"
   ]
  },
  {
   "cell_type": "code",
   "execution_count": 32,
   "metadata": {},
   "outputs": [
    {
     "data": {
      "image/png": "[encoded data removed]",
      "text/plain": [
       "<Figure size 648x432 with 2 Axes>"
      ]
     },
     "metadata": {
      "needs_background": "light"
     },
     "output_type": "display_data"
    }
   ],
   "source": [
    "def plot_map(map, title, label):\n",
    "    fig, ax = plt.subplots(figsize=(9, 6))\n",
    "    im=ax.imshow(map, cmap='seismic')\n",
    "    ax.set_xticks(np.arange(idx1.size))\n",
    "    ax.set_xticklabels(idx1)\n",
    "    ax.set_yticks(np.arange(idx0.size))\n",
    "    ax.set_yticklabels(idx0)\n",
    "    ax.set_xlabel('class')\n",
    "    ax.set_ylabel('gender')\n",
    "    for i in range(idx0.size):\n",
    "        for j in range(idx1.size):\n",
    "            text = ax.text(j, i, '{:.2f}'.format(map.iloc[i, j]), ha=\"center\", va=\"center\", color=\"white\")\n",
    "    ax.set_title(title)\n",
    "    cbar = ax.figure.colorbar(im)\n",
    "    cbar.set_label(label)\n",
    "    fig.show()\n",
    "plot_map(map, 'Number of passengers','Number')"
   ]
  },
  {
   "cell_type": "code",
   "execution_count": 33,
   "metadata": {},
   "outputs": [],
   "source": [
    "map_survived=df[df.survived==1].groupby(['sex','pclass']).size().unstack(level=1)\n",
    "map_dead=df[df.survived==0].groupby(['sex','pclass']).size().unstack(level=1)\n",
    "map_prob=map_survived/(map)"
   ]
  },
  {
   "cell_type": "code",
   "execution_count": 34,
   "metadata": {},
   "outputs": [
    {
     "data": {
      "image/png": "[encoded data removed]",
      "text/plain": [
       "<Figure size 648x432 with 2 Axes>"
      ]
     },
     "metadata": {
      "needs_background": "light"
     },
     "output_type": "display_data"
    }
   ],
   "source": [
    "plot_map(map_prob, 'Fraction survived', 'Fraction')"
   ]
  },
  {
   "cell_type": "markdown",
   "metadata": {},
   "source": [
    "# Probabilità condizionata\n",
    "\n",
    "Quelli mostrati sopra sono esempi di probabilità condizionata. Formalmente può essere definita come:\n",
    "\n",
    "$P(A|B) = \\frac{\\displaystyle P(A\\cap B)}{\\displaystyle P(B)}$\n",
    "\n",
    "Ad esempio:\n",
    "\n",
    "$P(\\mathrm{survival}|\\mathrm{female}) =  \\frac{\\displaystyle P(\\mathrm{survival}\\,\\,and\\,\\,\\mathrm{female})}{\\displaystyle P(\\mathrm{female})}$\n",
    "\n",
    "Va notata la corrispondenza tra operatori logici sulle condizioni e operatori tra insieme:\n",
    "* a $\\longrightarrow$ $A$\n",
    "* b $\\longrightarrow$ $B$\n",
    "* a $and$ b $\\longrightarrow$ $A \\cap B$\n",
    "* a $or$ b $\\longrightarrow$ $A \\cup B$\n",
    "* $not$ a $\\longrightarrow$ $A^{c}$\n",
    "\n",
    "In genere si tende ad abusare della notazione, e condizione o insieme corrispondente sono usati in modo intercambiabile:\n",
    "\n",
    "$P(\\mathrm{female}) \\equiv P(\\{x: \\mathrm{sex}(x)=\\mathrm{female}\\})$"
   ]
  },
  {
   "cell_type": "code",
   "execution_count": 35,
   "metadata": {},
   "outputs": [
    {
     "name": "stdout",
     "output_type": "stream",
     "text": [
      "all: 1309\n"
     ]
    }
   ],
   "source": [
    "all = df['sex'].count()\n",
    "print('all:',all)"
   ]
  },
  {
   "cell_type": "code",
   "execution_count": 36,
   "metadata": {},
   "outputs": [
    {
     "name": "stdout",
     "output_type": "stream",
     "text": [
      "females: 466\n"
     ]
    }
   ],
   "source": [
    "females = df[df.sex=='female']['sex'].count()\n",
    "print('females:',females)"
   ]
  },
  {
   "cell_type": "code",
   "execution_count": 37,
   "metadata": {},
   "outputs": [
    {
     "name": "stdout",
     "output_type": "stream",
     "text": [
      "females, survived: 339\n"
     ]
    }
   ],
   "source": [
    "females_survived = df[(df.sex=='female') & (df.survived==1)]['sex'].count()\n",
    "print('females, survived:',females_survived)"
   ]
  },
  {
   "cell_type": "code",
   "execution_count": 38,
   "metadata": {},
   "outputs": [
    {
     "name": "stdout",
     "output_type": "stream",
     "text": [
      "fraction of survived, females: 72.75%\n"
     ]
    }
   ],
   "source": [
    "females_survived_frac = females_survived/females\n",
    "print('fraction of survived, females: {:.2%}'.format(females_survived_frac))"
   ]
  },
  {
   "cell_type": "markdown",
   "metadata": {},
   "source": [
    "# Bayes theorem\n",
    "\n",
    "La definizione di probabilità condizionata permette di scrivere due eguaglianze:\n",
    "    \n",
    "$P(A|B) = \\frac{\\displaystyle P(A\\cap B)}{\\displaystyle P(B)}$\n",
    "\n",
    "$P(B|A) = \\frac{\\displaystyle P(A\\cap B)}{\\displaystyle P(A)}$\n",
    "\n",
    "Da queste si ricava semplicemente:\n",
    "\n",
    "$P(A|B) = \\frac{\\displaystyle P(B|A) P(A)}{\\displaystyle P(B)}$\n"
   ]
  },
  {
   "cell_type": "code",
   "execution_count": 39,
   "metadata": {},
   "outputs": [
    {
     "name": "stdout",
     "output_type": "stream",
     "text": [
      "survived:  500\n"
     ]
    }
   ],
   "source": [
    "survived = df[df.survived==1]['sex'].count()\n",
    "print('survived: ', survived)"
   ]
  },
  {
   "cell_type": "code",
   "execution_count": 40,
   "metadata": {},
   "outputs": [
    {
     "name": "stdout",
     "output_type": "stream",
     "text": [
      "females survived: 67.80%\n"
     ]
    }
   ],
   "source": [
    "survived_females_frac = females_survived/survived\n",
    "print('females survived: {:.2%}'.format(survived_females_frac))"
   ]
  },
  {
   "cell_type": "code",
   "execution_count": 41,
   "metadata": {},
   "outputs": [
    {
     "name": "stdout",
     "output_type": "stream",
     "text": [
      "fraction of females, survived: 72.75%\n"
     ]
    }
   ],
   "source": [
    "females_survived_frac_bayes = survived_females_frac*(survived/all)/(females/all)\n",
    "print('fraction of females, survived: {:.2%}'.format(females_survived_frac_bayes))"
   ]
  },
  {
   "cell_type": "markdown",
   "metadata": {},
   "source": [
    "Il teorema di Bayes ha diverse applicazioni utili che vedremo in seguito. In particolare, sono utili le applicazioni in problemi medici.\n",
    "\n",
    "In sostanza, indica come calcolare $P(A|B)$ dato $P(B|A)$, ossia come \"invertire\" l'espressione della probabilità condizionata.\n",
    "\n",
    "È importante quindi non confondere le due, cosa che invece intuitivamente si è spesso portati a fare:\n",
    "\n",
    "La probabilità che un senatore sia donna è diversa dalla probabilità che una donna sia senatrice!"
   ]
  },
  {
   "cell_type": "markdown",
   "metadata": {},
   "source": [
    "# Spunti per gli esercizi\n",
    "\n",
    "* Calcolare la probabilità di sopravvivenza per fasce di prezzo del biglietto\n",
    "* Calcolare la probabilità di sopravvivenza per le diverse zone in cui erano suddivise le cabine\n",
    "* Calcolare la probabilità di sopravvivenza per fasce di età, eventualmente selezionando un campione omogeneo (es.: uomini, terza classe, donne prima classe, ecc.)"
   ]
  },
  {
   "cell_type": "code",
   "execution_count": null,
   "metadata": {},
   "outputs": [],
   "source": []
  }
 ],
 "metadata": {
  "kernelspec": {
   "display_name": "Python 3",
   "language": "python",
   "name": "python3"
  },
  "language_info": {
   "codemirror_mode": {
    "name": "ipython",
    "version": 3
   },
   "file_extension": ".py",
   "mimetype": "text/x-python",
   "name": "python",
   "nbconvert_exporter": "python",
   "pygments_lexer": "ipython3",
   "version": "3.7.3"
  }
 },
 "nbformat": 4,
 "nbformat_minor": 4
}
