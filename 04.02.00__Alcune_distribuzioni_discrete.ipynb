{
 "cells": [
  {
   "cell_type": "markdown",
   "metadata": {},
   "source": [
    "# Processo di Bernoulli\n",
    "\n",
    "Il processo di bernulli consiste nell'estrazione casuale di un risultato che può avere due valori.\n",
    "\n",
    "Esempio: estrarre una pallina bianca o rossa da una boccia piena di $B$ palline bianche e $R$ palline rosse.\n",
    "\n",
    "Secondo la definizione di probabilità classica, la probabilità di estrarre una pallina rossa è uguale al rapporto tra il numero di casi favorevoli ($R$) ed il numero totale di casi ($R+B$):\n",
    "\n",
    "$p = \\frac{\\displaystyle R}{\\displaystyle R+B}$\n",
    "\n",
    "La probabilità di un evento negativo (pallina bianca) è ovviamente dato da:\n",
    "\n",
    "$q = \\frac{\\displaystyle B}{\\displaystyle R+B} = 1 - p$\n",
    "\n",
    "In sostanza, lo spazio degli eventi $\\Omega$ ha due possibili valori: $B$ e $R$ con probabilità $P(B)=q$ e $P(R)=p$. Risulta $P(\\Omega)=P(B)+P(R)=1$ (condizione normalizzazione).\n",
    "\n",
    "<img style=\"width: 200px\" src=\"img/bernoulli.png\">"
   ]
  },
  {
   "cell_type": "code",
   "execution_count": 1,
   "metadata": {},
   "outputs": [],
   "source": [
    "from scipy.stats import bernoulli\n",
    "import matplotlib.pyplot as plt\n",
    "import numpy as np"
   ]
  },
  {
   "cell_type": "code",
   "execution_count": 3,
   "metadata": {},
   "outputs": [
    {
     "name": "stdout",
     "output_type": "stream",
     "text": [
      "p(0): 0.70\n",
      "p(1): 0.30\n"
     ]
    }
   ],
   "source": [
    "p = 0.3\n",
    "p0 = bernoulli.pmf(0,p)\n",
    "p1 = bernoulli.pmf(1,p)\n",
    "print(\"p(0): {:.2f}\".format(p0))\n",
    "print(\"p(1): {:.2f}\".format(p1))"
   ]
  },
  {
   "cell_type": "markdown",
   "metadata": {},
   "source": [
    "Può essere conveniente in certe implementazioni generare casualmente 100 eventi di Bernoulli tutti insieme:"
   ]
  },
  {
   "cell_type": "code",
   "execution_count": 4,
   "metadata": {},
   "outputs": [
    {
     "data": {
      "text/plain": [
       "array([0, 0, 1, 0, 1, 1, 1, 0, 0, 0, 0, 1, 1, 1, 1, 0, 1, 0, 0, 0, 1, 0,\n",
       "       0, 1, 0, 0, 0, 0, 0, 0, 0, 0, 0, 1, 0, 0, 1, 0, 1, 1, 1, 0, 0, 0,\n",
       "       1, 1, 0, 0, 0, 1, 1, 0, 0, 1, 0, 0, 0, 0, 1, 0, 0, 0, 0, 0, 0, 1,\n",
       "       0, 1, 0, 0, 0, 0, 0, 0, 0, 1, 0, 0, 0, 0, 0, 0, 0, 0, 0, 1, 0, 0,\n",
       "       1, 1, 1, 0, 0, 0, 1, 0, 1, 0, 0, 0])"
      ]
     },
     "execution_count": 4,
     "metadata": {},
     "output_type": "execute_result"
    }
   ],
   "source": [
    "r = bernoulli.rvs(p, size=100)\n",
    "r"
   ]
  },
  {
   "cell_type": "markdown",
   "metadata": {},
   "source": [
    "Potremmo scrivere semplicemente un'implementazione alternativa alla liberia di python di una variabile di Bernoulli casuale:"
   ]
  },
  {
   "cell_type": "code",
   "execution_count": 5,
   "metadata": {},
   "outputs": [],
   "source": [
    "import random"
   ]
  },
  {
   "cell_type": "code",
   "execution_count": 6,
   "metadata": {},
   "outputs": [],
   "source": [
    "def rnd_bernoulli(p):\n",
    "    r = random.random()\n",
    "    if r<p: return 1\n",
    "    else: return 0"
   ]
  },
  {
   "cell_type": "code",
   "execution_count": 7,
   "metadata": {},
   "outputs": [
    {
     "data": {
      "text/plain": [
       "0"
      ]
     },
     "execution_count": 7,
     "metadata": {},
     "output_type": "execute_result"
    }
   ],
   "source": [
    "rnd_bernoulli(0.3)"
   ]
  },
  {
   "cell_type": "code",
   "execution_count": 8,
   "metadata": {},
   "outputs": [
    {
     "data": {
      "text/plain": [
       "0"
      ]
     },
     "execution_count": 8,
     "metadata": {},
     "output_type": "execute_result"
    }
   ],
   "source": [
    "rnd_bernoulli(0.3)"
   ]
  },
  {
   "cell_type": "code",
   "execution_count": 9,
   "metadata": {},
   "outputs": [
    {
     "data": {
      "text/plain": [
       "0"
      ]
     },
     "execution_count": 9,
     "metadata": {},
     "output_type": "execute_result"
    }
   ],
   "source": [
    "rnd_bernoulli(0.3)"
   ]
  },
  {
   "cell_type": "code",
   "execution_count": 10,
   "metadata": {},
   "outputs": [
    {
     "data": {
      "text/plain": [
       "1"
      ]
     },
     "execution_count": 10,
     "metadata": {},
     "output_type": "execute_result"
    }
   ],
   "source": [
    "rnd_bernoulli(0.3)"
   ]
  },
  {
   "cell_type": "markdown",
   "metadata": {},
   "source": [
    "Rappresentiamo graficamente la distribuzione di Bernoulli con un grafico a barre."
   ]
  },
  {
   "cell_type": "code",
   "execution_count": 13,
   "metadata": {},
   "outputs": [],
   "source": [
    "x = [0,1]\n",
    "y = [0,0]\n",
    "p = 0.3\n",
    "y = [bernoulli.pmf(n, p) for n in x]"
   ]
  },
  {
   "cell_type": "code",
   "execution_count": 14,
   "metadata": {},
   "outputs": [
    {
     "data": {
      "image/png": "[encoded data removed]",
      "text/plain": [
       "<Figure size 864x576 with 1 Axes>"
      ]
     },
     "metadata": {
      "needs_background": "light"
     },
     "output_type": "display_data"
    }
   ],
   "source": [
    "plt.figure(figsize=(12,8))\n",
    "plt.bar(x,y)\n",
    "plt.xticks(x)\n",
    "plt.title('Bernoulli distribution')\n",
    "plt.xlabel('n')\n",
    "plt.ylabel('P(n)')\n",
    "plt.show()"
   ]
  },
  {
   "cell_type": "markdown",
   "metadata": {},
   "source": [
    "# Esempi di applicazione concreta del processo di Bernoulli:\n",
    "\n",
    "* La distribuzione di Bernoulli è il modello per la risposta di **un rivelatore che ha un'efficienza $\\varepsilon=p$** non necessariamente ideale (ossia è possibile che si abbia $\\varepsilon<1$). Il risultato a due valori, 0 o 1, corrisponde a un segnale mancato o rilvelato al passaggio di una particella attraverso il rivelatore.    \n",
    "* Si può pensare che il risultato di un calcio di rigore tirato dai un certo giocatore segua la distribuzione di Bernoulli. In realtà, questo è vero solo nella schematizzazione in cui la probabilità di segnare $p$ sia la stessa durante, ad esempio, tutto il campionato. La probabilità, in realtà, dipenderà dalle condizioni fisiche del giocatore, dal portiere che si trova di fronte, dall'effetto psicologico di giocare in casa o fuori casa, ecc. Il principio di simmetria della probabilità classica in questo caso è difficilmente applicabile, ma la schematizzazione può essere realizzata, in modo più o meno semplificato, ad esempio, nell'implementazione in un videogame.\n",
    "* Stesse considerazioni si possono applicare al risultato di un esame da parte di uno studente che, con probabilità $p$, lo supera o può essere bocciato."
   ]
  },
  {
   "cell_type": "markdown",
   "metadata": {},
   "source": [
    "# Processo Binomiale\n",
    "\n",
    "Una variabile casuale binomiale è data dalla somma di $n$ variabili di Bernoulli *indipendenti*, ciascuna con la stessa probabilità $p$.\n",
    "\n",
    "Definiremo meglio cosa intendiamo per variabili indipendenti. Per ora, possiamo considerare indipendenti due estrazioni successive dove, per ciascuna delle due, tutte le palline vengono sistemate e mescolate casualmente in una boccia da cui ne viene estratta una a caso.\n",
    "\n",
    "Quindi: dopo $N$ estrazioni contiamo il numero $n$ di palline rosse estratte.\n",
    "\n",
    "La sequenza di estrazione segue uno dei possibli rami di un albero, come indicato nella figura che segue.\n",
    "\n",
    "<img style=\"width: 600px\" src=\"img/binomial.png\">\n",
    "\n",
    "Il numero di casi possibile per ciascuno dei possibili risultati diventa quindi pari al coefficiente della potenza di un binomio:\n",
    "\n",
    "$\\left(\\begin{array}{c} N \\\\ n \\end{array}\\right) = \\frac{\\displaystyle N!}{\\displaystyle n!(N-n)!}$\n",
    "\n",
    "La dimostrazione si può fare in modo più rigoroso per ricorrenza.\n",
    "\n",
    "Considerando che ad ogni biforcazione la probabilità di seguire un ramo o l'altro può essere $p$ oppure $q=1-p$, a seconda se l'esito sia positivo (pallina rossa) oppure negativo (pallina bianca), la probabilità di avere un numero $n$ di esiti positivi (ossia $n$ palline rosse estratte) è pari a:\n",
    "\n",
    "$P(n;N, p) = \\left(\\begin{array}{c} n \\\\ N \\end{array}\\right) p^n(1-p)^{N-n} = \\frac{\\displaystyle N!}{\\displaystyle n!(N-n)!}p^n(1-p)^{N-n}$\n",
    "\n",
    "<span style=\"color:blue;\">Corollario: la distribuzione di $N-n$ è una binomiale con parametri $N$ e $1-p$.</span>\n",
    "\n",
    "<span style=\"color:green;\">Gli statistici professionisti indicano le variabili casuali con la lettera maiuscola, mentre possibili valori particolari della variabile casuale sono indicati con la minuscola. Questa notazione per qualche motivo appare particolarmente antiestetica ai fisici, per cui non la userò.</span>"
   ]
  },
  {
   "cell_type": "code",
   "execution_count": 15,
   "metadata": {},
   "outputs": [],
   "source": [
    "from scipy.stats import binom"
   ]
  },
  {
   "cell_type": "code",
   "execution_count": 16,
   "metadata": {},
   "outputs": [
    {
     "data": {
      "image/png": "[encoded data removed]",
      "text/plain": [
       "<Figure size 864x576 with 1 Axes>"
      ]
     },
     "metadata": {
      "needs_background": "light"
     },
     "output_type": "display_data"
    }
   ],
   "source": [
    "plt.figure(figsize=(12,8))\n",
    "p = 0.3\n",
    "N = 10\n",
    "x = list(range(N+1))\n",
    "y = [binom.pmf(n, N, p) for n in x]\n",
    "plt.bar(x,y)\n",
    "plt.xticks(x)\n",
    "plt.title('Binomial distribution')\n",
    "plt.xlabel('n')\n",
    "plt.ylabel('P(n)')\n",
    "plt.show()"
   ]
  },
  {
   "cell_type": "markdown",
   "metadata": {},
   "source": [
    "# Esempi di applicazione concreta del processo binomiale:\n",
    "* Su $N=20\\,000$ vaccinati, $n$ sono immunizzati dalla malattia (o dall'infezione). La probabilità di immunizzarsi è l'**efficacia di un vaccino**.\n",
    "* La distribuzione binomiale è il modello per il **numero di conteggi di un rivelatore che ha un'efficienza $\\varepsilon=p$** non necessariamente ideale (ossia può essere $\\varepsilon<1$). Il numero di conteggi $n$ rispetto al numero totale di particelle che attraversano il rivelatore $N$ segue la distribuzione binomiale.\n",
    "* Il numero di rigori segnati da un calciatore durante una stagione si potrebbe modellizzare con la distribuzione binomiale, assumendo per semplicità che la probabilità $p$ di segnare sia uguale durante tutto il campionato, e quindi che ciascun rigore sia il risultato casuale di un processo di Bernoulli con probabilità $p$.\n"
   ]
  },
  {
   "cell_type": "markdown",
   "metadata": {},
   "source": [
    "# Distribuzione di Poisson\n",
    "La distribuzione di Poisson si ottiene come limite della distrubuzione binomiale per $N\\rightarrow\\infty$.\n",
    "Se $N\\rightarrow\\infty$, anche il numero di estrazioni di risultati positivi $n$ tenderà ad assumere valori divergenti, a meno che $p$ non tende a zero mente $N$ tende all'infinito. Per questo, assumiamo e che $\\nu=pN$ resti costante. In questo caso, la distribuzione binomiale: \n",
    "\n",
    "$P(n; N, p) = \\frac{\\displaystyle N!}{\\displaystyle n!(N-n)!}p^n(1-p)^{N-n}$\n",
    "\n",
    "Diventa, sostituendo $p$ con $\\nu/N$:\n",
    "\n",
    "$P(n;\\nu) = \\frac{\\displaystyle N!}{\\displaystyle n!(N-n)!}{\\left(\\frac{\\displaystyle\\nu}{\\displaystyle N}\\right)}^n\\left(1-\\frac{\\displaystyle\\nu}{\\displaystyle N}\\right)^{N-n}$\n",
    "\n",
    "Con qualche manipolazione:\n",
    "\n",
    "$P(n;\\nu) = \\frac{\\displaystyle \\nu^N}{\\displaystyle n!}\n",
    "\\,\\frac{\\displaystyle N!}{\\displaystyle (N-n)! N^n}\n",
    "\\left(1-\\frac{\\displaystyle\\nu}{\\displaystyle N}\\right)^N\n",
    "\\left(1-\\frac{\\displaystyle\\nu}{\\displaystyle N}\\right)^{-n}$\n",
    "\n",
    "Semplificando un paio di termini con i fattoriali al numeratore e denominatore:\n",
    "\n",
    "$P(n;\\nu) = \\frac{\\displaystyle \\nu^n}{\\displaystyle n!}\n",
    "\\,\\frac{\\displaystyle N (N-1)\\cdots (N-n-1)}{\\displaystyle N^n}\n",
    "\\left(1-\\frac{\\displaystyle\\nu}{\\displaystyle N}\\right)^N\n",
    "\\left(1-\\frac{\\displaystyle\\nu}{\\displaystyle N}\\right)^{-n}$\n",
    "\n",
    "Per $N\\rightarrow\\infty$, il termine $\\nu^n/n!$ resta costante, mentre gli altri tre tendono rispettivamente a:\n",
    "* 1 (al numeratore ci sono $n$ termini, tutti che tendono a $N$\n",
    "* $e^{-\\nu}$ (si tratta di un limite notevole)\n",
    "* 1 (il termine $\\nu/N$ in parentesi tende a zero)\n",
    "\n",
    "La distribuzione diventa quindi:\n",
    "\n",
    "$P(n;\\nu) = \\frac{\\displaystyle \\nu^n e^{-\\nu}}{\\displaystyle n!}$\n",
    "\n",
    "<span style=\"color: blue\">La distribuzione di Poisson è il modello per il numero di conteggi di un rivelatore di particelle, in fatti il numero di conteggi $n$ acquisito in un certo tempo $t$ in cui il numero atteso di conteggio è $\\nu$, segue la distribuzione di Poisson. Questo si può applicare ad un rivelatore che regista raggi cosmici oppure particelle prodotte ad un acceleratore. Il numero atteso di conteggi $\\nu$ si può confrontare con le previsioni di un modello teorico, se disponibile.\n",
    "</span>"
   ]
  },
  {
   "cell_type": "code",
   "execution_count": 2,
   "metadata": {},
   "outputs": [],
   "source": [
    "from scipy.stats import poisson"
   ]
  },
  {
   "cell_type": "code",
   "execution_count": 20,
   "metadata": {},
   "outputs": [
    {
     "data": {
      "image/png": "[encoded data removed]",
      "text/plain": [
       "<Figure size 864x576 with 1 Axes>"
      ]
     },
     "metadata": {
      "needs_background": "light"
     },
     "output_type": "display_data"
    }
   ],
   "source": [
    "plt.figure(figsize=(12,8))\n",
    "nu = 4\n",
    "N = 15\n",
    "x = list(range(N+1))\n",
    "y = [poisson.pmf(n, nu) for n in x]\n",
    "plt.bar(x,y)\n",
    "plt.xticks(x)\n",
    "plt.title('Poisson distribution')\n",
    "plt.xlabel('n')\n",
    "plt.ylabel('P(n)')\n",
    "#plt.yscale('log')\n",
    "plt.show()"
   ]
  },
  {
   "cell_type": "markdown",
   "metadata": {},
   "source": [
    "Proviamo un confronto numerico tra una binomiale ed una poissoniana dove $\\nu=p N$, con $N$ grande e $p$ piccolo."
   ]
  },
  {
   "cell_type": "code",
   "execution_count": 25,
   "metadata": {},
   "outputs": [
    {
     "data": {
      "image/png": "[encoded data removed]",
      "text/plain": [
       "<Figure size 864x576 with 1 Axes>"
      ]
     },
     "metadata": {
      "needs_background": "light"
     },
     "output_type": "display_data"
    }
   ],
   "source": [
    "plt.figure(figsize=(12,8))\n",
    "p = 0.05\n",
    "N = 50\n",
    "nu = p*N\n",
    "x = np.arange(N+1)\n",
    "y1 = [poisson.pmf(n, nu) for n in x]\n",
    "y2 = [binom.pmf(n, N, p) for n in x]\n",
    "width = 0.4\n",
    "plt.bar(x,y1,width,label='Poisson')\n",
    "plt.bar(x+width,y2,width,label='Binomial')\n",
    "#plt.yscale('log')\n",
    "plt.title('Poisson and Binomial distributions')\n",
    "plt.xlabel('n')\n",
    "plt.ylabel('P(n)')\n",
    "plt.legend()\n",
    "plt.show()"
   ]
  },
  {
   "cell_type": "markdown",
   "metadata": {},
   "source": [
    "Vedremo che esiste un modo per mettere in relazione la distribuzione di Poisson partendo da una distribuzione uniforme.\n",
    "Ma dobbiamo prima introdurre in modo più sistematico le distribuzioni di probabilità nel caso continuo."
   ]
  },
  {
   "cell_type": "markdown",
   "metadata": {},
   "source": [
    "# Esempi di applicazione concreta del processo di Poisson:\n",
    "* Numero di morti in un giorno in Italia. Il processo è chiaramente binomiale ($N\\simeq 60.000.000$), ma la probabilità $p$ è talmente piccola che $N$ si può considerare infinito. Il numero di morti al giorno $\\nu$ vale circa $1.500$.\n",
    "* Numero di gocce di pioggia che cade in un secchio in un minuto.\n",
    "* Numero di raggi cosmici che attraversano un rivelatore in un minuto.\n",
    "\n",
    "Sono tutti casi in cui il tasso degli eventi di interesse è noto e non c'è un limite superiore, almeno in buona approssimazione, al numero di casi che si possono osservare."
   ]
  },
  {
   "cell_type": "markdown",
   "metadata": {},
   "source": [
    "## Distribuzione cumulativa\n",
    "\n",
    "La distribuzione cumulativa di una distribuzione $P(x)$ come la probabilità che $x\\le y$:\n",
    "\n",
    "$\\displaystyle F(y) = P(x\\le y) = \\sum_{x\\le y} P(x)$\n",
    "\n",
    "Con ```scipy``` ogni distribuzione ha una funzione ```cdf``` che calcola la cumulativa."
   ]
  },
  {
   "cell_type": "code",
   "execution_count": 8,
   "metadata": {},
   "outputs": [
    {
     "name": "stdout",
     "output_type": "stream",
     "text": [
      "Prob(n<=3), nu=5: 0.2650259152973616\n"
     ]
    }
   ],
   "source": [
    "p_3_5 = poisson.cdf(3, 5)\n",
    "print(\"Prob(n<=3), nu=5:\", p_3_5)"
   ]
  },
  {
   "cell_type": "markdown",
   "metadata": {},
   "source": [
    "Chiaramente:\n",
    "\n",
    "$P(x > y) = 1-P(x\\le y) = F(y)$"
   ]
  },
  {
   "cell_type": "code",
   "execution_count": 9,
   "metadata": {},
   "outputs": [
    {
     "name": "stdout",
     "output_type": "stream",
     "text": [
      "Prob(n>3), nu=5: 0.7349740847026385\n"
     ]
    }
   ],
   "source": [
    "print(\"Prob(n>3), nu=5:\", 1-p_3_5)"
   ]
  },
  {
   "cell_type": "markdown",
   "metadata": {},
   "source": [
    "# Spunti per esercizi\n",
    "\n",
    "* Il 17/3/2021 il Paul-Erlich-Institut ha circolato un [comunicato](https://www.pei.de/SharedDocs/Downloads/EN/newsroom-en/hp-news/faq-temporary-suspension-astrazeneca.pdf) che ha portato alla sospenzione del vaccino AstraZeneca. Erano stati osservati 7 casi (su 1.7 milioni) di una rara trombosi quandi ne era atteso, in media 1. Calcolare qual è la probabilità di avere 7 o più casi quando ne sono attesi 1. Calcolare la stessa probabilità quando se ne attendono invece 2 o 3.\n",
    "* In Italia in questo mese ci sono circa [25.000 infetti accertati al giorno di COVID-19](https://github.com/pcm-dpc/COVID-19) su [59.6 milioni di abitanti (al 1° gennaio 2021)](http://dati.istat.it/Index.aspx?DataSetCode=DCIS_POPRES1). Calcolare la probabilità che, a questi ritmi, una persona si infetti di COVID-19 entro un anno e la probabilità che una famiglia di 4 persone venga messa in quarantena perché almeno una persona risulti infetta.\n",
    "* Durante la pandemia molti esami sono sostituiti da test online a risposta multipla. Se un test prevede 5 domande, ciascuna con 3 risposte, calcolare la probabilità di indovinare almeno 4 risposte a caso. Come cambia la probabilità se invece ci sono 5 risposte?\n",
    "* In Italia nel 2019 per incidenti d'auto sono morte 3.173 persone e 241.384 sono risultate ferita (fonte: [ISTAT](https://www.istat.it/it/archivio/245757)) su un totale di [59.816.673 abitanti](http://demo.istat.it/popres/index.php?anno=2019). Qual è la probabilità che a Pozzuoli (79.752 abitanti) ci siano meno di 2 morti in un anno?"
   ]
  },
  {
   "cell_type": "code",
   "execution_count": null,
   "metadata": {},
   "outputs": [],
   "source": []
  }
 ],
 "metadata": {
  "kernelspec": {
   "display_name": "Python 3",
   "language": "python",
   "name": "python3"
  },
  "language_info": {
   "codemirror_mode": {
    "name": "ipython",
    "version": 3
   },
   "file_extension": ".py",
   "mimetype": "text/x-python",
   "name": "python",
   "nbconvert_exporter": "python",
   "pygments_lexer": "ipython3",
   "version": "3.7.3"
  }
 },
 "nbformat": 4,
 "nbformat_minor": 4
}
