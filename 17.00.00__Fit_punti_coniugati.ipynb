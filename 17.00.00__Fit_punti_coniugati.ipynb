{
 "cells": [
  {
   "cell_type": "markdown",
   "metadata": {},
   "source": [
    "# Legge dei punti coniugati\n",
    "\n",
    "I dati sono presi da un'esperienza di laboratorio per la verifica della legge dei punti coniugati in ottica geometrica.\n",
    "\n",
    "La legge è la seguente:\n",
    "\n",
    "$\\displaystyle \\frac{1}{p} + \\frac{1}{q} = \\frac{1}{f}$\n",
    "\n",
    "Nell'esperienza vengono misurati diversi valori di $p$ ed i corrispondenti $q$ con lo scopo di misurare $f$. Si calcolano quindi gli inversi di $p$ e $q$ e si propagani i corrispondenti errori.\n",
    "\n",
    "Si eseque quindi una regressione lineare sulle variabili $x=1/p$ e $y=1/q$.\n",
    "\n",
    "La presenza di errori, sia nella misura di $p$ (quindi di $x$) che di $q$ (quindi di $y$), non è in genere contemplata nelle procedure di regressione lineare.\n",
    "\n",
    "Tuttavia, si può propagare l'errore su $x$ in base alla funzione di *fit* ed ottenere un contributo ulteriore all'errore su $y$. Il *fit* su può quindi iterare per ottenere una nuova stima, più accurata, con i suoi errori. La procedura iterativa si può ripetere fino ad ottenere un valore stabile dei parametri del fit."
   ]
  },
  {
   "cell_type": "code",
   "execution_count": 1,
   "metadata": {},
   "outputs": [],
   "source": [
    "import pandas as pd\n",
    "import matplotlib.pyplot as plt"
   ]
  },
  {
   "cell_type": "code",
   "execution_count": 2,
   "metadata": {},
   "outputs": [],
   "source": [
    "df = pd.read_csv('data/lab_ottica_punti_coniugati.csv')"
   ]
  },
  {
   "cell_type": "code",
   "execution_count": 3,
   "metadata": {},
   "outputs": [
    {
     "data": {
      "text/html": [
       "<div>\n",
       "<style scoped>\n",
       "    .dataframe tbody tr th:only-of-type {\n",
       "        vertical-align: middle;\n",
       "    }\n",
       "\n",
       "    .dataframe tbody tr th {\n",
       "        vertical-align: top;\n",
       "    }\n",
       "\n",
       "    .dataframe thead th {\n",
       "        text-align: right;\n",
       "    }\n",
       "</style>\n",
       "<table border=\"1\" class=\"dataframe\">\n",
       "  <thead>\n",
       "    <tr style=\"text-align: right;\">\n",
       "      <th></th>\n",
       "      <th>p</th>\n",
       "      <th>q</th>\n",
       "      <th>dp</th>\n",
       "      <th>dq</th>\n",
       "      <th>Q</th>\n",
       "      <th>P</th>\n",
       "      <th>1/f</th>\n",
       "      <th>dQ</th>\n",
       "      <th>dP</th>\n",
       "    </tr>\n",
       "  </thead>\n",
       "  <tbody>\n",
       "    <tr>\n",
       "      <th>0</th>\n",
       "      <td>32.0</td>\n",
       "      <td>57.5</td>\n",
       "      <td>0.5</td>\n",
       "      <td>0.5</td>\n",
       "      <td>0.017391</td>\n",
       "      <td>0.031250</td>\n",
       "      <td>0.048641</td>\n",
       "      <td>0.000151</td>\n",
       "      <td>0.000488</td>\n",
       "    </tr>\n",
       "    <tr>\n",
       "      <th>1</th>\n",
       "      <td>42.0</td>\n",
       "      <td>38.5</td>\n",
       "      <td>0.5</td>\n",
       "      <td>0.5</td>\n",
       "      <td>0.025974</td>\n",
       "      <td>0.023810</td>\n",
       "      <td>0.049784</td>\n",
       "      <td>0.000337</td>\n",
       "      <td>0.000283</td>\n",
       "    </tr>\n",
       "    <tr>\n",
       "      <th>2</th>\n",
       "      <td>52.5</td>\n",
       "      <td>33.0</td>\n",
       "      <td>0.5</td>\n",
       "      <td>0.5</td>\n",
       "      <td>0.030303</td>\n",
       "      <td>0.019048</td>\n",
       "      <td>0.049351</td>\n",
       "      <td>0.000459</td>\n",
       "      <td>0.000181</td>\n",
       "    </tr>\n",
       "    <tr>\n",
       "      <th>3</th>\n",
       "      <td>62.5</td>\n",
       "      <td>29.5</td>\n",
       "      <td>0.5</td>\n",
       "      <td>0.5</td>\n",
       "      <td>0.033898</td>\n",
       "      <td>0.016000</td>\n",
       "      <td>0.049898</td>\n",
       "      <td>0.000575</td>\n",
       "      <td>0.000128</td>\n",
       "    </tr>\n",
       "    <tr>\n",
       "      <th>4</th>\n",
       "      <td>71.5</td>\n",
       "      <td>28.0</td>\n",
       "      <td>0.5</td>\n",
       "      <td>0.5</td>\n",
       "      <td>0.035714</td>\n",
       "      <td>0.013986</td>\n",
       "      <td>0.049700</td>\n",
       "      <td>0.000638</td>\n",
       "      <td>0.000098</td>\n",
       "    </tr>\n",
       "    <tr>\n",
       "      <th>5</th>\n",
       "      <td>87.0</td>\n",
       "      <td>25.5</td>\n",
       "      <td>0.5</td>\n",
       "      <td>0.5</td>\n",
       "      <td>0.039216</td>\n",
       "      <td>0.011494</td>\n",
       "      <td>0.050710</td>\n",
       "      <td>0.000769</td>\n",
       "      <td>0.000066</td>\n",
       "    </tr>\n",
       "    <tr>\n",
       "      <th>6</th>\n",
       "      <td>95.0</td>\n",
       "      <td>25.0</td>\n",
       "      <td>0.5</td>\n",
       "      <td>0.5</td>\n",
       "      <td>0.040000</td>\n",
       "      <td>0.010526</td>\n",
       "      <td>0.050526</td>\n",
       "      <td>0.000800</td>\n",
       "      <td>0.000055</td>\n",
       "    </tr>\n",
       "    <tr>\n",
       "      <th>7</th>\n",
       "      <td>105.0</td>\n",
       "      <td>24.5</td>\n",
       "      <td>0.5</td>\n",
       "      <td>0.5</td>\n",
       "      <td>0.040816</td>\n",
       "      <td>0.009524</td>\n",
       "      <td>0.050340</td>\n",
       "      <td>0.000833</td>\n",
       "      <td>0.000045</td>\n",
       "    </tr>\n",
       "    <tr>\n",
       "      <th>8</th>\n",
       "      <td>119.0</td>\n",
       "      <td>23.5</td>\n",
       "      <td>0.5</td>\n",
       "      <td>0.5</td>\n",
       "      <td>0.042553</td>\n",
       "      <td>0.008403</td>\n",
       "      <td>0.050957</td>\n",
       "      <td>0.000905</td>\n",
       "      <td>0.000035</td>\n",
       "    </tr>\n",
       "    <tr>\n",
       "      <th>9</th>\n",
       "      <td>144.5</td>\n",
       "      <td>22.5</td>\n",
       "      <td>0.5</td>\n",
       "      <td>0.5</td>\n",
       "      <td>0.044444</td>\n",
       "      <td>0.006920</td>\n",
       "      <td>0.051365</td>\n",
       "      <td>0.000988</td>\n",
       "      <td>0.000024</td>\n",
       "    </tr>\n",
       "  </tbody>\n",
       "</table>\n",
       "</div>"
      ],
      "text/plain": [
       "       p     q   dp   dq         Q         P       1/f        dQ        dP\n",
       "0   32.0  57.5  0.5  0.5  0.017391  0.031250  0.048641  0.000151  0.000488\n",
       "1   42.0  38.5  0.5  0.5  0.025974  0.023810  0.049784  0.000337  0.000283\n",
       "2   52.5  33.0  0.5  0.5  0.030303  0.019048  0.049351  0.000459  0.000181\n",
       "3   62.5  29.5  0.5  0.5  0.033898  0.016000  0.049898  0.000575  0.000128\n",
       "4   71.5  28.0  0.5  0.5  0.035714  0.013986  0.049700  0.000638  0.000098\n",
       "5   87.0  25.5  0.5  0.5  0.039216  0.011494  0.050710  0.000769  0.000066\n",
       "6   95.0  25.0  0.5  0.5  0.040000  0.010526  0.050526  0.000800  0.000055\n",
       "7  105.0  24.5  0.5  0.5  0.040816  0.009524  0.050340  0.000833  0.000045\n",
       "8  119.0  23.5  0.5  0.5  0.042553  0.008403  0.050957  0.000905  0.000035\n",
       "9  144.5  22.5  0.5  0.5  0.044444  0.006920  0.051365  0.000988  0.000024"
      ]
     },
     "execution_count": 3,
     "metadata": {},
     "output_type": "execute_result"
    }
   ],
   "source": [
    "df"
   ]
  },
  {
   "cell_type": "markdown",
   "metadata": {},
   "source": [
    "Grafichiamo $p$ *vs* $q$. Va notato che a questo punto avremmo gli strumenti per fare un fit direttamente di questi dati secondo la legge:\n",
    "\n",
    "$\\displaystyle q(p) = \\frac{1}{\\displaystyle\\frac{1}{f}-\\frac{1}{p}}$\n",
    "\n",
    "$f$ sarebbe il parametro da determinare nel fit."
   ]
  },
  {
   "cell_type": "code",
   "execution_count": 5,
   "metadata": {},
   "outputs": [
    {
     "data": {
      "image/png": "[encoded data removed]",
      "text/plain": [
       "<Figure size 800x600 with 1 Axes>"
      ]
     },
     "metadata": {
      "needs_background": "light"
     },
     "output_type": "display_data"
    }
   ],
   "source": [
    "fig, ax = plt.subplots(figsize=(8, 6), dpi=100)\n",
    "ax.errorbar(df.p, df.q, xerr=df.dp, yerr=df.dq, marker='o', markersize=4, linestyle='')\n",
    "ax.set_xlabel('p (cm)')\n",
    "ax.set_ylabel('q (cm)')\n",
    "fig.show()"
   ]
  },
  {
   "cell_type": "markdown",
   "metadata": {},
   "source": [
    "Implementiamo un *fit* di minimo chi-quadro"
   ]
  },
  {
   "cell_type": "code",
   "execution_count": 26,
   "metadata": {},
   "outputs": [
    {
     "name": "stdout",
     "output_type": "stream",
     "text": [
      "k = 0.918 ± 0.009\n",
      "f = 21.167 ± 0.103\n",
      "cov(a,k) = -0.00090\n"
     ]
    }
   ],
   "source": [
    "from scipy.optimize import curve_fit\n",
    "import math\n",
    "import numpy as np\n",
    "def model(p, k, f):\n",
    "    return k/(1/f - 1/p)\n",
    "par, cov = curve_fit(model, df.p, df.q, p0=[1, 1])\n",
    "print('k = {:.3f} ± {:.3f}'.format(par[0], math.sqrt(cov[0,0])))\n",
    "print('f = {:.3f} ± {:.3f}'.format(par[1], math.sqrt(cov[1,1])))\n",
    "print('cov(a,k) = {:.5f}'.format(cov[0,1]))"
   ]
  },
  {
   "cell_type": "code",
   "execution_count": 22,
   "metadata": {},
   "outputs": [
    {
     "data": {
      "image/png": "[encoded data removed]",
      "text/plain": [
       "<Figure size 800x600 with 1 Axes>"
      ]
     },
     "metadata": {
      "needs_background": "light"
     },
     "output_type": "display_data"
    }
   ],
   "source": [
    "fig, ax = plt.subplots(figsize=(8, 6), dpi=100)\n",
    "ax.errorbar(df.p, df.q, xerr=df.dp, yerr=df.dq, marker='o', markersize=4, linestyle='')\n",
    "xs = np.linspace(df.p.values[0], df.p.values[-1], 100)\n",
    "ax.plot(xs, model(xs, *par), label='fit line')\n",
    "ax.set_xlabel('p (cm)')\n",
    "ax.set_ylabel('q (cm)')\n",
    "fig.show()"
   ]
  },
  {
   "cell_type": "markdown",
   "metadata": {},
   "source": [
    "Passiamo quindi agli inversi, $1/p$ e $1/q$. Un fit lineare è sicuramente più semplice da implementare anche con strumenti software non troppo complessi."
   ]
  },
  {
   "cell_type": "code",
   "execution_count": 5,
   "metadata": {},
   "outputs": [
    {
     "data": {
      "image/png": "[encoded data removed]",
      "text/plain": [
       "<Figure size 800x600 with 1 Axes>"
      ]
     },
     "metadata": {
      "needs_background": "light"
     },
     "output_type": "display_data"
    }
   ],
   "source": [
    "fig, ax = plt.subplots(figsize=(8, 6), dpi=100)\n",
    "ax.errorbar(df.P, df.Q, xerr=df.dP, yerr=df.dQ, marker='o', markersize=4, linestyle='')\n",
    "ax.set_xlabel('1/p (cm$^{-1}$)')\n",
    "ax.set_ylabel('1/q (cm$^{-1}$)')\n",
    "fig.show()"
   ]
  },
  {
   "cell_type": "markdown",
   "metadata": {},
   "source": [
    "Procediamo con la regressione lineare che abbiamo già implementato in precedenza. Potremmo anche usare una funzione di qualche libreria python."
   ]
  },
  {
   "cell_type": "code",
   "execution_count": 6,
   "metadata": {},
   "outputs": [],
   "source": [
    "from scipy import stats\n",
    "import math\n",
    "import numpy as np"
   ]
  },
  {
   "cell_type": "code",
   "execution_count": 7,
   "metadata": {},
   "outputs": [],
   "source": [
    "x, y = np.array(df.P.values), np.array(df.Q.values)\n",
    "n_points = len(x)\n",
    "err = np.array(df.dQ.values)\n",
    "err2 = err**2\n",
    "w = 1/err2\n",
    "w /= w.sum()\n",
    "x_mean = np.average(x, weights=w)\n",
    "y_mean = np.average(y, weights=w)\n",
    "dx = x - x_mean; dy = y - y_mean\n",
    "dxdy = dx*dy*w; dx2 = dx*dx*w\n",
    "dxdy_mean = dxdy.sum()\n",
    "dx2_mean = dx2.sum()\n",
    "b_fit = dxdy_mean/dx2_mean\n",
    "a_fit = y_mean - b_fit*x_mean\n",
    "def fit_line(x):\n",
    "    return a_fit + x*b_fit"
   ]
  },
  {
   "cell_type": "code",
   "execution_count": 8,
   "metadata": {},
   "outputs": [
    {
     "data": {
      "image/png": "[encoded data removed]",
      "text/plain": [
       "<Figure size 800x600 with 1 Axes>"
      ]
     },
     "metadata": {
      "needs_background": "light"
     },
     "output_type": "display_data"
    }
   ],
   "source": [
    "fig, ax = plt.subplots(figsize=(8, 6), dpi=100)\n",
    "ax.errorbar(df.P, df.Q, xerr=df.dP, yerr=df.dQ, marker='o', markersize=4, linestyle='', label='measurements')\n",
    "ax.plot(df.P, fit_line(df.P), label='fit line')\n",
    "ax.set_xlabel('1/p ($\\mathrm{cm}^{-1}$)')\n",
    "ax.set_ylabel('1/q ($\\mathrm{cm}^{-1}$)')\n",
    "fig.legend(bbox_to_anchor=(0.9, 0.87))\n",
    "fig.show()"
   ]
  },
  {
   "cell_type": "markdown",
   "metadata": {},
   "source": [
    "Determiniamo i parametri del fit con i loro errori."
   ]
  },
  {
   "cell_type": "code",
   "execution_count": 9,
   "metadata": {},
   "outputs": [
    {
     "name": "stdout",
     "output_type": "stream",
     "text": [
      "b = -1.089 ± 0.011\n",
      "a = 0.05145 ± 0.00030\n",
      "cov(a,b) = -0.00000316\n",
      "chi^2 = 3.886/8 ndof\n",
      "p = 0.867\n"
     ]
    }
   ],
   "source": [
    "y_fit = a_fit + b_fit*x\n",
    "res = y - y_fit\n",
    "res2 = res**2\n",
    "res2_mean = np.average(res2, weights=w)\n",
    "x2_mean = np.average(x**2, weights=w)\n",
    "chi_2 = (res2/err2).sum()\n",
    "ndof = n_points-2\n",
    "var_b = res2_mean/dx2_mean/(n_points-2)\n",
    "var_a = var_b*x2_mean\n",
    "cov_ab = -var_b*x_mean\n",
    "err_b = math.sqrt(var_b)\n",
    "err_a = math.sqrt(var_a)\n",
    "print('b = {:.3f} ± {:.3f}'.format(b_fit, err_b))\n",
    "print('a = {:.5f} ± {:.5f}'.format(a_fit, err_a))\n",
    "print('cov(a,b) = {:.8f}'.format(cov_ab))\n",
    "print('chi^2 = {:.3f}/{:d} ndof'.format(chi_2, ndof))\n",
    "print('p = {:.3f}'.format(1 - stats.chi2.cdf(chi_2, ndof)))"
   ]
  },
  {
   "cell_type": "markdown",
   "metadata": {},
   "source": [
    "## Propagazione degli errori su $x$\n",
    "\n",
    "Un modo per propagare gli errori su $x$ è di stimare, una volta ottenuto il fit, l'effetto su $y$, e sommare questo contributo all'errore su $y$:\n",
    "\n",
    "$\\displaystyle \\delta y^\\prime = \\left|\\frac{\\mathrm{d}}{\\mathrm{d}x}(a+bx)\\right|\\delta x = \\left|b\\right|\\delta x$\n",
    "\n",
    "$\\displaystyle \\delta y^{\\mathrm{tot}} = \\sqrt{\\delta y^2 + b^2\\delta x^2}$\n",
    "\n",
    "Si può quindi rifare il fit, ed eventualmente procedere iterativamente fino che la procedura non converge.\n",
    "\n",
    "<span style=\"color:red\">Strettamente parlando, dovremmo anche propagare gli errori su $a$ e su $b$. Ma, se facessimo questo, gli errori sulle $y_i$ potranno avere un termine di correlazione tra di loro dovuto al termine di covarianza tra $a$ e $b$. Tenerne conto richiederebbe una ridefinizione del $\\chi^2$ da minimizzare per ottenere le nuove stime di $a$ e di $b$. Ignoriamo questi errori per semplicità di calcolo, ma anche perché sono molto più piccoli degli errori su $x_i$ e $y_i$.</span>\n",
    "\n",
    "Vedremo che in realtà bastano una o due iterazioni per far convergere il processo. In questo caso, i risultati cambiano pochissimo rispetto al fit originale. Ma non è detto che sia sempre così.\n",
    "\n",
    "<span style=\"color:blue\">Quando si aggiorna un fit fatto con una stima iniziale aggiungendo nuove informazioni, si parla di *refit*. Esistono diverse applicazioni, anche complesse, in cui questo può essere necessario. Ad esempio, in un rivelatore si può fare prima la ricostruzione delle tracce di alcune particelle. Quindi si calcolano fattori di calibrazione degli allineamenti relativi di diversi rivelatori. Si fa quindi il *refit* delle tracce ricostruite per tener conto del migiore allineamento e si ottengono in genere parametri delle tracce più accurati.</span>"
   ]
  },
  {
   "cell_type": "code",
   "execution_count": 10,
   "metadata": {},
   "outputs": [
    {
     "name": "stdout",
     "output_type": "stream",
     "text": [
      "--- initial values ---\n",
      "b = -1.089 ± 0.011\n",
      "a = 0.05145 ± 0.00030\n",
      "cov(a,b) = -0.00000316\n",
      "chi^2 = 3.886/8 ndof\n",
      "p = 0.867\n",
      "--- iter: 0 ---\n",
      "b = -1.084 ± 0.017\n",
      "a = 0.05136 ± 0.00033\n",
      "cov(a,b) = -0.00000502\n",
      "chi^2 = 2.862/8 ndof\n",
      "p = 0.943\n",
      "--- iter: 1 ---\n",
      "b = -1.084 ± 0.017\n",
      "a = 0.05136 ± 0.00032\n",
      "cov(a,b) = -0.00000502\n",
      "chi^2 = 2.867/8 ndof\n",
      "p = 0.942\n",
      "--- iter: 2 ---\n",
      "b = -1.084 ± 0.017\n",
      "a = 0.05136 ± 0.00032\n",
      "cov(a,b) = -0.00000502\n",
      "chi^2 = 2.867/8 ndof\n",
      "p = 0.942\n",
      "--- iter: 3 ---\n",
      "b = -1.084 ± 0.017\n",
      "a = 0.05136 ± 0.00032\n",
      "cov(a,b) = -0.00000502\n",
      "chi^2 = 2.867/8 ndof\n",
      "p = 0.942\n"
     ]
    }
   ],
   "source": [
    "print('--- initial values ---')\n",
    "print('b = {:.3f} ± {:.3f}'.format(b_fit, err_b))\n",
    "print('a = {:.5f} ± {:.5f}'.format(a_fit, err_a))\n",
    "print('cov(a,b) = {:.8f}'.format(cov_ab))\n",
    "print('chi^2 = {:.3f}/{:d} ndof'.format(chi_2, ndof))\n",
    "print('p = {:.3f}'.format(1 - stats.chi2.cdf(chi_2, ndof)))\n",
    "niter = 4\n",
    "for i in range(niter):\n",
    "    err = np.sqrt(np.array(df.dQ.values)**2+(b_fit*np.array(df.dP.values))**2)\n",
    "    err2 = err**2\n",
    "    w = 1/err2\n",
    "    w /= w.sum()\n",
    "    x_mean = np.average(x, weights=w)\n",
    "    y_mean = np.average(y, weights=w)\n",
    "    dx = x - x_mean; dy = y - y_mean\n",
    "    dxdy = dx*dy*w; dx2 = dx*dx*w\n",
    "    dxdy_mean = dxdy.sum()\n",
    "    dx2_mean = dx2.sum()\n",
    "    b_fit = dxdy_mean/dx2_mean\n",
    "    a_fit = y_mean - b_fit*x_mean\n",
    "    y_fit = a_fit + b_fit*x\n",
    "    res = y - y_fit\n",
    "    res2 = res**2\n",
    "    res2_mean = np.average(res2, weights=w)\n",
    "    x2_mean = np.average(x**2, weights=w)\n",
    "    chi_2 = (res2/err2).sum()\n",
    "    ndof = n_points-2\n",
    "    var_b = res2_mean/dx2_mean/(n_points-2)\n",
    "    var_a = var_b*x2_mean\n",
    "    cov_ab = -var_b*x_mean\n",
    "    err_b = math.sqrt(var_b)\n",
    "    err_a = math.sqrt(var_a)\n",
    "    print('--- iter: {:d} ---'.format(i))\n",
    "    print('b = {:.3f} ± {:.3f}'.format(b_fit, err_b))\n",
    "    print('a = {:.5f} ± {:.5f}'.format(a_fit, err_a))\n",
    "    print('cov(a,b) = {:.8f}'.format(cov_ab))\n",
    "    print('chi^2 = {:.3f}/{:d} ndof'.format(chi_2, ndof))\n",
    "    print('p = {:.3f}'.format(1 - stats.chi2.cdf(chi_2, ndof)))\n"
   ]
  },
  {
   "cell_type": "markdown",
   "metadata": {},
   "source": [
    " È possibile iterare la procedura fino a che la stima converga ad un valore stabile.\n",
    " In questo esempio, la modifica dovuta agli errori sulle misure $x_i$ è abbastanza piccola."
   ]
  }
 ],
 "metadata": {
  "kernelspec": {
   "display_name": "Python 3",
   "language": "python",
   "name": "python3"
  },
  "language_info": {
   "codemirror_mode": {
    "name": "ipython",
    "version": 3
   },
   "file_extension": ".py",
   "mimetype": "text/x-python",
   "name": "python",
   "nbconvert_exporter": "python",
   "pygments_lexer": "ipython3",
   "version": "3.7.3"
  }
 },
 "nbformat": 4,
 "nbformat_minor": 4
}
