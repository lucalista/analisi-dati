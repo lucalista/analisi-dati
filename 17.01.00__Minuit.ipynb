{
 "cells": [
  {
   "cell_type": "markdown",
   "metadata": {},
   "source": [
    "# Minuit\n",
    "\n",
    "Minuit è un package sviluppado da Fred James al CERN negli anni '70 in fortran, successivamente portato in C++, e recentemente disponibile in python.\n",
    "\n",
    "È ancora insuperato per una serie di problemi di minimizzazione. Rispetto anche ad altri algoritmi di minimizzazione forniti in ```scipy.optimize``` continua ad essere preferibile per la gran parte dei problemi di fit che possono essere necessari in fisica.\n",
    "\n",
    "La ricerca del minimo è fatta seguendo i gradiente della funzione intorno ad un insieme di **valori iniziali**. In caso più minimi siano presenti, in genere viene raggiunto quello più vicini ai valori inizali.\n",
    "\n",
    "È disponibile un tutorial online in diverse parti all'<a href=\"https://nbviewer.jupyter.org/github/scikit-hep/iminuit/tree/master/tutorial/\">interfaccia python ```iminuit```</a> sul quale sono basati gli esempi che seguono.\n",
    "\n",
    "C'è anche una <a href=\"https://iminuit.readthedocs.io/en/stable/\">documentazione ufficiale del modulo</a>."
   ]
  },
  {
   "cell_type": "code",
   "execution_count": 1,
   "metadata": {},
   "outputs": [],
   "source": [
    "from matplotlib import pyplot as plt\n",
    "import numpy as np\n",
    "from iminuit import Minuit\n",
    "from iminuit.cost import LeastSquares\n",
    "import math"
   ]
  },
  {
   "cell_type": "markdown",
   "metadata": {},
   "source": [
    "Costruiamo una nostra funzione di likelihood, e minimizziamola. Consideriamo una PDF gaussiana con $\\sigma$ nota, per semplicità."
   ]
  },
  {
   "cell_type": "code",
   "execution_count": 2,
   "metadata": {},
   "outputs": [
    {
     "data": {
      "image/png": "[encoded data removed]",
      "text/plain": [
       "<Figure size 900x600 with 1 Axes>"
      ]
     },
     "metadata": {
      "needs_background": "light"
     },
     "output_type": "display_data"
    }
   ],
   "source": [
    "sigma = 0.6\n",
    "sigma2 = sigma**2\n",
    "two_sigma2=2*sigma2\n",
    "x_obs = 2.3\n",
    "def like_fun(mu):\n",
    "    return (x_obs-mu)**2/two_sigma2\n",
    "mus= np.linspace(1, 3.5)\n",
    "plt.figure(figsize=(9,6), dpi=100)\n",
    "plt.plot(mus, like_fun(mus))\n",
    "plt.xlabel('$\\mu$')\n",
    "plt.ylabel('$-\\log L(x;\\mu)$')\n",
    "plt.show()"
   ]
  },
  {
   "cell_type": "markdown",
   "metadata": {},
   "source": [
    "La funzione ```like_fun``` può essere definita come $-\\log{\\cal{L}}$ oppure come $-2\\log{\\cal{L}}=\\chi^2$. Nei due casi va moltiplicata per in fattore pari a $\\frac{1}{2}$ o $1$, perché di default Minuit considera la minimmizzazzione di un $\\chi^2$."
   ]
  },
  {
   "cell_type": "code",
   "execution_count": 3,
   "metadata": {},
   "outputs": [
    {
     "data": {
      "text/plain": [
       "(0.5, 1.0)"
      ]
     },
     "execution_count": 3,
     "metadata": {},
     "output_type": "execute_result"
    }
   ],
   "source": [
    "Minuit.LIKELIHOOD, Minuit.LEAST_SQUARES"
   ]
  },
  {
   "cell_type": "code",
   "execution_count": 4,
   "metadata": {},
   "outputs": [
    {
     "name": "stdout",
     "output_type": "stream",
     "text": [
      "starting value 1.000, minimum at 2.300\n"
     ]
    }
   ],
   "source": [
    "like_fun.errordef = Minuit.LIKELIHOOD \n",
    "mu0 = 1.0\n",
    "minuit = Minuit(like_fun, mu=mu0)\n",
    "minuit.migrad()\n",
    "print(\"starting value {:.3f}, minimum at {:.3f}\".format(mu0, minuit.values[\"mu\"]))"
   ]
  },
  {
   "cell_type": "markdown",
   "metadata": {},
   "source": [
    "Da notare che si può usare sia ```minuit.values[\"mu\"]``` (per nome) che ```minuit.values[0]``` (per indice)."
   ]
  },
  {
   "cell_type": "code",
   "execution_count": 5,
   "metadata": {},
   "outputs": [
    {
     "name": "stdout",
     "output_type": "stream",
     "text": [
      "error: 0.600\n"
     ]
    }
   ],
   "source": [
    "print(\"error: {:.3f}\".format(minuit.errors[\"mu\"]))"
   ]
  },
  {
   "cell_type": "markdown",
   "metadata": {},
   "source": [
    "L'errore si può calcolare approssimativamente con il calcolo della matrice delle derivate seconde (Hessiano)."
   ]
  },
  {
   "cell_type": "code",
   "execution_count": 6,
   "metadata": {},
   "outputs": [
    {
     "data": {
      "text/html": [
       "<table>\n",
       "    <tr>\n",
       "        <td colspan=\"2\" style=\"text-align:left\" title=\"Minimum value of function\"> FCN = 1.657e-19 </td>\n",
       "        <td colspan=\"3\" style=\"text-align:center\" title=\"No. of function evaluations in last call and total number\"> Nfcn = 18 </td>\n",
       "    </tr>\n",
       "    <tr>\n",
       "        <td colspan=\"2\" style=\"text-align:left\" title=\"Estimated distance to minimum and goal\"> EDM = 1.66e-19 (Goal: 0.0001) </td>\n",
       "        <td colspan=\"3\" style=\"text-align:center\" title=\"No. of gradient evaluations in last call and total number\">  </td>\n",
       "    </tr>\n",
       "    <tr>\n",
       "        <td style=\"text-align:center;background-color:#92CCA6;color:black\"> Valid Minimum </td>\n",
       "        <td style=\"text-align:center;background-color:#92CCA6;color:black\"> Valid Parameters </td>\n",
       "        <td colspan=\"3\" style=\"text-align:center;background-color:#92CCA6;color:black\"> No Parameters at limit </td>\n",
       "    </tr>\n",
       "    <tr>\n",
       "        <td colspan=\"2\" style=\"text-align:center;background-color:#92CCA6;color:black\"> Below EDM threshold (goal x 10) </td>\n",
       "        <td colspan=\"3\" style=\"text-align:center;background-color:#92CCA6;color:black\"> Below call limit </td>\n",
       "    </tr>\n",
       "    <tr>\n",
       "        <td style=\"text-align:center;background-color:#92CCA6;color:black\"> Covariance </td>\n",
       "        <td style=\"text-align:center;background-color:#92CCA6;color:black\"> Hesse ok </td>\n",
       "        <td style=\"text-align:center;background-color:#92CCA6;color:black\" title=\"Is covariance matrix accurate?\"> Accurate </td>\n",
       "        <td style=\"text-align:center;background-color:#92CCA6;color:black\" title=\"Is covariance matrix positive definite?\"> Pos. def. </td>\n",
       "        <td style=\"text-align:center;background-color:#92CCA6;color:black\" title=\"Was positive definiteness enforced by Minuit?\"> Not forced </td>\n",
       "    </tr>\n",
       "</table><table>\n",
       "    <tr>\n",
       "        <td></td>\n",
       "        <th title=\"Variable name\"> Name </th>\n",
       "        <th title=\"Value of parameter\"> Value </th>\n",
       "        <th title=\"Hesse error\"> Hesse Error </th>\n",
       "        <th title=\"Minos lower error\"> Minos Error- </th>\n",
       "        <th title=\"Minos upper error\"> Minos Error+ </th>\n",
       "        <th title=\"Lower limit of the parameter\"> Limit- </th>\n",
       "        <th title=\"Upper limit of the parameter\"> Limit+ </th>\n",
       "        <th title=\"Is the parameter fixed in the fit\"> Fixed </th>\n",
       "    </tr>\n",
       "    <tr>\n",
       "        <th> 0 </th>\n",
       "        <td> mu </td>\n",
       "        <td> 2.3 </td>\n",
       "        <td> 0.6 </td>\n",
       "        <td>  </td>\n",
       "        <td>  </td>\n",
       "        <td>  </td>\n",
       "        <td>  </td>\n",
       "        <td>  </td>\n",
       "    </tr>\n",
       "</table><table>\n",
       "    <tr>\n",
       "        <td></td>\n",
       "        <th> mu </th>\n",
       "    </tr>\n",
       "    <tr>\n",
       "        <th> mu </th>\n",
       "        <td> 0.36 </td>\n",
       "    </tr>\n",
       "</table>"
      ],
      "text/plain": [
       "┌──────────────────────────────────┬──────────────────────────────────────┐\n",
       "│ FCN = 1.657e-19                  │              Nfcn = 18               │\n",
       "│ EDM = 1.66e-19 (Goal: 0.0001)    │                                      │\n",
       "├───────────────┬──────────────────┼──────────────────────────────────────┤\n",
       "│ Valid Minimum │ Valid Parameters │        No Parameters at limit        │\n",
       "├───────────────┴──────────────────┼──────────────────────────────────────┤\n",
       "│ Below EDM threshold (goal x 10)  │           Below call limit           │\n",
       "├───────────────┬──────────────────┼───────────┬─────────────┬────────────┤\n",
       "│  Covariance   │     Hesse ok     │ Accurate  │  Pos. def.  │ Not forced │\n",
       "└───────────────┴──────────────────┴───────────┴─────────────┴────────────┘\n",
       "┌───┬──────┬───────────┬───────────┬────────────┬────────────┬─────────┬─────────┬───────┐\n",
       "│   │ Name │   Value   │ Hesse Err │ Minos Err- │ Minos Err+ │ Limit-  │ Limit+  │ Fixed │\n",
       "├───┼──────┼───────────┼───────────┼────────────┼────────────┼─────────┼─────────┼───────┤\n",
       "│ 0 │ mu   │    2.3    │    0.6    │            │            │         │         │       │\n",
       "└───┴──────┴───────────┴───────────┴────────────┴────────────┴─────────┴─────────┴───────┘\n",
       "┌────┬──────┐\n",
       "│    │   mu │\n",
       "├────┼──────┤\n",
       "│ mu │ 0.36 │\n",
       "└────┴──────┘"
      ]
     },
     "execution_count": 6,
     "metadata": {},
     "output_type": "execute_result"
    }
   ],
   "source": [
    "minuit.hesse()"
   ]
  },
  {
   "cell_type": "code",
   "execution_count": 7,
   "metadata": {},
   "outputs": [
    {
     "name": "stdout",
     "output_type": "stream",
     "text": [
      "error: 0.600\n"
     ]
    }
   ],
   "source": [
    "print(\"error: {:.3f}\".format(minuit.errors[\"mu\"]))"
   ]
  },
  {
   "cell_type": "code",
   "execution_count": 8,
   "metadata": {},
   "outputs": [
    {
     "name": "stdout",
     "output_type": "stream",
     "text": [
      "mu = 2.300 +/- 0.600\n"
     ]
    }
   ],
   "source": [
    "for p in minuit.params:\n",
    "    print(p.name, \"= {:.3f} +/- {:.3f}\".format(p.value, p.error))"
   ]
  },
  {
   "cell_type": "markdown",
   "metadata": {},
   "source": [
    "L'errore si può calcolare più accuratamente con uno scan di $-2\\log{\\cal L}$."
   ]
  },
  {
   "cell_type": "code",
   "execution_count": 9,
   "metadata": {},
   "outputs": [
    {
     "data": {
      "text/html": [
       "<table>\n",
       "    <tr>\n",
       "        <td colspan=\"2\" style=\"text-align:left\" title=\"Minimum value of function\"> FCN = 1.657e-19 </td>\n",
       "        <td colspan=\"3\" style=\"text-align:center\" title=\"No. of function evaluations in last call and total number\"> Nfcn = 20 </td>\n",
       "    </tr>\n",
       "    <tr>\n",
       "        <td colspan=\"2\" style=\"text-align:left\" title=\"Estimated distance to minimum and goal\"> EDM = 1.66e-19 (Goal: 0.0001) </td>\n",
       "        <td colspan=\"3\" style=\"text-align:center\" title=\"No. of gradient evaluations in last call and total number\">  </td>\n",
       "    </tr>\n",
       "    <tr>\n",
       "        <td style=\"text-align:center;background-color:#92CCA6;color:black\"> Valid Minimum </td>\n",
       "        <td style=\"text-align:center;background-color:#92CCA6;color:black\"> Valid Parameters </td>\n",
       "        <td colspan=\"3\" style=\"text-align:center;background-color:#92CCA6;color:black\"> No Parameters at limit </td>\n",
       "    </tr>\n",
       "    <tr>\n",
       "        <td colspan=\"2\" style=\"text-align:center;background-color:#92CCA6;color:black\"> Below EDM threshold (goal x 10) </td>\n",
       "        <td colspan=\"3\" style=\"text-align:center;background-color:#92CCA6;color:black\"> Below call limit </td>\n",
       "    </tr>\n",
       "    <tr>\n",
       "        <td style=\"text-align:center;background-color:#92CCA6;color:black\"> Covariance </td>\n",
       "        <td style=\"text-align:center;background-color:#92CCA6;color:black\"> Hesse ok </td>\n",
       "        <td style=\"text-align:center;background-color:#92CCA6;color:black\" title=\"Is covariance matrix accurate?\"> Accurate </td>\n",
       "        <td style=\"text-align:center;background-color:#92CCA6;color:black\" title=\"Is covariance matrix positive definite?\"> Pos. def. </td>\n",
       "        <td style=\"text-align:center;background-color:#92CCA6;color:black\" title=\"Was positive definiteness enforced by Minuit?\"> Not forced </td>\n",
       "    </tr>\n",
       "</table><table>\n",
       "    <tr>\n",
       "        <td></td>\n",
       "        <th title=\"Variable name\"> Name </th>\n",
       "        <th title=\"Value of parameter\"> Value </th>\n",
       "        <th title=\"Hesse error\"> Hesse Error </th>\n",
       "        <th title=\"Minos lower error\"> Minos Error- </th>\n",
       "        <th title=\"Minos upper error\"> Minos Error+ </th>\n",
       "        <th title=\"Lower limit of the parameter\"> Limit- </th>\n",
       "        <th title=\"Upper limit of the parameter\"> Limit+ </th>\n",
       "        <th title=\"Is the parameter fixed in the fit\"> Fixed </th>\n",
       "    </tr>\n",
       "    <tr>\n",
       "        <th> 0 </th>\n",
       "        <td> mu </td>\n",
       "        <td> 2.3 </td>\n",
       "        <td> 0.6 </td>\n",
       "        <td> -0.6 </td>\n",
       "        <td> 0.6 </td>\n",
       "        <td>  </td>\n",
       "        <td>  </td>\n",
       "        <td>  </td>\n",
       "    </tr>\n",
       "</table><table>\n",
       "    <tr>\n",
       "        <td></td>\n",
       "        <th colspan=\"2\" style=\"text-align:center\" title=\"Parameter name\"> mu </th>\n",
       "    </tr>\n",
       "    <tr>\n",
       "        <th title=\"Lower and upper minos error of the parameter\"> Error </th>\n",
       "        <td> -0.6 </td>\n",
       "        <td> 0.6 </td>\n",
       "    </tr>\n",
       "    <tr>\n",
       "        <th title=\"Validity of lower/upper minos error\"> Valid </th>\n",
       "        <td style=\"background-color:#92CCA6;color:black\"> True </td>\n",
       "        <td style=\"background-color:#92CCA6;color:black\"> True </td>\n",
       "    </tr>\n",
       "    <tr>\n",
       "        <th title=\"Did scan hit limit of any parameter?\"> At Limit </th>\n",
       "        <td style=\"background-color:#92CCA6;color:black\"> False </td>\n",
       "        <td style=\"background-color:#92CCA6;color:black\"> False </td>\n",
       "    </tr>\n",
       "    <tr>\n",
       "        <th title=\"Did scan hit function call limit?\"> Max FCN </th>\n",
       "        <td style=\"background-color:#92CCA6;color:black\"> False </td>\n",
       "        <td style=\"background-color:#92CCA6;color:black\"> False </td>\n",
       "    </tr>\n",
       "    <tr>\n",
       "        <th title=\"New minimum found when doing scan?\"> New Min </th>\n",
       "        <td style=\"background-color:#92CCA6;color:black\"> False </td>\n",
       "        <td style=\"background-color:#92CCA6;color:black\"> False </td>\n",
       "    </tr>\n",
       "</table><table>\n",
       "    <tr>\n",
       "        <td></td>\n",
       "        <th> mu </th>\n",
       "    </tr>\n",
       "    <tr>\n",
       "        <th> mu </th>\n",
       "        <td> 0.36 </td>\n",
       "    </tr>\n",
       "</table>"
      ],
      "text/plain": [
       "┌──────────────────────────────────┬──────────────────────────────────────┐\n",
       "│ FCN = 1.657e-19                  │              Nfcn = 20               │\n",
       "│ EDM = 1.66e-19 (Goal: 0.0001)    │                                      │\n",
       "├───────────────┬──────────────────┼──────────────────────────────────────┤\n",
       "│ Valid Minimum │ Valid Parameters │        No Parameters at limit        │\n",
       "├───────────────┴──────────────────┼──────────────────────────────────────┤\n",
       "│ Below EDM threshold (goal x 10)  │           Below call limit           │\n",
       "├───────────────┬──────────────────┼───────────┬─────────────┬────────────┤\n",
       "│  Covariance   │     Hesse ok     │ Accurate  │  Pos. def.  │ Not forced │\n",
       "└───────────────┴──────────────────┴───────────┴─────────────┴────────────┘\n",
       "┌───┬──────┬───────────┬───────────┬────────────┬────────────┬─────────┬─────────┬───────┐\n",
       "│   │ Name │   Value   │ Hesse Err │ Minos Err- │ Minos Err+ │ Limit-  │ Limit+  │ Fixed │\n",
       "├───┼──────┼───────────┼───────────┼────────────┼────────────┼─────────┼─────────┼───────┤\n",
       "│ 0 │ mu   │    2.3    │    0.6    │    -0.6    │    0.6     │         │         │       │\n",
       "└───┴──────┴───────────┴───────────┴────────────┴────────────┴─────────┴─────────┴───────┘\n",
       "┌──────────┬───────────────────────┐\n",
       "│          │          mu           │\n",
       "├──────────┼───────────┬───────────┤\n",
       "│  Error   │   -0.6    │    0.6    │\n",
       "│  Valid   │   True    │   True    │\n",
       "│ At Limit │   False   │   False   │\n",
       "│ Max FCN  │   False   │   False   │\n",
       "│ New Min  │   False   │   False   │\n",
       "└──────────┴───────────┴───────────┘\n",
       "┌────┬──────┐\n",
       "│    │   mu │\n",
       "├────┼──────┤\n",
       "│ mu │ 0.36 │\n",
       "└────┴──────┘"
      ]
     },
     "execution_count": 9,
     "metadata": {},
     "output_type": "execute_result"
    }
   ],
   "source": [
    "minuit.minos()"
   ]
  },
  {
   "cell_type": "code",
   "execution_count": 10,
   "metadata": {},
   "outputs": [
    {
     "name": "stdout",
     "output_type": "stream",
     "text": [
      "(-0.5999999996546256, 0.6000000003453746)\n",
      "mu = 2.300 +-0.600/-0.600\n"
     ]
    }
   ],
   "source": [
    "for p in minuit.params:\n",
    "    print(p.merror)\n",
    "    print(p.name, \"= {:.3f} +{:.3f}/-{:.3f}\".format(p.value, p.merror[0], p.merror[1]))"
   ]
  },
  {
   "cell_type": "code",
   "execution_count": 11,
   "metadata": {},
   "outputs": [
    {
     "data": {
      "text/plain": [
       "\"<MError number=0 name='mu' lower=-0.5999999996546256 upper=0.6000000003453746 is_valid=True lower_valid=True upper_valid=True at_lower_limit=False at_upper_limit=False at_lower_max_fcn=False at_upper_max_fcn=False lower_new_min=False upper_new_min=False nfcn=2 min=2.2999999996546254>\""
      ]
     },
     "execution_count": 11,
     "metadata": {},
     "output_type": "execute_result"
    }
   ],
   "source": [
    "repr(minuit.merrors['mu'])"
   ]
  },
  {
   "cell_type": "code",
   "execution_count": 12,
   "metadata": {},
   "outputs": [
    {
     "data": {
      "image/png": "[encoded data removed]",
      "text/plain": [
       "<Figure size 900x600 with 1 Axes>"
      ]
     },
     "metadata": {
      "needs_background": "light"
     },
     "output_type": "display_data"
    }
   ],
   "source": [
    "plt.figure(figsize=(9,6), dpi=100)\n",
    "mus= np.linspace(1, 3.5)\n",
    "plt.plot(mus, like_fun(mus))\n",
    "plt.xlabel('$\\mu$')\n",
    "plt.ylabel('$-\\log L(x;\\mu)$')\n",
    "mu_hat = minuit.values['mu']\n",
    "mu_err_lo, mu_err_up = minuit.merrors['mu'].lower, minuit.merrors['mu'].upper\n",
    "plt.plot((mu_hat,mu_hat), (0, 0.5), color='r')\n",
    "plt.plot((mu_hat-mu_err_lo,mu_hat-mu_err_lo), (0, 0.5), color='r')\n",
    "plt.plot((mu_hat+mu_err_up,mu_hat+mu_err_up), (0, 0.5), color='r')\n",
    "plt.plot((mu_hat-mu_err_lo,mu_hat+mu_err_up), (0.5, 0.5), color='r')\n",
    "plt.plot((mus[0],mus[-1]), (0.5, 0.5), color='r', linestyle='--')\n",
    "plt.ylim(0)\n",
    "plt.show()"
   ]
  },
  {
   "cell_type": "markdown",
   "metadata": {},
   "source": [
    "## Regressione lineare\n",
    "Implementiamo un fit lineare ai minimi quadrati usando ```Minuit```."
   ]
  },
  {
   "cell_type": "code",
   "execution_count": 13,
   "metadata": {},
   "outputs": [],
   "source": [
    "def line(x, a, b):\n",
    "    return a * x + b"
   ]
  },
  {
   "cell_type": "code",
   "execution_count": 14,
   "metadata": {},
   "outputs": [],
   "source": [
    "np.random.seed(1234)\n",
    "data_x = np.linspace(0, 1, 10)\n",
    "data_yerr = 0.1  # potremmo anche usare un vettore con errori differenti per ciascun punto\n",
    "data_y = line(data_x, 2, 1) + data_yerr * np.random.normal(0, 1, len(data_x))"
   ]
  },
  {
   "cell_type": "code",
   "execution_count": 15,
   "metadata": {},
   "outputs": [
    {
     "data": {
      "image/png": "[encoded data removed]",
      "text/plain": [
       "<Figure size 900x600 with 1 Axes>"
      ]
     },
     "metadata": {
      "needs_background": "light"
     },
     "output_type": "display_data"
    }
   ],
   "source": [
    "plt.figure(figsize=(9,6), dpi=100)\n",
    "plt.errorbar(data_x, data_y, data_yerr, fmt=\"o\")\n",
    "plt.xlabel('x')\n",
    "plt.ylabel('y')\n",
    "plt.show()"
   ]
  },
  {
   "cell_type": "markdown",
   "metadata": {},
   "source": [
    "Usiamo la funzione ```LeastSquares``` che ci fa risparemiare di definire manualmente il $\\chi^2$.\n",
    "\n",
    "<span style=\"color:blue\">Nota: quello che in Minuit viene chiamato ```LeastSquares``` in realtà un modello di $\\chi^2$ perché è possibile passare errori che siano diversi tra loro.</span>"
   ]
  },
  {
   "cell_type": "code",
   "execution_count": 16,
   "metadata": {},
   "outputs": [],
   "source": [
    "least_squares = LeastSquares(data_x, data_y, data_yerr, line)\n",
    "m = Minuit(least_squares, a=0, b=0)"
   ]
  },
  {
   "cell_type": "code",
   "execution_count": 17,
   "metadata": {},
   "outputs": [
    {
     "data": {
      "text/html": [
       "<table>\n",
       "    <tr>\n",
       "        <td colspan=\"2\" style=\"text-align:left\" title=\"Minimum value of function\"> FCN = 9.703 </td>\n",
       "        <td colspan=\"3\" style=\"text-align:center\" title=\"No. of function evaluations in last call and total number\"> Nfcn = 36 </td>\n",
       "    </tr>\n",
       "    <tr>\n",
       "        <td colspan=\"2\" style=\"text-align:left\" title=\"Estimated distance to minimum and goal\"> EDM = 3.18e-23 (Goal: 0.0002) </td>\n",
       "        <td colspan=\"3\" style=\"text-align:center\" title=\"No. of gradient evaluations in last call and total number\">  </td>\n",
       "    </tr>\n",
       "    <tr>\n",
       "        <td style=\"text-align:center;background-color:#92CCA6;color:black\"> Valid Minimum </td>\n",
       "        <td style=\"text-align:center;background-color:#92CCA6;color:black\"> Valid Parameters </td>\n",
       "        <td colspan=\"3\" style=\"text-align:center;background-color:#92CCA6;color:black\"> No Parameters at limit </td>\n",
       "    </tr>\n",
       "    <tr>\n",
       "        <td colspan=\"2\" style=\"text-align:center;background-color:#92CCA6;color:black\"> Below EDM threshold (goal x 10) </td>\n",
       "        <td colspan=\"3\" style=\"text-align:center;background-color:#92CCA6;color:black\"> Below call limit </td>\n",
       "    </tr>\n",
       "    <tr>\n",
       "        <td style=\"text-align:center;background-color:#92CCA6;color:black\"> Covariance </td>\n",
       "        <td style=\"text-align:center;background-color:#92CCA6;color:black\"> Hesse ok </td>\n",
       "        <td style=\"text-align:center;background-color:#92CCA6;color:black\" title=\"Is covariance matrix accurate?\"> Accurate </td>\n",
       "        <td style=\"text-align:center;background-color:#92CCA6;color:black\" title=\"Is covariance matrix positive definite?\"> Pos. def. </td>\n",
       "        <td style=\"text-align:center;background-color:#92CCA6;color:black\" title=\"Was positive definiteness enforced by Minuit?\"> Not forced </td>\n",
       "    </tr>\n",
       "</table><table>\n",
       "    <tr>\n",
       "        <td></td>\n",
       "        <th title=\"Variable name\"> Name </th>\n",
       "        <th title=\"Value of parameter\"> Value </th>\n",
       "        <th title=\"Hesse error\"> Hesse Error </th>\n",
       "        <th title=\"Minos lower error\"> Minos Error- </th>\n",
       "        <th title=\"Minos upper error\"> Minos Error+ </th>\n",
       "        <th title=\"Lower limit of the parameter\"> Limit- </th>\n",
       "        <th title=\"Upper limit of the parameter\"> Limit+ </th>\n",
       "        <th title=\"Is the parameter fixed in the fit\"> Fixed </th>\n",
       "    </tr>\n",
       "    <tr>\n",
       "        <th> 0 </th>\n",
       "        <td> a </td>\n",
       "        <td> 1.88 </td>\n",
       "        <td> 0.10 </td>\n",
       "        <td>  </td>\n",
       "        <td>  </td>\n",
       "        <td>  </td>\n",
       "        <td>  </td>\n",
       "        <td>  </td>\n",
       "    </tr>\n",
       "    <tr>\n",
       "        <th> 1 </th>\n",
       "        <td> b </td>\n",
       "        <td> 1.04 </td>\n",
       "        <td> 0.06 </td>\n",
       "        <td>  </td>\n",
       "        <td>  </td>\n",
       "        <td>  </td>\n",
       "        <td>  </td>\n",
       "        <td>  </td>\n",
       "    </tr>\n",
       "</table><table>\n",
       "    <tr>\n",
       "        <td></td>\n",
       "        <th> a </th>\n",
       "        <th> b </th>\n",
       "    </tr>\n",
       "    <tr>\n",
       "        <th> a </th>\n",
       "        <td> 0.00982 </td>\n",
       "        <td style=\"background-color:rgb(140,140,250);color:black\"> -0.00491 <strong>(-0.843)</strong> </td>\n",
       "    </tr>\n",
       "    <tr>\n",
       "        <th> b </th>\n",
       "        <td style=\"background-color:rgb(140,140,250);color:black\"> -0.00491 <strong>(-0.843)</strong> </td>\n",
       "        <td> 0.00345 </td>\n",
       "    </tr>\n",
       "</table>"
      ],
      "text/plain": [
       "┌──────────────────────────────────┬──────────────────────────────────────┐\n",
       "│ FCN = 9.703                      │              Nfcn = 36               │\n",
       "│ EDM = 3.18e-23 (Goal: 0.0002)    │                                      │\n",
       "├───────────────┬──────────────────┼──────────────────────────────────────┤\n",
       "│ Valid Minimum │ Valid Parameters │        No Parameters at limit        │\n",
       "├───────────────┴──────────────────┼──────────────────────────────────────┤\n",
       "│ Below EDM threshold (goal x 10)  │           Below call limit           │\n",
       "├───────────────┬──────────────────┼───────────┬─────────────┬────────────┤\n",
       "│  Covariance   │     Hesse ok     │ Accurate  │  Pos. def.  │ Not forced │\n",
       "└───────────────┴──────────────────┴───────────┴─────────────┴────────────┘\n",
       "┌───┬──────┬───────────┬───────────┬────────────┬────────────┬─────────┬─────────┬───────┐\n",
       "│   │ Name │   Value   │ Hesse Err │ Minos Err- │ Minos Err+ │ Limit-  │ Limit+  │ Fixed │\n",
       "├───┼──────┼───────────┼───────────┼────────────┼────────────┼─────────┼─────────┼───────┤\n",
       "│ 0 │ a    │   1.88    │   0.10    │            │            │         │         │       │\n",
       "│ 1 │ b    │   1.04    │   0.06    │            │            │         │         │       │\n",
       "└───┴──────┴───────────┴───────────┴────────────┴────────────┴─────────┴─────────┴───────┘\n",
       "┌───┬───────────────────┐\n",
       "│   │        a        b │\n",
       "├───┼───────────────────┤\n",
       "│ a │  0.00982 -0.00491 │\n",
       "│ b │ -0.00491  0.00345 │\n",
       "└───┴───────────────────┘"
      ]
     },
     "execution_count": 17,
     "metadata": {},
     "output_type": "execute_result"
    }
   ],
   "source": [
    "m.migrad()  # ricerca del minimo secondo la discesa del gradiente"
   ]
  },
  {
   "cell_type": "code",
   "execution_count": 18,
   "metadata": {},
   "outputs": [
    {
     "data": {
      "text/html": [
       "<table>\n",
       "    <tr>\n",
       "        <td colspan=\"2\" style=\"text-align:left\" title=\"Minimum value of function\"> FCN = 9.703 </td>\n",
       "        <td colspan=\"3\" style=\"text-align:center\" title=\"No. of function evaluations in last call and total number\"> Nfcn = 46 </td>\n",
       "    </tr>\n",
       "    <tr>\n",
       "        <td colspan=\"2\" style=\"text-align:left\" title=\"Estimated distance to minimum and goal\"> EDM = 2.93e-21 (Goal: 0.0002) </td>\n",
       "        <td colspan=\"3\" style=\"text-align:center\" title=\"No. of gradient evaluations in last call and total number\">  </td>\n",
       "    </tr>\n",
       "    <tr>\n",
       "        <td style=\"text-align:center;background-color:#92CCA6;color:black\"> Valid Minimum </td>\n",
       "        <td style=\"text-align:center;background-color:#92CCA6;color:black\"> Valid Parameters </td>\n",
       "        <td colspan=\"3\" style=\"text-align:center;background-color:#92CCA6;color:black\"> No Parameters at limit </td>\n",
       "    </tr>\n",
       "    <tr>\n",
       "        <td colspan=\"2\" style=\"text-align:center;background-color:#92CCA6;color:black\"> Below EDM threshold (goal x 10) </td>\n",
       "        <td colspan=\"3\" style=\"text-align:center;background-color:#92CCA6;color:black\"> Below call limit </td>\n",
       "    </tr>\n",
       "    <tr>\n",
       "        <td style=\"text-align:center;background-color:#92CCA6;color:black\"> Covariance </td>\n",
       "        <td style=\"text-align:center;background-color:#92CCA6;color:black\"> Hesse ok </td>\n",
       "        <td style=\"text-align:center;background-color:#92CCA6;color:black\" title=\"Is covariance matrix accurate?\"> Accurate </td>\n",
       "        <td style=\"text-align:center;background-color:#92CCA6;color:black\" title=\"Is covariance matrix positive definite?\"> Pos. def. </td>\n",
       "        <td style=\"text-align:center;background-color:#92CCA6;color:black\" title=\"Was positive definiteness enforced by Minuit?\"> Not forced </td>\n",
       "    </tr>\n",
       "</table><table>\n",
       "    <tr>\n",
       "        <td></td>\n",
       "        <th title=\"Variable name\"> Name </th>\n",
       "        <th title=\"Value of parameter\"> Value </th>\n",
       "        <th title=\"Hesse error\"> Hesse Error </th>\n",
       "        <th title=\"Minos lower error\"> Minos Error- </th>\n",
       "        <th title=\"Minos upper error\"> Minos Error+ </th>\n",
       "        <th title=\"Lower limit of the parameter\"> Limit- </th>\n",
       "        <th title=\"Upper limit of the parameter\"> Limit+ </th>\n",
       "        <th title=\"Is the parameter fixed in the fit\"> Fixed </th>\n",
       "    </tr>\n",
       "    <tr>\n",
       "        <th> 0 </th>\n",
       "        <td> a </td>\n",
       "        <td> 1.88 </td>\n",
       "        <td> 0.10 </td>\n",
       "        <td>  </td>\n",
       "        <td>  </td>\n",
       "        <td>  </td>\n",
       "        <td>  </td>\n",
       "        <td>  </td>\n",
       "    </tr>\n",
       "    <tr>\n",
       "        <th> 1 </th>\n",
       "        <td> b </td>\n",
       "        <td> 1.04 </td>\n",
       "        <td> 0.06 </td>\n",
       "        <td>  </td>\n",
       "        <td>  </td>\n",
       "        <td>  </td>\n",
       "        <td>  </td>\n",
       "        <td>  </td>\n",
       "    </tr>\n",
       "</table><table>\n",
       "    <tr>\n",
       "        <td></td>\n",
       "        <th> a </th>\n",
       "        <th> b </th>\n",
       "    </tr>\n",
       "    <tr>\n",
       "        <th> a </th>\n",
       "        <td> 0.00982 </td>\n",
       "        <td style=\"background-color:rgb(140,140,250);color:black\"> -0.00491 <strong>(-0.843)</strong> </td>\n",
       "    </tr>\n",
       "    <tr>\n",
       "        <th> b </th>\n",
       "        <td style=\"background-color:rgb(140,140,250);color:black\"> -0.00491 <strong>(-0.843)</strong> </td>\n",
       "        <td> 0.00345 </td>\n",
       "    </tr>\n",
       "</table>"
      ],
      "text/plain": [
       "┌──────────────────────────────────┬──────────────────────────────────────┐\n",
       "│ FCN = 9.703                      │              Nfcn = 46               │\n",
       "│ EDM = 2.93e-21 (Goal: 0.0002)    │                                      │\n",
       "├───────────────┬──────────────────┼──────────────────────────────────────┤\n",
       "│ Valid Minimum │ Valid Parameters │        No Parameters at limit        │\n",
       "├───────────────┴──────────────────┼──────────────────────────────────────┤\n",
       "│ Below EDM threshold (goal x 10)  │           Below call limit           │\n",
       "├───────────────┬──────────────────┼───────────┬─────────────┬────────────┤\n",
       "│  Covariance   │     Hesse ok     │ Accurate  │  Pos. def.  │ Not forced │\n",
       "└───────────────┴──────────────────┴───────────┴─────────────┴────────────┘\n",
       "┌───┬──────┬───────────┬───────────┬────────────┬────────────┬─────────┬─────────┬───────┐\n",
       "│   │ Name │   Value   │ Hesse Err │ Minos Err- │ Minos Err+ │ Limit-  │ Limit+  │ Fixed │\n",
       "├───┼──────┼───────────┼───────────┼────────────┼────────────┼─────────┼─────────┼───────┤\n",
       "│ 0 │ a    │   1.88    │   0.10    │            │            │         │         │       │\n",
       "│ 1 │ b    │   1.04    │   0.06    │            │            │         │         │       │\n",
       "└───┴──────┴───────────┴───────────┴────────────┴────────────┴─────────┴─────────┴───────┘\n",
       "┌───┬───────────────────┐\n",
       "│   │        a        b │\n",
       "├───┼───────────────────┤\n",
       "│ a │  0.00982 -0.00491 │\n",
       "│ b │ -0.00491  0.00345 │\n",
       "└───┴───────────────────┘"
      ]
     },
     "execution_count": 18,
     "metadata": {},
     "output_type": "execute_result"
    }
   ],
   "source": [
    "m.hesse()   # calcolo accurato delle incertezze"
   ]
  },
  {
   "cell_type": "code",
   "execution_count": 19,
   "metadata": {},
   "outputs": [
    {
     "data": {
      "image/png": "[encoded data removed]",
      "text/plain": [
       "<Figure size 900x600 with 1 Axes>"
      ]
     },
     "metadata": {
      "needs_background": "light"
     },
     "output_type": "display_data"
    }
   ],
   "source": [
    "plt.figure(figsize=(9,6), dpi=100)\n",
    "plt.errorbar(data_x, data_y, data_yerr, fmt=\"o\", label=\"data\")\n",
    "plt.plot(data_x, line(data_x, *m.values), label=\"fit\")\n",
    "fit_info = [ f\"$\\\\chi^2$ / $n_\\\\mathrm{{dof}}$ = {m.fval:.1f} / {len(data_x) - m.nfit}\" ]\n",
    "for p, v, e in zip(m.parameters, m.values, m.errors):\n",
    "    fit_info.append(f\"{p} = ${v:.3f} \\\\pm {e:.3f}$\")\n",
    "plt.legend(title=\"\\n\".join(fit_info))\n",
    "plt.xlabel('x')\n",
    "plt.ylabel('y')\n",
    "plt.show()"
   ]
  },
  {
   "cell_type": "markdown",
   "metadata": {},
   "source": [
    "Proviamo ora un fit polinomiale."
   ]
  },
  {
   "cell_type": "code",
   "execution_count": 20,
   "metadata": {},
   "outputs": [],
   "source": [
    "def line_np(x, par):\n",
    "    return np.polyval(par, x)"
   ]
  },
  {
   "cell_type": "code",
   "execution_count": 21,
   "metadata": {},
   "outputs": [],
   "source": [
    "least_squares_np = LeastSquares(data_x, data_y, data_yerr, line_np)"
   ]
  },
  {
   "cell_type": "code",
   "execution_count": 22,
   "metadata": {},
   "outputs": [
    {
     "data": {
      "text/html": [
       "<table>\n",
       "    <tr>\n",
       "        <td></td>\n",
       "        <th title=\"Variable name\"> Name </th>\n",
       "        <th title=\"Value of parameter\"> Value </th>\n",
       "        <th title=\"Hesse error\"> Hesse Error </th>\n",
       "        <th title=\"Minos lower error\"> Minos Error- </th>\n",
       "        <th title=\"Minos upper error\"> Minos Error+ </th>\n",
       "        <th title=\"Lower limit of the parameter\"> Limit- </th>\n",
       "        <th title=\"Upper limit of the parameter\"> Limit+ </th>\n",
       "        <th title=\"Is the parameter fixed in the fit\"> Fixed </th>\n",
       "    </tr>\n",
       "    <tr>\n",
       "        <th> 0 </th>\n",
       "        <td> x0 </td>\n",
       "        <td> 5.00 </td>\n",
       "        <td> 0.05 </td>\n",
       "        <td>  </td>\n",
       "        <td>  </td>\n",
       "        <td>  </td>\n",
       "        <td>  </td>\n",
       "        <td>  </td>\n",
       "    </tr>\n",
       "    <tr>\n",
       "        <th> 1 </th>\n",
       "        <td> x1 </td>\n",
       "        <td> 5.00 </td>\n",
       "        <td> 0.05 </td>\n",
       "        <td>  </td>\n",
       "        <td>  </td>\n",
       "        <td>  </td>\n",
       "        <td>  </td>\n",
       "        <td>  </td>\n",
       "    </tr>\n",
       "</table>"
      ],
      "text/plain": [
       "┌───┬──────┬───────────┬───────────┬────────────┬────────────┬─────────┬─────────┬───────┐\n",
       "│   │ Name │   Value   │ Hesse Err │ Minos Err- │ Minos Err+ │ Limit-  │ Limit+  │ Fixed │\n",
       "├───┼──────┼───────────┼───────────┼────────────┼────────────┼─────────┼─────────┼───────┤\n",
       "│ 0 │ x0   │   5.00    │   0.05    │            │            │         │         │       │\n",
       "│ 1 │ x1   │   5.00    │   0.05    │            │            │         │         │       │\n",
       "└───┴──────┴───────────┴───────────┴────────────┴────────────┴─────────┴─────────┴───────┘"
      ]
     },
     "execution_count": 22,
     "metadata": {},
     "output_type": "execute_result"
    }
   ],
   "source": [
    "Minuit(least_squares_np, (5, 5))"
   ]
  },
  {
   "cell_type": "markdown",
   "metadata": {},
   "source": [
    "Di defaut i nomi dei parametri sono ```x0```, ```x1```, ..., ma possono essere cambiati esplicitandoli."
   ]
  },
  {
   "cell_type": "code",
   "execution_count": 23,
   "metadata": {},
   "outputs": [
    {
     "data": {
      "text/html": [
       "<table>\n",
       "    <tr>\n",
       "        <td></td>\n",
       "        <th title=\"Variable name\"> Name </th>\n",
       "        <th title=\"Value of parameter\"> Value </th>\n",
       "        <th title=\"Hesse error\"> Hesse Error </th>\n",
       "        <th title=\"Minos lower error\"> Minos Error- </th>\n",
       "        <th title=\"Minos upper error\"> Minos Error+ </th>\n",
       "        <th title=\"Lower limit of the parameter\"> Limit- </th>\n",
       "        <th title=\"Upper limit of the parameter\"> Limit+ </th>\n",
       "        <th title=\"Is the parameter fixed in the fit\"> Fixed </th>\n",
       "    </tr>\n",
       "    <tr>\n",
       "        <th> 0 </th>\n",
       "        <td> a </td>\n",
       "        <td> 5.00 </td>\n",
       "        <td> 0.05 </td>\n",
       "        <td>  </td>\n",
       "        <td>  </td>\n",
       "        <td>  </td>\n",
       "        <td>  </td>\n",
       "        <td>  </td>\n",
       "    </tr>\n",
       "    <tr>\n",
       "        <th> 1 </th>\n",
       "        <td> b </td>\n",
       "        <td> 5.00 </td>\n",
       "        <td> 0.05 </td>\n",
       "        <td>  </td>\n",
       "        <td>  </td>\n",
       "        <td>  </td>\n",
       "        <td>  </td>\n",
       "        <td>  </td>\n",
       "    </tr>\n",
       "</table>"
      ],
      "text/plain": [
       "┌───┬──────┬───────────┬───────────┬────────────┬────────────┬─────────┬─────────┬───────┐\n",
       "│   │ Name │   Value   │ Hesse Err │ Minos Err- │ Minos Err+ │ Limit-  │ Limit+  │ Fixed │\n",
       "├───┼──────┼───────────┼───────────┼────────────┼────────────┼─────────┼─────────┼───────┤\n",
       "│ 0 │ a    │   5.00    │   0.05    │            │            │         │         │       │\n",
       "│ 1 │ b    │   5.00    │   0.05    │            │            │         │         │       │\n",
       "└───┴──────┴───────────┴───────────┴────────────┴────────────┴─────────┴─────────┴───────┘"
      ]
     },
     "execution_count": 23,
     "metadata": {},
     "output_type": "execute_result"
    }
   ],
   "source": [
    "Minuit(least_squares_np, (5, 5), name=(\"a\", \"b\"))"
   ]
  },
  {
   "cell_type": "code",
   "execution_count": 24,
   "metadata": {},
   "outputs": [],
   "source": [
    "m = Minuit(least_squares_np, (5, 5, 5), name=(\"a\", \"b\", \"c\"))"
   ]
  },
  {
   "cell_type": "code",
   "execution_count": 25,
   "metadata": {},
   "outputs": [
    {
     "data": {
      "text/html": [
       "<table>\n",
       "    <tr>\n",
       "        <td colspan=\"2\" style=\"text-align:left\" title=\"Minimum value of function\"> FCN = 7.743 </td>\n",
       "        <td colspan=\"3\" style=\"text-align:center\" title=\"No. of function evaluations in last call and total number\"> Nfcn = 52 </td>\n",
       "    </tr>\n",
       "    <tr>\n",
       "        <td colspan=\"2\" style=\"text-align:left\" title=\"Estimated distance to minimum and goal\"> EDM = 1.81e-18 (Goal: 0.0002) </td>\n",
       "        <td colspan=\"3\" style=\"text-align:center\" title=\"No. of gradient evaluations in last call and total number\">  </td>\n",
       "    </tr>\n",
       "    <tr>\n",
       "        <td style=\"text-align:center;background-color:#92CCA6;color:black\"> Valid Minimum </td>\n",
       "        <td style=\"text-align:center;background-color:#92CCA6;color:black\"> Valid Parameters </td>\n",
       "        <td colspan=\"3\" style=\"text-align:center;background-color:#92CCA6;color:black\"> No Parameters at limit </td>\n",
       "    </tr>\n",
       "    <tr>\n",
       "        <td colspan=\"2\" style=\"text-align:center;background-color:#92CCA6;color:black\"> Below EDM threshold (goal x 10) </td>\n",
       "        <td colspan=\"3\" style=\"text-align:center;background-color:#92CCA6;color:black\"> Below call limit </td>\n",
       "    </tr>\n",
       "    <tr>\n",
       "        <td style=\"text-align:center;background-color:#92CCA6;color:black\"> Covariance </td>\n",
       "        <td style=\"text-align:center;background-color:#92CCA6;color:black\"> Hesse ok </td>\n",
       "        <td style=\"text-align:center;background-color:#92CCA6;color:black\" title=\"Is covariance matrix accurate?\"> Accurate </td>\n",
       "        <td style=\"text-align:center;background-color:#92CCA6;color:black\" title=\"Is covariance matrix positive definite?\"> Pos. def. </td>\n",
       "        <td style=\"text-align:center;background-color:#92CCA6;color:black\" title=\"Was positive definiteness enforced by Minuit?\"> Not forced </td>\n",
       "    </tr>\n",
       "</table><table>\n",
       "    <tr>\n",
       "        <td></td>\n",
       "        <th title=\"Variable name\"> Name </th>\n",
       "        <th title=\"Value of parameter\"> Value </th>\n",
       "        <th title=\"Hesse error\"> Hesse Error </th>\n",
       "        <th title=\"Minos lower error\"> Minos Error- </th>\n",
       "        <th title=\"Minos upper error\"> Minos Error+ </th>\n",
       "        <th title=\"Lower limit of the parameter\"> Limit- </th>\n",
       "        <th title=\"Upper limit of the parameter\"> Limit+ </th>\n",
       "        <th title=\"Is the parameter fixed in the fit\"> Fixed </th>\n",
       "    </tr>\n",
       "    <tr>\n",
       "        <th> 0 </th>\n",
       "        <td> a </td>\n",
       "        <td> -0.49 </td>\n",
       "        <td> 0.35 </td>\n",
       "        <td>  </td>\n",
       "        <td>  </td>\n",
       "        <td>  </td>\n",
       "        <td>  </td>\n",
       "        <td>  </td>\n",
       "    </tr>\n",
       "    <tr>\n",
       "        <th> 1 </th>\n",
       "        <td> b </td>\n",
       "        <td> 2.4 </td>\n",
       "        <td> 0.4 </td>\n",
       "        <td>  </td>\n",
       "        <td>  </td>\n",
       "        <td>  </td>\n",
       "        <td>  </td>\n",
       "        <td>  </td>\n",
       "    </tr>\n",
       "    <tr>\n",
       "        <th> 2 </th>\n",
       "        <td> c </td>\n",
       "        <td> 0.97 </td>\n",
       "        <td> 0.08 </td>\n",
       "        <td>  </td>\n",
       "        <td>  </td>\n",
       "        <td>  </td>\n",
       "        <td>  </td>\n",
       "        <td>  </td>\n",
       "    </tr>\n",
       "</table><table>\n",
       "    <tr>\n",
       "        <td></td>\n",
       "        <th> a </th>\n",
       "        <th> b </th>\n",
       "        <th> c </th>\n",
       "    </tr>\n",
       "    <tr>\n",
       "        <th> a </th>\n",
       "        <td> 0.124 </td>\n",
       "        <td style=\"background-color:rgb(125,125,250);color:black\"> -0.124 <strong>(-0.963)</strong> </td>\n",
       "        <td style=\"background-color:rgb(250,150,150);color:black\"> 0.0184 <strong>(0.664)</strong> </td>\n",
       "    </tr>\n",
       "    <tr>\n",
       "        <th> b </th>\n",
       "        <td style=\"background-color:rgb(125,125,250);color:black\"> -0.124 <strong>(-0.963)</strong> </td>\n",
       "        <td> 0.134 </td>\n",
       "        <td style=\"background-color:rgb(145,145,250);color:black\"> -0.0233 <strong>(-0.810)</strong> </td>\n",
       "    </tr>\n",
       "    <tr>\n",
       "        <th> c </th>\n",
       "        <td style=\"background-color:rgb(250,150,150);color:black\"> 0.0184 <strong>(0.664)</strong> </td>\n",
       "        <td style=\"background-color:rgb(145,145,250);color:black\"> -0.0233 <strong>(-0.810)</strong> </td>\n",
       "        <td> 0.00618 </td>\n",
       "    </tr>\n",
       "</table>"
      ],
      "text/plain": [
       "┌──────────────────────────────────┬──────────────────────────────────────┐\n",
       "│ FCN = 7.743                      │              Nfcn = 52               │\n",
       "│ EDM = 1.81e-18 (Goal: 0.0002)    │                                      │\n",
       "├───────────────┬──────────────────┼──────────────────────────────────────┤\n",
       "│ Valid Minimum │ Valid Parameters │        No Parameters at limit        │\n",
       "├───────────────┴──────────────────┼──────────────────────────────────────┤\n",
       "│ Below EDM threshold (goal x 10)  │           Below call limit           │\n",
       "├───────────────┬──────────────────┼───────────┬─────────────┬────────────┤\n",
       "│  Covariance   │     Hesse ok     │ Accurate  │  Pos. def.  │ Not forced │\n",
       "└───────────────┴──────────────────┴───────────┴─────────────┴────────────┘\n",
       "┌───┬──────┬───────────┬───────────┬────────────┬────────────┬─────────┬─────────┬───────┐\n",
       "│   │ Name │   Value   │ Hesse Err │ Minos Err- │ Minos Err+ │ Limit-  │ Limit+  │ Fixed │\n",
       "├───┼──────┼───────────┼───────────┼────────────┼────────────┼─────────┼─────────┼───────┤\n",
       "│ 0 │ a    │   -0.49   │   0.35    │            │            │         │         │       │\n",
       "│ 1 │ b    │    2.4    │    0.4    │            │            │         │         │       │\n",
       "│ 2 │ c    │   0.97    │   0.08    │            │            │         │         │       │\n",
       "└───┴──────┴───────────┴───────────┴────────────┴────────────┴─────────┴─────────┴───────┘\n",
       "┌───┬─────────────────────────┐\n",
       "│   │       a       b       c │\n",
       "├───┼─────────────────────────┤\n",
       "│ a │   0.124  -0.124  0.0184 │\n",
       "│ b │  -0.124   0.134 -0.0233 │\n",
       "│ c │  0.0184 -0.0233 0.00618 │\n",
       "└───┴─────────────────────────┘"
      ]
     },
     "execution_count": 25,
     "metadata": {},
     "output_type": "execute_result"
    }
   ],
   "source": [
    "m.migrad()"
   ]
  },
  {
   "cell_type": "code",
   "execution_count": 26,
   "metadata": {},
   "outputs": [
    {
     "data": {
      "text/html": [
       "<table>\n",
       "    <tr>\n",
       "        <td colspan=\"2\" style=\"text-align:left\" title=\"Minimum value of function\"> FCN = 7.743 </td>\n",
       "        <td colspan=\"3\" style=\"text-align:center\" title=\"No. of function evaluations in last call and total number\"> Nfcn = 68 </td>\n",
       "    </tr>\n",
       "    <tr>\n",
       "        <td colspan=\"2\" style=\"text-align:left\" title=\"Estimated distance to minimum and goal\"> EDM = 2.08e-18 (Goal: 0.0002) </td>\n",
       "        <td colspan=\"3\" style=\"text-align:center\" title=\"No. of gradient evaluations in last call and total number\">  </td>\n",
       "    </tr>\n",
       "    <tr>\n",
       "        <td style=\"text-align:center;background-color:#92CCA6;color:black\"> Valid Minimum </td>\n",
       "        <td style=\"text-align:center;background-color:#92CCA6;color:black\"> Valid Parameters </td>\n",
       "        <td colspan=\"3\" style=\"text-align:center;background-color:#92CCA6;color:black\"> No Parameters at limit </td>\n",
       "    </tr>\n",
       "    <tr>\n",
       "        <td colspan=\"2\" style=\"text-align:center;background-color:#92CCA6;color:black\"> Below EDM threshold (goal x 10) </td>\n",
       "        <td colspan=\"3\" style=\"text-align:center;background-color:#92CCA6;color:black\"> Below call limit </td>\n",
       "    </tr>\n",
       "    <tr>\n",
       "        <td style=\"text-align:center;background-color:#92CCA6;color:black\"> Covariance </td>\n",
       "        <td style=\"text-align:center;background-color:#92CCA6;color:black\"> Hesse ok </td>\n",
       "        <td style=\"text-align:center;background-color:#92CCA6;color:black\" title=\"Is covariance matrix accurate?\"> Accurate </td>\n",
       "        <td style=\"text-align:center;background-color:#92CCA6;color:black\" title=\"Is covariance matrix positive definite?\"> Pos. def. </td>\n",
       "        <td style=\"text-align:center;background-color:#92CCA6;color:black\" title=\"Was positive definiteness enforced by Minuit?\"> Not forced </td>\n",
       "    </tr>\n",
       "</table><table>\n",
       "    <tr>\n",
       "        <td></td>\n",
       "        <th title=\"Variable name\"> Name </th>\n",
       "        <th title=\"Value of parameter\"> Value </th>\n",
       "        <th title=\"Hesse error\"> Hesse Error </th>\n",
       "        <th title=\"Minos lower error\"> Minos Error- </th>\n",
       "        <th title=\"Minos upper error\"> Minos Error+ </th>\n",
       "        <th title=\"Lower limit of the parameter\"> Limit- </th>\n",
       "        <th title=\"Upper limit of the parameter\"> Limit+ </th>\n",
       "        <th title=\"Is the parameter fixed in the fit\"> Fixed </th>\n",
       "    </tr>\n",
       "    <tr>\n",
       "        <th> 0 </th>\n",
       "        <td> a </td>\n",
       "        <td> -0.49 </td>\n",
       "        <td> 0.35 </td>\n",
       "        <td>  </td>\n",
       "        <td>  </td>\n",
       "        <td>  </td>\n",
       "        <td>  </td>\n",
       "        <td>  </td>\n",
       "    </tr>\n",
       "    <tr>\n",
       "        <th> 1 </th>\n",
       "        <td> b </td>\n",
       "        <td> 2.4 </td>\n",
       "        <td> 0.4 </td>\n",
       "        <td>  </td>\n",
       "        <td>  </td>\n",
       "        <td>  </td>\n",
       "        <td>  </td>\n",
       "        <td>  </td>\n",
       "    </tr>\n",
       "    <tr>\n",
       "        <th> 2 </th>\n",
       "        <td> c </td>\n",
       "        <td> 0.97 </td>\n",
       "        <td> 0.08 </td>\n",
       "        <td>  </td>\n",
       "        <td>  </td>\n",
       "        <td>  </td>\n",
       "        <td>  </td>\n",
       "        <td>  </td>\n",
       "    </tr>\n",
       "</table><table>\n",
       "    <tr>\n",
       "        <td></td>\n",
       "        <th> a </th>\n",
       "        <th> b </th>\n",
       "        <th> c </th>\n",
       "    </tr>\n",
       "    <tr>\n",
       "        <th> a </th>\n",
       "        <td> 0.124 </td>\n",
       "        <td style=\"background-color:rgb(125,125,250);color:black\"> -0.124 <strong>(-0.963)</strong> </td>\n",
       "        <td style=\"background-color:rgb(250,150,150);color:black\"> 0.0184 <strong>(0.664)</strong> </td>\n",
       "    </tr>\n",
       "    <tr>\n",
       "        <th> b </th>\n",
       "        <td style=\"background-color:rgb(125,125,250);color:black\"> -0.124 <strong>(-0.963)</strong> </td>\n",
       "        <td> 0.134 </td>\n",
       "        <td style=\"background-color:rgb(145,145,250);color:black\"> -0.0233 <strong>(-0.810)</strong> </td>\n",
       "    </tr>\n",
       "    <tr>\n",
       "        <th> c </th>\n",
       "        <td style=\"background-color:rgb(250,150,150);color:black\"> 0.0184 <strong>(0.664)</strong> </td>\n",
       "        <td style=\"background-color:rgb(145,145,250);color:black\"> -0.0233 <strong>(-0.810)</strong> </td>\n",
       "        <td> 0.00618 </td>\n",
       "    </tr>\n",
       "</table>"
      ],
      "text/plain": [
       "┌──────────────────────────────────┬──────────────────────────────────────┐\n",
       "│ FCN = 7.743                      │              Nfcn = 68               │\n",
       "│ EDM = 2.08e-18 (Goal: 0.0002)    │                                      │\n",
       "├───────────────┬──────────────────┼──────────────────────────────────────┤\n",
       "│ Valid Minimum │ Valid Parameters │        No Parameters at limit        │\n",
       "├───────────────┴──────────────────┼──────────────────────────────────────┤\n",
       "│ Below EDM threshold (goal x 10)  │           Below call limit           │\n",
       "├───────────────┬──────────────────┼───────────┬─────────────┬────────────┤\n",
       "│  Covariance   │     Hesse ok     │ Accurate  │  Pos. def.  │ Not forced │\n",
       "└───────────────┴──────────────────┴───────────┴─────────────┴────────────┘\n",
       "┌───┬──────┬───────────┬───────────┬────────────┬────────────┬─────────┬─────────┬───────┐\n",
       "│   │ Name │   Value   │ Hesse Err │ Minos Err- │ Minos Err+ │ Limit-  │ Limit+  │ Fixed │\n",
       "├───┼──────┼───────────┼───────────┼────────────┼────────────┼─────────┼─────────┼───────┤\n",
       "│ 0 │ a    │   -0.49   │   0.35    │            │            │         │         │       │\n",
       "│ 1 │ b    │    2.4    │    0.4    │            │            │         │         │       │\n",
       "│ 2 │ c    │   0.97    │   0.08    │            │            │         │         │       │\n",
       "└───┴──────┴───────────┴───────────┴────────────┴────────────┴─────────┴─────────┴───────┘\n",
       "┌───┬─────────────────────────┐\n",
       "│   │       a       b       c │\n",
       "├───┼─────────────────────────┤\n",
       "│ a │   0.124  -0.124  0.0184 │\n",
       "│ b │  -0.124   0.134 -0.0233 │\n",
       "│ c │  0.0184 -0.0233 0.00618 │\n",
       "└───┴─────────────────────────┘"
      ]
     },
     "execution_count": 26,
     "metadata": {},
     "output_type": "execute_result"
    }
   ],
   "source": [
    "m.hesse()"
   ]
  },
  {
   "cell_type": "code",
   "execution_count": 27,
   "metadata": {},
   "outputs": [
    {
     "data": {
      "text/html": [
       "<table>\n",
       "    <tr>\n",
       "        <td colspan=\"2\" style=\"text-align:left\" title=\"Minimum value of function\"> FCN = 7.743 </td>\n",
       "        <td colspan=\"3\" style=\"text-align:center\" title=\"No. of function evaluations in last call and total number\"> Nfcn = 157 </td>\n",
       "    </tr>\n",
       "    <tr>\n",
       "        <td colspan=\"2\" style=\"text-align:left\" title=\"Estimated distance to minimum and goal\"> EDM = 2.08e-18 (Goal: 0.0002) </td>\n",
       "        <td colspan=\"3\" style=\"text-align:center\" title=\"No. of gradient evaluations in last call and total number\">  </td>\n",
       "    </tr>\n",
       "    <tr>\n",
       "        <td style=\"text-align:center;background-color:#92CCA6;color:black\"> Valid Minimum </td>\n",
       "        <td style=\"text-align:center;background-color:#92CCA6;color:black\"> Valid Parameters </td>\n",
       "        <td colspan=\"3\" style=\"text-align:center;background-color:#92CCA6;color:black\"> No Parameters at limit </td>\n",
       "    </tr>\n",
       "    <tr>\n",
       "        <td colspan=\"2\" style=\"text-align:center;background-color:#92CCA6;color:black\"> Below EDM threshold (goal x 10) </td>\n",
       "        <td colspan=\"3\" style=\"text-align:center;background-color:#92CCA6;color:black\"> Below call limit </td>\n",
       "    </tr>\n",
       "    <tr>\n",
       "        <td style=\"text-align:center;background-color:#92CCA6;color:black\"> Covariance </td>\n",
       "        <td style=\"text-align:center;background-color:#92CCA6;color:black\"> Hesse ok </td>\n",
       "        <td style=\"text-align:center;background-color:#92CCA6;color:black\" title=\"Is covariance matrix accurate?\"> Accurate </td>\n",
       "        <td style=\"text-align:center;background-color:#92CCA6;color:black\" title=\"Is covariance matrix positive definite?\"> Pos. def. </td>\n",
       "        <td style=\"text-align:center;background-color:#92CCA6;color:black\" title=\"Was positive definiteness enforced by Minuit?\"> Not forced </td>\n",
       "    </tr>\n",
       "</table><table>\n",
       "    <tr>\n",
       "        <td></td>\n",
       "        <th title=\"Variable name\"> Name </th>\n",
       "        <th title=\"Value of parameter\"> Value </th>\n",
       "        <th title=\"Hesse error\"> Hesse Error </th>\n",
       "        <th title=\"Minos lower error\"> Minos Error- </th>\n",
       "        <th title=\"Minos upper error\"> Minos Error+ </th>\n",
       "        <th title=\"Lower limit of the parameter\"> Limit- </th>\n",
       "        <th title=\"Upper limit of the parameter\"> Limit+ </th>\n",
       "        <th title=\"Is the parameter fixed in the fit\"> Fixed </th>\n",
       "    </tr>\n",
       "    <tr>\n",
       "        <th> 0 </th>\n",
       "        <td> a </td>\n",
       "        <td> -0.49 </td>\n",
       "        <td> 0.35 </td>\n",
       "        <td> -0.35 </td>\n",
       "        <td> 0.35 </td>\n",
       "        <td>  </td>\n",
       "        <td>  </td>\n",
       "        <td>  </td>\n",
       "    </tr>\n",
       "    <tr>\n",
       "        <th> 1 </th>\n",
       "        <td> b </td>\n",
       "        <td> 2.4 </td>\n",
       "        <td> 0.4 </td>\n",
       "        <td> -0.4 </td>\n",
       "        <td> 0.4 </td>\n",
       "        <td>  </td>\n",
       "        <td>  </td>\n",
       "        <td>  </td>\n",
       "    </tr>\n",
       "    <tr>\n",
       "        <th> 2 </th>\n",
       "        <td> c </td>\n",
       "        <td> 0.97 </td>\n",
       "        <td> 0.08 </td>\n",
       "        <td> -0.08 </td>\n",
       "        <td> 0.08 </td>\n",
       "        <td>  </td>\n",
       "        <td>  </td>\n",
       "        <td>  </td>\n",
       "    </tr>\n",
       "</table><table>\n",
       "    <tr>\n",
       "        <td></td>\n",
       "        <th colspan=\"2\" style=\"text-align:center\" title=\"Parameter name\"> a </th>\n",
       "        <th colspan=\"2\" style=\"text-align:center\" title=\"Parameter name\"> b </th>\n",
       "        <th colspan=\"2\" style=\"text-align:center\" title=\"Parameter name\"> c </th>\n",
       "    </tr>\n",
       "    <tr>\n",
       "        <th title=\"Lower and upper minos error of the parameter\"> Error </th>\n",
       "        <td> -0.35 </td>\n",
       "        <td> 0.35 </td>\n",
       "        <td> -0.4 </td>\n",
       "        <td> 0.4 </td>\n",
       "        <td> -0.08 </td>\n",
       "        <td> 0.08 </td>\n",
       "    </tr>\n",
       "    <tr>\n",
       "        <th title=\"Validity of lower/upper minos error\"> Valid </th>\n",
       "        <td style=\"background-color:#92CCA6;color:black\"> True </td>\n",
       "        <td style=\"background-color:#92CCA6;color:black\"> True </td>\n",
       "        <td style=\"background-color:#92CCA6;color:black\"> True </td>\n",
       "        <td style=\"background-color:#92CCA6;color:black\"> True </td>\n",
       "        <td style=\"background-color:#92CCA6;color:black\"> True </td>\n",
       "        <td style=\"background-color:#92CCA6;color:black\"> True </td>\n",
       "    </tr>\n",
       "    <tr>\n",
       "        <th title=\"Did scan hit limit of any parameter?\"> At Limit </th>\n",
       "        <td style=\"background-color:#92CCA6;color:black\"> False </td>\n",
       "        <td style=\"background-color:#92CCA6;color:black\"> False </td>\n",
       "        <td style=\"background-color:#92CCA6;color:black\"> False </td>\n",
       "        <td style=\"background-color:#92CCA6;color:black\"> False </td>\n",
       "        <td style=\"background-color:#92CCA6;color:black\"> False </td>\n",
       "        <td style=\"background-color:#92CCA6;color:black\"> False </td>\n",
       "    </tr>\n",
       "    <tr>\n",
       "        <th title=\"Did scan hit function call limit?\"> Max FCN </th>\n",
       "        <td style=\"background-color:#92CCA6;color:black\"> False </td>\n",
       "        <td style=\"background-color:#92CCA6;color:black\"> False </td>\n",
       "        <td style=\"background-color:#92CCA6;color:black\"> False </td>\n",
       "        <td style=\"background-color:#92CCA6;color:black\"> False </td>\n",
       "        <td style=\"background-color:#92CCA6;color:black\"> False </td>\n",
       "        <td style=\"background-color:#92CCA6;color:black\"> False </td>\n",
       "    </tr>\n",
       "    <tr>\n",
       "        <th title=\"New minimum found when doing scan?\"> New Min </th>\n",
       "        <td style=\"background-color:#92CCA6;color:black\"> False </td>\n",
       "        <td style=\"background-color:#92CCA6;color:black\"> False </td>\n",
       "        <td style=\"background-color:#92CCA6;color:black\"> False </td>\n",
       "        <td style=\"background-color:#92CCA6;color:black\"> False </td>\n",
       "        <td style=\"background-color:#92CCA6;color:black\"> False </td>\n",
       "        <td style=\"background-color:#92CCA6;color:black\"> False </td>\n",
       "    </tr>\n",
       "</table><table>\n",
       "    <tr>\n",
       "        <td></td>\n",
       "        <th> a </th>\n",
       "        <th> b </th>\n",
       "        <th> c </th>\n",
       "    </tr>\n",
       "    <tr>\n",
       "        <th> a </th>\n",
       "        <td> 0.124 </td>\n",
       "        <td style=\"background-color:rgb(125,125,250);color:black\"> -0.124 <strong>(-0.963)</strong> </td>\n",
       "        <td style=\"background-color:rgb(250,150,150);color:black\"> 0.0184 <strong>(0.664)</strong> </td>\n",
       "    </tr>\n",
       "    <tr>\n",
       "        <th> b </th>\n",
       "        <td style=\"background-color:rgb(125,125,250);color:black\"> -0.124 <strong>(-0.963)</strong> </td>\n",
       "        <td> 0.134 </td>\n",
       "        <td style=\"background-color:rgb(145,145,250);color:black\"> -0.0233 <strong>(-0.810)</strong> </td>\n",
       "    </tr>\n",
       "    <tr>\n",
       "        <th> c </th>\n",
       "        <td style=\"background-color:rgb(250,150,150);color:black\"> 0.0184 <strong>(0.664)</strong> </td>\n",
       "        <td style=\"background-color:rgb(145,145,250);color:black\"> -0.0233 <strong>(-0.810)</strong> </td>\n",
       "        <td> 0.00618 </td>\n",
       "    </tr>\n",
       "</table>"
      ],
      "text/plain": [
       "┌──────────────────────────────────┬──────────────────────────────────────┐\n",
       "│ FCN = 7.743                      │              Nfcn = 157              │\n",
       "│ EDM = 2.08e-18 (Goal: 0.0002)    │                                      │\n",
       "├───────────────┬──────────────────┼──────────────────────────────────────┤\n",
       "│ Valid Minimum │ Valid Parameters │        No Parameters at limit        │\n",
       "├───────────────┴──────────────────┼──────────────────────────────────────┤\n",
       "│ Below EDM threshold (goal x 10)  │           Below call limit           │\n",
       "├───────────────┬──────────────────┼───────────┬─────────────┬────────────┤\n",
       "│  Covariance   │     Hesse ok     │ Accurate  │  Pos. def.  │ Not forced │\n",
       "└───────────────┴──────────────────┴───────────┴─────────────┴────────────┘\n",
       "┌───┬──────┬───────────┬───────────┬────────────┬────────────┬─────────┬─────────┬───────┐\n",
       "│   │ Name │   Value   │ Hesse Err │ Minos Err- │ Minos Err+ │ Limit-  │ Limit+  │ Fixed │\n",
       "├───┼──────┼───────────┼───────────┼────────────┼────────────┼─────────┼─────────┼───────┤\n",
       "│ 0 │ a    │   -0.49   │   0.35    │   -0.35    │    0.35    │         │         │       │\n",
       "│ 1 │ b    │    2.4    │    0.4    │    -0.4    │    0.4     │         │         │       │\n",
       "│ 2 │ c    │   0.97    │   0.08    │   -0.08    │    0.08    │         │         │       │\n",
       "└───┴──────┴───────────┴───────────┴────────────┴────────────┴─────────┴─────────┴───────┘\n",
       "┌──────────┬───────────────────────┬───────────────────────┬───────────────────────┐\n",
       "│          │           a           │           b           │           c           │\n",
       "├──────────┼───────────┬───────────┼───────────┬───────────┼───────────┬───────────┤\n",
       "│  Error   │   -0.35   │   0.35    │   -0.4    │    0.4    │   -0.08   │   0.08    │\n",
       "│  Valid   │   True    │   True    │   True    │   True    │   True    │   True    │\n",
       "│ At Limit │   False   │   False   │   False   │   False   │   False   │   False   │\n",
       "│ Max FCN  │   False   │   False   │   False   │   False   │   False   │   False   │\n",
       "│ New Min  │   False   │   False   │   False   │   False   │   False   │   False   │\n",
       "└──────────┴───────────┴───────────┴───────────┴───────────┴───────────┴───────────┘\n",
       "┌───┬─────────────────────────┐\n",
       "│   │       a       b       c │\n",
       "├───┼─────────────────────────┤\n",
       "│ a │   0.124  -0.124  0.0184 │\n",
       "│ b │  -0.124   0.134 -0.0233 │\n",
       "│ c │  0.0184 -0.0233 0.00618 │\n",
       "└───┴─────────────────────────┘"
      ]
     },
     "execution_count": 27,
     "metadata": {},
     "output_type": "execute_result"
    }
   ],
   "source": [
    "m.minos()"
   ]
  },
  {
   "cell_type": "code",
   "execution_count": 28,
   "metadata": {},
   "outputs": [
    {
     "data": {
      "image/png": "[encoded data removed]",
      "text/plain": [
       "<Figure size 900x600 with 1 Axes>"
      ]
     },
     "metadata": {
      "needs_background": "light"
     },
     "output_type": "display_data"
    }
   ],
   "source": [
    "plt.figure(figsize=(9,6), dpi=100)\n",
    "plt.errorbar(data_x, data_y, data_yerr, fmt=\"o\", label=\"data\")\n",
    "plt.plot(data_x, line_np(data_x, m.values), label=\"fit\")\n",
    "fit_info = [ f\"$\\\\chi^2$ / $n_\\\\mathrm{{dof}}$ = {m.fval:.1f} / {len(data_x) - m.nfit}\" ]\n",
    "for p, v, e in zip(m.parameters, m.values, m.errors):\n",
    "    fit_info.append(f\"{p} = ${v:.3f} \\\\pm {e:.3f}$\")\n",
    "plt.legend(title=\"\\n\".join(fit_info))\n",
    "plt.xlabel('x')\n",
    "plt.ylabel('y')\n",
    "plt.show()"
   ]
  },
  {
   "cell_type": "markdown",
   "metadata": {},
   "source": [
    "Vediamo come ispezionare i parametri"
   ]
  },
  {
   "cell_type": "code",
   "execution_count": 29,
   "metadata": {},
   "outputs": [
    {
     "data": {
      "text/html": [
       "<table>\n",
       "    <tr>\n",
       "        <td></td>\n",
       "        <th title=\"Variable name\"> Name </th>\n",
       "        <th title=\"Value of parameter\"> Value </th>\n",
       "        <th title=\"Hesse error\"> Hesse Error </th>\n",
       "        <th title=\"Minos lower error\"> Minos Error- </th>\n",
       "        <th title=\"Minos upper error\"> Minos Error+ </th>\n",
       "        <th title=\"Lower limit of the parameter\"> Limit- </th>\n",
       "        <th title=\"Upper limit of the parameter\"> Limit+ </th>\n",
       "        <th title=\"Is the parameter fixed in the fit\"> Fixed </th>\n",
       "    </tr>\n",
       "    <tr>\n",
       "        <th> 0 </th>\n",
       "        <td> a </td>\n",
       "        <td> -0.49 </td>\n",
       "        <td> 0.35 </td>\n",
       "        <td> -0.35 </td>\n",
       "        <td> 0.35 </td>\n",
       "        <td>  </td>\n",
       "        <td>  </td>\n",
       "        <td>  </td>\n",
       "    </tr>\n",
       "    <tr>\n",
       "        <th> 1 </th>\n",
       "        <td> b </td>\n",
       "        <td> 2.4 </td>\n",
       "        <td> 0.4 </td>\n",
       "        <td> -0.4 </td>\n",
       "        <td> 0.4 </td>\n",
       "        <td>  </td>\n",
       "        <td>  </td>\n",
       "        <td>  </td>\n",
       "    </tr>\n",
       "    <tr>\n",
       "        <th> 2 </th>\n",
       "        <td> c </td>\n",
       "        <td> 0.97 </td>\n",
       "        <td> 0.08 </td>\n",
       "        <td> -0.08 </td>\n",
       "        <td> 0.08 </td>\n",
       "        <td>  </td>\n",
       "        <td>  </td>\n",
       "        <td>  </td>\n",
       "    </tr>\n",
       "</table>"
      ],
      "text/plain": [
       "┌───┬──────┬───────────┬───────────┬────────────┬────────────┬─────────┬─────────┬───────┐\n",
       "│   │ Name │   Value   │ Hesse Err │ Minos Err- │ Minos Err+ │ Limit-  │ Limit+  │ Fixed │\n",
       "├───┼──────┼───────────┼───────────┼────────────┼────────────┼─────────┼─────────┼───────┤\n",
       "│ 0 │ a    │   -0.49   │   0.35    │   -0.35    │    0.35    │         │         │       │\n",
       "│ 1 │ b    │    2.4    │    0.4    │    -0.4    │    0.4     │         │         │       │\n",
       "│ 2 │ c    │   0.97    │   0.08    │   -0.08    │    0.08    │         │         │       │\n",
       "└───┴──────┴───────────┴───────────┴────────────┴────────────┴─────────┴─────────┴───────┘"
      ]
     },
     "execution_count": 29,
     "metadata": {},
     "output_type": "execute_result"
    }
   ],
   "source": [
    "m.params"
   ]
  },
  {
   "cell_type": "code",
   "execution_count": 30,
   "metadata": {},
   "outputs": [
    {
     "name": "stdout",
     "output_type": "stream",
     "text": [
      "Param(number=0, name='a', value=-0.4934049719639333, error=0.3525090549645118, merror=(-0.35250725325439536, 0.3525072533661846), is_const=False, is_fixed=False, has_limits=False, has_lower_limit=False, has_upper_limit=False, lower_limit=None, upper_limit=None) \n",
      "\n",
      "Param(number=1, name='b', value=2.3777573917575676, error=0.3661707102835205, merror=(-0.3661687390117158, 0.36616873908031017), is_const=False, is_fixed=False, has_limits=False, has_lower_limit=False, has_upper_limit=False, lower_limit=None, upper_limit=None) \n",
      "\n",
      "Param(number=2, name='c', value=0.9703584079443877, error=0.07862481129839405, merror=(-0.07862453931693263, 0.0786245393044465), is_const=False, is_fixed=False, has_limits=False, has_lower_limit=False, has_upper_limit=False, lower_limit=None, upper_limit=None) \n",
      "\n"
     ]
    }
   ],
   "source": [
    "for p in m.params:\n",
    "    print(repr(p), \"\\n\")"
   ]
  },
  {
   "cell_type": "code",
   "execution_count": 31,
   "metadata": {},
   "outputs": [
    {
     "name": "stdout",
     "output_type": "stream",
     "text": [
      "a = -0.493 +/- 0.353\n",
      "b = 2.378 +/- 0.366\n",
      "c = 0.970 +/- 0.079\n"
     ]
    }
   ],
   "source": [
    "for p in m.params:\n",
    "    print(p.name, \"= {:.3f} +/- {:.3f}\".format(p.value, p.error))"
   ]
  },
  {
   "cell_type": "code",
   "execution_count": 32,
   "metadata": {},
   "outputs": [
    {
     "data": {
      "text/plain": [
       "(array([-1.19842308, -1.18418029, -1.1699375 , -1.15569471, -1.14145192,\n",
       "        -1.12720913, -1.11296634, -1.09872355, -1.08448076, -1.07023797,\n",
       "        -1.05599518, -1.04175239, -1.0275096 , -1.01326681, -0.99902402,\n",
       "        -0.98478123, -0.97053844, -0.95629565, -0.94205286, -0.92781007,\n",
       "        -0.91356728, -0.89932449, -0.8850817 , -0.87083891, -0.85659612,\n",
       "        -0.84235333, -0.82811054, -0.81386775, -0.79962496, -0.78538217,\n",
       "        -0.77113938, -0.75689659, -0.7426538 , -0.72841101, -0.71416822,\n",
       "        -0.69992543, -0.68568264, -0.67143985, -0.65719706, -0.64295427,\n",
       "        -0.62871148, -0.61446869, -0.6002259 , -0.58598311, -0.57174032,\n",
       "        -0.55749753, -0.54325474, -0.52901195, -0.51476916, -0.50052637,\n",
       "        -0.48628358, -0.47204079, -0.457798  , -0.44355521, -0.42931242,\n",
       "        -0.41506963, -0.40082684, -0.38658405, -0.37234126, -0.35809847,\n",
       "        -0.34385568, -0.32961289, -0.3153701 , -0.30112731, -0.28688452,\n",
       "        -0.27264173, -0.25839894, -0.24415615, -0.22991336, -0.21567057,\n",
       "        -0.20142777, -0.18718498, -0.17294219, -0.1586994 , -0.14445661,\n",
       "        -0.13021382, -0.11597103, -0.10172824, -0.08748545, -0.07324266,\n",
       "        -0.05899987, -0.04475708, -0.03051429, -0.0162715 , -0.00202871,\n",
       "         0.01221408,  0.02645687,  0.04069966,  0.05494245,  0.06918524,\n",
       "         0.08342803,  0.09767082,  0.11191361,  0.1261564 ,  0.14039919,\n",
       "         0.15464198,  0.16888477,  0.18312756,  0.19737035,  0.21161314]),\n",
       " array([123.90377811, 119.25784105, 114.70671903, 110.25041206,\n",
       "        105.88892013, 101.62224324,  97.45038139,  93.37333459,\n",
       "         89.39110283,  85.50368611,  81.71108443,  78.01329779,\n",
       "         74.41032619,  70.90216964,  67.48882813,  64.17030166,\n",
       "         60.94659023,  57.81769385,  54.7836125 ,  51.8443462 ,\n",
       "         48.99989494,  46.25025873,  43.59543755,  41.03543142,\n",
       "         38.57024033,  36.19986428,  33.92430327,  31.7435573 ,\n",
       "         29.65762638,  27.6665105 ,  25.77020966,  23.96872386,\n",
       "         22.2620531 ,  20.65019739,  19.13315672,  17.71093109,\n",
       "         16.3835205 ,  15.15092495,  14.01314445,  12.97017899,\n",
       "         12.02202857,  11.16869319,  10.41017285,   9.74646756,\n",
       "          9.17757731,   8.7035021 ,   8.32424193,   8.0397968 ,\n",
       "          7.85016672,   7.75535167,   7.75535167,   7.85016671,\n",
       "          8.0397968 ,   8.32424192,   8.70350209,   9.1775773 ,\n",
       "          9.74646755,  10.41017284,  11.16869318,  12.02202856,\n",
       "         12.97017897,  14.01314444,  15.15092494,  16.38352048,\n",
       "         17.71093107,  19.1331567 ,  20.65019737,  22.26205308,\n",
       "         23.96872384,  25.77020963,  27.66651047,  29.65762635,\n",
       "         31.74355728,  33.92430324,  36.19986425,  38.5702403 ,\n",
       "         41.03543139,  43.59543752,  46.25025869,  48.99989491,\n",
       "         51.84434617,  54.78361247,  57.81769381,  60.94659019,\n",
       "         64.17030162,  67.48882809,  70.9021696 ,  74.41032615,\n",
       "         78.01329774,  81.71108438,  85.50368606,  89.39110278,\n",
       "         93.37333454,  97.45038134, 101.62224319, 105.88892008,\n",
       "        110.25041201, 114.70671898, 119.25784099, 123.90377805]))"
      ]
     },
     "execution_count": 32,
     "metadata": {},
     "output_type": "execute_result"
    },
    {
     "data": {
      "image/png": "[encoded data removed]",
      "text/plain": [
       "<Figure size 900x600 with 1 Axes>"
      ]
     },
     "metadata": {
      "needs_background": "light"
     },
     "output_type": "display_data"
    }
   ],
   "source": [
    "plt.figure(figsize=(9,6), dpi=100)\n",
    "m.draw_profile(\"a\")"
   ]
  },
  {
   "cell_type": "code",
   "execution_count": 33,
   "metadata": {},
   "outputs": [
    {
     "data": {
      "text/plain": [
       "(array([1.64541597, 1.66021075, 1.67500552, 1.6898003 , 1.70459508,\n",
       "        1.71938985, 1.73418463, 1.7489794 , 1.76377418, 1.77856896,\n",
       "        1.79336373, 1.80815851, 1.82295329, 1.83774806, 1.85254284,\n",
       "        1.86733761, 1.88213239, 1.89692717, 1.91172194, 1.92651672,\n",
       "        1.94131149, 1.95610627, 1.97090105, 1.98569582, 2.0004906 ,\n",
       "        2.01528538, 2.03008015, 2.04487493, 2.0596697 , 2.07446448,\n",
       "        2.08925926, 2.10405403, 2.11884881, 2.13364358, 2.14843836,\n",
       "        2.16323314, 2.17802791, 2.19282269, 2.20761747, 2.22241224,\n",
       "        2.23720702, 2.25200179, 2.26679657, 2.28159135, 2.29638612,\n",
       "        2.3111809 , 2.32597568, 2.34077045, 2.35556523, 2.37036   ,\n",
       "        2.38515478, 2.39994956, 2.41474433, 2.42953911, 2.44433388,\n",
       "        2.45912866, 2.47392344, 2.48871821, 2.50351299, 2.51830777,\n",
       "        2.53310254, 2.54789732, 2.56269209, 2.57748687, 2.59228165,\n",
       "        2.60707642, 2.6218712 , 2.63666597, 2.65146075, 2.66625553,\n",
       "        2.6810503 , 2.69584508, 2.71063986, 2.72543463, 2.74022941,\n",
       "        2.75502418, 2.76981896, 2.78461374, 2.79940851, 2.81420329,\n",
       "        2.82899807, 2.84379284, 2.85858762, 2.87338239, 2.88817717,\n",
       "        2.90297195, 2.91776672, 2.9325615 , 2.94735627, 2.96215105,\n",
       "        2.97694583, 2.9917406 , 3.00653538, 3.02133016, 3.03612493,\n",
       "        3.05091971, 3.06571448, 3.08050926, 3.09530404, 3.11009881]),\n",
       " array([196.45007704, 188.9025841 , 181.50912163, 174.26968963,\n",
       "        167.1842881 , 160.25291703, 153.47557644, 146.85226631,\n",
       "        140.38298665, 134.06773746, 127.90651873, 121.89933048,\n",
       "        116.04617269, 110.34704537, 104.80194852,  99.41088214,\n",
       "         94.17384622,  89.09084077,  84.16186579,  79.38692128,\n",
       "         74.76600724,  70.29912366,  65.98627056,  61.82744792,\n",
       "         57.82265575,  53.97189404,  50.27516281,  46.73246204,\n",
       "         43.34379174,  40.10915191,  37.02854255,  34.10196366,\n",
       "         31.32941523,  28.71089727,  26.24640978,  23.93595276,\n",
       "         21.77952621,  19.77713012,  17.9287645 ,  16.23442935,\n",
       "         14.69412467,  13.30785046,  12.07560671,  10.99739344,\n",
       "         10.07321063,   9.30305829,   8.68693641,   8.22484501,\n",
       "          7.91678407,   7.7627536 ,   7.7627536 ,   7.91678407,\n",
       "          8.224845  ,   8.68693641,   9.30305828,  10.07321062,\n",
       "         10.99739343,  12.0756067 ,  13.30785045,  14.69412466,\n",
       "         16.23442934,  17.92876449,  19.7771301 ,  21.77952619,\n",
       "         23.93595274,  26.24640976,  28.71089725,  31.32941521,\n",
       "         34.10196363,  37.02854252,  40.10915188,  43.34379171,\n",
       "         46.73246201,  50.27516278,  53.97189401,  57.82265571,\n",
       "         61.82744788,  65.98627052,  70.29912362,  74.7660072 ,\n",
       "         79.38692124,  84.16186575,  89.09084073,  94.17384617,\n",
       "         99.41088209, 104.80194847, 110.34704532, 116.04617264,\n",
       "        121.89933042, 127.90651868, 134.0677374 , 140.38298659,\n",
       "        146.85226625, 153.47557638, 160.25291697, 167.18428803,\n",
       "        174.26968956, 181.50912156, 188.90258403, 196.45007697]))"
      ]
     },
     "execution_count": 33,
     "metadata": {},
     "output_type": "execute_result"
    },
    {
     "data": {
      "image/png": "[encoded data removed]",
      "text/plain": [
       "<Figure size 900x600 with 1 Axes>"
      ]
     },
     "metadata": {
      "needs_background": "light"
     },
     "output_type": "display_data"
    }
   ],
   "source": [
    "plt.figure(figsize=(9,6), dpi=100)\n",
    "m.draw_profile(\"b\")"
   ]
  },
  {
   "cell_type": "code",
   "execution_count": 34,
   "metadata": {},
   "outputs": [
    {
     "data": {
      "text/html": [
       "<table>\n",
       "    <tr>\n",
       "        <td></td>\n",
       "        <th> a </th>\n",
       "        <th> b </th>\n",
       "        <th> c </th>\n",
       "    </tr>\n",
       "    <tr>\n",
       "        <th> a </th>\n",
       "        <td> 0.124 </td>\n",
       "        <td style=\"background-color:rgb(125,125,250);color:black\"> -0.124 <strong>(-0.963)</strong> </td>\n",
       "        <td style=\"background-color:rgb(250,150,150);color:black\"> 0.0184 <strong>(0.664)</strong> </td>\n",
       "    </tr>\n",
       "    <tr>\n",
       "        <th> b </th>\n",
       "        <td style=\"background-color:rgb(125,125,250);color:black\"> -0.124 <strong>(-0.963)</strong> </td>\n",
       "        <td> 0.134 </td>\n",
       "        <td style=\"background-color:rgb(145,145,250);color:black\"> -0.0233 <strong>(-0.810)</strong> </td>\n",
       "    </tr>\n",
       "    <tr>\n",
       "        <th> c </th>\n",
       "        <td style=\"background-color:rgb(250,150,150);color:black\"> 0.0184 <strong>(0.664)</strong> </td>\n",
       "        <td style=\"background-color:rgb(145,145,250);color:black\"> -0.0233 <strong>(-0.810)</strong> </td>\n",
       "        <td> 0.00618 </td>\n",
       "    </tr>\n",
       "</table>"
      ],
      "text/plain": [
       "┌───┬─────────────────────────┐\n",
       "│   │       a       b       c │\n",
       "├───┼─────────────────────────┤\n",
       "│ a │   0.124  -0.124  0.0184 │\n",
       "│ b │  -0.124   0.134 -0.0233 │\n",
       "│ c │  0.0184 -0.0233 0.00618 │\n",
       "└───┴─────────────────────────┘"
      ]
     },
     "execution_count": 34,
     "metadata": {},
     "output_type": "execute_result"
    }
   ],
   "source": [
    "m.covariance"
   ]
  },
  {
   "cell_type": "code",
   "execution_count": 35,
   "metadata": {},
   "outputs": [
    {
     "name": "stdout",
     "output_type": "stream",
     "text": [
      "err(a) = 0.353\n",
      "err(b) = 0.366\n",
      "err(c) = 0.079\n",
      "cov(a,b) = -0.124\n",
      "cov(a,c) = 0.018\n",
      "cov(b,b) = -0.023\n"
     ]
    }
   ],
   "source": [
    "print(\"err(a) = {:.3f}\".format(math.sqrt(m.covariance[0,0])))\n",
    "print(\"err(b) = {:.3f}\".format(math.sqrt(m.covariance[1,1])))\n",
    "print(\"err(c) = {:.3f}\".format(math.sqrt(m.covariance[2,2])))\n",
    "print(\"cov(a,b) = {:.3f}\".format(m.covariance[0,1]))\n",
    "print(\"cov(a,c) = {:.3f}\".format(m.covariance[0,2]))\n",
    "print(\"cov(b,b) = {:.3f}\".format(m.covariance[1,2]))"
   ]
  },
  {
   "cell_type": "code",
   "execution_count": 36,
   "metadata": {},
   "outputs": [
    {
     "data": {
      "text/html": [
       "<table>\n",
       "    <tr>\n",
       "        <td></td>\n",
       "        <th> a </th>\n",
       "        <th> b </th>\n",
       "        <th> c </th>\n",
       "    </tr>\n",
       "    <tr>\n",
       "        <th> a </th>\n",
       "        <td> 1 </td>\n",
       "        <td style=\"background-color:rgb(125,125,250);color:black\"> -0.963 </td>\n",
       "        <td style=\"background-color:rgb(250,150,150);color:black\"> 0.664 </td>\n",
       "    </tr>\n",
       "    <tr>\n",
       "        <th> b </th>\n",
       "        <td style=\"background-color:rgb(125,125,250);color:black\"> -0.963 </td>\n",
       "        <td> 1 </td>\n",
       "        <td style=\"background-color:rgb(145,145,250);color:black\"> -0.81 </td>\n",
       "    </tr>\n",
       "    <tr>\n",
       "        <th> c </th>\n",
       "        <td style=\"background-color:rgb(250,150,150);color:black\"> 0.664 </td>\n",
       "        <td style=\"background-color:rgb(145,145,250);color:black\"> -0.81 </td>\n",
       "        <td> 1 </td>\n",
       "    </tr>\n",
       "</table>"
      ],
      "text/plain": [
       "┌───┬──────────────────────┐\n",
       "│   │      a      b      c │\n",
       "├───┼──────────────────────┤\n",
       "│ a │      1 -0.963  0.664 │\n",
       "│ b │ -0.963      1  -0.81 │\n",
       "│ c │  0.664  -0.81      1 │\n",
       "└───┴──────────────────────┘"
      ]
     },
     "execution_count": 36,
     "metadata": {},
     "output_type": "execute_result"
    }
   ],
   "source": [
    "m.covariance.correlation()"
   ]
  },
  {
   "cell_type": "code",
   "execution_count": 37,
   "metadata": {},
   "outputs": [
    {
     "data": {
      "image/png": "[encoded data removed]",
      "text/plain": [
       "<Figure size 900x600 with 1 Axes>"
      ]
     },
     "metadata": {
      "needs_background": "light"
     },
     "output_type": "display_data"
    }
   ],
   "source": [
    "plt.figure(figsize=(9,6), dpi=100)\n",
    "m.draw_mncontour(\"a\", \"b\", cl=(0.68, 0.9, 0.99))\n",
    "plt.show()"
   ]
  },
  {
   "cell_type": "code",
   "execution_count": 38,
   "metadata": {},
   "outputs": [
    {
     "data": {
      "image/png": "[encoded data removed]",
      "text/plain": [
       "<Figure size 900x600 with 1 Axes>"
      ]
     },
     "metadata": {
      "needs_background": "light"
     },
     "output_type": "display_data"
    }
   ],
   "source": [
    "plt.figure(figsize=(9,6), dpi=100)\n",
    "x, y, z = m.contour(\"a\", \"b\", subtract_min=True)\n",
    "cs = plt.contour(x, y, z, (1, 2, 3, 4))\n",
    "plt.clabel(cs)\n",
    "plt.show()"
   ]
  },
  {
   "cell_type": "markdown",
   "metadata": {},
   "source": [
    "I parametri possono essere costretti entro limiti espliciti."
   ]
  },
  {
   "cell_type": "code",
   "execution_count": 39,
   "metadata": {},
   "outputs": [
    {
     "data": {
      "text/html": [
       "<table>\n",
       "    <tr>\n",
       "        <td></td>\n",
       "        <th title=\"Variable name\"> Name </th>\n",
       "        <th title=\"Value of parameter\"> Value </th>\n",
       "        <th title=\"Hesse error\"> Hesse Error </th>\n",
       "        <th title=\"Minos lower error\"> Minos Error- </th>\n",
       "        <th title=\"Minos upper error\"> Minos Error+ </th>\n",
       "        <th title=\"Lower limit of the parameter\"> Limit- </th>\n",
       "        <th title=\"Upper limit of the parameter\"> Limit+ </th>\n",
       "        <th title=\"Is the parameter fixed in the fit\"> Fixed </th>\n",
       "    </tr>\n",
       "    <tr>\n",
       "        <th> 0 </th>\n",
       "        <td> a </td>\n",
       "        <td> 0.00 </td>\n",
       "        <td> 0.35 </td>\n",
       "        <td> -0.35 </td>\n",
       "        <td> 0.35 </td>\n",
       "        <td> 0 </td>\n",
       "        <td>  </td>\n",
       "        <td>  </td>\n",
       "    </tr>\n",
       "    <tr>\n",
       "        <th> 1 </th>\n",
       "        <td> b </td>\n",
       "        <td> 2.4 </td>\n",
       "        <td> 0.4 </td>\n",
       "        <td> -0.4 </td>\n",
       "        <td> 0.4 </td>\n",
       "        <td> 0 </td>\n",
       "        <td> 10 </td>\n",
       "        <td>  </td>\n",
       "    </tr>\n",
       "    <tr>\n",
       "        <th> 2 </th>\n",
       "        <td> c </td>\n",
       "        <td> 0.97 </td>\n",
       "        <td> 0.08 </td>\n",
       "        <td> -0.08 </td>\n",
       "        <td> 0.08 </td>\n",
       "        <td> 0 </td>\n",
       "        <td> 4 </td>\n",
       "        <td>  </td>\n",
       "    </tr>\n",
       "</table>"
      ],
      "text/plain": [
       "┌───┬──────┬───────────┬───────────┬────────────┬────────────┬─────────┬─────────┬───────┐\n",
       "│   │ Name │   Value   │ Hesse Err │ Minos Err- │ Minos Err+ │ Limit-  │ Limit+  │ Fixed │\n",
       "├───┼──────┼───────────┼───────────┼────────────┼────────────┼─────────┼─────────┼───────┤\n",
       "│ 0 │ a    │   0.00    │   0.35    │   -0.35    │    0.35    │    0    │         │       │\n",
       "│ 1 │ b    │    2.4    │    0.4    │    -0.4    │    0.4     │    0    │   10    │       │\n",
       "│ 2 │ c    │   0.97    │   0.08    │   -0.08    │    0.08    │    0    │    4    │       │\n",
       "└───┴──────┴───────────┴───────────┴────────────┴────────────┴─────────┴─────────┴───────┘"
      ]
     },
     "execution_count": 39,
     "metadata": {},
     "output_type": "execute_result"
    }
   ],
   "source": [
    "m.limits = [(0, None), (0, 10), (0, 4)]\n",
    "m.params"
   ]
  },
  {
   "cell_type": "markdown",
   "metadata": {},
   "source": [
    "Si può fissare il valore di uno o più parametri."
   ]
  },
  {
   "cell_type": "code",
   "execution_count": 40,
   "metadata": {},
   "outputs": [
    {
     "data": {
      "text/html": [
       "<table>\n",
       "    <tr>\n",
       "        <td></td>\n",
       "        <th title=\"Variable name\"> Name </th>\n",
       "        <th title=\"Value of parameter\"> Value </th>\n",
       "        <th title=\"Hesse error\"> Hesse Error </th>\n",
       "        <th title=\"Minos lower error\"> Minos Error- </th>\n",
       "        <th title=\"Minos upper error\"> Minos Error+ </th>\n",
       "        <th title=\"Lower limit of the parameter\"> Limit- </th>\n",
       "        <th title=\"Upper limit of the parameter\"> Limit+ </th>\n",
       "        <th title=\"Is the parameter fixed in the fit\"> Fixed </th>\n",
       "    </tr>\n",
       "    <tr>\n",
       "        <th> 0 </th>\n",
       "        <td> a </td>\n",
       "        <td> 0.00 </td>\n",
       "        <td> 0.35 </td>\n",
       "        <td> -0.35 </td>\n",
       "        <td> 0.35 </td>\n",
       "        <td> 0 </td>\n",
       "        <td>  </td>\n",
       "        <td> yes </td>\n",
       "    </tr>\n",
       "    <tr>\n",
       "        <th> 1 </th>\n",
       "        <td> b </td>\n",
       "        <td> 2.4 </td>\n",
       "        <td> 0.4 </td>\n",
       "        <td> -0.4 </td>\n",
       "        <td> 0.4 </td>\n",
       "        <td> 0 </td>\n",
       "        <td> 10 </td>\n",
       "        <td>  </td>\n",
       "    </tr>\n",
       "    <tr>\n",
       "        <th> 2 </th>\n",
       "        <td> c </td>\n",
       "        <td> 0.97 </td>\n",
       "        <td> 0.08 </td>\n",
       "        <td> -0.08 </td>\n",
       "        <td> 0.08 </td>\n",
       "        <td> 0 </td>\n",
       "        <td> 4 </td>\n",
       "        <td>  </td>\n",
       "    </tr>\n",
       "</table>"
      ],
      "text/plain": [
       "┌───┬──────┬───────────┬───────────┬────────────┬────────────┬─────────┬─────────┬───────┐\n",
       "│   │ Name │   Value   │ Hesse Err │ Minos Err- │ Minos Err+ │ Limit-  │ Limit+  │ Fixed │\n",
       "├───┼──────┼───────────┼───────────┼────────────┼────────────┼─────────┼─────────┼───────┤\n",
       "│ 0 │ a    │   0.00    │   0.35    │   -0.35    │    0.35    │    0    │         │  yes  │\n",
       "│ 1 │ b    │    2.4    │    0.4    │    -0.4    │    0.4     │    0    │   10    │       │\n",
       "│ 2 │ c    │   0.97    │   0.08    │   -0.08    │    0.08    │    0    │    4    │       │\n",
       "└───┴──────┴───────────┴───────────┴────────────┴────────────┴─────────┴─────────┴───────┘"
      ]
     },
     "execution_count": 40,
     "metadata": {},
     "output_type": "execute_result"
    }
   ],
   "source": [
    "m.values[\"a\"] = 0\n",
    "m.fixed[\"a\"] = True\n",
    "m.params"
   ]
  },
  {
   "cell_type": "code",
   "execution_count": 41,
   "metadata": {},
   "outputs": [
    {
     "data": {
      "text/html": [
       "<table>\n",
       "    <tr>\n",
       "        <td colspan=\"2\" style=\"text-align:left\" title=\"Minimum value of function\"> FCN = 9.703 </td>\n",
       "        <td colspan=\"3\" style=\"text-align:center\" title=\"No. of function evaluations in last call and total number\"> Nfcn = 9832 </td>\n",
       "    </tr>\n",
       "    <tr>\n",
       "        <td colspan=\"2\" style=\"text-align:left\" title=\"Estimated distance to minimum and goal\"> EDM = 1.04e-06 (Goal: 0.0002) </td>\n",
       "        <td colspan=\"3\" style=\"text-align:center\" title=\"No. of gradient evaluations in last call and total number\">  </td>\n",
       "    </tr>\n",
       "    <tr>\n",
       "        <td style=\"text-align:center;background-color:#92CCA6;color:black\"> Valid Minimum </td>\n",
       "        <td style=\"text-align:center;background-color:#92CCA6;color:black\"> Valid Parameters </td>\n",
       "        <td colspan=\"3\" style=\"text-align:center;background-color:#92CCA6;color:black\"> No Parameters at limit </td>\n",
       "    </tr>\n",
       "    <tr>\n",
       "        <td colspan=\"2\" style=\"text-align:center;background-color:#92CCA6;color:black\"> Below EDM threshold (goal x 10) </td>\n",
       "        <td colspan=\"3\" style=\"text-align:center;background-color:#92CCA6;color:black\"> Below call limit </td>\n",
       "    </tr>\n",
       "    <tr>\n",
       "        <td style=\"text-align:center;background-color:#92CCA6;color:black\"> Covariance </td>\n",
       "        <td style=\"text-align:center;background-color:#92CCA6;color:black\"> Hesse ok </td>\n",
       "        <td style=\"text-align:center;background-color:#92CCA6;color:black\" title=\"Is covariance matrix accurate?\"> Accurate </td>\n",
       "        <td style=\"text-align:center;background-color:#92CCA6;color:black\" title=\"Is covariance matrix positive definite?\"> Pos. def. </td>\n",
       "        <td style=\"text-align:center;background-color:#92CCA6;color:black\" title=\"Was positive definiteness enforced by Minuit?\"> Not forced </td>\n",
       "    </tr>\n",
       "</table><table>\n",
       "    <tr>\n",
       "        <td></td>\n",
       "        <th title=\"Variable name\"> Name </th>\n",
       "        <th title=\"Value of parameter\"> Value </th>\n",
       "        <th title=\"Hesse error\"> Hesse Error </th>\n",
       "        <th title=\"Minos lower error\"> Minos Error- </th>\n",
       "        <th title=\"Minos upper error\"> Minos Error+ </th>\n",
       "        <th title=\"Lower limit of the parameter\"> Limit- </th>\n",
       "        <th title=\"Upper limit of the parameter\"> Limit+ </th>\n",
       "        <th title=\"Is the parameter fixed in the fit\"> Fixed </th>\n",
       "    </tr>\n",
       "    <tr>\n",
       "        <th> 0 </th>\n",
       "        <td> a </td>\n",
       "        <td> 0.00 </td>\n",
       "        <td> 0.35 </td>\n",
       "        <td> -0.35 </td>\n",
       "        <td> 0.35 </td>\n",
       "        <td> 0 </td>\n",
       "        <td>  </td>\n",
       "        <td> yes </td>\n",
       "    </tr>\n",
       "    <tr>\n",
       "        <th> 1 </th>\n",
       "        <td> b </td>\n",
       "        <td> 1.88 </td>\n",
       "        <td> 0.10 </td>\n",
       "        <td> -0.37 </td>\n",
       "        <td> 0.37 </td>\n",
       "        <td> 0 </td>\n",
       "        <td> 10 </td>\n",
       "        <td>  </td>\n",
       "    </tr>\n",
       "    <tr>\n",
       "        <th> 2 </th>\n",
       "        <td> c </td>\n",
       "        <td> 1.04 </td>\n",
       "        <td> 0.06 </td>\n",
       "        <td> -0.08 </td>\n",
       "        <td> 0.08 </td>\n",
       "        <td> 0 </td>\n",
       "        <td> 4 </td>\n",
       "        <td>  </td>\n",
       "    </tr>\n",
       "</table><table>\n",
       "    <tr>\n",
       "        <td></td>\n",
       "        <th colspan=\"2\" style=\"text-align:center\" title=\"Parameter name\"> a </th>\n",
       "        <th colspan=\"2\" style=\"text-align:center\" title=\"Parameter name\"> b </th>\n",
       "        <th colspan=\"2\" style=\"text-align:center\" title=\"Parameter name\"> c </th>\n",
       "    </tr>\n",
       "    <tr>\n",
       "        <th title=\"Lower and upper minos error of the parameter\"> Error </th>\n",
       "        <td> -0.35 </td>\n",
       "        <td> 0.35 </td>\n",
       "        <td> -0.4 </td>\n",
       "        <td> 0.4 </td>\n",
       "        <td> -0.08 </td>\n",
       "        <td> 0.08 </td>\n",
       "    </tr>\n",
       "    <tr>\n",
       "        <th title=\"Validity of lower/upper minos error\"> Valid </th>\n",
       "        <td style=\"background-color:#92CCA6;color:black\"> True </td>\n",
       "        <td style=\"background-color:#92CCA6;color:black\"> True </td>\n",
       "        <td style=\"background-color:#92CCA6;color:black\"> True </td>\n",
       "        <td style=\"background-color:#92CCA6;color:black\"> True </td>\n",
       "        <td style=\"background-color:#92CCA6;color:black\"> True </td>\n",
       "        <td style=\"background-color:#92CCA6;color:black\"> True </td>\n",
       "    </tr>\n",
       "    <tr>\n",
       "        <th title=\"Did scan hit limit of any parameter?\"> At Limit </th>\n",
       "        <td style=\"background-color:#92CCA6;color:black\"> False </td>\n",
       "        <td style=\"background-color:#92CCA6;color:black\"> False </td>\n",
       "        <td style=\"background-color:#92CCA6;color:black\"> False </td>\n",
       "        <td style=\"background-color:#92CCA6;color:black\"> False </td>\n",
       "        <td style=\"background-color:#92CCA6;color:black\"> False </td>\n",
       "        <td style=\"background-color:#92CCA6;color:black\"> False </td>\n",
       "    </tr>\n",
       "    <tr>\n",
       "        <th title=\"Did scan hit function call limit?\"> Max FCN </th>\n",
       "        <td style=\"background-color:#92CCA6;color:black\"> False </td>\n",
       "        <td style=\"background-color:#92CCA6;color:black\"> False </td>\n",
       "        <td style=\"background-color:#92CCA6;color:black\"> False </td>\n",
       "        <td style=\"background-color:#92CCA6;color:black\"> False </td>\n",
       "        <td style=\"background-color:#92CCA6;color:black\"> False </td>\n",
       "        <td style=\"background-color:#92CCA6;color:black\"> False </td>\n",
       "    </tr>\n",
       "    <tr>\n",
       "        <th title=\"New minimum found when doing scan?\"> New Min </th>\n",
       "        <td style=\"background-color:#92CCA6;color:black\"> False </td>\n",
       "        <td style=\"background-color:#92CCA6;color:black\"> False </td>\n",
       "        <td style=\"background-color:#92CCA6;color:black\"> False </td>\n",
       "        <td style=\"background-color:#92CCA6;color:black\"> False </td>\n",
       "        <td style=\"background-color:#92CCA6;color:black\"> False </td>\n",
       "        <td style=\"background-color:#92CCA6;color:black\"> False </td>\n",
       "    </tr>\n",
       "</table><table>\n",
       "    <tr>\n",
       "        <td></td>\n",
       "        <th> a </th>\n",
       "        <th> b </th>\n",
       "        <th> c </th>\n",
       "    </tr>\n",
       "    <tr>\n",
       "        <th> a </th>\n",
       "        <td> 0 </td>\n",
       "        <td style=\"background-color:rgb(250,250,250);color:black\"> 0 </td>\n",
       "        <td style=\"background-color:rgb(250,250,250);color:black\"> 0 </td>\n",
       "    </tr>\n",
       "    <tr>\n",
       "        <th> b </th>\n",
       "        <td style=\"background-color:rgb(250,250,250);color:black\"> 0 </td>\n",
       "        <td> 0.00982 </td>\n",
       "        <td style=\"background-color:rgb(140,140,250);color:black\"> -0.00491 <strong>(-0.843)</strong> </td>\n",
       "    </tr>\n",
       "    <tr>\n",
       "        <th> c </th>\n",
       "        <td style=\"background-color:rgb(250,250,250);color:black\"> 0 </td>\n",
       "        <td style=\"background-color:rgb(140,140,250);color:black\"> -0.00491 <strong>(-0.843)</strong> </td>\n",
       "        <td> 0.00345 </td>\n",
       "    </tr>\n",
       "</table>"
      ],
      "text/plain": [
       "┌──────────────────────────────────┬──────────────────────────────────────┐\n",
       "│ FCN = 9.703                      │             Nfcn = 9832              │\n",
       "│ EDM = 1.04e-06 (Goal: 0.0002)    │                                      │\n",
       "├───────────────┬──────────────────┼──────────────────────────────────────┤\n",
       "│ Valid Minimum │ Valid Parameters │        No Parameters at limit        │\n",
       "├───────────────┴──────────────────┼──────────────────────────────────────┤\n",
       "│ Below EDM threshold (goal x 10)  │           Below call limit           │\n",
       "├───────────────┬──────────────────┼───────────┬─────────────┬────────────┤\n",
       "│  Covariance   │     Hesse ok     │ Accurate  │  Pos. def.  │ Not forced │\n",
       "└───────────────┴──────────────────┴───────────┴─────────────┴────────────┘\n",
       "┌───┬──────┬───────────┬───────────┬────────────┬────────────┬─────────┬─────────┬───────┐\n",
       "│   │ Name │   Value   │ Hesse Err │ Minos Err- │ Minos Err+ │ Limit-  │ Limit+  │ Fixed │\n",
       "├───┼──────┼───────────┼───────────┼────────────┼────────────┼─────────┼─────────┼───────┤\n",
       "│ 0 │ a    │   0.00    │   0.35    │   -0.35    │    0.35    │    0    │         │  yes  │\n",
       "│ 1 │ b    │   1.88    │   0.10    │   -0.37    │    0.37    │    0    │   10    │       │\n",
       "│ 2 │ c    │   1.04    │   0.06    │   -0.08    │    0.08    │    0    │    4    │       │\n",
       "└───┴──────┴───────────┴───────────┴────────────┴────────────┴─────────┴─────────┴───────┘\n",
       "┌──────────┬───────────────────────┬───────────────────────┬───────────────────────┐\n",
       "│          │           a           │           b           │           c           │\n",
       "├──────────┼───────────┬───────────┼───────────┬───────────┼───────────┬───────────┤\n",
       "│  Error   │   -0.35   │   0.35    │   -0.4    │    0.4    │   -0.08   │   0.08    │\n",
       "│  Valid   │   True    │   True    │   True    │   True    │   True    │   True    │\n",
       "│ At Limit │   False   │   False   │   False   │   False   │   False   │   False   │\n",
       "│ Max FCN  │   False   │   False   │   False   │   False   │   False   │   False   │\n",
       "│ New Min  │   False   │   False   │   False   │   False   │   False   │   False   │\n",
       "└──────────┴───────────┴───────────┴───────────┴───────────┴───────────┴───────────┘\n",
       "┌───┬────────────────────────────┐\n",
       "│   │        a        b        c │\n",
       "├───┼────────────────────────────┤\n",
       "│ a │        0        0        0 │\n",
       "│ b │        0  0.00982 -0.00491 │\n",
       "│ c │        0 -0.00491  0.00345 │\n",
       "└───┴────────────────────────────┘"
      ]
     },
     "execution_count": 41,
     "metadata": {},
     "output_type": "execute_result"
    }
   ],
   "source": [
    "m.migrad()"
   ]
  },
  {
   "cell_type": "code",
   "execution_count": 42,
   "metadata": {},
   "outputs": [
    {
     "data": {
      "text/html": [
       "<table>\n",
       "    <tr>\n",
       "        <td colspan=\"2\" style=\"text-align:left\" title=\"Minimum value of function\"> FCN = 9.703 </td>\n",
       "        <td colspan=\"3\" style=\"text-align:center\" title=\"No. of function evaluations in last call and total number\"> Nfcn = 9842 </td>\n",
       "    </tr>\n",
       "    <tr>\n",
       "        <td colspan=\"2\" style=\"text-align:left\" title=\"Estimated distance to minimum and goal\"> EDM = 1.04e-06 (Goal: 0.0002) </td>\n",
       "        <td colspan=\"3\" style=\"text-align:center\" title=\"No. of gradient evaluations in last call and total number\">  </td>\n",
       "    </tr>\n",
       "    <tr>\n",
       "        <td style=\"text-align:center;background-color:#92CCA6;color:black\"> Valid Minimum </td>\n",
       "        <td style=\"text-align:center;background-color:#92CCA6;color:black\"> Valid Parameters </td>\n",
       "        <td colspan=\"3\" style=\"text-align:center;background-color:#92CCA6;color:black\"> No Parameters at limit </td>\n",
       "    </tr>\n",
       "    <tr>\n",
       "        <td colspan=\"2\" style=\"text-align:center;background-color:#92CCA6;color:black\"> Below EDM threshold (goal x 10) </td>\n",
       "        <td colspan=\"3\" style=\"text-align:center;background-color:#92CCA6;color:black\"> Below call limit </td>\n",
       "    </tr>\n",
       "    <tr>\n",
       "        <td style=\"text-align:center;background-color:#92CCA6;color:black\"> Covariance </td>\n",
       "        <td style=\"text-align:center;background-color:#92CCA6;color:black\"> Hesse ok </td>\n",
       "        <td style=\"text-align:center;background-color:#92CCA6;color:black\" title=\"Is covariance matrix accurate?\"> Accurate </td>\n",
       "        <td style=\"text-align:center;background-color:#92CCA6;color:black\" title=\"Is covariance matrix positive definite?\"> Pos. def. </td>\n",
       "        <td style=\"text-align:center;background-color:#92CCA6;color:black\" title=\"Was positive definiteness enforced by Minuit?\"> Not forced </td>\n",
       "    </tr>\n",
       "</table><table>\n",
       "    <tr>\n",
       "        <td></td>\n",
       "        <th title=\"Variable name\"> Name </th>\n",
       "        <th title=\"Value of parameter\"> Value </th>\n",
       "        <th title=\"Hesse error\"> Hesse Error </th>\n",
       "        <th title=\"Minos lower error\"> Minos Error- </th>\n",
       "        <th title=\"Minos upper error\"> Minos Error+ </th>\n",
       "        <th title=\"Lower limit of the parameter\"> Limit- </th>\n",
       "        <th title=\"Upper limit of the parameter\"> Limit+ </th>\n",
       "        <th title=\"Is the parameter fixed in the fit\"> Fixed </th>\n",
       "    </tr>\n",
       "    <tr>\n",
       "        <th> 0 </th>\n",
       "        <td> a </td>\n",
       "        <td> 0.00 </td>\n",
       "        <td> 0.35 </td>\n",
       "        <td> -0.35 </td>\n",
       "        <td> 0.35 </td>\n",
       "        <td> 0 </td>\n",
       "        <td>  </td>\n",
       "        <td> yes </td>\n",
       "    </tr>\n",
       "    <tr>\n",
       "        <th> 1 </th>\n",
       "        <td> b </td>\n",
       "        <td> 1.88 </td>\n",
       "        <td> 0.10 </td>\n",
       "        <td> -0.37 </td>\n",
       "        <td> 0.37 </td>\n",
       "        <td> 0 </td>\n",
       "        <td> 10 </td>\n",
       "        <td>  </td>\n",
       "    </tr>\n",
       "    <tr>\n",
       "        <th> 2 </th>\n",
       "        <td> c </td>\n",
       "        <td> 1.04 </td>\n",
       "        <td> 0.06 </td>\n",
       "        <td> -0.08 </td>\n",
       "        <td> 0.08 </td>\n",
       "        <td> 0 </td>\n",
       "        <td> 4 </td>\n",
       "        <td>  </td>\n",
       "    </tr>\n",
       "</table><table>\n",
       "    <tr>\n",
       "        <td></td>\n",
       "        <th colspan=\"2\" style=\"text-align:center\" title=\"Parameter name\"> a </th>\n",
       "        <th colspan=\"2\" style=\"text-align:center\" title=\"Parameter name\"> b </th>\n",
       "        <th colspan=\"2\" style=\"text-align:center\" title=\"Parameter name\"> c </th>\n",
       "    </tr>\n",
       "    <tr>\n",
       "        <th title=\"Lower and upper minos error of the parameter\"> Error </th>\n",
       "        <td> -0.35 </td>\n",
       "        <td> 0.35 </td>\n",
       "        <td> -0.4 </td>\n",
       "        <td> 0.4 </td>\n",
       "        <td> -0.08 </td>\n",
       "        <td> 0.08 </td>\n",
       "    </tr>\n",
       "    <tr>\n",
       "        <th title=\"Validity of lower/upper minos error\"> Valid </th>\n",
       "        <td style=\"background-color:#92CCA6;color:black\"> True </td>\n",
       "        <td style=\"background-color:#92CCA6;color:black\"> True </td>\n",
       "        <td style=\"background-color:#92CCA6;color:black\"> True </td>\n",
       "        <td style=\"background-color:#92CCA6;color:black\"> True </td>\n",
       "        <td style=\"background-color:#92CCA6;color:black\"> True </td>\n",
       "        <td style=\"background-color:#92CCA6;color:black\"> True </td>\n",
       "    </tr>\n",
       "    <tr>\n",
       "        <th title=\"Did scan hit limit of any parameter?\"> At Limit </th>\n",
       "        <td style=\"background-color:#92CCA6;color:black\"> False </td>\n",
       "        <td style=\"background-color:#92CCA6;color:black\"> False </td>\n",
       "        <td style=\"background-color:#92CCA6;color:black\"> False </td>\n",
       "        <td style=\"background-color:#92CCA6;color:black\"> False </td>\n",
       "        <td style=\"background-color:#92CCA6;color:black\"> False </td>\n",
       "        <td style=\"background-color:#92CCA6;color:black\"> False </td>\n",
       "    </tr>\n",
       "    <tr>\n",
       "        <th title=\"Did scan hit function call limit?\"> Max FCN </th>\n",
       "        <td style=\"background-color:#92CCA6;color:black\"> False </td>\n",
       "        <td style=\"background-color:#92CCA6;color:black\"> False </td>\n",
       "        <td style=\"background-color:#92CCA6;color:black\"> False </td>\n",
       "        <td style=\"background-color:#92CCA6;color:black\"> False </td>\n",
       "        <td style=\"background-color:#92CCA6;color:black\"> False </td>\n",
       "        <td style=\"background-color:#92CCA6;color:black\"> False </td>\n",
       "    </tr>\n",
       "    <tr>\n",
       "        <th title=\"New minimum found when doing scan?\"> New Min </th>\n",
       "        <td style=\"background-color:#92CCA6;color:black\"> False </td>\n",
       "        <td style=\"background-color:#92CCA6;color:black\"> False </td>\n",
       "        <td style=\"background-color:#92CCA6;color:black\"> False </td>\n",
       "        <td style=\"background-color:#92CCA6;color:black\"> False </td>\n",
       "        <td style=\"background-color:#92CCA6;color:black\"> False </td>\n",
       "        <td style=\"background-color:#92CCA6;color:black\"> False </td>\n",
       "    </tr>\n",
       "</table><table>\n",
       "    <tr>\n",
       "        <td></td>\n",
       "        <th> a </th>\n",
       "        <th> b </th>\n",
       "        <th> c </th>\n",
       "    </tr>\n",
       "    <tr>\n",
       "        <th> a </th>\n",
       "        <td> 0 </td>\n",
       "        <td style=\"background-color:rgb(250,250,250);color:black\"> 0 </td>\n",
       "        <td style=\"background-color:rgb(250,250,250);color:black\"> 0 </td>\n",
       "    </tr>\n",
       "    <tr>\n",
       "        <th> b </th>\n",
       "        <td style=\"background-color:rgb(250,250,250);color:black\"> 0 </td>\n",
       "        <td> 0.00982 </td>\n",
       "        <td style=\"background-color:rgb(140,140,250);color:black\"> -0.00491 <strong>(-0.843)</strong> </td>\n",
       "    </tr>\n",
       "    <tr>\n",
       "        <th> c </th>\n",
       "        <td style=\"background-color:rgb(250,250,250);color:black\"> 0 </td>\n",
       "        <td style=\"background-color:rgb(140,140,250);color:black\"> -0.00491 <strong>(-0.843)</strong> </td>\n",
       "        <td> 0.00345 </td>\n",
       "    </tr>\n",
       "</table>"
      ],
      "text/plain": [
       "┌──────────────────────────────────┬──────────────────────────────────────┐\n",
       "│ FCN = 9.703                      │             Nfcn = 9842              │\n",
       "│ EDM = 1.04e-06 (Goal: 0.0002)    │                                      │\n",
       "├───────────────┬──────────────────┼──────────────────────────────────────┤\n",
       "│ Valid Minimum │ Valid Parameters │        No Parameters at limit        │\n",
       "├───────────────┴──────────────────┼──────────────────────────────────────┤\n",
       "│ Below EDM threshold (goal x 10)  │           Below call limit           │\n",
       "├───────────────┬──────────────────┼───────────┬─────────────┬────────────┤\n",
       "│  Covariance   │     Hesse ok     │ Accurate  │  Pos. def.  │ Not forced │\n",
       "└───────────────┴──────────────────┴───────────┴─────────────┴────────────┘\n",
       "┌───┬──────┬───────────┬───────────┬────────────┬────────────┬─────────┬─────────┬───────┐\n",
       "│   │ Name │   Value   │ Hesse Err │ Minos Err- │ Minos Err+ │ Limit-  │ Limit+  │ Fixed │\n",
       "├───┼──────┼───────────┼───────────┼────────────┼────────────┼─────────┼─────────┼───────┤\n",
       "│ 0 │ a    │   0.00    │   0.35    │   -0.35    │    0.35    │    0    │         │  yes  │\n",
       "│ 1 │ b    │   1.88    │   0.10    │   -0.37    │    0.37    │    0    │   10    │       │\n",
       "│ 2 │ c    │   1.04    │   0.06    │   -0.08    │    0.08    │    0    │    4    │       │\n",
       "└───┴──────┴───────────┴───────────┴────────────┴────────────┴─────────┴─────────┴───────┘\n",
       "┌──────────┬───────────────────────┬───────────────────────┬───────────────────────┐\n",
       "│          │           a           │           b           │           c           │\n",
       "├──────────┼───────────┬───────────┼───────────┬───────────┼───────────┬───────────┤\n",
       "│  Error   │   -0.35   │   0.35    │   -0.4    │    0.4    │   -0.08   │   0.08    │\n",
       "│  Valid   │   True    │   True    │   True    │   True    │   True    │   True    │\n",
       "│ At Limit │   False   │   False   │   False   │   False   │   False   │   False   │\n",
       "│ Max FCN  │   False   │   False   │   False   │   False   │   False   │   False   │\n",
       "│ New Min  │   False   │   False   │   False   │   False   │   False   │   False   │\n",
       "└──────────┴───────────┴───────────┴───────────┴───────────┴───────────┴───────────┘\n",
       "┌───┬────────────────────────────┐\n",
       "│   │        a        b        c │\n",
       "├───┼────────────────────────────┤\n",
       "│ a │        0        0        0 │\n",
       "│ b │        0  0.00982 -0.00491 │\n",
       "│ c │        0 -0.00491  0.00345 │\n",
       "└───┴────────────────────────────┘"
      ]
     },
     "execution_count": 42,
     "metadata": {},
     "output_type": "execute_result"
    }
   ],
   "source": [
    "m.hesse()"
   ]
  },
  {
   "cell_type": "markdown",
   "metadata": {},
   "source": [
    "## Funzioni con più minimi\n"
   ]
  },
  {
   "cell_type": "code",
   "execution_count": 43,
   "metadata": {},
   "outputs": [
    {
     "data": {
      "image/png": "[encoded data removed]",
      "text/plain": [
       "<Figure size 900x600 with 1 Axes>"
      ]
     },
     "metadata": {
      "needs_background": "light"
     },
     "output_type": "display_data"
    }
   ],
   "source": [
    "def f2min(x):\n",
    "    return x ** 4 - x ** 2 + 1\n",
    "\n",
    "# tratta la funzione come Chi^2 anziché come Likelihood\n",
    "f2min.errordef = Minuit.LEAST_SQUARES \n",
    "\n",
    "plt.figure(figsize=(9,6), dpi=100)\n",
    "x = np.linspace(-1.5, 1.5)\n",
    "plt.plot(x, f2min(x))\n",
    "plt.xlabel('x')\n",
    "plt.ylabel('y')\n",
    "plt.show()"
   ]
  },
  {
   "cell_type": "code",
   "execution_count": 44,
   "metadata": {},
   "outputs": [
    {
     "name": "stdout",
     "output_type": "stream",
     "text": [
      "starting value -0.1, minimum at -0.7085906080341975\n"
     ]
    }
   ],
   "source": [
    "m = Minuit(f2min, x=-0.1)\n",
    "m.migrad()\n",
    "print(\"starting value -0.1, minimum at\", m.values[\"x\"])"
   ]
  },
  {
   "cell_type": "code",
   "execution_count": 45,
   "metadata": {},
   "outputs": [
    {
     "name": "stdout",
     "output_type": "stream",
     "text": [
      "starting value +0.1, minimum at 0.708796091342642\n"
     ]
    }
   ],
   "source": [
    "m.values[\"x\"] = 0.1  # m.values[0] = 0.1 also works\n",
    "m.migrad()\n",
    "print(\"starting value +0.1, minimum at\", m.values[\"x\"])"
   ]
  },
  {
   "cell_type": "markdown",
   "metadata": {},
   "source": [
    "# Fit di una funzione generica"
   ]
  },
  {
   "cell_type": "code",
   "execution_count": 51,
   "metadata": {},
   "outputs": [],
   "source": [
    "def fit_model(x,par):\n",
    "    return par[0]*(1.0-np.exp(-par[1]*x))\n",
    "a_true = 50\n",
    "b_true = 0.3\n",
    "data_x = np.arange(1, 20.5, 1)\n",
    "data_y0 = fit_model(data_x, (a_true, b_true))\n",
    "data_yerr = np.sqrt(data_y0)\n",
    "data_y = data_y0 + data_yerr * np.random.normal(0,1,len(data_x))"
   ]
  },
  {
   "cell_type": "code",
   "execution_count": 52,
   "metadata": {},
   "outputs": [
    {
     "data": {
      "image/png": "[encoded data removed]",
      "text/plain": [
       "<Figure size 900x600 with 1 Axes>"
      ]
     },
     "metadata": {
      "needs_background": "light"
     },
     "output_type": "display_data"
    }
   ],
   "source": [
    "plt.figure(figsize=(9,6), dpi=100)\n",
    "plt.errorbar(data_x, data_y, data_yerr, fmt=\"o\")\n",
    "plt.xlabel('x')\n",
    "plt.ylabel('y')\n",
    "plt.show()"
   ]
  },
  {
   "cell_type": "code",
   "execution_count": 53,
   "metadata": {},
   "outputs": [
    {
     "data": {
      "text/html": [
       "<table>\n",
       "    <tr>\n",
       "        <td colspan=\"2\" style=\"text-align:left\" title=\"Minimum value of function\"> FCN = 14.18 </td>\n",
       "        <td colspan=\"3\" style=\"text-align:center\" title=\"No. of function evaluations in last call and total number\"> Nfcn = 37 </td>\n",
       "    </tr>\n",
       "    <tr>\n",
       "        <td colspan=\"2\" style=\"text-align:left\" title=\"Estimated distance to minimum and goal\"> EDM = 8.11e-05 (Goal: 0.0002) </td>\n",
       "        <td colspan=\"3\" style=\"text-align:center\" title=\"No. of gradient evaluations in last call and total number\">  </td>\n",
       "    </tr>\n",
       "    <tr>\n",
       "        <td style=\"text-align:center;background-color:#92CCA6;color:black\"> Valid Minimum </td>\n",
       "        <td style=\"text-align:center;background-color:#92CCA6;color:black\"> Valid Parameters </td>\n",
       "        <td colspan=\"3\" style=\"text-align:center;background-color:#92CCA6;color:black\"> No Parameters at limit </td>\n",
       "    </tr>\n",
       "    <tr>\n",
       "        <td colspan=\"2\" style=\"text-align:center;background-color:#92CCA6;color:black\"> Below EDM threshold (goal x 10) </td>\n",
       "        <td colspan=\"3\" style=\"text-align:center;background-color:#92CCA6;color:black\"> Below call limit </td>\n",
       "    </tr>\n",
       "    <tr>\n",
       "        <td style=\"text-align:center;background-color:#92CCA6;color:black\"> Covariance </td>\n",
       "        <td style=\"text-align:center;background-color:#92CCA6;color:black\"> Hesse ok </td>\n",
       "        <td style=\"text-align:center;background-color:#92CCA6;color:black\" title=\"Is covariance matrix accurate?\"> Accurate </td>\n",
       "        <td style=\"text-align:center;background-color:#92CCA6;color:black\" title=\"Is covariance matrix positive definite?\"> Pos. def. </td>\n",
       "        <td style=\"text-align:center;background-color:#92CCA6;color:black\" title=\"Was positive definiteness enforced by Minuit?\"> Not forced </td>\n",
       "    </tr>\n",
       "</table><table>\n",
       "    <tr>\n",
       "        <td></td>\n",
       "        <th title=\"Variable name\"> Name </th>\n",
       "        <th title=\"Value of parameter\"> Value </th>\n",
       "        <th title=\"Hesse error\"> Hesse Error </th>\n",
       "        <th title=\"Minos lower error\"> Minos Error- </th>\n",
       "        <th title=\"Minos upper error\"> Minos Error+ </th>\n",
       "        <th title=\"Lower limit of the parameter\"> Limit- </th>\n",
       "        <th title=\"Upper limit of the parameter\"> Limit+ </th>\n",
       "        <th title=\"Is the parameter fixed in the fit\"> Fixed </th>\n",
       "    </tr>\n",
       "    <tr>\n",
       "        <th> 0 </th>\n",
       "        <td> a </td>\n",
       "        <td> 49.8 </td>\n",
       "        <td> 2.1 </td>\n",
       "        <td>  </td>\n",
       "        <td>  </td>\n",
       "        <td>  </td>\n",
       "        <td>  </td>\n",
       "        <td>  </td>\n",
       "    </tr>\n",
       "    <tr>\n",
       "        <th> 1 </th>\n",
       "        <td> b </td>\n",
       "        <td> 0.36 </td>\n",
       "        <td> 0.06 </td>\n",
       "        <td>  </td>\n",
       "        <td>  </td>\n",
       "        <td>  </td>\n",
       "        <td>  </td>\n",
       "        <td>  </td>\n",
       "    </tr>\n",
       "</table><table>\n",
       "    <tr>\n",
       "        <td></td>\n",
       "        <th> a </th>\n",
       "        <th> b </th>\n",
       "    </tr>\n",
       "    <tr>\n",
       "        <th> a </th>\n",
       "        <td> 4.38 </td>\n",
       "        <td style=\"background-color:rgb(171,171,250);color:black\"> -0.0715 <strong>(-0.611)</strong> </td>\n",
       "    </tr>\n",
       "    <tr>\n",
       "        <th> b </th>\n",
       "        <td style=\"background-color:rgb(171,171,250);color:black\"> -0.0715 <strong>(-0.611)</strong> </td>\n",
       "        <td> 0.00313 </td>\n",
       "    </tr>\n",
       "</table>"
      ],
      "text/plain": [
       "┌──────────────────────────────────┬──────────────────────────────────────┐\n",
       "│ FCN = 14.18                      │              Nfcn = 37               │\n",
       "│ EDM = 8.11e-05 (Goal: 0.0002)    │                                      │\n",
       "├───────────────┬──────────────────┼──────────────────────────────────────┤\n",
       "│ Valid Minimum │ Valid Parameters │        No Parameters at limit        │\n",
       "├───────────────┴──────────────────┼──────────────────────────────────────┤\n",
       "│ Below EDM threshold (goal x 10)  │           Below call limit           │\n",
       "├───────────────┬──────────────────┼───────────┬─────────────┬────────────┤\n",
       "│  Covariance   │     Hesse ok     │ Accurate  │  Pos. def.  │ Not forced │\n",
       "└───────────────┴──────────────────┴───────────┴─────────────┴────────────┘\n",
       "┌───┬──────┬───────────┬───────────┬────────────┬────────────┬─────────┬─────────┬───────┐\n",
       "│   │ Name │   Value   │ Hesse Err │ Minos Err- │ Minos Err+ │ Limit-  │ Limit+  │ Fixed │\n",
       "├───┼──────┼───────────┼───────────┼────────────┼────────────┼─────────┼─────────┼───────┤\n",
       "│ 0 │ a    │   49.8    │    2.1    │            │            │         │         │       │\n",
       "│ 1 │ b    │   0.36    │   0.06    │            │            │         │         │       │\n",
       "└───┴──────┴───────────┴───────────┴────────────┴────────────┴─────────┴─────────┴───────┘\n",
       "┌───┬─────────────────┐\n",
       "│   │       a       b │\n",
       "├───┼─────────────────┤\n",
       "│ a │    4.38 -0.0715 │\n",
       "│ b │ -0.0715 0.00313 │\n",
       "└───┴─────────────────┘"
      ]
     },
     "execution_count": 53,
     "metadata": {},
     "output_type": "execute_result"
    }
   ],
   "source": [
    "least_squares_mode = LeastSquares(data_x, data_y, data_yerr, fit_model)\n",
    "m = Minuit(least_squares_mode, (50,0.3), name=(\"a\", \"b\"))\n",
    "m.migrad()"
   ]
  },
  {
   "cell_type": "code",
   "execution_count": 54,
   "metadata": {},
   "outputs": [
    {
     "data": {
      "text/html": [
       "<table>\n",
       "    <tr>\n",
       "        <td colspan=\"2\" style=\"text-align:left\" title=\"Minimum value of function\"> FCN = 14.18 </td>\n",
       "        <td colspan=\"3\" style=\"text-align:center\" title=\"No. of function evaluations in last call and total number\"> Nfcn = 47 </td>\n",
       "    </tr>\n",
       "    <tr>\n",
       "        <td colspan=\"2\" style=\"text-align:left\" title=\"Estimated distance to minimum and goal\"> EDM = 8.11e-05 (Goal: 0.0002) </td>\n",
       "        <td colspan=\"3\" style=\"text-align:center\" title=\"No. of gradient evaluations in last call and total number\">  </td>\n",
       "    </tr>\n",
       "    <tr>\n",
       "        <td style=\"text-align:center;background-color:#92CCA6;color:black\"> Valid Minimum </td>\n",
       "        <td style=\"text-align:center;background-color:#92CCA6;color:black\"> Valid Parameters </td>\n",
       "        <td colspan=\"3\" style=\"text-align:center;background-color:#92CCA6;color:black\"> No Parameters at limit </td>\n",
       "    </tr>\n",
       "    <tr>\n",
       "        <td colspan=\"2\" style=\"text-align:center;background-color:#92CCA6;color:black\"> Below EDM threshold (goal x 10) </td>\n",
       "        <td colspan=\"3\" style=\"text-align:center;background-color:#92CCA6;color:black\"> Below call limit </td>\n",
       "    </tr>\n",
       "    <tr>\n",
       "        <td style=\"text-align:center;background-color:#92CCA6;color:black\"> Covariance </td>\n",
       "        <td style=\"text-align:center;background-color:#92CCA6;color:black\"> Hesse ok </td>\n",
       "        <td style=\"text-align:center;background-color:#92CCA6;color:black\" title=\"Is covariance matrix accurate?\"> Accurate </td>\n",
       "        <td style=\"text-align:center;background-color:#92CCA6;color:black\" title=\"Is covariance matrix positive definite?\"> Pos. def. </td>\n",
       "        <td style=\"text-align:center;background-color:#92CCA6;color:black\" title=\"Was positive definiteness enforced by Minuit?\"> Not forced </td>\n",
       "    </tr>\n",
       "</table><table>\n",
       "    <tr>\n",
       "        <td></td>\n",
       "        <th title=\"Variable name\"> Name </th>\n",
       "        <th title=\"Value of parameter\"> Value </th>\n",
       "        <th title=\"Hesse error\"> Hesse Error </th>\n",
       "        <th title=\"Minos lower error\"> Minos Error- </th>\n",
       "        <th title=\"Minos upper error\"> Minos Error+ </th>\n",
       "        <th title=\"Lower limit of the parameter\"> Limit- </th>\n",
       "        <th title=\"Upper limit of the parameter\"> Limit+ </th>\n",
       "        <th title=\"Is the parameter fixed in the fit\"> Fixed </th>\n",
       "    </tr>\n",
       "    <tr>\n",
       "        <th> 0 </th>\n",
       "        <td> a </td>\n",
       "        <td> 49.8 </td>\n",
       "        <td> 2.1 </td>\n",
       "        <td>  </td>\n",
       "        <td>  </td>\n",
       "        <td>  </td>\n",
       "        <td>  </td>\n",
       "        <td>  </td>\n",
       "    </tr>\n",
       "    <tr>\n",
       "        <th> 1 </th>\n",
       "        <td> b </td>\n",
       "        <td> 0.36 </td>\n",
       "        <td> 0.06 </td>\n",
       "        <td>  </td>\n",
       "        <td>  </td>\n",
       "        <td>  </td>\n",
       "        <td>  </td>\n",
       "        <td>  </td>\n",
       "    </tr>\n",
       "</table><table>\n",
       "    <tr>\n",
       "        <td></td>\n",
       "        <th> a </th>\n",
       "        <th> b </th>\n",
       "    </tr>\n",
       "    <tr>\n",
       "        <th> a </th>\n",
       "        <td> 4.38 </td>\n",
       "        <td style=\"background-color:rgb(171,171,250);color:black\"> -0.0715 <strong>(-0.611)</strong> </td>\n",
       "    </tr>\n",
       "    <tr>\n",
       "        <th> b </th>\n",
       "        <td style=\"background-color:rgb(171,171,250);color:black\"> -0.0715 <strong>(-0.611)</strong> </td>\n",
       "        <td> 0.00313 </td>\n",
       "    </tr>\n",
       "</table>"
      ],
      "text/plain": [
       "┌──────────────────────────────────┬──────────────────────────────────────┐\n",
       "│ FCN = 14.18                      │              Nfcn = 47               │\n",
       "│ EDM = 8.11e-05 (Goal: 0.0002)    │                                      │\n",
       "├───────────────┬──────────────────┼──────────────────────────────────────┤\n",
       "│ Valid Minimum │ Valid Parameters │        No Parameters at limit        │\n",
       "├───────────────┴──────────────────┼──────────────────────────────────────┤\n",
       "│ Below EDM threshold (goal x 10)  │           Below call limit           │\n",
       "├───────────────┬──────────────────┼───────────┬─────────────┬────────────┤\n",
       "│  Covariance   │     Hesse ok     │ Accurate  │  Pos. def.  │ Not forced │\n",
       "└───────────────┴──────────────────┴───────────┴─────────────┴────────────┘\n",
       "┌───┬──────┬───────────┬───────────┬────────────┬────────────┬─────────┬─────────┬───────┐\n",
       "│   │ Name │   Value   │ Hesse Err │ Minos Err- │ Minos Err+ │ Limit-  │ Limit+  │ Fixed │\n",
       "├───┼──────┼───────────┼───────────┼────────────┼────────────┼─────────┼─────────┼───────┤\n",
       "│ 0 │ a    │   49.8    │    2.1    │            │            │         │         │       │\n",
       "│ 1 │ b    │   0.36    │   0.06    │            │            │         │         │       │\n",
       "└───┴──────┴───────────┴───────────┴────────────┴────────────┴─────────┴─────────┴───────┘\n",
       "┌───┬─────────────────┐\n",
       "│   │       a       b │\n",
       "├───┼─────────────────┤\n",
       "│ a │    4.38 -0.0715 │\n",
       "│ b │ -0.0715 0.00313 │\n",
       "└───┴─────────────────┘"
      ]
     },
     "execution_count": 54,
     "metadata": {},
     "output_type": "execute_result"
    }
   ],
   "source": [
    "m.hesse()"
   ]
  },
  {
   "cell_type": "code",
   "execution_count": 55,
   "metadata": {},
   "outputs": [
    {
     "data": {
      "image/png": "[encoded data removed]",
      "text/plain": [
       "<Figure size 900x600 with 1 Axes>"
      ]
     },
     "metadata": {
      "needs_background": "light"
     },
     "output_type": "display_data"
    }
   ],
   "source": [
    "plt.figure(figsize=(9,6), dpi=100)\n",
    "plt.errorbar(data_x, data_y, data_yerr, fmt=\"o\")\n",
    "data_x_f = np.arange(0, 20, 0.1)\n",
    "data_y_f = fit_model(data_x_f, m.values)\n",
    "plt.plot(data_x_f, data_y_f, label=\"fit\")\n",
    "plt.xlabel('x')\n",
    "plt.ylabel('y')\n",
    "fit_info = [ f\"$\\\\chi^2$ / $n_\\\\mathrm{{dof}}$ = {m.fval:.1f} / {len(data_x) - m.nfit}\" ]\n",
    "for p, v, e in zip(m.parameters, m.values, m.errors):\n",
    "    fit_info.append(f\"{p} = ${v:.3f} \\\\pm {e:.3f}$\")\n",
    "plt.legend(title=\"\\n\".join(fit_info))\n",
    "plt.show()"
   ]
  },
  {
   "cell_type": "markdown",
   "metadata": {},
   "source": [
    "## Valori inziali\n",
    "\n",
    "Con gli esempi che abbiamo visto, simulati, *sappiamo* qual è il valore *vero*, ossia quello che abbiamo usato per generare i campioni di dati che abbiamo usato per il fit.\n",
    "\n",
    "Quando abbiamo campioni di dati veri *non conosciamo* i valori veri. Bisogna quindi provare valori iniziali diversi da stime approssimate. Non è ovvio che il fit convergerà.\n",
    "\n",
    "Esistono diverse pratiche usate per trovare i valori iniziali, che potranno essere provate in vari esempi. Come prima cosa, si possono determinare in prima approssimazione alcuni parametri in base ad alcunce caratteristiche. Esempio:\n",
    "* dove si trova un asintoto (e quindi come questo si riflette nella scelta di uno o più parametri)\n",
    "* dove si trova un picco e quanto è largo\n",
    "* quanto vale, approssimativamente, la pendenza di un andamento in approssimazione lineare o esponenziale\n",
    "\n",
    "Una possibilità è fare il fit di una regione limitata del campione e determinare alcuni parametri che saranno poi usati come valori iniziali.\n",
    "\n",
    "A volte conviene fissare alcuni parametri, determinarne alcuni, e, solo come ultimo passo, si possono determinare tutti i valori.\n",
    "\n",
    "Inevitabilmente l'esperienza sarà un fattore importrante per trovare in modo rapido la migliore startegia per i casi pià complicati."
   ]
  }
 ],
 "metadata": {
  "kernelspec": {
   "display_name": "Python 3",
   "language": "python",
   "name": "python3"
  },
  "language_info": {
   "codemirror_mode": {
    "name": "ipython",
    "version": 3
   },
   "file_extension": ".py",
   "mimetype": "text/x-python",
   "name": "python",
   "nbconvert_exporter": "python",
   "pygments_lexer": "ipython3",
   "version": "3.7.3"
  }
 },
 "nbformat": 4,
 "nbformat_minor": 4
}
