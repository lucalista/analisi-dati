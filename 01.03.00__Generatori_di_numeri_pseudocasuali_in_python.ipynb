{
 "cells": [
  {
   "cell_type": "markdown",
   "metadata": {},
   "source": [
    "# Generatori di numeri pseudocasuali in python\n",
    "\n",
    "Cominciamo ad utilizzare il modulo ```random``` che contiene un algoritmo per la generazione di numeri casuali uniformi tra 0 e 1. \n",
    "\n",
    "Nel seguito introdurremo altre librerie che contengono generatori con distribuzioni non uniformi, dopo che avremo definito meglio cosa si intende per *distribuzione*.\n",
    "\n",
    "La documentazione si trova facilmente con Google. Di seguito alcuni link:\n",
    "* <a href=\"https://docs.python.org/3/library/random.html\">random</a> (python.org)\n",
    "* <a href=\"https://www.w3schools.com/python/module_random.asp\">Python Random Module</a> (W3School)"
   ]
  },
  {
   "cell_type": "code",
   "execution_count": 1,
   "metadata": {},
   "outputs": [
    {
     "name": "stdout",
     "output_type": "stream",
     "text": [
      "Help on built-in function random:\n",
      "\n",
      "random(...) method of random.Random instance\n",
      "    random() -> x in the interval [0, 1).\n",
      "\n",
      "None\n"
     ]
    }
   ],
   "source": [
    "import random\n",
    "print(help(random.random))"
   ]
  },
  {
   "cell_type": "markdown",
   "metadata": {},
   "source": [
    "Da notare: usando lo stesso *seed* la sequenza è riproducibile.\n",
    "\n",
    "Se non si inizializza il *seed*, viene inizializzato dall'orario di sistema."
   ]
  },
  {
   "cell_type": "code",
   "execution_count": 5,
   "metadata": {},
   "outputs": [],
   "source": [
    "random.seed(12345)"
   ]
  },
  {
   "cell_type": "code",
   "execution_count": 9,
   "metadata": {},
   "outputs": [
    {
     "name": "stdout",
     "output_type": "stream",
     "text": [
      "0.8707669687554763\n",
      "0.7708343385168108\n",
      "0.17887376462351512\n",
      "0.09949963280961138\n",
      "0.41453246851185777\n",
      "0.8855364671454795\n",
      "0.5780860273663232\n",
      "0.7365822149440823\n",
      "0.23262110322840768\n",
      "0.5235975801646584\n"
     ]
    }
   ],
   "source": [
    "for i in range(10):\n",
    "    print(random.random())"
   ]
  },
  {
   "cell_type": "markdown",
   "metadata": {},
   "source": [
    "Per generare numeri casuali da un minimo $a$ ad un massimo $b$ basta:\n",
    "* generare un numero casuale con ```random.random()```\n",
    "* moltiplicare per $b-a$\n",
    "* sommare $a$\n",
    "Il risultato sarà compreso in $[a,\\,b)$"
   ]
  },
  {
   "cell_type": "code",
   "execution_count": 13,
   "metadata": {},
   "outputs": [
    {
     "name": "stdout",
     "output_type": "stream",
     "text": [
      "1.0450350678415563\n",
      "-0.07689498001786843\n",
      "-1.7538998122865634\n",
      "0.5044157949623695\n",
      "-0.6969566711190978\n",
      "0.44035628336853305\n",
      "-0.31668615571844105\n",
      "1.8101231321635773\n",
      "-1.1936215351734436\n",
      "1.0754254657878421\n"
     ]
    }
   ],
   "source": [
    "def rnd_ab(a, b):\n",
    "    return a+(b-a)*random.random()\n",
    "for i in range(10):\n",
    "    print(rnd_ab(-2,2))"
   ]
  },
  {
   "cell_type": "markdown",
   "metadata": {},
   "source": [
    "...ma questa funzionalità si ottiene dando $a$ e $b$ come argomenti della funzione ```random```:"
   ]
  },
  {
   "cell_type": "code",
   "execution_count": 14,
   "metadata": {},
   "outputs": [
    {
     "name": "stdout",
     "output_type": "stream",
     "text": [
      "0.7942474221998936\n",
      "0.22625199406324237\n",
      "-1.6798148901792453\n",
      "-1.340193155631276\n",
      "1.8691279094086792\n",
      "-1.077429884575241\n",
      "-1.3458278726710242\n",
      "-0.8468173101501306\n",
      "0.14848211677657774\n",
      "0.07845335291982547\n"
     ]
    }
   ],
   "source": [
    "for i in range(10):\n",
    "    print(random.uniform(-2,2))"
   ]
  },
  {
   "cell_type": "markdown",
   "metadata": {},
   "source": [
    "... a questo punto, abbiamo degli strumenti per generare numeri casuali e simulare, quindi, i risultati di un esperimento.\n",
    "\n",
    "Però, dobbiamo definire meglio cosa significa:\n",
    "* Probabilità\n",
    "* Distrubuzione di probabilità"
   ]
  },
  {
   "cell_type": "markdown",
   "metadata": {},
   "source": [
    "# Spunti per esercizi\n",
    "\n",
    "Generare grafici delle distribuzioni d numeri casuali generati con il modulo ```random```:\n",
    "1. uniformi tra 0 e 1, come dalla funzione ```random()```\n",
    "* uniformi tra due valoro $a$ e $b$, come indicato sopra\n",
    "* provare graficare la distribuzione di $x^2$, dove $x$ è un numero random uniforme oppure di $e^x$ o $\\mathrm{log}(x)$"
   ]
  },
  {
   "cell_type": "code",
   "execution_count": null,
   "metadata": {},
   "outputs": [],
   "source": []
  }
 ],
 "metadata": {
  "kernelspec": {
   "display_name": "Python 3",
   "language": "python",
   "name": "python3"
  },
  "language_info": {
   "codemirror_mode": {
    "name": "ipython",
    "version": 3
   },
   "file_extension": ".py",
   "mimetype": "text/x-python",
   "name": "python",
   "nbconvert_exporter": "python",
   "pygments_lexer": "ipython3",
   "version": "3.7.3"
  }
 },
 "nbformat": 4,
 "nbformat_minor": 4
}
