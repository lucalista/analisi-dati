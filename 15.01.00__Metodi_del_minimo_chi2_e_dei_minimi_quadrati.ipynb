{
 "cells": [
  {
   "cell_type": "markdown",
   "metadata": {},
   "source": [
    "# Metodi del minimo $\\chi^2$ e dei minimi quadrati\n",
    "\n",
    "Immaginiamo di avere diverse misure di quantità $y$ il cui valore dipende da un'altra variabile $x$ secondo una legge che ha parametri ingnoti che vogliamo misurare:\n",
    "\n",
    "$y = f(x;\\theta_1, \\cdots, \\theta_m)$\n",
    "\n",
    "\n",
    "In realtà, noi misuriamo $n$ quantità $y_i$ che corrispondono a diversi valori $x_i$ $(i=1,\\cdots,n)$ e che sono soggette a fluttuazioni statistiche. Assumiamo che $f(x_i;\\theta_1, \\cdots, \\theta_m)$ sia il valor medio di $y_i$, e che $y_i$ sia distribuito intorno a $f(x_i;\\theta_1, \\cdots, \\theta_m)$ secondo una distribuzione gaussiana con deviazione standard $\\sigma_i$.\n",
    "\n",
    "La funzione di verosimiglianza è data dal prodotto di $n$ funzioni gaussiane:\n",
    "\n",
    "$\\displaystyle p(y_1, \\cdots, y_n; \\theta_1,\\cdots,\\theta_m) = \\prod_{i=1}^n\n",
    "\\frac{1}{\\sqrt{2\\pi\\sigma_i^2}}\\exp\\left[\n",
    "-\\frac{\\left(y_i - f(x_i;\\theta_1,\\cdots,\\theta_m)\\right)^2}{2\\sigma_i^2}\n",
    "\\right]\n",
    "$\n",
    "\n",
    "Anziché massimizzare $p(y_1, \\cdots, y_n; \\theta_1,\\cdots,\\theta_m)$, come già visto, è più semplice minimizzare $-2\\log p(y_1, \\cdots, y_n; \\theta_1,\\cdots,\\theta_m)$:\n",
    "\n",
    "\n",
    "$\\displaystyle  -2\\log p(y_1, \\cdots, y_n; \\theta_1,\\cdots,\\theta_m) = \n",
    "\\sum_{i=1}^n\\frac{\\left(y_i - f(x_i;\\theta_1,\\cdots,\\theta_m)\\right)^2}{2\\sigma_i^2}\n",
    "+2\\sum_{i=1}^n\\log 2\\pi\\sigma_i^2\n",
    "$\n",
    "\n",
    "L'ultimo termine non dipende dai parametri $\\theta_1,\\cdots,\\theta_m$, per cui se lo eliminiamo il minimio non cambia.\n",
    "\n",
    "Possiamo quindi minimizzare la quantità:\n",
    "\n",
    "$\\displaystyle \\chi^2(\\theta_1,\\cdots,\\theta_m) = \\sum_{i=1}^n\\frac{\\left(y_i - f(x_i;\\theta_1,\\cdots,\\theta_m)\\right)^2}{2\\sigma_i^2}\n",
    "$\n",
    "\n",
    "I termini al numeratore, valutati per i valori dei parametri $\\hat{\\theta}_1,\\cdots,\\hat{\\theta}_m$ si chiamano anche *residui*, e sono definiti come:\n",
    "\n",
    "$r_i = y_i - \\hat{y}_i = y_i -f(x_i, \\hat{\\theta}_1,\\cdots,\\hat{\\theta}_m)$"
   ]
  },
  {
   "cell_type": "markdown",
   "metadata": {},
   "source": [
    "## Minimo $\\chi^2$ e misure correlate\n",
    "\n",
    "Bisogna fare attenzione che la formula riportata sopra per la stima col metodo del minimo $\\chi^2$ vale solo se le misure $y_1, \\cdots, y_n$ sono tra di loro *indipendenti*. Se ci fosse correlazione, la formula può essere modificata introducendo i termini di correlazione e diventerebbe più complessa da trattare.\n",
    "\n",
    "<span style=\"color:red\">Come corollario di questa osservazione, va notato che la formula di cui sopra **non può essere usata per il fit di una distribuzione cumulativa di conteggi**, dove ciascun valore $y_i$ dipende dai precedenti $y_1, \\cdots, y_{i-1}$.</span>"
   ]
  },
  {
   "cell_type": "markdown",
   "metadata": {},
   "source": [
    "## Metodo dei minimi quadrati\n",
    "\n",
    "Se assumiamo che le deviazioni standard $\\sigma_i$ siano tutte uguali, basta minimizzare la somma dei quadrati delle deviazioni:\n",
    "\n",
    "$\\displaystyle S = \\sum_{i=1}^N\\left(y_i - f(x_i;\\theta_1,\\cdots,\\theta_n)\\right)^2$"
   ]
  },
  {
   "cell_type": "markdown",
   "metadata": {},
   "source": [
    "# Stima degli errori\n",
    "\n",
    "Come detto altrove, la stima della matrice di covarianza si può fare come:\n",
    "\n",
    "$\\displaystyle C_{ij}^{-1} =-\\frac{\\partial^2 \\log(p(x_i,\\cdots,x_n; \\mu_i, \\cdots, \\mu_m))}{\\partial\\mu_i\\,\\partial\\mu_j}\n",
    "$\n",
    "\n",
    "E, in particolare, gli errori si ottengono dagli elementi diagonali della matrice:\n",
    "\n",
    "$\\displaystyle \\frac{1}{\\sigma_{\\mu_i}^2} =-\\frac{\\partial^2 \\log(p(x_i,\\cdots,x_n; \\mu_i, \\cdots, \\mu_m))}{\\partial\\mu_i^2}\n",
    "$"
   ]
  },
  {
   "cell_type": "markdown",
   "metadata": {},
   "source": [
    "# Minimizzazioni numeriche\n",
    "\n",
    "In genere le implementazioni numeriche che ricercano minmi in $m$ dimensioni partono da un insieme di **valori iniziali** e \"scendono\" lungo il gradiente della funzione con passi che diventano via via più piccoli man mano che il gardiente diminuisce.\n",
    "\n",
    "È possibile che l'algoritmo scelga un **minimo locale**, per cui **la soluzione finale può dipendere dai valori iniziali** che si scelgono.\n",
    "\n",
    "La discesa lungo il gradiente è anche un algoritmo utilizzato in applicazioni di *machine learning* dove è necessario minimizzare alcune funzioni che misurano quanto i parametri di un algoritmo sono distanti dal valore ottimale.\n",
    "\n",
    "In alcune implementazioni, si introducono elementi casuali nell'algoritmo per favorire la convergenza.\n",
    "\n",
    "### Approfondimenti\n",
    "* [Stochastic Gradient Descent Algorithm With Python and NumPy](https://realpython.com/gradient-descent-algorithm-python/)"
   ]
  },
  {
   "cell_type": "markdown",
   "metadata": {},
   "source": [
    "# Implementazione in python\n",
    "\n",
    "La libreria ```SciPy``` fornisce la funzione [```curve_fit```](https://docs.scipy.org/doc/scipy/reference/generated/scipy.optimize.curve_fit.html) che implementa una minimizzazione numerica. È possibile passare un vettore con gli errori oppure l'intera matrice di covarianza (```sigma```). È possibile limitare l'intervallo dei valori da determinare nella minimizzazione in intervalli prescelti.\n",
    "\n",
    "Da notare che il numero di parametri è determinato direttamente dalla funzione.\n",
    "\n",
    "Esiste anche una versione che minimizza la funzione [```least_squares```](https://docs.scipy.org/doc/scipy/reference/generated/scipy.optimize.least_squares.html#scipy.optimize.least_squares) che non dà la possibilità di utilizzare errori.\n",
    "\n",
    "<span style=\"color:blue\">Questa non è l'implementazione più utilizzata in fisica, dove, come vedremo, è più utilizzato il pacchetto [MINUIT](https://inspirehep.net/literature/1258343) sviluppato al CERN vari decenni fa, e successivamente portata in C++ e python.</span>"
   ]
  },
  {
   "cell_type": "code",
   "execution_count": 1,
   "metadata": {},
   "outputs": [],
   "source": [
    "import matplotlib.pyplot as plt\n",
    "import numpy as np\n",
    "from scipy.optimize import curve_fit"
   ]
  },
  {
   "cell_type": "code",
   "execution_count": 2,
   "metadata": {},
   "outputs": [],
   "source": [
    "def func(x, a, b, c):\n",
    "    return a * np.exp(-b * x) + c"
   ]
  },
  {
   "cell_type": "markdown",
   "metadata": {},
   "source": [
    "Di reguito generiamo, per ciascun punto $x_i$, un valore $y_i$ determinato come $f(x_i)+\\delta_i$, dove $\\delta_i$ è estratto casualmente secondo una distribuzione gaussiana con una certa larghezza $\\sigma_i$. \n",
    "\n",
    "$\\delta_i$ rappresenta l'errore sulla misura di $y_i$ che si somma al suo valore attero $f(x_i)$.\n",
    "\n",
    "Nell'esempio, useremo $\\sigma_i=\\sigma$ costante per tutti i bin.\n",
    "\n",
    "<span style=\"color: blue\">Nota: se gli errori non vengono specificati, la funzione assume $\\sigma_1$. Questo potrebbe restituire una matrice di covarianza che non ha molto senso.</span>"
   ]
  },
  {
   "cell_type": "code",
   "execution_count": 3,
   "metadata": {},
   "outputs": [
    {
     "name": "stdout",
     "output_type": "stream",
     "text": [
      "fit without bounds\n",
      "[2.55423706 1.35190946 0.47450617]\n",
      "[[ 0.0158905   0.00681778 -0.0007614 ]\n",
      " [ 0.00681778  0.02019919  0.00541905]\n",
      " [-0.0007614   0.00541905  0.00282595]]\n",
      "fit with bounds\n",
      "fit parameters:  [2.43708906 1.         0.35015434]\n",
      "cov matrix: [[ 0.01521864  0.00291009 -0.00223465]\n",
      " [ 0.00291009  0.01677755  0.00839441]\n",
      " [-0.00223465  0.00839441  0.00615306]]\n"
     ]
    },
    {
     "data": {
      "image/png": "[encoded data removed]",
      "text/plain": [
       "<Figure size 864x648 with 1 Axes>"
      ]
     },
     "metadata": {
      "needs_background": "light"
     },
     "output_type": "display_data"
    }
   ],
   "source": [
    "xdata = np.linspace(0, 4, 50)\n",
    "y = func(xdata, 2.5, 1.3, 0.5)\n",
    "np.random.seed(1729)\n",
    "sigma = 0.2\n",
    "ynoise = sigma * np.random.normal(size=xdata.size)\n",
    "ydata = y + ynoise\n",
    "sigmas = [sigma]*len(y)\n",
    "\n",
    "plt.figure(figsize=(12,9))\n",
    "plt.scatter(x=xdata, y=ydata, label='data')\n",
    "popt, pcov = curve_fit(func, xdata, ydata, sigma=sigmas)\n",
    "print('fit without bounds')\n",
    "print(popt)\n",
    "print(pcov)\n",
    "\n",
    "plt.plot(xdata, func(xdata, *popt), 'r-',\n",
    "         label='fit: a=%5.3f, b=%5.3f, c=%5.3f' % tuple(popt))\n",
    "popt, pcov = curve_fit(func, xdata, ydata, sigma=sigmas, bounds=([0, 0, 0], [3., 1., 0.5]))\n",
    "print('fit with bounds')\n",
    "print(\"fit parameters: \", popt)\n",
    "print(\"cov matrix:\", pcov)\n",
    "\n",
    "plt.plot(xdata, func(xdata, *popt), 'g--',\n",
    "         label='fit: a=%5.3f, b=%5.3f, c=%5.3f' % tuple(popt))\n",
    "plt.xlabel('x')\n",
    "plt.ylabel('y')\n",
    "plt.legend()\n",
    "plt.show()"
   ]
  },
  {
   "cell_type": "markdown",
   "metadata": {},
   "source": [
    "## Altre risorse in rete\n",
    "\n",
    "* [LMFIT](https://lmfit.github.io/lmfit-py/): Non-Linear Least-Squares Minimization and Curve-Fitting for Python\n",
    "* [iMinuit](https://iminuit.readthedocs.io/en/stable/): libreria nata al CERN negli anni '70, ancora usata in fisica delle particelle elementari. È adatta per fit complessi e può gestire un gran numero di parametri. La studieremo più in dettaglio."
   ]
  },
  {
   "cell_type": "markdown",
   "metadata": {},
   "source": [
    "# Spunti per esercizi\n",
    "\n",
    "* Modificare l'esempio di fit presentato sopra per fare il fit di:\n",
    "    * una distribuzione gaussiana dove siano incogniti i parametri $\\mu$ e $\\sigma$\n",
    "    * una distribuzione esponenziale di cui sia incognito il parametro $\\lambda$\n",
    "* Provare a generare un campione con errori pari a $\\sqrt{n_i}$, dove $n_i$ è il numero dei conteggi in ciascun bin, per emulare una distribuzione poissoniana. Gli errori si possono specificare come parametro della funzione ```curve_fit```: ```sigma=[s1, s1, ..., sn]```."
   ]
  }
 ],
 "metadata": {
  "kernelspec": {
   "display_name": "Python 3",
   "language": "python",
   "name": "python3"
  },
  "language_info": {
   "codemirror_mode": {
    "name": "ipython",
    "version": 3
   },
   "file_extension": ".py",
   "mimetype": "text/x-python",
   "name": "python",
   "nbconvert_exporter": "python",
   "pygments_lexer": "ipython3",
   "version": "3.7.3"
  }
 },
 "nbformat": 4,
 "nbformat_minor": 4
}
