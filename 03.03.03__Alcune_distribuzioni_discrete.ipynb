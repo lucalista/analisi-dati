{
 "cells": [
  {
   "cell_type": "markdown",
   "metadata": {},
   "source": [
    "# Processo di Bernoulli\n",
    "\n",
    "Il processo di bernulli consiste nell'estrazione casuale di un risultato che può avere due valori.\n",
    "\n",
    "Esempio: estrarre una pallina bianca o rossa da una boccia piena di $B$ palline bianche e $R$ palline rosse.\n",
    "\n",
    "Secondo la definizione di probabilità classica, la probabilità di estrarre una pallina rossa è uguale al rapporto tra il numero di casi favorevoli ($R$) ed il numero totale di casi ($R+B$):\n",
    "\n",
    "$p = \\frac{\\displaystyle R}{\\displaystyle R+B}$\n",
    "\n",
    "La probabilità di un evento negativo (pallina bianca) è ovviamente dato da:\n",
    "\n",
    "$q = \\frac{\\displaystyle B}{\\displaystyle R+B} = 1 - p$\n",
    "\n",
    "In sostanza, lo spazio degli eventi $\\Omega$ ha due possibili valori: $B$ e $R$ con probabilità $P(B)=q$ e $P(R)=p$. Risulta $P(\\Omega)=P(B)+P(R)=1$ (condizione normalizzazione).\n",
    "\n",
    "<img style=\"width: 200px\" src=\"img/bernoulli.png\">\n",
    "\n",
    "<span style=\"color: blue\">La distribuzione di Bernoulli è il modello per la risposta di **un rivelatore che ha un'efficienza $\\varepsilon=p$** non ideale (ossia: $\\varepsilon<1$). Il risultato a due valori, 0 o 1, corrisponde a un segnale mancato o rilvelato al passaggio di una particella.\n",
    "</span>"
   ]
  },
  {
   "cell_type": "code",
   "execution_count": 17,
   "metadata": {},
   "outputs": [],
   "source": [
    "from scipy.stats import bernoulli\n",
    "import matplotlib.pyplot as plt\n",
    "import numpy as np"
   ]
  },
  {
   "cell_type": "code",
   "execution_count": 18,
   "metadata": {},
   "outputs": [
    {
     "name": "stdout",
     "output_type": "stream",
     "text": [
      "p(0):  0.7000000000000001\n",
      "p(1):  0.3\n"
     ]
    }
   ],
   "source": [
    "p = 0.3\n",
    "p0 = bernoulli.pmf(0,p)\n",
    "p1 = bernoulli.pmf(1,p)\n",
    "print(\"p(0): \", p0)\n",
    "print(\"p(1): \", p1)"
   ]
  },
  {
   "cell_type": "markdown",
   "metadata": {},
   "source": [
    "Esempio: generare casualmente 100 eventi di Bernoulli:"
   ]
  },
  {
   "cell_type": "code",
   "execution_count": 19,
   "metadata": {},
   "outputs": [
    {
     "data": {
      "text/plain": [
       "array([0, 0, 0, 1, 0, 0, 1, 0, 1, 0, 0, 0, 0, 1, 0, 1, 1, 0, 0, 0, 0, 0,\n",
       "       0, 1, 1, 0, 0, 0, 1, 0, 0, 0, 1, 1, 1, 0, 1, 1, 0, 0, 0, 0, 1, 0,\n",
       "       0, 1, 0, 1, 0, 0, 1, 1, 0, 0, 0, 0, 0, 0, 0, 0, 1, 0, 1, 0, 0, 0,\n",
       "       1, 0, 0, 0, 0, 0, 1, 1, 0, 0, 0, 0, 1, 0, 0, 1, 1, 0, 0, 0, 0, 0,\n",
       "       0, 0, 0, 1, 0, 0, 0, 0, 0, 1, 1, 1])"
      ]
     },
     "execution_count": 19,
     "metadata": {},
     "output_type": "execute_result"
    }
   ],
   "source": [
    "r = bernoulli.rvs(p, size=100)\n",
    "r"
   ]
  },
  {
   "cell_type": "markdown",
   "metadata": {},
   "source": [
    "Potremmo scrivere semplicemente un'implementazione alternativa alla liberia di python di una variabile di Bernoulli casuale:"
   ]
  },
  {
   "cell_type": "code",
   "execution_count": 20,
   "metadata": {},
   "outputs": [],
   "source": [
    "import random"
   ]
  },
  {
   "cell_type": "code",
   "execution_count": 21,
   "metadata": {},
   "outputs": [],
   "source": [
    "def rnd_bernoulli(p):\n",
    "    r = random.random()\n",
    "    if r<p: return 1\n",
    "    else: return 0"
   ]
  },
  {
   "cell_type": "code",
   "execution_count": 22,
   "metadata": {},
   "outputs": [
    {
     "data": {
      "text/plain": [
       "0"
      ]
     },
     "execution_count": 22,
     "metadata": {},
     "output_type": "execute_result"
    }
   ],
   "source": [
    "rnd_bernoulli(0.3)"
   ]
  },
  {
   "cell_type": "code",
   "execution_count": 23,
   "metadata": {},
   "outputs": [
    {
     "data": {
      "text/plain": [
       "0"
      ]
     },
     "execution_count": 23,
     "metadata": {},
     "output_type": "execute_result"
    }
   ],
   "source": [
    "rnd_bernoulli(0.3)"
   ]
  },
  {
   "cell_type": "code",
   "execution_count": 24,
   "metadata": {},
   "outputs": [
    {
     "data": {
      "text/plain": [
       "0"
      ]
     },
     "execution_count": 24,
     "metadata": {},
     "output_type": "execute_result"
    }
   ],
   "source": [
    "rnd_bernoulli(0.3)"
   ]
  },
  {
   "cell_type": "code",
   "execution_count": 25,
   "metadata": {},
   "outputs": [
    {
     "data": {
      "text/plain": [
       "0"
      ]
     },
     "execution_count": 25,
     "metadata": {},
     "output_type": "execute_result"
    }
   ],
   "source": [
    "rnd_bernoulli(0.3)"
   ]
  },
  {
   "cell_type": "code",
   "execution_count": 35,
   "metadata": {},
   "outputs": [],
   "source": [
    "x = [0,1]\n",
    "y = [0,0]\n",
    "p = 0.3\n",
    "y = [bernoulli.pmf(n, p) for n in x]"
   ]
  },
  {
   "cell_type": "code",
   "execution_count": 39,
   "metadata": {},
   "outputs": [
    {
     "data": {
      "image/png": "[encoded data removed]",
      "text/plain": [
       "<Figure size 864x576 with 1 Axes>"
      ]
     },
     "metadata": {
      "needs_background": "light"
     },
     "output_type": "display_data"
    }
   ],
   "source": [
    "plt.figure(figsize=(12,8))\n",
    "plt.bar(x,y)\n",
    "plt.xticks(x)\n",
    "plt.title('Bernoulli distribution')\n",
    "plt.xlabel('n')\n",
    "plt.ylabel('P(n)')\n",
    "plt.show()"
   ]
  },
  {
   "cell_type": "markdown",
   "metadata": {},
   "source": [
    "# Esempi di applicazione concreta del processo di Bernoulli:\n",
    "\n",
    "* Uno studente supera un esame con una certa probabilità $p$\n",
    "* Un calciatore segna un rigore con una certa probabilità $p$\n",
    "* Un rivelatore dà un segnale a passaggio di una particella con probabilità $\\varepsilon= p$."
   ]
  },
  {
   "cell_type": "markdown",
   "metadata": {},
   "source": [
    "# Processo Binomiale\n",
    "\n",
    "Una variabile casuale binomiale è data dalla somma di $n$ variabili di Bernoulli *indipendenti*, ciascuna con la stessa probabilità $p$.\n",
    "\n",
    "Quindi: dopo $N$ estrazioni *indipendenti* si conta il numero $n$ di palline rosse estratte.\n",
    "\n",
    "La sequenza di estrazione segue uno dei possibli rami di un albero, come indicato nella figura che segue.\n",
    "\n",
    "<img style=\"width: 500px\" src=\"img/binomial.png\">\n",
    "\n",
    "Il numero di casi possibile per ciascuno dei possibili risultati diventa quindi pari al coefficiente della potenza di un binomio:\n",
    "\n",
    "$\\left(\\begin{array}{c} N \\\\ n \\end{array}\\right) = \\frac{\\displaystyle N!}{\\displaystyle n!(N-n)!}$\n",
    "\n",
    "Considerando che ad ogni biforcazione la probabilità può essere $p$ oppure $q=1-p$, a seconda se l'esito sia positivo (pallina rossa) oppure negativo (pallina bianca), la probabilità di avere un numero $n$ di esiti positivi (ossia $n$ palline rosse estratte) è pari a:\n",
    "\n",
    "$P(n;N, p) = \\left(\\begin{array}{c} n \\\\ N \\end{array}\\right) p^n(1-p)^{N-n} = \\frac{\\displaystyle N!}{\\displaystyle n!(N-n)!}p^n(1-p)^{N-n}$\n",
    "\n",
    "<span style=\"color:green;\">Nota sulla notazione: gli statistici professionisti indicano le variabili casuali con la lettera maiuscola, mentre possibili valori particolari della variabile casuale sono indicati con la minuscola. Questa notazione per qualche motivo appare particolarmente antiestetica ai fisici, per cui non la userò.</span>\n",
    "\n",
    "<span style=\"color:blue;\">Corollario: la distribuzione di $N-n$ è una binomiale con parametri $N$ e $1-p$.</span>\n",
    "\n",
    "<span style=\"color: blue\">La distribuzione binomiale è il modello per il numero di conteggi di **un rivelatore che ha un'efficienza $\\varepsilon=p$** non ideale (ossia: $\\varepsilon<1$). Il numero di conteggi $n$ rispetto al numero totale di particelle che attraversano il rivelatore, $N$, segue la distribuzione binomiale. Il numero di rigori segnati da un calciatore durante una stagione si potrebbe modellizzare con la distribuzione binomiale, assumendo per semplicità che la probabilità $p$ di segnare sia uguale durante tutto il campionato, e quindi che ciascun rigore sia il risultato casuale di un processo di Bernoulli con probabilità $p$.\n",
    "</span>"
   ]
  },
  {
   "cell_type": "code",
   "execution_count": 14,
   "metadata": {},
   "outputs": [],
   "source": [
    "from scipy.stats import binom"
   ]
  },
  {
   "cell_type": "code",
   "execution_count": 40,
   "metadata": {},
   "outputs": [
    {
     "data": {
      "image/png": "[encoded data removed]",
      "text/plain": [
       "<Figure size 864x576 with 1 Axes>"
      ]
     },
     "metadata": {
      "needs_background": "light"
     },
     "output_type": "display_data"
    }
   ],
   "source": [
    "plt.figure(figsize=(12,8))\n",
    "p = 0.3\n",
    "N = 10\n",
    "x = list(range(N+1))\n",
    "y = [binom.pmf(n, N, p) for n in x]\n",
    "plt.bar(x,y)\n",
    "plt.xticks(x)\n",
    "plt.title('Binomial distribution')\n",
    "plt.xlabel('n')\n",
    "plt.ylabel('P(n)')\n",
    "plt.show()"
   ]
  },
  {
   "cell_type": "markdown",
   "metadata": {},
   "source": [
    "# Esempi di applicazione concreta del processo binomiale:\n",
    "* Su $N=20\\,000$ vaccinati, $n$ sono immunizzati\n",
    "* Su $N=100$ fotoni, o qualsiasi altro tipo di particelle, un rivelatore ne rileva $n$\n",
    "* In una stagione, un giocatore segna $n$ rigori su $N$ assegnati"
   ]
  },
  {
   "cell_type": "markdown",
   "metadata": {},
   "source": [
    "# Distribuzione di Poisson\n",
    "La distribuzione di Poisson si ottiene come limite della distrubuzione binomiale per $N\\rightarrow\\infty$.\n",
    "Se $N\\rightarrow\\infty$, anche il numero di estrazioni di risultati positivi $n$ tenderà ad assumere valori divergenti, a meno che $p$ non tende a zero in conseguenza alla divergenza di $N$. Per questo, si può assumere che $\\nu=pN$ resti costante. In questo caso, la distribuzione binomiale: \n",
    "\n",
    "$P(n; N, p) = \\frac{\\displaystyle N!}{\\displaystyle n!(N-n)!}p^n(1-p)^{N-n}$\n",
    "\n",
    "Diventa:\n",
    "\n",
    "$P(n;\\nu) = \\frac{\\displaystyle N!}{\\displaystyle n!(N-n)!}{\\left(\\frac{\\displaystyle\\nu}{\\displaystyle N}\\right)}^n\\left(1-\\frac{\\displaystyle\\nu}{\\displaystyle N}\\right)^{N-n}$\n"
   ]
  },
  {
   "cell_type": "markdown",
   "metadata": {},
   "source": [
    "$P(n;\\nu) = \\frac{\\displaystyle \\nu^N}{\\displaystyle n!}\n",
    "\\,\\frac{\\displaystyle N!}{\\displaystyle (N-n)! N^n}\n",
    "\\left(1-\\frac{\\displaystyle\\nu}{\\displaystyle N}\\right)^N\n",
    "\\left(1-\\frac{\\displaystyle\\nu}{\\displaystyle N}\\right)^{-n}$"
   ]
  },
  {
   "cell_type": "markdown",
   "metadata": {},
   "source": [
    "$P(n;\\nu) = \\frac{\\displaystyle \\nu^n}{\\displaystyle N!}\n",
    "\\,\\frac{\\displaystyle N (N-1)\\cdots (N-n-1)}{\\displaystyle N^n}\n",
    "\\left(1-\\frac{\\displaystyle\\nu}{\\displaystyle N}\\right)^N\n",
    "\\left(1-\\frac{\\displaystyle\\nu}{\\displaystyle N}\\right)^{-n}$\n",
    "\n",
    "Per $N\\rightarrow\\infty$, il primo termine resta costante, mentre gli altri tre tendono rispettivamente a:\n",
    "* 1 (al numeratore ci sono $n$ termini, tutti che tendono a $N$\n",
    "* $e^{-\\nu}$ (si tratta di un limite notevole)\n",
    "* 1 (il secondo termine in parentesi tende a zero)\n",
    "\n",
    "La distribuzione diventa quindi:\n",
    "\n",
    "$P(n;\\nu) = \\frac{\\displaystyle \\nu^n e^{-\\nu}}{\\displaystyle N!}$\n",
    "\n",
    "<span style=\"color: blue\">La distribuzione di Poisson è il modello per il numero di conteggi di un rivelatore di particelle. Il numero di conteggi $n$ acquisito in un certo tempo in cui il numero atteso di conteggio è $\\nu$, segue la distribuzione binomiale. Questo si può applicare ad un rivelatore che regista raggi cosmici oppure particelle prodotte ad un acceleratore. Il numero atteso di conteggi $\\nu$ si può confrontare con le previsioni di un modello teorico, se disponibile.\n",
    "</span>"
   ]
  },
  {
   "cell_type": "code",
   "execution_count": 32,
   "metadata": {},
   "outputs": [],
   "source": [
    "from scipy.stats import poisson"
   ]
  },
  {
   "cell_type": "code",
   "execution_count": 41,
   "metadata": {},
   "outputs": [
    {
     "data": {
      "image/png": "[encoded data removed]",
      "text/plain": [
       "<Figure size 864x576 with 1 Axes>"
      ]
     },
     "metadata": {
      "needs_background": "light"
     },
     "output_type": "display_data"
    }
   ],
   "source": [
    "plt.figure(figsize=(12,8))\n",
    "nu = 4\n",
    "N = 15\n",
    "x = list(range(N+1))\n",
    "y = [poisson.pmf(n, nu) for n in x]\n",
    "plt.bar(x,y)\n",
    "plt.xticks(x)\n",
    "plt.title('Poisson distribution')\n",
    "plt.xlabel('n')\n",
    "plt.ylabel('P(n)')\n",
    "plt.show()"
   ]
  },
  {
   "cell_type": "markdown",
   "metadata": {},
   "source": [
    "Proviamo un confronto numerico"
   ]
  },
  {
   "cell_type": "code",
   "execution_count": 43,
   "metadata": {},
   "outputs": [
    {
     "data": {
      "image/png": "[encoded data removed]",
      "text/plain": [
       "<Figure size 864x576 with 1 Axes>"
      ]
     },
     "metadata": {
      "needs_background": "light"
     },
     "output_type": "display_data"
    }
   ],
   "source": [
    "plt.figure(figsize=(12,8))\n",
    "p = 0.1\n",
    "N = 40\n",
    "nu = p*N\n",
    "x = np.arange(N+1)\n",
    "y1 = [poisson.pmf(n, nu) for n in x]\n",
    "y2 = [binom.pmf(n, N, p) for n in x]\n",
    "width = 0.4\n",
    "plt.bar(x,y1,width,label='Poisson')\n",
    "plt.bar(x+width,y2,width,label='Binomial')\n",
    "#plt.yscale('log')\n",
    "plt.title('Poisson and Binomial distributions')\n",
    "plt.xlabel('n')\n",
    "plt.ylabel('P(n)')\n",
    "plt.legend()\n",
    "plt.show()"
   ]
  },
  {
   "cell_type": "markdown",
   "metadata": {},
   "source": [
    "Vedremo che esiste un modo più semplice per ottenere la distribuzione di Poisson partendo da una distribuzione uniforme.\n",
    "Ma dobbiamo prima introdurre in modo più sistematico le distribuzioni di probabilità in particolare nel caso continuo."
   ]
  },
  {
   "cell_type": "markdown",
   "metadata": {},
   "source": [
    "# Esempi di applicazione concreta del processo di Poisson:\n",
    "* Numero di morti in un giorno in Italia. Il processo è chiaramente binomiale ($N\\simeq 60.000.000$), ma la probabilità $p$ è talmente piccola che $N$ si può considerare infinito. Il numero di morti al giorno $\\nu$ vale circa $1.500$.\n",
    "* Numero di gocce di pioggia che cade in un secchio in un minuto.\n",
    "* Numero di raggi cosmici che attraversano un rivelatore in un minuto.\n",
    "\n",
    "Sono tutti casi in cui il tasso degli eventi di interesse è noto e non c'è un limite superiore, almento in teoria, al numero di casi che si possono osservare."
   ]
  }
 ],
 "metadata": {
  "kernelspec": {
   "display_name": "Python 3",
   "language": "python",
   "name": "python3"
  },
  "language_info": {
   "codemirror_mode": {
    "name": "ipython",
    "version": 3
   },
   "file_extension": ".py",
   "mimetype": "text/x-python",
   "name": "python",
   "nbconvert_exporter": "python",
   "pygments_lexer": "ipython3",
   "version": "3.7.3"
  }
 },
 "nbformat": 4,
 "nbformat_minor": 4
}
