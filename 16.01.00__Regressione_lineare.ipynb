{
 "cells": [
  {
   "cell_type": "markdown",
   "metadata": {},
   "source": [
    "# Regressione lineare\n",
    "\n",
    "L'applicazione del metodo del minimo $\\chi^2$ è nel caso di una funzione $f$ lineare:\n",
    "\n",
    "$y=f(x;a,b) = a+b\\,x$\n",
    "\n",
    "dobbiamo minimizzare:\n",
    "\n",
    "$\\displaystyle \\chi^2(a,b) = -2\\log p = \\sum_{i=1}^N\\frac{(y_i-a-b\\,x_i)^2}{\\sigma_i^2}$\n",
    "\n",
    "L'equazione sopra è vera *a meno di un termine costante* che non contribuisce alla minimizzazione."
   ]
  },
  {
   "cell_type": "markdown",
   "metadata": {},
   "source": [
    "## Pesi\n",
    "\n",
    "Conviene definire i *persi* $w_i$:\n",
    "\n",
    "$\\displaystyle w_i = \\frac{1/\\sigma_i^2}{1/\\sigma^2}$\n",
    "\n",
    "dove a sua volta $\\sigma$ è definito da:\n",
    "\n",
    "$\\displaystyle \\frac{1}{\\sigma^2} = \\sum_{i=1}^N\\frac{1}{\\sigma_i^2}$\n",
    "\n",
    "Questa scelta garantisce che $\\sum_{i=1}^Nw_i=1$."
   ]
  },
  {
   "cell_type": "markdown",
   "metadata": {},
   "source": [
    "## Minimizzazione del $\\chi^2$\n",
    "\n",
    "Possiamo quindi scrivere:\n",
    "\n",
    "$\\displaystyle \\chi^2(a, b) = \\frac{1}{\\sigma^2}\\sum_{i=1}^Nw_i(y_i-a-b\\,x_i)^2$"
   ]
  },
  {
   "cell_type": "markdown",
   "metadata": {},
   "source": [
    "Si può trovare il minimo di $\\chi^2(a,b)$ in maniera analitica imponendo:\n",
    "\n",
    "$\\displaystyle \\frac{\\partial \\chi^2(a,b)}{\\partial a} = 0$\n",
    "\n",
    "$\\displaystyle \\frac{\\partial \\chi^2(a,b)}{\\partial b} = 0$"
   ]
  },
  {
   "cell_type": "markdown",
   "metadata": {},
   "source": [
    "Le derivate si possono scrivere come:\n",
    "\n",
    "$\\displaystyle \\frac{\\partial \\chi^2(a,b)}{\\partial a} = \\frac{1}{\\sigma^2}\\sum_{i=1}^Nw_i\\frac{\\partial}{\\partial a}(y_i-a-b\\,x_i)^2=\n",
    "-2 \\frac{1}{\\sigma^2}\\sum_{i=1}^Nw_i(y_i-a-b\\,x_i) = \n",
    "\\frac{2}{\\sigma^2}\\left(-\\sum_{i=1}^Nw_i y_i+a+b\\sum_{i=1}^Nw_ix_i\\right)\n",
    "$\n",
    "\n",
    "$\\displaystyle \\frac{\\partial \\chi^2(a,b)}{\\partial b} = \\frac{1}{\\sigma^2}\\sum_{i=1}^N w_i\\frac{\\partial}{\\partial b}(y_i-a-b\\,x_i)^2=\n",
    "-2 \\frac{1}{\\sigma^2}\\sum_{i=1}^Nw_i(y_i-a-b\\,x_i) = \n",
    "\\frac{2}{\\sigma^2}\\left(-\\sum_{i=1}^Nw_i x_i y_i + a\\sum_{i=1}^Nw_ix_i+b\\sum_{i=1}^Nw_ix_i^2\\right)\n",
    "$"
   ]
  },
  {
   "cell_type": "markdown",
   "metadata": {},
   "source": [
    "Possiamo introdurre le *medie pesate* per le quantità $\\alpha_i$, che di volta in volta potranno essere $x_i$, $y_i$, $x_i y_i$, $x_i^2$, ecc.:\n",
    "\n",
    "$\\displaystyle \\left<\\alpha\\right> = \\sum_{i=1}^Nw_i\\alpha_i$"
   ]
  },
  {
   "cell_type": "markdown",
   "metadata": {},
   "source": [
    "Riscriviamo quindi:\n",
    "\n",
    "$\\displaystyle \\frac{\\partial \\chi^2(a,b)}{\\partial a} =\n",
    "\\frac{2}{\\sigma^2}\\left(-\\left<y\\right>+a+b\\left<x\\right>\\right)\n",
    "$\n",
    "\n",
    "$\\displaystyle \\frac{\\partial \\chi^2(a,b)}{\\partial b} = \n",
    "\\frac{2}{\\sigma^2}\\left(-\\left<x y\\right> + a\\left<x\\right>+b\\left<x^2\\right>\\right)\n",
    "$"
   ]
  },
  {
   "cell_type": "markdown",
   "metadata": {},
   "source": [
    "Uguagliando le derivate a zero, si ottiene quindi:\n",
    "\n",
    "$\\displaystyle \\left<y\\right> = a+b\\left<x\\right>$\n",
    "\n",
    "$\\displaystyle \\left<x y\\right> = a\\left<x\\right> b + \\left<x^2\\right>$"
   ]
  },
  {
   "cell_type": "markdown",
   "metadata": {},
   "source": [
    "In forma matriciale:\n",
    "\n",
    "\n",
    "$\\displaystyle\n",
    "\\left(\\begin{array}{c}\\left<y\\right>\\\\\\left<xy\\right>\\end{array}\n",
    "\\right)=\n",
    "\\left(\\begin{array}{cc} \n",
    "1 & \\left<x\\right> \\\\\n",
    "\\left<x\\right>  & \\left<x^2\\right> \n",
    "\\end{array}\n",
    "\\right)\n",
    "\\left(\\begin{array}{c} a\\\\b\\end{array}\n",
    "\\right)\n",
    "$"
   ]
  },
  {
   "cell_type": "markdown",
   "metadata": {},
   "source": [
    "L'inversione dell'equazione matriciale dà:\n",
    "\n",
    "$\\displaystyle\n",
    "\\left(\\begin{array}{c} a\\\\b\\end{array}\n",
    "\\right)\n",
    "=\n",
    "\\left(\\begin{array}{cc} \n",
    "1 & \\left<x\\right> \\\\\n",
    "\\left<x\\right>  & \\left<x^2\\right> \n",
    "\\end{array}\n",
    "\\right)^{-1}\n",
    "\\left(\\begin{array}{c}\\left<y\\right>\\\\\\left<xy\\right>\\end{array}\n",
    "\\right)\n",
    "$"
   ]
  },
  {
   "cell_type": "markdown",
   "metadata": {},
   "source": [
    "Per calcolare l'inversione consideriamo che:\n",
    "\n",
    "$\\mathrm{det}\\left[C^{-1}\\right] = \\left<x^2\\right> - \\left<x\\right>^2 = \n",
    "\\left<(x - \\left<x\\right>)^2\\right> =\n",
    "\\mathbb{V}\\mathrm{ar}[x]$\n",
    "\n",
    "$\\displaystyle\\left(\\begin{array}{cc} \n",
    "1 & \\left<x\\right> \\\\\n",
    "\\left<x\\right>  & \\left<x^2\\right> \n",
    "\\end{array}\n",
    "\\right)^{-1}\n",
    "=\\frac{1}{\\mathbb{V}\\mathrm{ar}[x]}\n",
    "\\left(\n",
    "\\begin{array}{cc}\n",
    "\\left<x^2\\right> & -\\left<x\\right> \\\\\n",
    "-\\left<x\\right> & 1\n",
    "\\end{array}\n",
    "\\right)\n",
    "$"
   ]
  },
  {
   "cell_type": "markdown",
   "metadata": {},
   "source": [
    "Dopo qualche passaggio:\n",
    "\n",
    "$\\displaystyle b = \\hat{b} = \n",
    "\\frac{\\left<x y\\right>-\\left<x\\right>\\left<y\\right>}{\\mathbb{V}\\mathrm{ar}[x]} =\n",
    "\\frac{\\mathbb{C}\\mathrm{ov}(x, y)}{\\mathbb{V}\\mathrm{ar}[x]}$\n",
    "\n",
    "$a = \\hat{a} = \\left<y\\right> -\\hat{b}\\left<x\\right>$"
   ]
  },
  {
   "cell_type": "markdown",
   "metadata": {},
   "source": [
    "Formule equivalenti sono:\n",
    "\n",
    "$\\displaystyle\\hat{b} = \\frac{\\left<(x-\\left<x\\right>)(y-\\left<y\\right>)\\right>}{\\left<(x-\\left<x\\right>)^2\\right>} =\n",
    "\\frac{\\left<x y\\right>-\\left<x\\right>\\left<y\\right>}{\\left<x^2\\right>-\\left<x\\right>^2} =\n",
    "\\frac{\\mathbb{C}\\mathrm{ov}(x, y)}{\\sigma_x^2}\n",
    "$\n",
    "\n",
    "$\\displaystyle\\hat{a} = \\left<y\\right> - \\hat{b}\\left<x\\right>$"
   ]
  },
  {
   "cell_type": "markdown",
   "metadata": {},
   "source": [
    "## Stima degli errori\n",
    "\n",
    "Gli errori si possono stimare come:\n",
    "\n",
    "$\\displaystyle  \\frac{1}{\\sigma_{\\hat{a}}^2} = -\\frac{\\partial^2 \\log L}{\\partial a^2} = \\frac{1}{2}\\frac{\\partial^2 \\chi^2}{\\partial a^2}$\n",
    "\n",
    "$\\displaystyle  \\frac{1}{\\sigma_{\\hat{b}}^2} = -\\frac{\\partial^2 \\log L}{\\partial b^2} = \\frac{1}{2}\\frac{\\partial^2 \\chi^2}{\\partial b^2}$\n",
    "\n",
    "Questi sono gli elementi diagonali della matrice di covarianza inversa, che ha come elemento non diagonale:\n",
    "\n",
    "$\\displaystyle  C_{ab}^{-1} = -\\frac{\\partial^2 \\log L}{\\partial a\\,\\partial b} = \\frac{1}{2}\\frac{\\partial^2 \\chi^2}{\\partial a\\,\\partial b}$"
   ]
  },
  {
   "cell_type": "markdown",
   "metadata": {},
   "source": [
    "Il calcolo delle derivate seconde si ottiene derivando le derivate prime, riportate di seguto per comodità:\n",
    "\n",
    "$\\displaystyle \\frac{\\partial \\chi^2(a,b)}{\\partial a} =\n",
    "\\frac{2}{\\sigma^2}\\left(\\left<y\\right>+a+b\\left<x\\right>\\right)\n",
    "$\n",
    "\n",
    "$\\displaystyle \\frac{\\partial \\chi^2(a,b)}{\\partial b} = \n",
    "\\frac{2}{\\sigma^2}\\left(-\\left<x y\\right> + a\\left<x\\right>+b\\left<x^2\\right>\\right)\n",
    "$"
   ]
  },
  {
   "cell_type": "markdown",
   "metadata": {},
   "source": [
    "Le derivate seconde sono quindi:\n",
    "\n",
    "$\\displaystyle \\frac{\\partial^2 \\chi^2(a,b)}{\\partial a^2} =\n",
    "\\frac{2}{\\sigma^2}\n",
    "$\n",
    "\n",
    "$\\displaystyle \\frac{\\partial^2 \\chi^2(a,b)}{\\partial b^2} = \n",
    "\\frac{2 \\left<x^2\\right>}{\\sigma^2}\n",
    "$\n",
    "\n",
    "$\\displaystyle \\frac{\\partial^2 \\chi^2(a,b)}{\\partial a\\,\\partial b} =\n",
    "\\frac{2 \\left<x\\right>}{\\sigma^2}\n",
    "$"
   ]
  },
  {
   "cell_type": "markdown",
   "metadata": {},
   "source": [
    "La matrice *inversa* di covarianza è quindi, ricrdando il fattore $1/2$ davanti alla derivata seconda del $\\chi^2$:\n",
    "\n",
    "$\\displaystyle C^{-1} = \\frac{1}{\\sigma^2}\\left(\n",
    "\\begin{array}{cc}\n",
    "1 & \\left<x\\right> \\\\\n",
    "\\left<x\\right> & \\left<x^2\\right>\n",
    "\\end{array}\n",
    "\\right)$"
   ]
  },
  {
   "cell_type": "markdown",
   "metadata": {},
   "source": [
    "L'inversione è simile a quanto abbiamo già calcolato in precedenza. La matrice di covarianza è quindi:\n",
    "\n",
    "$\\displaystyle C =\\frac{\\sigma^2}{\\sigma_x^2}\\left(\n",
    "\\begin{array}{cc}\n",
    "\\left<x^2\\right> & - \\left<x\\right> \\\\\n",
    "- \\left<x\\right> & 1\n",
    "\\end{array}\n",
    "\\right)\n",
    "$"
   ]
  },
  {
   "cell_type": "markdown",
   "metadata": {},
   "source": [
    "Procedendo col calcolo si ottiene:\n",
    "\n",
    "$\\displaystyle \\sigma_{\\hat{b}}^2 = \\frac{\\sigma^2}{\\sigma_x^2}$\n",
    "\n",
    "$\\displaystyle \\sigma_{\\hat{a}}^2 = \\frac{\\sigma^2}{\\sigma_x^2} \\left<x^2\\right> = \n",
    "\\sigma_{\\hat{b}}^2 \\left<x^2\\right>\n",
    "$\n",
    "\n",
    "\n",
    "$\\displaystyle \\mathbb{C}\\mathrm{ov}(\\hat{a}, \\hat{b}) = - \\frac{\\sigma^2}{\\sigma_x^2} \\left<x\\right> = \n",
    "- \\sigma_{\\hat{b}}^2\\left<x\\right>\n",
    "$"
   ]
  },
  {
   "cell_type": "markdown",
   "metadata": {},
   "source": [
    "Al posto di $\\sigma^2$ definito in precedenza, si preferisce stimare l'errore medio in base alle effettive deviazioni dei punti sperimentali dalle retta ottenuta dal fit. Si usa quindi, nelle formule precedenti, per gli errori su $\\hat{a}$ e $\\hat{b}$:\n",
    "\n",
    "$\\displaystyle \\hat{\\sigma}^2 = \\frac{1}{N-2}\\sum_{i=1}^Nw_i\\left(y_i -\\hat{y}_i\\right)^2$\n",
    "\n",
    "Dove abbiamo definito $\\hat{y}_i = f(x_i; a, b) = \\hat{a}+\\hat{b}\\, x$, ossia i valori delle $y$ sulla curva interpolata.\n",
    "\n",
    "L'uso di $N-2$ al demonimatore tiene conto del numero di gradi di libertà determinati dal fit, ossia le stime dei parametri $a$ e $b$. In questo modo si evita un possibile **bias**."
   ]
  },
  {
   "cell_type": "markdown",
   "metadata": {},
   "source": [
    "I valori $\\varepsilon_i = y_i -\\hat{y}_i$ prendono il nome di **residui**.\n",
    "\n",
    "Possiamo scrivere quindi:\n",
    "\n",
    "$\\displaystyle \\hat{\\sigma}^2 = \\frac{1}{N-2}\\left<\\varepsilon^2\\right>$"
   ]
  },
  {
   "cell_type": "markdown",
   "metadata": {},
   "source": [
    "I valori $\\varepsilon_i = y_i -\\hat{y}_i$ prendono il nome di **residui**.\n",
    "\n",
    "Possiamo scrivere quindi:\n",
    "\n",
    "$\\displaystyle \\hat{\\sigma}^2 = \\frac{1}{N-2}\\left<\\varepsilon^2\\right>$"
   ]
  },
  {
   "cell_type": "markdown",
   "metadata": {},
   "source": [
    "<span style=\"color:blue\">Assumento pesi tutti uguali, l'uso di $\\hat{\\sigma}$ permette il calcolo dell'errore sui parametri $\\hat{a}$ e $\\hat{b}$ anche quandi l'errore sulle singole misure $y_i$ non sono noti.</span>"
   ]
  },
  {
   "cell_type": "markdown",
   "metadata": {},
   "source": [
    "<span style=\"color:blue\">Nota: questo calcolo dell'errore è il default nella funzione ```curve_fit``` che già abbiamo usato. Per usare gli errori $\\sigma_i$ anziché l'errore quadratico medio, bisogna abilitare l'opzione ```absolute_sigma```, che di default è ```False```."
   ]
  },
  {
   "cell_type": "markdown",
   "metadata": {},
   "source": [
    "## Il Coefficiente di determinazione $R^2$\n",
    "\n",
    "È poco usato in fisica, ma si trova in diverse liberie il **coefficiente di determinazione** $R^2$ che è definito come:\n",
    "\n",
    "$\\displaystyle R^2 = \\frac{\\sum_{i=1}^n(\\hat{y}_i-\\left<y\\right>)^2}{\\sum_{i=1}^n(y_i-\\left<y\\right>)^2}$\n",
    "\n",
    "$R^2$ varia tra 0 e 1 e talvolta è espresso come percentuale.\n",
    "\n",
    "$R^2=1$ corrisponde a punti totalmente allineati sulla curva (deve essere $\\hat{y}_i = y_i$), mentr $R^2=0$ corrisponde ad una retta perfettamente orizzontale, per cui la curva stimata prevede che $y$ sia insensibile ad $x$."
   ]
  },
  {
   "cell_type": "code",
   "execution_count": 26,
   "metadata": {},
   "outputs": [],
   "source": [
    "import math\n",
    "import random\n",
    "import numpy as np\n",
    "import matplotlib.pyplot as plt\n",
    "import pandas as pd\n",
    "from scipy import stats"
   ]
  },
  {
   "cell_type": "markdown",
   "metadata": {},
   "source": [
    "Generiamo una sequenza di punti allineati lungo una linea con dispersione verticale generata in modo gaussiano"
   ]
  },
  {
   "cell_type": "code",
   "execution_count": 27,
   "metadata": {},
   "outputs": [
    {
     "data": {
      "image/png": "[encoded data removed]",
      "text/plain": [
       "<Figure size 800x600 with 1 Axes>"
      ]
     },
     "metadata": {
      "needs_background": "light"
     },
     "output_type": "display_data"
    }
   ],
   "source": [
    "n_points = 20\n",
    "x_min = 0.0; x_max = 10.0\n",
    "sigma = 1.5\n",
    "a0 = 3.0; b0 = 1.5\n",
    "x = np.sort([random.uniform(x_min, x_max) for i in range(n_points)])\n",
    "y = np.array([random.gauss(a0 + x[i]*b0, sigma) for i in range(n_points)])\n",
    "plt.figure(figsize=(8,6), dpi=100)\n",
    "plt.plot(x,y, 'o')\n",
    "plt.xlabel('x')\n",
    "plt.ylabel('y')\n",
    "plt.show()"
   ]
  },
  {
   "cell_type": "markdown",
   "metadata": {},
   "source": [
    "Calcolo della media di $x$ e $y$ e dei vettori con le deviazioni"
   ]
  },
  {
   "cell_type": "code",
   "execution_count": 28,
   "metadata": {},
   "outputs": [],
   "source": [
    "x_mean, y_mean = x.mean(), y.mean()\n",
    "dx, dy = x - x_mean, y - y_mean\n",
    "dxdy = dx*dy; dx2 = dx*dx"
   ]
  },
  {
   "cell_type": "markdown",
   "metadata": {},
   "source": [
    "Calcolo dei coefficienti del fit"
   ]
  },
  {
   "cell_type": "code",
   "execution_count": 29,
   "metadata": {},
   "outputs": [
    {
     "name": "stdout",
     "output_type": "stream",
     "text": [
      "a, b =  3.8450629269247827 1.3742461916260829\n"
     ]
    }
   ],
   "source": [
    "dxdy_mean, dx2_mean = dxdy.mean(), dx2.mean()\n",
    "b_fit = dxdy_mean/dx2_mean\n",
    "a_fit = y_mean - b_fit*x_mean\n",
    "print(\"a, b = \", a_fit, b_fit)\n",
    "def fit_line(x):\n",
    "    return a_fit + x*b_fit"
   ]
  },
  {
   "cell_type": "code",
   "execution_count": 30,
   "metadata": {},
   "outputs": [
    {
     "data": {
      "image/png": "[encoded data removed]",
      "text/plain": [
       "<Figure size 800x600 with 1 Axes>"
      ]
     },
     "metadata": {
      "needs_background": "light"
     },
     "output_type": "display_data"
    }
   ],
   "source": [
    "plt.figure(figsize=(8,6), dpi=100)\n",
    "plt.plot(x,y, 'o')\n",
    "plt.plot([x_min,x_max],[fit_line(x_min), fit_line(x_max)])\n",
    "plt.xlabel('x')\n",
    "plt.ylabel('y')\n",
    "plt.show()"
   ]
  },
  {
   "cell_type": "markdown",
   "metadata": {},
   "source": [
    "Calcolo dei valori interpolati e dei residui"
   ]
  },
  {
   "cell_type": "code",
   "execution_count": 31,
   "metadata": {},
   "outputs": [],
   "source": [
    "y_fit = a_fit + b_fit*x\n",
    "res = y - y_fit\n",
    "res2 = res*res"
   ]
  },
  {
   "cell_type": "markdown",
   "metadata": {},
   "source": [
    "Stima degli errori"
   ]
  },
  {
   "cell_type": "code",
   "execution_count": 32,
   "metadata": {},
   "outputs": [
    {
     "name": "stdout",
     "output_type": "stream",
     "text": [
      "b =  1.3742461916260829 +/- 0.16450433003209086\n",
      "a =  3.8450629269247827 +/- 0.981204447828564\n",
      "cov(a,b) =  -0.14404049118989973\n",
      "chi^2 =  31.373038040836004 / 18 ndof\n",
      "p =  0.026053425745374503\n"
     ]
    }
   ],
   "source": [
    "x2 = x*x\n",
    "x2_mean = x2.mean()\n",
    "res2_mean = res2.mean()\n",
    "chi2 = res2_mean*n_points/(sigma*sigma)\n",
    "ndof = n_points-2\n",
    "var_b = res2_mean/dx2_mean/(n_points-2)\n",
    "var_a = var_b*x2_mean\n",
    "cov_ab = -var_b*x_mean\n",
    "err_b = math.sqrt(var_b)\n",
    "err_a = math.sqrt(var_a)\n",
    "print('b = ', b_fit , '+/-', err_b)\n",
    "print('a = ', a_fit , '+/-', err_a)\n",
    "print('cov(a,b) = ', cov_ab)\n",
    "print('chi^2 = ', chi2, \"/\", ndof, \"ndof\")\n",
    "print('p = ', 1 - stats.chi2.cdf(chi2, ndof))"
   ]
  },
  {
   "cell_type": "markdown",
   "metadata": {},
   "source": [
    "Confrontiamo con [```scipy.stats.linregres```](https://docs.scipy.org/doc/scipy/reference/generated/scipy.stats.linregress.html).\n",
    "\n",
    "<span style=\"color: blue\">Da notare che il $p$-value è relativo all'ipotesi che la pendenza sia zero, non è relativo al $\\chi^2$ del fit.</span>\n",
    "\n",
    "<span style=\"color: red\">La funzione non implementa fit pesati.</span>"
   ]
  },
  {
   "cell_type": "code",
   "execution_count": 33,
   "metadata": {},
   "outputs": [
    {
     "name": "stdout",
     "output_type": "stream",
     "text": [
      "b =  1.374246191626083\n",
      "a =  3.845062926924781\n",
      "err =  0.16450433003209083\n",
      "R^2 =  0.7949582089247165\n",
      "p =  1.3159415358062288e-07\n"
     ]
    }
   ],
   "source": [
    "slope, intercept, r_value, p_value, std_err = stats.linregress(x, y)\n",
    "print('b = ', slope)\n",
    "print('a = ', intercept)\n",
    "print('err = ', std_err)\n",
    "print('R^2 = ', r_value*r_value)\n",
    "print('p = ', p_value)"
   ]
  },
  {
   "cell_type": "markdown",
   "metadata": {},
   "source": [
    "Propagazione degli errori su $a$ e $b$, considerando il coefficiente di covarianza:\n",
    "\n",
    "$y = a + b x$\n",
    "\n",
    "$\\sigma_y^2 = \\sigma_a^2 + 2x\\,\\mathrm{cov}(a,b) + x^2\\sigma_b^2$"
   ]
  },
  {
   "cell_type": "code",
   "execution_count": 34,
   "metadata": {},
   "outputs": [],
   "source": [
    "y_err_fit = np.sqrt(var_a + 2*x*cov_ab + x2*var_b)\n",
    "y_lo_fit = y_fit - y_err_fit\n",
    "y_hi_fit = y_fit + y_err_fit"
   ]
  },
  {
   "cell_type": "code",
   "execution_count": 35,
   "metadata": {},
   "outputs": [
    {
     "data": {
      "image/png": "[encoded data removed]",
      "text/plain": [
       "<Figure size 800x600 with 1 Axes>"
      ]
     },
     "metadata": {
      "needs_background": "light"
     },
     "output_type": "display_data"
    }
   ],
   "source": [
    "plt.figure(figsize=(8,6), dpi=100)\n",
    "plt.fill_between(x, y_lo_fit, y_hi_fit, facecolor='orange')\n",
    "plt.plot(x,y, 'o')\n",
    "plt.plot([x_min,x_max],[fit_line(x_min), fit_line(x_max)], color='darkred')\n",
    "plt.xlabel('x')\n",
    "plt.ylabel('y')\n",
    "plt.show()"
   ]
  },
  {
   "cell_type": "markdown",
   "metadata": {},
   "source": [
    "Possiamo costruzione un ```DataFrame``` pandas per visualizzazione della tabella e salvarlo in formato csv per poterlo importare in un foglio di calcolo."
   ]
  },
  {
   "cell_type": "code",
   "execution_count": 38,
   "metadata": {},
   "outputs": [
    {
     "data": {
      "text/html": [
       "<div>\n",
       "<style scoped>\n",
       "    .dataframe tbody tr th:only-of-type {\n",
       "        vertical-align: middle;\n",
       "    }\n",
       "\n",
       "    .dataframe tbody tr th {\n",
       "        vertical-align: top;\n",
       "    }\n",
       "\n",
       "    .dataframe thead th {\n",
       "        text-align: right;\n",
       "    }\n",
       "</style>\n",
       "<table border=\"1\" class=\"dataframe\">\n",
       "  <thead>\n",
       "    <tr style=\"text-align: right;\">\n",
       "      <th></th>\n",
       "      <th>x</th>\n",
       "      <th>y</th>\n",
       "      <th>dx</th>\n",
       "      <th>dy</th>\n",
       "      <th>x2</th>\n",
       "      <th>dxdy</th>\n",
       "      <th>dx2</th>\n",
       "      <th>y_fit</th>\n",
       "      <th>res</th>\n",
       "      <th>res2</th>\n",
       "      <th>y_err_fit</th>\n",
       "      <th>y_lo_fit</th>\n",
       "      <th>y_hi_fit</th>\n",
       "    </tr>\n",
       "  </thead>\n",
       "  <tbody>\n",
       "    <tr>\n",
       "      <th>0</th>\n",
       "      <td>0.017436</td>\n",
       "      <td>0.929201</td>\n",
       "      <td>-5.305239</td>\n",
       "      <td>-10.230527</td>\n",
       "      <td>0.000304</td>\n",
       "      <td>54.275392</td>\n",
       "      <td>28.145559</td>\n",
       "      <td>3.869024</td>\n",
       "      <td>-2.939823</td>\n",
       "      <td>8.642560</td>\n",
       "      <td>0.978646</td>\n",
       "      <td>2.890378</td>\n",
       "      <td>4.847670</td>\n",
       "    </tr>\n",
       "    <tr>\n",
       "      <th>1</th>\n",
       "      <td>0.664646</td>\n",
       "      <td>8.219683</td>\n",
       "      <td>-4.658029</td>\n",
       "      <td>-2.940045</td>\n",
       "      <td>0.441754</td>\n",
       "      <td>13.694815</td>\n",
       "      <td>21.697236</td>\n",
       "      <td>4.758450</td>\n",
       "      <td>3.461234</td>\n",
       "      <td>11.980141</td>\n",
       "      <td>0.885011</td>\n",
       "      <td>3.873438</td>\n",
       "      <td>5.643461</td>\n",
       "    </tr>\n",
       "    <tr>\n",
       "      <th>2</th>\n",
       "      <td>1.212681</td>\n",
       "      <td>4.539766</td>\n",
       "      <td>-4.109994</td>\n",
       "      <td>-6.619963</td>\n",
       "      <td>1.470595</td>\n",
       "      <td>27.208004</td>\n",
       "      <td>16.892047</td>\n",
       "      <td>5.511585</td>\n",
       "      <td>-0.971819</td>\n",
       "      <td>0.944433</td>\n",
       "      <td>0.808213</td>\n",
       "      <td>4.703372</td>\n",
       "      <td>6.319799</td>\n",
       "    </tr>\n",
       "    <tr>\n",
       "      <th>3</th>\n",
       "      <td>2.349137</td>\n",
       "      <td>7.601232</td>\n",
       "      <td>-2.973537</td>\n",
       "      <td>-3.558496</td>\n",
       "      <td>5.518447</td>\n",
       "      <td>10.581321</td>\n",
       "      <td>8.841924</td>\n",
       "      <td>7.073356</td>\n",
       "      <td>0.527876</td>\n",
       "      <td>0.278653</td>\n",
       "      <td>0.659817</td>\n",
       "      <td>6.413539</td>\n",
       "      <td>7.733173</td>\n",
       "    </tr>\n",
       "    <tr>\n",
       "      <th>4</th>\n",
       "      <td>2.522391</td>\n",
       "      <td>6.011260</td>\n",
       "      <td>-2.800284</td>\n",
       "      <td>-5.148468</td>\n",
       "      <td>6.362454</td>\n",
       "      <td>14.417174</td>\n",
       "      <td>7.841591</td>\n",
       "      <td>7.311449</td>\n",
       "      <td>-1.300188</td>\n",
       "      <td>1.690490</td>\n",
       "      <td>0.638974</td>\n",
       "      <td>6.672474</td>\n",
       "      <td>7.950423</td>\n",
       "    </tr>\n",
       "    <tr>\n",
       "      <th>5</th>\n",
       "      <td>3.886830</td>\n",
       "      <td>11.863040</td>\n",
       "      <td>-1.435845</td>\n",
       "      <td>0.703311</td>\n",
       "      <td>15.107449</td>\n",
       "      <td>-1.009845</td>\n",
       "      <td>2.061650</td>\n",
       "      <td>9.186524</td>\n",
       "      <td>2.676515</td>\n",
       "      <td>7.163733</td>\n",
       "      <td>0.501870</td>\n",
       "      <td>8.684655</td>\n",
       "      <td>9.688394</td>\n",
       "    </tr>\n",
       "    <tr>\n",
       "      <th>6</th>\n",
       "      <td>4.460499</td>\n",
       "      <td>11.673934</td>\n",
       "      <td>-0.862176</td>\n",
       "      <td>0.514206</td>\n",
       "      <td>19.896052</td>\n",
       "      <td>-0.443336</td>\n",
       "      <td>0.743347</td>\n",
       "      <td>9.974887</td>\n",
       "      <td>1.699047</td>\n",
       "      <td>2.886762</td>\n",
       "      <td>0.464971</td>\n",
       "      <td>9.509916</td>\n",
       "      <td>10.439857</td>\n",
       "    </tr>\n",
       "    <tr>\n",
       "      <th>7</th>\n",
       "      <td>5.022105</td>\n",
       "      <td>10.758893</td>\n",
       "      <td>-0.300570</td>\n",
       "      <td>-0.400835</td>\n",
       "      <td>25.221536</td>\n",
       "      <td>0.120479</td>\n",
       "      <td>0.090342</td>\n",
       "      <td>10.746671</td>\n",
       "      <td>0.012222</td>\n",
       "      <td>0.000149</td>\n",
       "      <td>0.445563</td>\n",
       "      <td>10.301108</td>\n",
       "      <td>11.192234</td>\n",
       "    </tr>\n",
       "    <tr>\n",
       "      <th>8</th>\n",
       "      <td>5.511411</td>\n",
       "      <td>10.683371</td>\n",
       "      <td>0.188737</td>\n",
       "      <td>-0.476358</td>\n",
       "      <td>30.375657</td>\n",
       "      <td>-0.089906</td>\n",
       "      <td>0.035622</td>\n",
       "      <td>11.419099</td>\n",
       "      <td>-0.735728</td>\n",
       "      <td>0.541296</td>\n",
       "      <td>0.443898</td>\n",
       "      <td>10.975201</td>\n",
       "      <td>11.862997</td>\n",
       "    </tr>\n",
       "    <tr>\n",
       "      <th>9</th>\n",
       "      <td>5.566138</td>\n",
       "      <td>13.019964</td>\n",
       "      <td>0.243463</td>\n",
       "      <td>1.860235</td>\n",
       "      <td>30.981893</td>\n",
       "      <td>0.452899</td>\n",
       "      <td>0.059274</td>\n",
       "      <td>11.494307</td>\n",
       "      <td>1.525657</td>\n",
       "      <td>2.327628</td>\n",
       "      <td>0.444618</td>\n",
       "      <td>11.049689</td>\n",
       "      <td>11.938925</td>\n",
       "    </tr>\n",
       "    <tr>\n",
       "      <th>10</th>\n",
       "      <td>6.068361</td>\n",
       "      <td>7.415998</td>\n",
       "      <td>0.745686</td>\n",
       "      <td>-3.743730</td>\n",
       "      <td>36.825007</td>\n",
       "      <td>-2.791649</td>\n",
       "      <td>0.556048</td>\n",
       "      <td>12.184485</td>\n",
       "      <td>-4.768487</td>\n",
       "      <td>22.738467</td>\n",
       "      <td>0.459488</td>\n",
       "      <td>11.724997</td>\n",
       "      <td>12.643973</td>\n",
       "    </tr>\n",
       "    <tr>\n",
       "      <th>11</th>\n",
       "      <td>6.352962</td>\n",
       "      <td>10.412644</td>\n",
       "      <td>1.030288</td>\n",
       "      <td>-0.747084</td>\n",
       "      <td>40.360130</td>\n",
       "      <td>-0.769711</td>\n",
       "      <td>1.061493</td>\n",
       "      <td>12.575597</td>\n",
       "      <td>-2.162953</td>\n",
       "      <td>4.678365</td>\n",
       "      <td>0.474138</td>\n",
       "      <td>12.101459</td>\n",
       "      <td>13.049736</td>\n",
       "    </tr>\n",
       "    <tr>\n",
       "      <th>12</th>\n",
       "      <td>6.877408</td>\n",
       "      <td>14.423561</td>\n",
       "      <td>1.554733</td>\n",
       "      <td>3.263833</td>\n",
       "      <td>47.298734</td>\n",
       "      <td>5.074387</td>\n",
       "      <td>2.417194</td>\n",
       "      <td>13.296314</td>\n",
       "      <td>1.127247</td>\n",
       "      <td>1.270685</td>\n",
       "      <td>0.511366</td>\n",
       "      <td>12.784948</td>\n",
       "      <td>13.807680</td>\n",
       "    </tr>\n",
       "    <tr>\n",
       "      <th>13</th>\n",
       "      <td>6.960322</td>\n",
       "      <td>14.082324</td>\n",
       "      <td>1.637647</td>\n",
       "      <td>2.922595</td>\n",
       "      <td>48.446082</td>\n",
       "      <td>4.786180</td>\n",
       "      <td>2.681889</td>\n",
       "      <td>13.410259</td>\n",
       "      <td>0.672065</td>\n",
       "      <td>0.451671</td>\n",
       "      <td>0.518322</td>\n",
       "      <td>12.891937</td>\n",
       "      <td>13.928581</td>\n",
       "    </tr>\n",
       "    <tr>\n",
       "      <th>14</th>\n",
       "      <td>7.180066</td>\n",
       "      <td>14.674400</td>\n",
       "      <td>1.857391</td>\n",
       "      <td>3.514672</td>\n",
       "      <td>51.553343</td>\n",
       "      <td>6.528120</td>\n",
       "      <td>3.449901</td>\n",
       "      <td>13.712241</td>\n",
       "      <td>0.962159</td>\n",
       "      <td>0.925751</td>\n",
       "      <td>0.537998</td>\n",
       "      <td>13.174243</td>\n",
       "      <td>14.250239</td>\n",
       "    </tr>\n",
       "    <tr>\n",
       "      <th>15</th>\n",
       "      <td>7.247225</td>\n",
       "      <td>14.780858</td>\n",
       "      <td>1.924550</td>\n",
       "      <td>3.621129</td>\n",
       "      <td>52.522267</td>\n",
       "      <td>6.969045</td>\n",
       "      <td>3.703893</td>\n",
       "      <td>13.804534</td>\n",
       "      <td>0.976324</td>\n",
       "      <td>0.953208</td>\n",
       "      <td>0.544348</td>\n",
       "      <td>13.260186</td>\n",
       "      <td>14.348882</td>\n",
       "    </tr>\n",
       "    <tr>\n",
       "      <th>16</th>\n",
       "      <td>8.082547</td>\n",
       "      <td>13.405219</td>\n",
       "      <td>2.759872</td>\n",
       "      <td>2.245491</td>\n",
       "      <td>65.327558</td>\n",
       "      <td>6.197267</td>\n",
       "      <td>7.616892</td>\n",
       "      <td>14.952472</td>\n",
       "      <td>-1.547252</td>\n",
       "      <td>2.393990</td>\n",
       "      <td>0.634198</td>\n",
       "      <td>14.318274</td>\n",
       "      <td>15.586670</td>\n",
       "    </tr>\n",
       "    <tr>\n",
       "      <th>17</th>\n",
       "      <td>8.434572</td>\n",
       "      <td>15.118899</td>\n",
       "      <td>3.111897</td>\n",
       "      <td>3.959171</td>\n",
       "      <td>71.142001</td>\n",
       "      <td>12.320533</td>\n",
       "      <td>9.683903</td>\n",
       "      <td>15.436241</td>\n",
       "      <td>-0.317342</td>\n",
       "      <td>0.100706</td>\n",
       "      <td>0.676863</td>\n",
       "      <td>14.759378</td>\n",
       "      <td>16.113105</td>\n",
       "    </tr>\n",
       "    <tr>\n",
       "      <th>18</th>\n",
       "      <td>8.922835</td>\n",
       "      <td>16.736543</td>\n",
       "      <td>3.600160</td>\n",
       "      <td>5.576815</td>\n",
       "      <td>79.616979</td>\n",
       "      <td>20.077426</td>\n",
       "      <td>12.961152</td>\n",
       "      <td>16.107235</td>\n",
       "      <td>0.629309</td>\n",
       "      <td>0.396030</td>\n",
       "      <td>0.739481</td>\n",
       "      <td>15.367754</td>\n",
       "      <td>16.846715</td>\n",
       "    </tr>\n",
       "    <tr>\n",
       "      <th>19</th>\n",
       "      <td>9.113924</td>\n",
       "      <td>16.843777</td>\n",
       "      <td>3.791249</td>\n",
       "      <td>5.684048</td>\n",
       "      <td>83.063606</td>\n",
       "      <td>21.549642</td>\n",
       "      <td>14.373569</td>\n",
       "      <td>16.369838</td>\n",
       "      <td>0.473939</td>\n",
       "      <td>0.224618</td>\n",
       "      <td>0.764888</td>\n",
       "      <td>15.604949</td>\n",
       "      <td>17.134726</td>\n",
       "    </tr>\n",
       "  </tbody>\n",
       "</table>\n",
       "</div>"
      ],
      "text/plain": [
       "           x          y        dx         dy         x2       dxdy        dx2  \\\n",
       "0   0.017436   0.929201 -5.305239 -10.230527   0.000304  54.275392  28.145559   \n",
       "1   0.664646   8.219683 -4.658029  -2.940045   0.441754  13.694815  21.697236   \n",
       "2   1.212681   4.539766 -4.109994  -6.619963   1.470595  27.208004  16.892047   \n",
       "3   2.349137   7.601232 -2.973537  -3.558496   5.518447  10.581321   8.841924   \n",
       "4   2.522391   6.011260 -2.800284  -5.148468   6.362454  14.417174   7.841591   \n",
       "5   3.886830  11.863040 -1.435845   0.703311  15.107449  -1.009845   2.061650   \n",
       "6   4.460499  11.673934 -0.862176   0.514206  19.896052  -0.443336   0.743347   \n",
       "7   5.022105  10.758893 -0.300570  -0.400835  25.221536   0.120479   0.090342   \n",
       "8   5.511411  10.683371  0.188737  -0.476358  30.375657  -0.089906   0.035622   \n",
       "9   5.566138  13.019964  0.243463   1.860235  30.981893   0.452899   0.059274   \n",
       "10  6.068361   7.415998  0.745686  -3.743730  36.825007  -2.791649   0.556048   \n",
       "11  6.352962  10.412644  1.030288  -0.747084  40.360130  -0.769711   1.061493   \n",
       "12  6.877408  14.423561  1.554733   3.263833  47.298734   5.074387   2.417194   \n",
       "13  6.960322  14.082324  1.637647   2.922595  48.446082   4.786180   2.681889   \n",
       "14  7.180066  14.674400  1.857391   3.514672  51.553343   6.528120   3.449901   \n",
       "15  7.247225  14.780858  1.924550   3.621129  52.522267   6.969045   3.703893   \n",
       "16  8.082547  13.405219  2.759872   2.245491  65.327558   6.197267   7.616892   \n",
       "17  8.434572  15.118899  3.111897   3.959171  71.142001  12.320533   9.683903   \n",
       "18  8.922835  16.736543  3.600160   5.576815  79.616979  20.077426  12.961152   \n",
       "19  9.113924  16.843777  3.791249   5.684048  83.063606  21.549642  14.373569   \n",
       "\n",
       "        y_fit       res       res2  y_err_fit   y_lo_fit   y_hi_fit  \n",
       "0    3.869024 -2.939823   8.642560   0.978646   2.890378   4.847670  \n",
       "1    4.758450  3.461234  11.980141   0.885011   3.873438   5.643461  \n",
       "2    5.511585 -0.971819   0.944433   0.808213   4.703372   6.319799  \n",
       "3    7.073356  0.527876   0.278653   0.659817   6.413539   7.733173  \n",
       "4    7.311449 -1.300188   1.690490   0.638974   6.672474   7.950423  \n",
       "5    9.186524  2.676515   7.163733   0.501870   8.684655   9.688394  \n",
       "6    9.974887  1.699047   2.886762   0.464971   9.509916  10.439857  \n",
       "7   10.746671  0.012222   0.000149   0.445563  10.301108  11.192234  \n",
       "8   11.419099 -0.735728   0.541296   0.443898  10.975201  11.862997  \n",
       "9   11.494307  1.525657   2.327628   0.444618  11.049689  11.938925  \n",
       "10  12.184485 -4.768487  22.738467   0.459488  11.724997  12.643973  \n",
       "11  12.575597 -2.162953   4.678365   0.474138  12.101459  13.049736  \n",
       "12  13.296314  1.127247   1.270685   0.511366  12.784948  13.807680  \n",
       "13  13.410259  0.672065   0.451671   0.518322  12.891937  13.928581  \n",
       "14  13.712241  0.962159   0.925751   0.537998  13.174243  14.250239  \n",
       "15  13.804534  0.976324   0.953208   0.544348  13.260186  14.348882  \n",
       "16  14.952472 -1.547252   2.393990   0.634198  14.318274  15.586670  \n",
       "17  15.436241 -0.317342   0.100706   0.676863  14.759378  16.113105  \n",
       "18  16.107235  0.629309   0.396030   0.739481  15.367754  16.846715  \n",
       "19  16.369838  0.473939   0.224618   0.764888  15.604949  17.134726  "
      ]
     },
     "execution_count": 38,
     "metadata": {},
     "output_type": "execute_result"
    }
   ],
   "source": [
    "df = pd.DataFrame({'x': x, 'y':y, 'dx': dx, 'dy': dy, 'x2': x2, 'dxdy': dxdy, 'dx2': dx2,\n",
    "    'y_fit': y_fit, 'res': res, 'res2': res2,\n",
    "    'y_err_fit': y_err_fit, 'y_lo_fit': y_lo_fit, 'y_hi_fit': y_hi_fit})\n",
    "df.to_csv('output/linear_regression.csv')\n",
    "df"
   ]
  },
  {
   "cell_type": "code",
   "execution_count": null,
   "metadata": {},
   "outputs": [],
   "source": []
  }
 ],
 "metadata": {
  "kernelspec": {
   "display_name": "Python 3",
   "language": "python",
   "name": "python3"
  },
  "language_info": {
   "codemirror_mode": {
    "name": "ipython",
    "version": 3
   },
   "file_extension": ".py",
   "mimetype": "text/x-python",
   "name": "python",
   "nbconvert_exporter": "python",
   "pygments_lexer": "ipython3",
   "version": "3.7.3"
  }
 },
 "nbformat": 4,
 "nbformat_minor": 4
}
