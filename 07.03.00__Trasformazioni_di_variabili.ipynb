{
 "cells": [
  {
   "cell_type": "markdown",
   "metadata": {},
   "source": [
    "# Trasformazioni di variabili\n",
    "\n",
    "Se da una variabile casuale $x$ otteniamo un'altra variabile $y=f(x)$, la distribuzione di probabilità di $y$ potrà essere determinata dalla distribuzione di probabiltià di $x$.\n",
    "\n",
    "Il caso discreto è concettualmente più semplice, anche se spesso computazionalmente più laborioso, perché richiede spesso applicazione del calcolo combinatorio.\n",
    "\n",
    "I casi dove la trasformazione $f(x)$ è non monotona possono avere aspetti non banali."
   ]
  },
  {
   "cell_type": "markdown",
   "metadata": {},
   "source": [
    "## Caso discreto\n",
    "\n",
    "Consideriamo l'estrazione di un dado con possibili valori: $\\{1, 2, 3, 4, 5, 6\\}$, e la funzione: $y = \\varphi(x) = x\\,\\,\\mathrm{mod}\\,\\,2$, ossia: $0$ se $x$ è pari, $1$ se $x$ è dispari.\n",
    "\n",
    "Questa funzione ha solo due possibili valori: $\\varphi:x\\in\\{1, 2, 3, 4, 5, 6\\}\\mapsto y\\in\\{0,1\\}$.\n",
    "\n",
    "Per la definizione di probabilità classica:\n",
    "\n",
    "$P(y=0) = 3/6 = 0.5$\n",
    "\n",
    "$P(y=1) = 3/6 = 0.5$\n",
    "\n",
    "Come era intuitivo.\n",
    "\n",
    "Più in generale, se abbiamo una funzione $\\varphi: X\\rightarrow Y$, possiamo scrivere la probabilità di un valore $y\\in Y$ come la somma delle probabilità di tutti i valori $x$ che corrispondono al valore $y$ che ci interessa:\n",
    "\n",
    "$\\displaystyle P(y) = \\sum_{x:y=\\varphi(x)}P(x)$\n",
    "\n",
    "Assumendo valori di $x$ e $y$ interi e usando la $\\delta$ di Kronecker, possiamo anche scrivere la seguente relazione che sarà utile per il passaggio al continuo:\n",
    "\n",
    "$\\displaystyle P(y) = \\sum_{x\\in X}\\delta_{y\\, \\varphi(x)}P(x)$\n",
    "\n",
    "Se i valori $x$ e $y$ non fossero interi, potremmo comunque scrivere un'espressione simile, ma formalmente meno immediata.\n",
    "\n",
    "Questo risultato può essere generalizzato nel caso multidimensionale $\\varphi: (x, y) \\mapsto z$:\n",
    "\n",
    "$\\displaystyle P(z) = \\sum_{x, z:z=\\varphi(x, y)}P(x, y)$\n",
    "\n",
    "\n",
    "$\\displaystyle P(z) = \\sum_{x\\in X}\\sum_{y\\in Y}\\delta_{z\\, \\varphi(x, y)}P(x, y)$\n",
    "\n",
    "<span style=\"color: green;\">Abbiamo già visto esempio di questo tipo nel calcolo combinatoriale della distribuzione di probabilità della somma di $n$ estrazioni di dadi, seppur in maniera meno formale.</span>"
   ]
  },
  {
   "cell_type": "markdown",
   "metadata": {},
   "source": [
    "## Caso continuo\n",
    "\n",
    "Consideriamo una funzione $\\varphi: x\\in X \\mapsto y=\\varphi(x)\\in Y$. Possiamo generalizzare il calcolo della distribuzione di probabilità di $y$ in analogia col caso continuo:\n",
    "\n",
    "$\\displaystyle f_y(y) = \\frac{\\mathrm{d}P(y)}{\\mathrm{d}y} = \\int_{-\\infty}^{+\\infty}\\!\\!\\! \\delta(y - \\varphi(x))\\,f_x(x)\\,\\mathrm{d}x$\n",
    "\n",
    "Dove \n",
    "\n",
    "$\\displaystyle f_x(x) = \\frac{\\mathrm{d}P(x)}{\\mathrm{d}x}$\n",
    "\n",
    "e $\\delta(y - \\varphi(x))$ è la delta di Dirac."
   ]
  },
  {
   "cell_type": "markdown",
   "metadata": {},
   "source": [
    "A due dimensioni, considerando $\\varphi: (x,y)\\in X\\times Y \\mapsto z=\\varphi(x,y)\\in Y$:\n",
    "\n",
    "$\\displaystyle f_z(z) = \\frac{\\mathrm{d}P(z)}{\\mathrm{d}z} = \\int\\delta(z - \\varphi(x,y))\\,f_{xy}(x,y)\\,\\mathrm{d}x\\mathrm{d}y$"
   ]
  },
  {
   "cell_type": "markdown",
   "metadata": {},
   "source": [
    "## Distribuzioni marginali\n",
    "\n",
    "Le distribuzioni marginali si ottengono come caso particolare del cambio di coordinate: $\\varphi_x: (x,y)\\mapsto u = x$ e $\\varphi_y: (x,y)\\mapsto v = y$. Infatti:\n",
    "\n",
    "$\\displaystyle f_x(u) = \\int \\delta(x - u)\\, f(x,y)\\,\\mathrm{d}x\\,\\mathrm{d}y = \\int f(u,y)\\,\\mathrm{d}y$\n",
    "\n",
    "Che è la definizione di PDF marginale, sostituendo $u$ con $x$."
   ]
  },
  {
   "cell_type": "markdown",
   "metadata": {},
   "source": [
    "## Funzione monotona crescente\n",
    "\n",
    "Nel caso monodimensionale, se $\\varphi$ è una funzione monotona crescente, c'è un solo valore $x$ per il quale $y=\\varphi(x)$.\n",
    "\n",
    "Possiamo effettuare la trasformazione di variabile $x\\mapsto \\varphi(x)$ nell'integrazione in $\\mathrm{d}x$. Bisogna tenere conto che:\n",
    "\n",
    "$$ \\mathrm{d}x = \\frac{\\mathrm{d}x}{\\mathrm{d}\\varphi}\\,\\mathrm{d}\\varphi = \\left(\\frac{\\mathrm{d}\\varphi}{\\mathrm{d}x}\\right)^{-1}\\mathrm{d}\\varphi$$"
   ]
  },
  {
   "cell_type": "markdown",
   "metadata": {},
   "source": [
    "Si può quindi dimostrare che le espressioni ottenute sopra quindi:\n",
    "\n",
    "$\\displaystyle\n",
    "\\int_{-\\infty}^{+\\infty}\\!\\!\\! \\delta(y - \\varphi(x))\\,f_x(x)\\,\\mathrm{d}x = \n",
    "\\int_{-\\infty}^{+\\infty}\\!\\!\\! \\delta(y - \\varphi)\\,\\frac{\\mathrm{d}P(x)}{\\mathrm{d}x}\\,\\frac{\\mathrm{d}x}{\\mathrm{d}\\varphi}\\,\\mathrm{d}\\varphi = \n",
    "\\int_{-\\infty}^{+\\infty}\\!\\!\\! \\delta(y - \\varphi)\\,\\frac{\\mathrm{d}P(\\varphi)}{\\mathrm{d}\\varphi}\\,\\mathrm{d}\\varphi = \n",
    "f_y(y)\n",
    "$"
   ]
  },
  {
   "cell_type": "markdown",
   "metadata": {},
   "source": [
    "Si può trovare un altro modo di trasformare $f_x$ in $f_y$ passando per le distribuzioni cumulative. In particolare, dato un valore $\\tilde{x}$, la condizione $x <\\tilde{x}$ equivale a $y < \\tilde{y}$ dove $y=\\varphi(x)$ e $\\tilde{y}=\\varphi(\\tilde{x})$. Questo è vero perché $\\varphi$ è una funzione monotona crescente.\n",
    "\n",
    "Saranno quindi uguali le probabilità corrispondenti, che definiscono le funzioni cumulative:\n",
    "\n",
    "$F_y(\\tilde{y}) = P(y < \\tilde{y}) = P(x < \\tilde{x}) = F_x(\\tilde{x})$\n",
    "\n",
    "<span style=\"color: green;\">Nota sulla notazione: qui sarebbe stato più agevole utilizzare la notazione degli statistici che usano la maiuscola per la variabile casuale, evitando il simbolo ~ per i valori osservati delle variabili casuali. Tuttavia, le espressioni in questo modo risultano ostiche, per qualche ragione, per i fisici.</span>\n",
    "\n",
    "Passando alle definizioni di $F_y(\\tilde{y})$ e $F_x(\\tilde{x})$ come integrali delle corrispondenti PDF:\n",
    "\n",
    "$\\displaystyle\\int_{-\\infty}^{\\tilde{y}}\\!\\!\\! f_y(y)\\,\\mathrm{d}y = \n",
    "\\int_{-\\infty}^{\\tilde{x}}\\!\\!\\! f_x(x)\\,\\mathrm{d}x =\n",
    "\\int_{-\\infty}^{\\eta(\\tilde{y})}\\!\\!\\!\\!\\!\\! f_x(x)\\,\\mathrm{d}x\n",
    "$\n",
    "\n",
    "Dove $\\eta$ è la funzione inversa di $\\varphi$: $\\eta(\\tilde{y})=\\varphi^{-1}(\\tilde{y})$\n",
    "\n",
    "Derivando rispetto a $\\tilde{y}$:\n",
    "\n",
    "$\\displaystyle\\frac{\\mathrm{d}}{\\mathrm{d}\\tilde{y}}\\int_{-\\infty}^{\\tilde{y}}\\!\\!\\! f_y(y)\\,\\mathrm{d}y =\n",
    "f_y(\\tilde{y}) = \n",
    "\\frac{\\mathrm{d}}{\\mathrm{d}\\tilde{y}}\\int_{-\\infty}^{\\eta(\\tilde{y})}\\!\\!\\! f_x(x)\\,\\mathrm{d}x =\n",
    "f_x(\\eta(\\tilde{y}))\\,\\eta^\\prime(\\tilde{y})\n",
    "$\n",
    "\n",
    "Quindi, semplificando la notazione eliminando i simbolo ~:\n",
    "\n",
    "$\\displaystyle f_y(y) = f_x(\\eta(y))\\,\\eta^\\prime(y)$\n",
    "\n",
    "Questo non corrisponde a nient'altro che:\n",
    "\n",
    "$\\displaystyle \\frac{\\mathrm{d}P(y)}{\\mathrm{d}y} = \\frac{\\mathrm{d}P(x)}{\\mathrm{d}x}\\,\\frac{\\mathrm{d}x}{\\mathrm{d}y}$\n",
    "\n",
    "<span style=\"color: blue\">Un po' più formalmente, abbiamo dimostrato quello che avevamo già usato in precedenza.</span>"
   ]
  },
  {
   "cell_type": "markdown",
   "metadata": {},
   "source": [
    "## Funzione monotona decrescente\n",
    "\n",
    "Analogamente si può dimostrare, se $\\varphi$ è monotona decrescente, che:\n",
    "\n",
    "$\\displaystyle f_y(y) = - f_x(\\eta(y))\\,\\eta^\\prime(y)$\n",
    "\n",
    "dove $\\eta^\\prime$ però questao volta è negativa. Quidni $-\\eta^\\prime(y) = |\\eta^\\prime(y)|$.\n",
    "\n",
    "In generale, per una funzione monotona che sia crescente o decrescente:\n",
    "\n",
    "$\\displaystyle f_y(y) = f_x(\\eta(y))\\,|\\eta^\\prime(y)|$\n",
    "\n",
    "O anche:\n",
    "\n",
    "$\\displaystyle \\frac{\\mathrm{d}P(y)}{\\mathrm{d}y} = \\frac{\\mathrm{d}P(x)}{\\mathrm{d}x}\\,\\left|\\frac{\\mathrm{d}x}{\\mathrm{d}y}\\right|$\n"
   ]
  },
  {
   "cell_type": "markdown",
   "metadata": {},
   "source": [
    "## Trasformazione tra più variabili\n",
    "\n",
    "Usiamo qui come esempio la trasformazione da due variabili $(u, v)$ a due variabili $(x,y)$, ma il risultato è generalizzabile ad un numero arbitrario di variabili.\n",
    "\n",
    "Assumiamo che la trasformazione sia: $\\varphi: (u,v)\\mapsto(x,y)$ e la sua inversa $\\eta: (x,y)\\mapsto(u,v)$.\n",
    "\n",
    "La densità di probabilità nelle variabili $(u,v)$ è:\n",
    "\n",
    "$\\displaystyle f_{uv}(u, v) = \\frac{\\mathrm{d}P(u,v)}{\\mathrm{d}u\\,\\mathrm{d}v}$\n",
    "\n",
    "Mentra la trasformata sarà:\n",
    "\n",
    "$\\displaystyle f_{xy}(x, y) = \\frac{\\mathrm{d}P(x,y)}{\\mathrm{d}x\\,\\mathrm{d}y}$\n",
    "\n",
    "Il passaggio da $f_{uv}(u, v)$ a $f_{xy}(x, y)$ dipenderà da come si trasforma l'elemento di volume $\\mathrm{d}u\\,\\mathrm{d}v$ in $\\mathrm{d}x\\,\\mathrm{d}y$, e questo conterrà il **determinante jacobiano** della trasformazione:\n",
    "\n",
    "\n",
    "$\\displaystyle\\mathrm{d}x\\,\\mathrm{d}y = \\left|\\frac{\\partial(x,y)}{\\partial(u,v)}\\right|\\,\\mathrm{d}u\\,\\mathrm{d}v$\n",
    "\n",
    "Dove:\n",
    "\n",
    "$\\displaystyle\\frac{\\partial(x,y)}{\\partial(u,v)} =\n",
    "\\mathrm{det}\\left|\\begin{array}{cc}\\frac{\\displaystyle\\partial x}{\\displaystyle\\partial u}&\\frac{\\displaystyle\\partial x}{\\displaystyle\\partial v}\\\\\\frac{\\displaystyle\\partial y}{\\displaystyle\\partial u}&\\frac{\\displaystyle\\partial y}{\\displaystyle\\partial v}\\end{array}\\right|$\n",
    "\n",
    "In realtà, anche per il caso multidimensionale si può scrivere la trasformazione usando le delta di Dirac, e si può dimostrare che si otterrà lo stesso risultato:\n",
    "\n",
    "$\\displaystyle f_{xy}(x,y) = \\int \\delta(x-\\varphi_x(u,v))\\,\\delta(y-\\varphi_y(u,v))\\,f_{uv}(u, v)\\,\\mathrm{d}u\\,\\mathrm{d}v$\n",
    "\n",
    "Sopra abbiamo usato la notazione: $\\varphi: (u,v)\\mapsto(x,y)=(\\varphi_x(u,v), \\varphi_y(u,v))$."
   ]
  },
  {
   "cell_type": "markdown",
   "metadata": {},
   "source": [
    "# Distribuzione di probabilità della funzione cumulativa\n",
    "\n",
    "La distribuzione di probabilità della funzione cumulativa $F(x)$ di una PDF $f(x)$ risulterà particolarmente utile in diverse applicazioni.\n",
    "\n",
    "Possiamo scrivere, definendo $y=F(x)$:\n",
    "\n",
    "$\\displaystyle \\frac{\\mathrm{d}P(y)}{\\mathrm{d}y} = \\frac{\\mathrm{d}P(x)}{\\mathrm{d}x}\\, \\frac{\\mathrm{d}x}{\\mathrm{d}y} = f(x) \\frac{\\mathrm{d}x}{\\mathrm{d}F(x)} = \\frac{f(x)}{f(x)} = 1$\n",
    "\n",
    "Quindi la funzione cumulativa è **uniformemente distribuita tra 0 e 1**, qualsiasi sia la distribuzione $f$."
   ]
  },
  {
   "cell_type": "markdown",
   "metadata": {},
   "source": [
    "# La distribuzione lognormale\n",
    "\n",
    "Se $y$ segue una distribuzione normale con media $\\mu$ e deviazione standard $\\sigma$, la variabile $x=e^y$ segue una distribuzione che è detta **lognormale**.\n",
    "\n",
    "Applicando quando detto sopra, si può dimostrare che la distribuzione di $x$ è:\n",
    "\n",
    "$\\displaystyle f(x;\\mu,\\sigma) = \\frac{1}{x\\sqrt{2\\pi} \\sigma} \\exp\\left(-\\frac{(\\log x-\\mu)^2}{2\\sigma^2}\\right)$\n",
    "\n",
    "$x$ deve essere maggiore di zero, essendo l'esponenziale di un valore reale.\n",
    "\n",
    "Una proprietà interessante di $f(x)$ è che il valore atteso di $x$ vale:\n",
    "\n",
    "$\\displaystyle\\mathbb{E}[x] = \\exp\\left({\\mu+\\frac{\\sigma^2}{2}}\\right)$"
   ]
  },
  {
   "cell_type": "code",
   "execution_count": 1,
   "metadata": {},
   "outputs": [],
   "source": [
    "import matplotlib.pyplot as plt\n",
    "import numpy as np\n",
    "from scipy.stats import lognorm"
   ]
  },
  {
   "cell_type": "code",
   "execution_count": 2,
   "metadata": {},
   "outputs": [
    {
     "data": {
      "image/png": "[encoded data removed]",
      "text/plain": [
       "<Figure size 864x576 with 1 Axes>"
      ]
     },
     "metadata": {
      "needs_background": "light"
     },
     "output_type": "display_data"
    }
   ],
   "source": [
    "plt.figure(figsize=(12,8))\n",
    "step = 0.01\n",
    "x = np.arange(0, 5+step, step)\n",
    "sigma=0.6\n",
    "y = lognorm.pdf(x, sigma)\n",
    "plt.plot(x,y)\n",
    "plt.ylim(0)\n",
    "plt.xlim(0)\n",
    "plt.xlabel('x')\n",
    "plt.ylabel('f(x)')\n",
    "plt.show()"
   ]
  },
  {
   "cell_type": "markdown",
   "metadata": {},
   "source": [
    "## Trasformazione di distribuzioni di campioni casuali\n",
    "\n",
    "Se la distribuzione è determinata approssimativamente dalla generazione di un grande campione di numeri casuali, $(x_1,\\cdots,x_n)$, la trasformazione di variabili si può gestire in maniera immediata.\n",
    "\n",
    "Basterà applicare la trasformazione a tutti i valori per ottenere il campione trasformato: $(y_1,\\cdots,y_n)= (\\varphi(x_1),\\cdots,\\varphi(x_n))$. La distribuzione di questi valori trasformati approssimerà la PDF della variabile casuale $y=\\varphi(x)$.\n",
    "\n",
    "Se servirà si potrà poi applicare un algoritmo di *smoothing* alla distribuzione trasformata."
   ]
  },
  {
   "cell_type": "markdown",
   "metadata": {},
   "source": [
    "# Spunti per esercizi \n",
    "\n",
    "* Trovare analiticamente la distribuzione di probabilità di $\\sqrt{x}$ dove $x$ è distribuita uniformemente tra 0 e 1.\n",
    "* Trovare analiticamente la distribuzione di probabilità di $x+y$ dove $x$ e $y$ sono distribuite uniformemente tra -1 e 1."
   ]
  }
 ],
 "metadata": {
  "kernelspec": {
   "display_name": "Python 3",
   "language": "python",
   "name": "python3"
  },
  "language_info": {
   "codemirror_mode": {
    "name": "ipython",
    "version": 3
   },
   "file_extension": ".py",
   "mimetype": "text/x-python",
   "name": "python",
   "nbconvert_exporter": "python",
   "pygments_lexer": "ipython3",
   "version": "3.7.3"
  }
 },
 "nbformat": 4,
 "nbformat_minor": 4
}
