{
 "cells": [
  {
   "cell_type": "markdown",
   "metadata": {},
   "source": [
    "# Approccio bayesiano alla probabilità\n",
    "\n",
    "Abbiamo visto che, in generale:\n",
    "    \n",
    "$\\displaystyle P(A|E) = \\frac{P(E|A) P(A)}{P(E)}$\n",
    "\n",
    "O anche, scomponendo il denominatore:\n",
    "\n",
    "$\\displaystyle P(A_i|E) = \\frac{P(E|A_i) P(A_i)}{\\sum_{i=j}^n P(E|A_j) P(A_j)}$\n",
    "\n",
    "Finora questi risultati si possono applicare a qualsiasi definizione di probabilità, compreso quella frequentista."
   ]
  },
  {
   "cell_type": "markdown",
   "metadata": {},
   "source": [
    "<span style=\"color: blue\">La formula di Bayes consente però di **dare un significato** alla probabilità di $A$ quando $A$ non sia un evento casuale, bensì una **affermazione** che non sappiamo se sia vera o falsa, ma sappiamo che, assumendo che sia vera o falsa, influenza la distribuzione di probabilità di una possibile evidenza $E$.</span>\n",
    "\n",
    "Possiamo anche parlare di $A$ come una possibile **ipotesi**.\n",
    "\n",
    "Nel caso della scomposizione, possiamo avere diverse affermazioni $A_i$, ciascuna mutuamente esclusiva. Ossia: se una è vera, tutte le altre saranno false. Almeno una, quindi una ed una sola, delle $n$ $A_i$ deve essere vera. Ma, in generale, non sappiamo quale."
   ]
  },
  {
   "cell_type": "markdown",
   "metadata": {},
   "source": [
    "## Esempio: smscherare fenomeni paranormali\n",
    "\n",
    "Per testare le presunte proprietà paranormali (in inglese: ESP) di alcuni individui, è possibile controllare con che frequenza riescano ad indovinare la sequenza con cui vengono estratte alcune carte. Tradizionalmente venivano usate le cosiddette [carte Zener](https://psychicscience.org/esp3).\n",
    "\n",
    "<img style=\"width: 500px\" src=\"img/zener-cards.png\">\n",
    "<span style=\"color: gray;\">Licenza <a href=\"https://creativecommons.org/licenses/by-sa/3.0/deed.en\">Creative Commons Attribution-Share Alike 3.0 Unported</a>, immgine di Mikhail Ryazanov, Wikimedia commons.</span>\n",
    "\n",
    "La probabilità di indovinare una carta a caso è $1/5$, due di seguito $1/5^2$, $n$ di seguito $1/5^n$. Si può anche calcolare la probabilità di indovinarne almeno una certa percentuale. Dopo ogni estrazione il mazzo di carte viene rimescolato!\n",
    "\n",
    "Se un presunto *paragnosta* riesce ad indovinare facilmente una sequenza che abbia una probabilità $p$ di essere indovinata a caso molto piccola, ci si può chiedere se ciò non sia la prova che la persona sia realmente dotata di poteri paranormali.\n",
    "\n",
    "La domanda è quindi: **qual è la probabilità che la persona sotto test sia veramente dotata di poteri paranormali, visto che ha indovinato la sequenza di carte?**\n",
    "\n",
    "Chiaramente, la probabilità di questa affermazione **non** ha senso con le definizioni che abbiamo visto finora, ma potrebbe avere senso con un'estensione del teorema di Bayes:\n",
    "\n",
    "$\\displaystyle P(A_i|E) = \\frac{P(E|A_i) P(A_i)}{\\sum_{i=j}^n P(E|A_j) P(A_j)}$\n",
    "\n",
    "Dove $A_0$ e $A_1$ sono le due affermazioni:\n",
    "* $A_0$: la persona **non ha** poteri paranormali\n",
    "* $A_1$: la persona **ha** poteri paranormali"
   ]
  },
  {
   "cell_type": "markdown",
   "metadata": {},
   "source": [
    "## Rappresentazione grafica\n",
    "\n",
    "Come nel caso precedente, nell'asse orizzontale rappresentiamo la probabilità a priori.\n",
    "\n",
    "Nel caso più semplice, possiamo dare pari probabilità a priori ad $A_0$=no ESP e $A_1$=ESP.\n",
    "\n",
    "La probabilità di fare la previsione esatta $E$ dovrebbe essere molto bassa in caso di $A_0$ ($P(E|A_0)$) ma alta in caso di $A_1$ ($P(E|A_1)$).\n",
    "\n",
    "La probabilità a posteriori $P(A_1)$ si può calcolare con la formula di Bayes."
   ]
  },
  {
   "cell_type": "code",
   "execution_count": 1,
   "metadata": {},
   "outputs": [],
   "source": [
    "import matplotlib.pyplot as plt"
   ]
  },
  {
   "cell_type": "code",
   "execution_count": 4,
   "metadata": {},
   "outputs": [],
   "source": [
    "# usiamo la notazione: 1 <-> E, 0 <-> !E\n",
    "p_1_esp, p_0_esp = (0.95, 0.05)\n",
    "p_1_noesp, p_0_noesp=(0.05,0.95) \n",
    "\n",
    "def plot_esp(p_esp, p_noesp):\n",
    "    plt.figure(figsize=(12,6))\n",
    "    width=(p_esp, p_noesp)\n",
    "    pos=(0, (p_esp+p_noesp)/2)\n",
    "    plt.bar(x=pos, height=(p_0_esp, p_0_noesp), width=width, label='no prediction', color='orange')\n",
    "    plt.bar(x=pos, bottom=(p_0_esp, p_0_noesp), height=(p_1_esp, p_1_noesp), width=width, label='prediction', color='green')\n",
    "    plt.xticks(pos, ['ESP','no ESP'])\n",
    "    plt.legend(loc='upper right')\n",
    "    plt.xlabel('status')\n",
    "    plt.ylabel('probability')\n",
    "    plt.show()\n",
    "    print(\"Priors: P(ESP), P(!ESP): {:.2%}, {:.2%}\".format(p_esp, p_noesp))\n",
    "    norm_1 = p_1_esp*p_esp+p_1_noesp*p_noesp\n",
    "    p_esp_1 = p_1_esp * p_esp / norm_1\n",
    "    p_noesp_1 = p_1_noesp * p_noesp / norm_1\n",
    "    print(\"Posteriors: P(ESP|pred.), P(!ESP|pred.): {:.2%}, {:.2%}\".format(p_esp_1, p_noesp_1))"
   ]
  },
  {
   "cell_type": "code",
   "execution_count": 5,
   "metadata": {},
   "outputs": [
    {
     "data": {
      "image/png": "[encoded data removed]",
      "text/plain": [
       "<Figure size 864x432 with 1 Axes>"
      ]
     },
     "metadata": {
      "needs_background": "light"
     },
     "output_type": "display_data"
    },
    {
     "name": "stdout",
     "output_type": "stream",
     "text": [
      "Priors: P(ESP), P(!ESP): 50.00%, 50.00%\n",
      "Posteriors: P(ESP|pred.), P(!ESP|pred.): 95.00%, 5.00%\n"
     ]
    }
   ],
   "source": [
    "plot_esp(0.5, 0.5)"
   ]
  },
  {
   "cell_type": "markdown",
   "metadata": {},
   "source": [
    "Conclusione: se *a priori* siamo pronti a credere nella possibilità che esistano ESP, basta un'evidenza forte per convincerci."
   ]
  },
  {
   "cell_type": "markdown",
   "metadata": {},
   "source": [
    "Se invece inzialmente siamo parecchio scettici:\n",
    "\n",
    "* <span style=\"color: blue\">*Extraordinary claims require extraordinary evidence* (ECREE, Carl Sagan)</span>"
   ]
  },
  {
   "cell_type": "code",
   "execution_count": 7,
   "metadata": {},
   "outputs": [
    {
     "data": {
      "image/png": "[encoded data removed]",
      "text/plain": [
       "<Figure size 864x432 with 1 Axes>"
      ]
     },
     "metadata": {
      "needs_background": "light"
     },
     "output_type": "display_data"
    },
    {
     "name": "stdout",
     "output_type": "stream",
     "text": [
      "Priors: P(ESP), P(!ESP): 2.00%, 98.00%\n",
      "Posteriors: P(ESP|pred.), P(!ESP|pred.): 27.94%, 72.06%\n"
     ]
    }
   ],
   "source": [
    "plot_esp(0.02, 0.98)"
   ]
  },
  {
   "cell_type": "markdown",
   "metadata": {},
   "source": [
    "Conclusione: **non** basta un'evidenza forte per convincerci, se abbiamo un forte scetticismo. Ma magari siamo pronti a dare una seconda chance e verificare meglio."
   ]
  },
  {
   "cell_type": "markdown",
   "metadata": {},
   "source": [
    "*Non sempre si sa cosa dire, non sempre si ha una spiegazione ovvia e pronta da spiattellare in faccia al credulone di turno, MA - e questo è importante - il fatto che non si sappia trovare una spiegazione non significa che non ci sia una spiegazione.*\n",
    "\n",
    "<span style=\"margin-left: 30px\">dal <a href=\"https://smarcell1961.blogspot.com/2017/05/citta-aliene-sotto-il-mare-no-ma-la.html\">Blog di Stefano Marcellini</a></span>"
   ]
  },
  {
   "cell_type": "markdown",
   "metadata": {},
   "source": [
    "Inseriamo una terza possiblità: <span style=\"color: red\">il presunto paragnosta **sta barando**!</span>"
   ]
  },
  {
   "cell_type": "code",
   "execution_count": 9,
   "metadata": {},
   "outputs": [],
   "source": [
    "p_1_cheat, p_0_cheat=(0.98,0.02) \n",
    "\n",
    "def plot_esp_cheat(p_esp, p_noesp, p_cheat):\n",
    "    plt.figure(figsize=(12,6))\n",
    "    width=(p_esp, p_noesp, p_cheat)\n",
    "    pos=(0, (p_esp+p_noesp)/2, (p_esp+p_cheat)/2+p_noesp)\n",
    "    plt.bar(x=pos, height=(p_0_esp, p_0_noesp, p_0_cheat), width=width, label='prediction', color='green')\n",
    "    plt.bar(x=pos, bottom=(p_0_esp, p_0_noesp, p_0_cheat), height=(p_1_esp, p_1_noesp, p_1_cheat), width=width, label='no prediction', color='orange')\n",
    "    plt.xticks(pos, ['ESP','no ESP', 'cheat'])\n",
    "    plt.legend(loc='upper right')\n",
    "    plt.xlabel('status')\n",
    "    plt.ylabel('probability')\n",
    "    plt.show()\n",
    "    print(\"Priors: P(ESP), P(!ESP), P(cheat): {:.2%}, {:.2%}, {:.2%}\".format(p_esp, p_noesp, p_cheat))\n",
    "    norm_1 = p_1_esp*p_esp+p_1_noesp*p_noesp+p_1_cheat*p_cheat\n",
    "    p_esp_1 = p_1_esp * p_esp / norm_1\n",
    "    p_noesp_1 = p_1_noesp * p_noesp / norm_1\n",
    "    p_cheat_1 = p_1_cheat * p_cheat / norm_1\n",
    "    print(\"Posteriors: P(ESP|pred.), P(!ESP|pred.), P(cheat|pred): {:.2%}, {:.2%}, {:.2%}\".format(p_esp_1, p_noesp_1, p_cheat_1))"
   ]
  },
  {
   "cell_type": "code",
   "execution_count": 10,
   "metadata": {},
   "outputs": [
    {
     "data": {
      "image/png": "[encoded data removed]",
      "text/plain": [
       "<Figure size 864x432 with 1 Axes>"
      ]
     },
     "metadata": {
      "needs_background": "light"
     },
     "output_type": "display_data"
    },
    {
     "name": "stdout",
     "output_type": "stream",
     "text": [
      "Priors: P(ESP), P(!ESP), P(cheat): 2.00%, 49.00%, 49.00%\n",
      "Posteriors: P(ESP|pred.), P(!ESP|pred.), P(cheat|pred): 3.63%, 4.68%, 91.69%\n"
     ]
    }
   ],
   "source": [
    "plot_esp_cheat(0.02, 0.49, 0.49)"
   ]
  },
  {
   "cell_type": "markdown",
   "metadata": {},
   "source": [
    "Conclusione: più che avere la menta *aperta* verso la possibilità del paranormale, è più ragionevole avere la mente aperta verso la possibilità che ci sia qualche imbroglio!"
   ]
  },
  {
   "cell_type": "markdown",
   "metadata": {},
   "source": [
    "## Terminologia\n",
    "\n",
    "Nella definizione di probabilità nel senso bayesiano:\n",
    "\n",
    "$\\displaystyle P(A|E) = \\frac{P(E|A) P(A)}{P(E)}$\n",
    "\n",
    "I diversi termini hanno, come già visto più in generale, una loro nomenclatura:\n",
    "* $P(A|E)$ è la *probabilità a posteriori*\n",
    "* $P(E|A)$ è la *verosimiglianza*\n",
    "* $P(A)$ è la *probabilità a priori*\n",
    "* $P(E)$ viene detta *evidenza*"
   ]
  },
  {
   "cell_type": "markdown",
   "metadata": {},
   "source": [
    "## Probabilità Bayesiana e metodo scientifico\n",
    "\n",
    "L'approccio Bayesiano alla probabilità rappresenta un modello del funzionamento del metodo scientifico.\n",
    "\n",
    "A priori possiamo fare delle ipotesi, alle quali inizialmente diamo una certa credibilità.\n",
    "\n",
    "Successivamente, le osservazioni sperimentali modificheranno la credibilità delle varie ipotesi, fino a che una ipotesi non prevarrà nettamente sulle altre.\n",
    "\n",
    "L'insorgere di nuove ipotesi può successivamente fare prevalere queste ultime alla luce di nuove evidenze sperimentali.\n",
    "\n",
    "Questo è il senso della **verità scientifica**, che non è mai assoluta, ma che si basa sul bagaglio delle conoscenze acquisito dall'umanità ad un certo momento storico.\n",
    "\n",
    "Il progresso scientifico consiste nell'evoluzione della verità scientifica in base alle osservazioni sperimentali che devono essere guidate dalle conoscenze e devono avere come scopo la verifica o la confutazione di ipotesi alternative tra le quali vanno cercate le teorie che ci portino al superamento di quelle attuali.\n",
    "\n",
    "Esempio:\n",
    "* l'evidenza della caduta dei gravi e del moto dei pianeti rende plausibile (quindi: *vera*, in assenza di alternative altrettanto plausibili) la teoria della **gravitazione universale**.\n",
    "* l'evidenza di deviazioni dalla teoria della gravitazione a seguito delle previsioni della relatività generale (moto di Mercurio, lenti gravitazionali, e ora onde gravitazionali e buchi neri) rende la *vera* la **relatività generale** e *falsa* (ossia: non valida in tutti gli ambiti, ma approssimazione della precedente) la gravitazione universale\n",
    "* future evidenze potrebbero confutare la relatività generale, e magari favorire una teoria più avanzata della gravità quantistica, fino ad eventuali ulteriori evidenze.\n"
   ]
  },
  {
   "cell_type": "markdown",
   "metadata": {},
   "source": [
    "## Dogmi\n",
    "\n",
    "Immaginiamo che una persona abbia una fede cieca in una convinzione. Possiamo rappresentare questa situazione come segue nella definizione della *prior*:\n",
    "\n",
    "$\\displaystyle\n",
    "P(A_i) = \n",
    "\\left\\{\n",
    "\\begin{array}{lll}\n",
    "1 & \\mathrm{se} & i = 0 \\\\\n",
    "0 & \\mathrm{se} & i \\ne 0 \n",
    "\\end{array}\n",
    "\\right.$\n",
    "\n",
    "Assumendo questo dimostreremo che risulta:\n",
    "\n",
    "$P(A_i|E) = P(A_i)$ \n",
    "\n",
    "Infatti, secondo il teorema di Bayes:\n",
    "\n",
    "$\\displaystyle P(A_i|E) = \\frac{P(E|A_i) P(A_i)}{P(E)}$\n",
    "\n",
    "Però, se $i\\ne 0$ abbiamo:\n",
    "\n",
    "$\\displaystyle P(A_i|E) = \\frac{P(E|A_i) \\times 0}{P(E)} = 0 = P(A_i)$\n",
    "\n",
    "Invece, se $i=0$, abbiamo:\n",
    "\n",
    "$\\displaystyle P(A_0|E) = \\frac{P(E|A_0) \\times 1}{\\sum_{i=j}^n P(E|A_j) P(A_j)} = \\frac{P(E|A_0) \\times 1}{P(E|A_0) \\times 1} = P(A_0) = 1$\n",
    "\n",
    "Qualsiasi evidenza, quindi, non è in grado di modificare la probabilità a priori.\n",
    "\n",
    "C'è chiaramente un problema da gestire nel caso in cui $P(E|A_0)$, ma molto spesso le osservazioni sperimentali hanno qualche margine di incertezza. Mentre un dogma non ammette dubbi.\n",
    "\n",
    "Esempi sono terrapiattismo, antivaccinismo, ecc.\n",
    "\n",
    "<span style=\"color: red\">Credere in dogmi che contrastano con le evidenze, quindi, impedisce il progresso della conoscenza basato sulle osserevazioni sperimentali.</span>\n",
    "\n",
    "Le uniche credenze compatibili con il metodo scientifico, quindi, sono quelle che non fanno previsioni su quantità osservabili."
   ]
  },
  {
   "cell_type": "markdown",
   "metadata": {},
   "source": [
    "Il grafico seguente mostra cosa succede in caso di fede cieca nei poteri paranormali."
   ]
  },
  {
   "cell_type": "code",
   "execution_count": 11,
   "metadata": {},
   "outputs": [
    {
     "data": {
      "image/png": "[encoded data removed]",
      "text/plain": [
       "<Figure size 864x432 with 1 Axes>"
      ]
     },
     "metadata": {
      "needs_background": "light"
     },
     "output_type": "display_data"
    },
    {
     "name": "stdout",
     "output_type": "stream",
     "text": [
      "Priors: P(ESP), P(!ESP), P(cheat): 100.00%, 0.00%, 0.00%\n",
      "Posteriors: P(ESP|pred.), P(!ESP|pred.), P(cheat|pred): 100.00%, 0.00%, 0.00%\n"
     ]
    }
   ],
   "source": [
    "plot_esp_cheat(1, 0, 0)"
   ]
  },
  {
   "cell_type": "markdown",
   "metadata": {},
   "source": [
    "# Considerazioni\n",
    "\n",
    "La probabilità definita in senso bayesiano si può applicare ad un numero di casi maggiore rispetto ad altri approcci.\n",
    "\n",
    "Il prezzo da pagare è che bisogna introdurre una **probabilità a priori** che ha necessariamente carattere soggettivo.\n",
    "\n",
    "Il calcolo della probabilità **a posteriori** dipenderà quindi in qualche modo da assunzioni soggettive.\n",
    "\n",
    "Si può dimostrare, e sarà più chiaro in seguito, che più *forte* è l'evidenza, minore sarà la dipendenza del risultato finale dall'assunzione a priori soggettiva."
   ]
  },
  {
   "cell_type": "markdown",
   "metadata": {},
   "source": [
    "# Estensione del significato di probabilità ai parametri di una PDF\n",
    "\n",
    "Se abbiamo una PDF che dipende da parametri, ad esempio $f(x; \\theta)$, la formula del teorema di Bayes consente di estendere il significato di probabilità dalla variabile casuale $x$, dove può essere definito anche con altri approcci, al parametro $\\theta$, dove, in senso frequentista, non si può parlare di probabilità.\n",
    "\n",
    "Innanzitutto, spesso si preferisce usare la notazione $f(x|\\theta)$, per indicare che la PDF è una distribuzione di probabilità *condizionata* dal fatto che il parametro abbia un certo valore $\\theta$.\n",
    "\n",
    "Quindi, si estende il teorema di Bayes:\n",
    "\n",
    "$\\displaystyle P(A|E) = \\frac{P(E|A) P(A)}{P(E)}$\n",
    "\n",
    "come segue:\n",
    "\n",
    "$\\displaystyle f(\\theta|x) = \\frac{f(x|\\theta)\\,\\pi(\\theta)}{f(x)}$\n",
    "\n",
    "Dove:\n",
    "\n",
    "$A \\mapsto \\theta\\,\\mathrm{d}\\theta$\n",
    "\n",
    "$E \\mapsto x\\,\\mathrm{d}x$\n",
    "\n",
    "Per interpretare correttamente $f(\\theta|x)$ va analizzato meglio il significato di $\\pi(\\theta)$ e di $f(x)$.\n",
    "\n",
    "Ricordiamo anche la scomposizione del denominatore secondo la legge della probabilità totale:\n",
    "\n",
    "$\\displaystyle P(A_i|E) = \\frac{P(E|A_i) P(A_i)}{\\sum_{j=1}^n P(E|A_j) P(A_j)}$"
   ]
  },
  {
   "cell_type": "markdown",
   "metadata": {},
   "source": [
    "## Interpretazione per il parametro di una PDF\n",
    "\n",
    "Se suddividiamo il dominio della PDF $f(x|\\theta)$ in intervalli di ampiezza $\\mathrm{d}\\theta$, e ciascuno rappresenta un evento $A_i$ con probabilità $P(E|A_i)= f(x|\\theta)\\,\\mathrm{d}x$, possiamo applicare la formulazione del teorema di Bayes appena ottenuta:\n",
    "\n",
    "$\\displaystyle f(\\theta|x) = \\frac{f(x|\\theta)\\,\\pi(\\theta)}{\\int f(x|\\theta^\\prime)\\,\\pi(\\theta^\\prime)\\,\\mathrm{d}\\theta^\\prime}$\n",
    "\n",
    "Dove:\n",
    "\n",
    "$E \\mapsto x$, $A_i \\mapsto \\theta$, $\\sum_{j=1}n\\mapsto\\int\\,\\mathrm{d}x^\\prime$\n",
    "\n",
    "$\\displaystyle P(E|A_i) \\mapsto \\mathrm{d}P(x|\\theta) = f(x|\\theta)\\,\\mathrm{d}x$\n",
    "\n",
    "$\\displaystyle P(A_i|E) \\mapsto \\mathrm{d}P(\\theta|x) = f(\\theta|x)\\,\\mathrm{d}\\theta$\n",
    "\n",
    "$\\displaystyle P(A_j|E) \\mapsto \\mathrm{d}P(\\theta^\\prime|x) = f(\\theta^\\prime|x)\\,\\mathrm{d}\\theta^\\prime$\n",
    "\n",
    "\n",
    "$P(A_i)\\mapsto \\pi(\\theta)\\,\\mathrm{d}\\theta$\n",
    "\n",
    "E quindi:\n",
    "\n",
    "$\\displaystyle f(\\theta|x) \\,\\mathrm{d}\\theta = \\frac{\n",
    "f(x|\\theta)\\,\\mathrm{d}x\\, \\pi(\\theta)\\,\\mathrm{d}\\theta\n",
    "}{\n",
    "\\int\\, f(x|\\theta^\\prime)\\,\\mathrm{d}x\\, \\pi(\\theta^\\prime)\\,\\mathrm{d}\\theta^\\prime\n",
    "}$\n",
    "\n",
    "Da cui si ottiene:\n",
    "\n",
    "$\\displaystyle f(\\theta|x) = \\frac{f(x|\\theta)\\,\\pi(\\theta)}{\\int f(x|\\theta^\\prime)\\,\\pi(\\theta^\\prime)\\,\\mathrm{d}\\theta^\\prime}$"
   ]
  }
 ],
 "metadata": {
  "kernelspec": {
   "display_name": "Python 3",
   "language": "python",
   "name": "python3"
  },
  "language_info": {
   "codemirror_mode": {
    "name": "ipython",
    "version": 3
   },
   "file_extension": ".py",
   "mimetype": "text/x-python",
   "name": "python",
   "nbconvert_exporter": "python",
   "pygments_lexer": "ipython3",
   "version": "3.7.3"
  }
 },
 "nbformat": 4,
 "nbformat_minor": 4
}
