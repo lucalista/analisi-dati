{
 "cells": [
  {
   "cell_type": "markdown",
   "metadata": {},
   "source": [
    "# Regressione lineare\n",
    "\n",
    "L'applicazione del metodo del minimo $\\chi^2$ è nel caso di una funzione $f$ lineare:\n",
    "\n",
    "$y=f(x;a,b) = a+b\\,x$\n",
    "\n",
    "dobbiamo minimizzare:\n",
    "\n",
    "$\\displaystyle \\chi^2(a,b) = -2\\log p = \\sum_{i=1}^N\\frac{(y_i-a-b\\,x_i)^2}{\\sigma_i^2}$\n",
    "\n",
    "L'equazione sopra è vera *a meno di un termine costante* che non contribuisce alla minimizzazione."
   ]
  },
  {
   "cell_type": "markdown",
   "metadata": {},
   "source": [
    "## Pesi\n",
    "\n",
    "Conviene definire i *persi* $w_i$:\n",
    "\n",
    "$\\displaystyle w_i = \\frac{1/\\sigma_i^2}{1/\\sigma^2}$\n",
    "\n",
    "dove a sua volta $\\sigma$ è definito da:\n",
    "\n",
    "$\\displaystyle \\frac{1}{\\sigma^2} = \\sum_{i=1}^N\\frac{1}{\\sigma_i^2}$\n",
    "\n",
    "Questa scelta garantisce che $\\sum_{i=1}^Nw_i=1$."
   ]
  },
  {
   "cell_type": "markdown",
   "metadata": {},
   "source": [
    "## Minimizzazione del $\\chi^2$\n",
    "\n",
    "Possiamo quindi scrivere:\n",
    "\n",
    "$\\displaystyle \\chi^2(a, b) = \\frac{1}{\\sigma^2}\\sum_{i=1}^Nw_i(y_i-a-b\\,x_i)^2$"
   ]
  },
  {
   "cell_type": "markdown",
   "metadata": {},
   "source": [
    "Si può trovare il minimo di $\\chi^2(a,b)$ in maniera analitica imponendo:\n",
    "\n",
    "$\\displaystyle \\frac{\\partial \\chi^2(a,b)}{\\partial a} = 0$\n",
    "\n",
    "$\\displaystyle \\frac{\\partial \\chi^2(a,b)}{\\partial b} = 0$"
   ]
  },
  {
   "cell_type": "markdown",
   "metadata": {},
   "source": [
    "Le derivate si possono scrivere come:\n",
    "\n",
    "$\\displaystyle \\frac{\\partial \\chi^2(a,b)}{\\partial a} = \\frac{1}{\\sigma^2}\\sum_{i=1}^Nw_i\\frac{\\partial}{\\partial a}(y_i-a-b\\,x_i)^2=\n",
    "-2 \\frac{1}{\\sigma^2}\\sum_{i=1}^Nw_i(y_i-a-b\\,x_i) = \n",
    "\\frac{2}{\\sigma^2}\\left(-\\sum_{i=1}^Nw_i y_i+a+b\\sum_{i=1}^Nw_ix_i\\right)\n",
    "$\n",
    "\n",
    "$\\displaystyle \\frac{\\partial \\chi^2(a,b)}{\\partial b} = \\frac{1}{\\sigma^2}\\sum_{i=1}^N w_i\\frac{\\partial}{\\partial b}(y_i-a-b\\,x_i)^2=\n",
    "-2 \\frac{1}{\\sigma^2}\\sum_{i=1}^Nw_i(y_i-a-b\\,x_i)x_i = \n",
    "\\frac{2}{\\sigma^2}\\left(-\\sum_{i=1}^Nw_i x_i y_i + a\\sum_{i=1}^Nw_ix_i+b\\sum_{i=1}^Nw_ix_i^2\\right)\n",
    "$"
   ]
  },
  {
   "cell_type": "markdown",
   "metadata": {},
   "source": [
    "Possiamo introdurre le *medie pesate* per le quantità $\\alpha_i$, che di volta in volta potranno essere $x_i$, $y_i$, $x_i y_i$, $x_i^2$, ecc.:\n",
    "\n",
    "$\\displaystyle \\left<\\alpha\\right> = \\sum_{i=1}^Nw_i\\alpha_i$"
   ]
  },
  {
   "cell_type": "markdown",
   "metadata": {},
   "source": [
    "Riscriviamo quindi:\n",
    "\n",
    "$\\displaystyle \\frac{\\partial \\chi^2(a,b)}{\\partial a} =\n",
    "\\frac{2}{\\sigma^2}\\left(-\\left<y\\right>+a+b\\left<x\\right>\\right)\n",
    "$\n",
    "\n",
    "$\\displaystyle \\frac{\\partial \\chi^2(a,b)}{\\partial b} = \n",
    "\\frac{2}{\\sigma^2}\\left(-\\left<x y\\right> + a\\left<x\\right>+b\\left<x^2\\right>\\right)\n",
    "$"
   ]
  },
  {
   "cell_type": "markdown",
   "metadata": {},
   "source": [
    "Uguagliando le derivate a zero, si ottiene quindi:\n",
    "\n",
    "$\\displaystyle \\left<y\\right> = a+b\\left<x\\right>$\n",
    "\n",
    "$\\displaystyle \\left<x y\\right> = a\\left<x\\right>  + b\\left<x^2\\right>$"
   ]
  },
  {
   "cell_type": "markdown",
   "metadata": {},
   "source": [
    "In forma matriciale:\n",
    "\n",
    "\n",
    "$\\displaystyle\n",
    "\\left(\\begin{array}{c}\\left<y\\right>\\\\\\left<xy\\right>\\end{array}\n",
    "\\right)=\n",
    "\\left(\\begin{array}{cc} \n",
    "1 & \\left<x\\right> \\\\\n",
    "\\left<x\\right>  & \\left<x^2\\right> \n",
    "\\end{array}\n",
    "\\right)\n",
    "\\left(\\begin{array}{c} a\\\\b\\end{array}\n",
    "\\right)\n",
    "$"
   ]
  },
  {
   "cell_type": "markdown",
   "metadata": {},
   "source": [
    "L'inversione dell'equazione matriciale dà:\n",
    "\n",
    "$\\displaystyle\n",
    "\\left(\\begin{array}{c} a\\\\b\\end{array}\n",
    "\\right)\n",
    "=\n",
    "\\left(\\begin{array}{cc} \n",
    "1 & \\left<x\\right> \\\\\n",
    "\\left<x\\right>  & \\left<x^2\\right> \n",
    "\\end{array}\n",
    "\\right)^{-1}\n",
    "\\left(\\begin{array}{c}\\left<y\\right>\\\\\\left<xy\\right>\\end{array}\n",
    "\\right)\n",
    "$"
   ]
  },
  {
   "cell_type": "markdown",
   "metadata": {},
   "source": [
    "Per calcolare l'inversione consideriamo che:\n",
    "\n",
    "$\\mathrm{det}\\left[C^{-1}\\right] = \\left<x^2\\right> - \\left<x\\right>^2 = \n",
    "\\left<(x - \\left<x\\right>)^2\\right> =\n",
    "\\mathbb{V}\\mathrm{ar}[x]$\n",
    "\n",
    "$\\displaystyle\\left(\\begin{array}{cc} \n",
    "1 & \\left<x\\right> \\\\\n",
    "\\left<x\\right>  & \\left<x^2\\right> \n",
    "\\end{array}\n",
    "\\right)^{-1}\n",
    "=\\frac{1}{\\mathbb{V}\\mathrm{ar}[x]}\n",
    "\\left(\n",
    "\\begin{array}{cc}\n",
    "\\left<x^2\\right> & -\\left<x\\right> \\\\\n",
    "-\\left<x\\right> & 1\n",
    "\\end{array}\n",
    "\\right)\n",
    "$"
   ]
  },
  {
   "cell_type": "markdown",
   "metadata": {},
   "source": [
    "Dopo qualche passaggio:\n",
    "\n",
    "$\\displaystyle b = \\hat{b} = \n",
    "\\frac{\\left<x y\\right>-\\left<x\\right>\\left<y\\right>}{\\mathbb{V}\\mathrm{ar}[x]} =\n",
    "\\frac{\\mathbb{C}\\mathrm{ov}(x, y)}{\\mathbb{V}\\mathrm{ar}[x]}$\n",
    "\n",
    "$a = \\hat{a} = \\left<y\\right> -\\hat{b}\\left<x\\right>$"
   ]
  },
  {
   "cell_type": "markdown",
   "metadata": {},
   "source": [
    "Formule equivalenti sono:\n",
    "\n",
    "$\\displaystyle\\hat{b} = \\frac{\\left<(x-\\left<x\\right>)(y-\\left<y\\right>)\\right>}{\\left<(x-\\left<x\\right>)^2\\right>} =\n",
    "\\frac{\\left<x y\\right>-\\left<x\\right>\\left<y\\right>}{\\left<x^2\\right>-\\left<x\\right>^2} =\n",
    "\\frac{\\mathbb{C}\\mathrm{ov}(x, y)}{\\sigma_x^2}\n",
    "$\n",
    "\n",
    "$\\displaystyle\\hat{a} = \\left<y\\right> - \\hat{b}\\left<x\\right>$"
   ]
  },
  {
   "cell_type": "markdown",
   "metadata": {},
   "source": [
    "## Stima degli errori\n",
    "\n",
    "Gli errori si possono stimare come:\n",
    "\n",
    "$\\displaystyle  \\frac{1}{\\sigma_{\\hat{a}}^2} = -\\frac{\\partial^2 \\log L}{\\partial a^2} = \\frac{1}{2}\\frac{\\partial^2 \\chi^2}{\\partial a^2}$\n",
    "\n",
    "$\\displaystyle  \\frac{1}{\\sigma_{\\hat{b}}^2} = -\\frac{\\partial^2 \\log L}{\\partial b^2} = \\frac{1}{2}\\frac{\\partial^2 \\chi^2}{\\partial b^2}$\n",
    "\n",
    "Questi sono gli elementi diagonali della matrice di covarianza inversa, che ha come elemento non diagonale:\n",
    "\n",
    "$\\displaystyle  C_{ab}^{-1} = -\\frac{\\partial^2 \\log L}{\\partial a\\,\\partial b} = \\frac{1}{2}\\frac{\\partial^2 \\chi^2}{\\partial a\\,\\partial b}$"
   ]
  },
  {
   "cell_type": "markdown",
   "metadata": {},
   "source": [
    "Il calcolo delle derivate seconde si ottiene derivando le derivate prime, riportate di seguto per comodità:\n",
    "\n",
    "$\\displaystyle \\frac{\\partial \\chi^2(a,b)}{\\partial a} =\n",
    "\\frac{2}{\\sigma^2}\\left(\\left<y\\right>+a+b\\left<x\\right>\\right)\n",
    "$\n",
    "\n",
    "$\\displaystyle \\frac{\\partial \\chi^2(a,b)}{\\partial b} = \n",
    "\\frac{2}{\\sigma^2}\\left(-\\left<x y\\right> + a\\left<x\\right>+b\\left<x^2\\right>\\right)\n",
    "$"
   ]
  },
  {
   "cell_type": "markdown",
   "metadata": {},
   "source": [
    "Le derivate seconde sono quindi:\n",
    "\n",
    "$\\displaystyle \\frac{\\partial^2 \\chi^2(a,b)}{\\partial a^2} =\n",
    "\\frac{2}{\\sigma^2}\n",
    "$\n",
    "\n",
    "$\\displaystyle \\frac{\\partial^2 \\chi^2(a,b)}{\\partial b^2} = \n",
    "\\frac{2 \\left<x^2\\right>}{\\sigma^2}\n",
    "$\n",
    "\n",
    "$\\displaystyle \\frac{\\partial^2 \\chi^2(a,b)}{\\partial a\\,\\partial b} =\n",
    "\\frac{2 \\left<x\\right>}{\\sigma^2}\n",
    "$"
   ]
  },
  {
   "cell_type": "markdown",
   "metadata": {},
   "source": [
    "La matrice *inversa* di covarianza è quindi, ricordando il fattore $1/2$ davanti alla derivata seconda del $\\chi^2$:\n",
    "\n",
    "$\\displaystyle C^{-1} = \\frac{1}{\\sigma^2}\\left(\n",
    "\\begin{array}{cc}\n",
    "1 & \\left<x\\right> \\\\\n",
    "\\left<x\\right> & \\left<x^2\\right>\n",
    "\\end{array}\n",
    "\\right)$"
   ]
  },
  {
   "cell_type": "markdown",
   "metadata": {},
   "source": [
    "L'inversione è simile a quanto abbiamo già calcolato in precedenza. La matrice di covarianza è quindi:\n",
    "\n",
    "$\\displaystyle C =\\frac{\\sigma^2}{\\sigma_x^2}\\left(\n",
    "\\begin{array}{cc}\n",
    "\\left<x^2\\right> & - \\left<x\\right> \\\\\n",
    "- \\left<x\\right> & 1\n",
    "\\end{array}\n",
    "\\right)\n",
    "$"
   ]
  },
  {
   "cell_type": "markdown",
   "metadata": {},
   "source": [
    "Procedendo col calcolo si ottiene:\n",
    "\n",
    "$\\displaystyle \\sigma_{\\hat{b}}^2 = \\frac{\\sigma^2}{\\sigma_x^2}$\n",
    "\n",
    "$\\displaystyle \\sigma_{\\hat{a}}^2 = \\frac{\\sigma^2}{\\sigma_x^2} \\left<x^2\\right> = \n",
    "\\sigma_{\\hat{b}}^2 \\left<x^2\\right>\n",
    "$\n",
    "\n",
    "\n",
    "$\\displaystyle \\mathbb{C}\\mathrm{ov}(\\hat{a}, \\hat{b}) = - \\frac{\\sigma^2}{\\sigma_x^2} \\left<x\\right> = \n",
    "- \\sigma_{\\hat{b}}^2\\left<x\\right>\n",
    "$"
   ]
  },
  {
   "cell_type": "markdown",
   "metadata": {},
   "source": [
    "Al posto di $\\sigma^2$ definito in precedenza, si preferisce stimare l'errore medio in base alle effettive deviazioni dei punti sperimentali dalle retta ottenuta dal fit. Si usa quindi, nelle formule precedenti, per gli errori su $\\hat{a}$ e $\\hat{b}$:\n",
    "\n",
    "$\\displaystyle \\hat{\\sigma}^2 = \\frac{1}{N-2}\\sum_{i=1}^Nw_i\\left(y_i -\\hat{y}_i\\right)^2$\n",
    "\n",
    "Dove abbiamo definito $\\hat{y}_i = f(x_i; \\hat{a}, \\hat{b}) = \\hat{a}+\\hat{b}\\, x$, ossia i valori delle $y$ sulla curva interpolata.\n",
    "\n",
    "L'uso di $N-2$ al demonimatore tiene conto del numero di gradi di libertà determinati dal fit, ossia le stime dei parametri $a$ e $b$. In questo modo si evita un possibile **bias**."
   ]
  },
  {
   "cell_type": "markdown",
   "metadata": {},
   "source": [
    "I valori $\\varepsilon_i = y_i -\\hat{y}_i$ prendono il nome di **residui**.\n",
    "\n",
    "Possiamo scrivere quindi:\n",
    "\n",
    "$\\displaystyle \\hat{\\sigma}^2 = \\frac{1}{N-2}\\left<\\varepsilon^2\\right>$"
   ]
  },
  {
   "cell_type": "markdown",
   "metadata": {},
   "source": [
    "I valori $\\varepsilon_i = y_i -\\hat{y}_i$ prendono il nome di **residui**.\n",
    "\n",
    "Possiamo scrivere quindi:\n",
    "\n",
    "$\\displaystyle \\hat{\\sigma}^2 = \\frac{1}{N-2}\\left<\\varepsilon^2\\right>$"
   ]
  },
  {
   "cell_type": "markdown",
   "metadata": {},
   "source": [
    "<span style=\"color:blue\">Assumento pesi tutti uguali, l'uso di $\\hat{\\sigma}$ permette il calcolo dell'errore sui parametri $\\hat{a}$ e $\\hat{b}$ anche quandi l'errore sulle singole misure $y_i$ non sono noti.</span>"
   ]
  },
  {
   "cell_type": "markdown",
   "metadata": {},
   "source": [
    "<span style=\"color:blue\">Nota: questo calcolo dell'errore è il default nella funzione ```curve_fit``` che già abbiamo usato. Per usare gli errori $\\sigma_i$ anziché l'errore quadratico medio, bisogna abilitare l'opzione ```absolute_sigma```, che di default è ```False```."
   ]
  },
  {
   "cell_type": "markdown",
   "metadata": {},
   "source": [
    "## Il Coefficiente di determinazione $R^2$\n",
    "\n",
    "È poco usato in fisica, ma si trova in diverse liberie il **coefficiente di determinazione** $R^2$ che è definito come:\n",
    "\n",
    "$\\displaystyle R^2 = \\frac{\\sum_{i=1}^N(\\hat{y}_i-\\left<y\\right>)^2}{\\sum_{i=1}^N(y_i-\\left<y\\right>)^2}$\n",
    "\n",
    "$R^2$ varia tra 0 e 1 e talvolta è espresso come percentuale.\n",
    "\n",
    "$R^2=1$ corrisponde a punti totalmente allineati sulla curva (deve essere $\\hat{y}_i = y_i$), mentre $R^2=0$ corrisponde ad una retta perfettamente orizzontale, per cui la curva stimata prevede che $y$ sia insensibile ad $x$."
   ]
  },
  {
   "cell_type": "code",
   "execution_count": 1,
   "metadata": {},
   "outputs": [],
   "source": [
    "import math\n",
    "import numpy as np\n",
    "import matplotlib.pyplot as plt\n",
    "import pandas as pd\n",
    "from scipy import stats"
   ]
  },
  {
   "cell_type": "markdown",
   "metadata": {},
   "source": [
    "Generiamo una sequenza di punti allineati lungo una linea con dispersione verticale generata in modo gaussiano"
   ]
  },
  {
   "cell_type": "code",
   "execution_count": 2,
   "metadata": {},
   "outputs": [
    {
     "data": {
      "image/png": "[encoded data removed]",
      "text/plain": [
       "<Figure size 800x600 with 1 Axes>"
      ]
     },
     "metadata": {
      "needs_background": "light"
     },
     "output_type": "display_data"
    }
   ],
   "source": [
    "n_points = 20\n",
    "x_min = 0.0; x_max = 10.0\n",
    "sigma = 1.5\n",
    "a0 = 3.0; b0 = 1.5\n",
    "x = np.sort(np.random.uniform(x_min, x_max, size=n_points))\n",
    "y = np.random.normal(a0 + x*b0, sigma)\n",
    "plt.figure(figsize=(8,6), dpi=100)\n",
    "plt.errorbar(x, y, yerr=sigma, fmt='o')\n",
    "plt.xlabel('x')\n",
    "plt.ylabel('y')\n",
    "plt.show()"
   ]
  },
  {
   "cell_type": "markdown",
   "metadata": {},
   "source": [
    "Calcolo della media di $x$ e $y$ e dei vettori con le deviazioni"
   ]
  },
  {
   "cell_type": "code",
   "execution_count": 3,
   "metadata": {},
   "outputs": [],
   "source": [
    "x_mean, y_mean = x.mean(), y.mean()\n",
    "dx, dy = x - x_mean, y - y_mean\n",
    "dxdy = dx*dy; dx2 = dx*dx"
   ]
  },
  {
   "cell_type": "markdown",
   "metadata": {},
   "source": [
    "Calcolo dei coefficienti del fit"
   ]
  },
  {
   "cell_type": "code",
   "execution_count": 4,
   "metadata": {},
   "outputs": [
    {
     "name": "stdout",
     "output_type": "stream",
     "text": [
      "a, b =  2.50563295428993 1.556334708995189\n"
     ]
    }
   ],
   "source": [
    "dxdy_mean, dx2_mean = dxdy.mean(), dx2.mean()\n",
    "b_fit = dxdy_mean/dx2_mean\n",
    "a_fit = y_mean - b_fit*x_mean\n",
    "print(\"a, b = \", a_fit, b_fit)\n",
    "def fit_line(x):\n",
    "    return a_fit + x*b_fit"
   ]
  },
  {
   "cell_type": "code",
   "execution_count": 5,
   "metadata": {},
   "outputs": [
    {
     "data": {
      "image/png": "[encoded data removed]",
      "text/plain": [
       "<Figure size 800x600 with 1 Axes>"
      ]
     },
     "metadata": {
      "needs_background": "light"
     },
     "output_type": "display_data"
    }
   ],
   "source": [
    "plt.figure(figsize=(8,6), dpi=100)\n",
    "plt.errorbar(x, y, yerr=sigma, fmt='o')\n",
    "plt.plot([x_min,x_max],[fit_line(x_min), fit_line(x_max)])\n",
    "plt.xlabel('x')\n",
    "plt.ylabel('y')\n",
    "plt.show()"
   ]
  },
  {
   "cell_type": "markdown",
   "metadata": {},
   "source": [
    "Calcolo dei valori interpolati e dei residui"
   ]
  },
  {
   "cell_type": "code",
   "execution_count": 6,
   "metadata": {},
   "outputs": [],
   "source": [
    "y_fit = fit_line(x)\n",
    "res = y - y_fit\n",
    "res2 = res*res"
   ]
  },
  {
   "cell_type": "markdown",
   "metadata": {},
   "source": [
    "Calcoliamo la stima degli errori. Il significato del $p$-value sarà definito nelle prossime lezioni."
   ]
  },
  {
   "cell_type": "code",
   "execution_count": 8,
   "metadata": {},
   "outputs": [
    {
     "name": "stdout",
     "output_type": "stream",
     "text": [
      "b = 1.556 ± 0.110\n",
      "a = 2.506 ± 0.618\n",
      "cov(a,b) = -0.05713624\n",
      "chi^2 = 18.162/18 ndof\n",
      "p = 0.445\n"
     ]
    }
   ],
   "source": [
    "x2 = x*x\n",
    "x2_mean = x2.mean()\n",
    "res2_mean = res2.mean()\n",
    "chi2 = res2_mean*n_points/(sigma*sigma)\n",
    "ndof = n_points-2\n",
    "var_b = res2_mean/dx2_mean/(n_points-2)\n",
    "var_a = var_b*x2_mean\n",
    "cov_ab = -var_b*x_mean\n",
    "err_b = math.sqrt(var_b)\n",
    "err_a = math.sqrt(var_a)\n",
    "print('b = {:.3f} ± {:.3f}'.format(b_fit, err_b))\n",
    "print('a = {:.3f} ± {:.3f}'.format(a_fit, err_a))\n",
    "print('cov(a,b) = {:.8f}'.format(cov_ab))\n",
    "print('chi^2 = {:.3f}/{:d} ndof'.format(chi2, ndof))\n",
    "print('p = {:.3f}'.format(1 - stats.chi2.cdf(chi2, ndof)))"
   ]
  },
  {
   "cell_type": "markdown",
   "metadata": {},
   "source": [
    "Confrontiamo con [```scipy.stats.linregres```](https://docs.scipy.org/doc/scipy/reference/generated/scipy.stats.linregress.html).\n",
    "\n",
    "<span style=\"color: blue\">Da notare che il $p$-value è relativo all'ipotesi che la pendenza sia zero, non è relativo al $\\chi^2$ del fit. Non va quindi confrontato con il precedente. Il significato del $p$-value sarà più chiaro nelle prossime lezioni.</span>\n",
    "\n",
    "<span style=\"color: red\">La funzione non implementa fit pesati.</span>"
   ]
  },
  {
   "cell_type": "code",
   "execution_count": 10,
   "metadata": {},
   "outputs": [
    {
     "name": "stdout",
     "output_type": "stream",
     "text": [
      "b =  1.5563347089951889\n",
      "a =  2.505632954289931\n",
      "err =  0.11040073452404647\n",
      "R^2 =  0.9169471167533944\n",
      "p =  3.6253336191607e-11\n"
     ]
    }
   ],
   "source": [
    "slope, intercept, r_value, p_value, std_err = stats.linregress(x, y)\n",
    "print('b = ', slope)\n",
    "print('a = ', intercept)\n",
    "print('err = ', std_err)\n",
    "print('R^2 = ', r_value*r_value)\n",
    "print('p = ', p_value)"
   ]
  },
  {
   "cell_type": "markdown",
   "metadata": {},
   "source": [
    "Propagazione degli errori su $a$ e $b$, considerando il coefficiente di covarianza:\n",
    "\n",
    "$y = a + b x$\n",
    "\n",
    "$\\sigma_y^2 = \\sigma_a^2 + 2x\\,\\mathrm{cov}(a,b) + x^2\\sigma_b^2$"
   ]
  },
  {
   "cell_type": "code",
   "execution_count": 11,
   "metadata": {},
   "outputs": [],
   "source": [
    "y_err_fit = np.sqrt(var_a + 2*x*cov_ab + x2*var_b)\n",
    "y_lo_fit = y_fit - y_err_fit\n",
    "y_hi_fit = y_fit + y_err_fit"
   ]
  },
  {
   "cell_type": "code",
   "execution_count": 12,
   "metadata": {},
   "outputs": [
    {
     "data": {
      "image/png": "[encoded data removed]",
      "text/plain": [
       "<Figure size 800x600 with 1 Axes>"
      ]
     },
     "metadata": {
      "needs_background": "light"
     },
     "output_type": "display_data"
    }
   ],
   "source": [
    "plt.figure(figsize=(8,6), dpi=100)\n",
    "plt.fill_between(x, y_lo_fit, y_hi_fit, facecolor='orange')\n",
    "plt.errorbar(x, y, yerr=sigma, fmt='o')\n",
    "plt.plot([x_min,x_max],[fit_line(x_min), fit_line(x_max)], color='darkred')\n",
    "plt.xlabel('x')\n",
    "plt.ylabel('y')\n",
    "plt.show()"
   ]
  },
  {
   "cell_type": "markdown",
   "metadata": {},
   "source": [
    "Possiamo costruzione un ```DataFrame``` pandas per visualizzazione della tabella e salvarlo in formato csv per poterlo importare in un foglio di calcolo."
   ]
  },
  {
   "cell_type": "code",
   "execution_count": 13,
   "metadata": {},
   "outputs": [
    {
     "data": {
      "text/html": [
       "<div>\n",
       "<style scoped>\n",
       "    .dataframe tbody tr th:only-of-type {\n",
       "        vertical-align: middle;\n",
       "    }\n",
       "\n",
       "    .dataframe tbody tr th {\n",
       "        vertical-align: top;\n",
       "    }\n",
       "\n",
       "    .dataframe thead th {\n",
       "        text-align: right;\n",
       "    }\n",
       "</style>\n",
       "<table border=\"1\" class=\"dataframe\">\n",
       "  <thead>\n",
       "    <tr style=\"text-align: right;\">\n",
       "      <th></th>\n",
       "      <th>x</th>\n",
       "      <th>y</th>\n",
       "      <th>dx</th>\n",
       "      <th>dy</th>\n",
       "      <th>x2</th>\n",
       "      <th>dxdy</th>\n",
       "      <th>dx2</th>\n",
       "      <th>y_fit</th>\n",
       "      <th>res</th>\n",
       "      <th>res2</th>\n",
       "      <th>y_err_fit</th>\n",
       "      <th>y_lo_fit</th>\n",
       "      <th>y_hi_fit</th>\n",
       "    </tr>\n",
       "  </thead>\n",
       "  <tbody>\n",
       "    <tr>\n",
       "      <th>0</th>\n",
       "      <td>0.147616</td>\n",
       "      <td>0.644494</td>\n",
       "      <td>-4.540170</td>\n",
       "      <td>-9.156902</td>\n",
       "      <td>0.021790</td>\n",
       "      <td>41.573891</td>\n",
       "      <td>20.613141</td>\n",
       "      <td>2.735372</td>\n",
       "      <td>-2.090879</td>\n",
       "      <td>4.371773</td>\n",
       "      <td>0.603947</td>\n",
       "      <td>2.131425</td>\n",
       "      <td>3.339319</td>\n",
       "    </tr>\n",
       "    <tr>\n",
       "      <th>1</th>\n",
       "      <td>0.321065</td>\n",
       "      <td>3.424974</td>\n",
       "      <td>-4.366720</td>\n",
       "      <td>-6.376422</td>\n",
       "      <td>0.103083</td>\n",
       "      <td>27.844049</td>\n",
       "      <td>19.068245</td>\n",
       "      <td>3.005318</td>\n",
       "      <td>0.419657</td>\n",
       "      <td>0.176112</td>\n",
       "      <td>0.588152</td>\n",
       "      <td>2.417166</td>\n",
       "      <td>3.593470</td>\n",
       "    </tr>\n",
       "    <tr>\n",
       "      <th>2</th>\n",
       "      <td>0.592428</td>\n",
       "      <td>3.124398</td>\n",
       "      <td>-4.095357</td>\n",
       "      <td>-6.676998</td>\n",
       "      <td>0.350971</td>\n",
       "      <td>27.344690</td>\n",
       "      <td>16.771949</td>\n",
       "      <td>3.427650</td>\n",
       "      <td>-0.303252</td>\n",
       "      <td>0.091962</td>\n",
       "      <td>0.563857</td>\n",
       "      <td>2.863793</td>\n",
       "      <td>3.991507</td>\n",
       "    </tr>\n",
       "    <tr>\n",
       "      <th>3</th>\n",
       "      <td>1.157520</td>\n",
       "      <td>5.257620</td>\n",
       "      <td>-3.530266</td>\n",
       "      <td>-4.543776</td>\n",
       "      <td>1.339852</td>\n",
       "      <td>16.040737</td>\n",
       "      <td>12.462775</td>\n",
       "      <td>4.307121</td>\n",
       "      <td>0.950498</td>\n",
       "      <td>0.903447</td>\n",
       "      <td>0.515182</td>\n",
       "      <td>3.791939</td>\n",
       "      <td>4.822304</td>\n",
       "    </tr>\n",
       "    <tr>\n",
       "      <th>4</th>\n",
       "      <td>1.836808</td>\n",
       "      <td>6.558667</td>\n",
       "      <td>-2.850977</td>\n",
       "      <td>-3.242729</td>\n",
       "      <td>3.373865</td>\n",
       "      <td>9.244945</td>\n",
       "      <td>8.128070</td>\n",
       "      <td>5.364321</td>\n",
       "      <td>1.194346</td>\n",
       "      <td>1.426462</td>\n",
       "      <td>0.461064</td>\n",
       "      <td>4.903257</td>\n",
       "      <td>5.825386</td>\n",
       "    </tr>\n",
       "    <tr>\n",
       "      <th>5</th>\n",
       "      <td>2.179072</td>\n",
       "      <td>4.434518</td>\n",
       "      <td>-2.508714</td>\n",
       "      <td>-5.366877</td>\n",
       "      <td>4.748353</td>\n",
       "      <td>13.463958</td>\n",
       "      <td>6.293644</td>\n",
       "      <td>5.896998</td>\n",
       "      <td>-1.462479</td>\n",
       "      <td>2.138846</td>\n",
       "      <td>0.436144</td>\n",
       "      <td>5.460854</td>\n",
       "      <td>6.333142</td>\n",
       "    </tr>\n",
       "    <tr>\n",
       "      <th>6</th>\n",
       "      <td>2.500296</td>\n",
       "      <td>8.563230</td>\n",
       "      <td>-2.187489</td>\n",
       "      <td>-1.238166</td>\n",
       "      <td>6.251481</td>\n",
       "      <td>2.708474</td>\n",
       "      <td>4.785109</td>\n",
       "      <td>6.396931</td>\n",
       "      <td>2.166300</td>\n",
       "      <td>4.692854</td>\n",
       "      <td>0.414530</td>\n",
       "      <td>5.982401</td>\n",
       "      <td>6.811461</td>\n",
       "    </tr>\n",
       "    <tr>\n",
       "      <th>7</th>\n",
       "      <td>2.793990</td>\n",
       "      <td>5.349960</td>\n",
       "      <td>-1.893796</td>\n",
       "      <td>-4.451436</td>\n",
       "      <td>7.806378</td>\n",
       "      <td>8.430110</td>\n",
       "      <td>3.586462</td>\n",
       "      <td>6.854016</td>\n",
       "      <td>-1.504056</td>\n",
       "      <td>2.262185</td>\n",
       "      <td>0.396517</td>\n",
       "      <td>6.457499</td>\n",
       "      <td>7.250533</td>\n",
       "    </tr>\n",
       "    <tr>\n",
       "      <th>8</th>\n",
       "      <td>3.226339</td>\n",
       "      <td>7.578254</td>\n",
       "      <td>-1.461446</td>\n",
       "      <td>-2.223142</td>\n",
       "      <td>10.409266</td>\n",
       "      <td>3.249002</td>\n",
       "      <td>2.135824</td>\n",
       "      <td>7.526897</td>\n",
       "      <td>0.051357</td>\n",
       "      <td>0.002638</td>\n",
       "      <td>0.373557</td>\n",
       "      <td>7.153340</td>\n",
       "      <td>7.900454</td>\n",
       "    </tr>\n",
       "    <tr>\n",
       "      <th>9</th>\n",
       "      <td>4.736200</td>\n",
       "      <td>10.093643</td>\n",
       "      <td>0.048415</td>\n",
       "      <td>0.292247</td>\n",
       "      <td>22.431593</td>\n",
       "      <td>0.014149</td>\n",
       "      <td>0.002344</td>\n",
       "      <td>9.876746</td>\n",
       "      <td>0.216898</td>\n",
       "      <td>0.047045</td>\n",
       "      <td>0.336959</td>\n",
       "      <td>9.539787</td>\n",
       "      <td>10.213705</td>\n",
       "    </tr>\n",
       "    <tr>\n",
       "      <th>10</th>\n",
       "      <td>5.730839</td>\n",
       "      <td>10.657788</td>\n",
       "      <td>1.043054</td>\n",
       "      <td>0.856392</td>\n",
       "      <td>32.842519</td>\n",
       "      <td>0.893264</td>\n",
       "      <td>1.087962</td>\n",
       "      <td>11.424737</td>\n",
       "      <td>-0.766949</td>\n",
       "      <td>0.588210</td>\n",
       "      <td>0.356052</td>\n",
       "      <td>11.068685</td>\n",
       "      <td>11.780789</td>\n",
       "    </tr>\n",
       "    <tr>\n",
       "      <th>11</th>\n",
       "      <td>5.956798</td>\n",
       "      <td>9.932025</td>\n",
       "      <td>1.269012</td>\n",
       "      <td>0.130629</td>\n",
       "      <td>35.483437</td>\n",
       "      <td>0.165770</td>\n",
       "      <td>1.610392</td>\n",
       "      <td>11.776404</td>\n",
       "      <td>-1.844379</td>\n",
       "      <td>3.401732</td>\n",
       "      <td>0.364884</td>\n",
       "      <td>11.411519</td>\n",
       "      <td>12.141288</td>\n",
       "    </tr>\n",
       "    <tr>\n",
       "      <th>12</th>\n",
       "      <td>6.634105</td>\n",
       "      <td>15.186143</td>\n",
       "      <td>1.946320</td>\n",
       "      <td>5.384747</td>\n",
       "      <td>44.011348</td>\n",
       "      <td>10.480439</td>\n",
       "      <td>3.788160</td>\n",
       "      <td>12.830521</td>\n",
       "      <td>2.355623</td>\n",
       "      <td>5.548958</td>\n",
       "      <td>0.399605</td>\n",
       "      <td>12.430916</td>\n",
       "      <td>13.230125</td>\n",
       "    </tr>\n",
       "    <tr>\n",
       "      <th>13</th>\n",
       "      <td>6.659276</td>\n",
       "      <td>13.787037</td>\n",
       "      <td>1.971491</td>\n",
       "      <td>3.985641</td>\n",
       "      <td>44.345962</td>\n",
       "      <td>7.857656</td>\n",
       "      <td>3.886777</td>\n",
       "      <td>12.869696</td>\n",
       "      <td>0.917341</td>\n",
       "      <td>0.841515</td>\n",
       "      <td>0.401106</td>\n",
       "      <td>12.468590</td>\n",
       "      <td>13.270802</td>\n",
       "    </tr>\n",
       "    <tr>\n",
       "      <th>14</th>\n",
       "      <td>6.727560</td>\n",
       "      <td>16.080185</td>\n",
       "      <td>2.039775</td>\n",
       "      <td>6.278789</td>\n",
       "      <td>45.260064</td>\n",
       "      <td>12.807316</td>\n",
       "      <td>4.160681</td>\n",
       "      <td>12.975968</td>\n",
       "      <td>3.104217</td>\n",
       "      <td>9.636163</td>\n",
       "      <td>0.405246</td>\n",
       "      <td>12.570722</td>\n",
       "      <td>13.381214</td>\n",
       "    </tr>\n",
       "    <tr>\n",
       "      <th>15</th>\n",
       "      <td>7.176100</td>\n",
       "      <td>12.838340</td>\n",
       "      <td>2.488315</td>\n",
       "      <td>3.036944</td>\n",
       "      <td>51.496412</td>\n",
       "      <td>7.556874</td>\n",
       "      <td>6.191711</td>\n",
       "      <td>13.674047</td>\n",
       "      <td>-0.835706</td>\n",
       "      <td>0.698405</td>\n",
       "      <td>0.434717</td>\n",
       "      <td>13.239329</td>\n",
       "      <td>14.108764</td>\n",
       "    </tr>\n",
       "    <tr>\n",
       "      <th>16</th>\n",
       "      <td>8.033939</td>\n",
       "      <td>13.750350</td>\n",
       "      <td>3.346153</td>\n",
       "      <td>3.948954</td>\n",
       "      <td>64.544169</td>\n",
       "      <td>13.213806</td>\n",
       "      <td>11.196742</td>\n",
       "      <td>15.009130</td>\n",
       "      <td>-1.258780</td>\n",
       "      <td>1.584528</td>\n",
       "      <td>0.499982</td>\n",
       "      <td>14.509148</td>\n",
       "      <td>15.509113</td>\n",
       "    </tr>\n",
       "    <tr>\n",
       "      <th>17</th>\n",
       "      <td>8.138540</td>\n",
       "      <td>15.232257</td>\n",
       "      <td>3.450755</td>\n",
       "      <td>5.430862</td>\n",
       "      <td>66.235837</td>\n",
       "      <td>18.740572</td>\n",
       "      <td>11.907709</td>\n",
       "      <td>15.171926</td>\n",
       "      <td>0.060332</td>\n",
       "      <td>0.003640</td>\n",
       "      <td>0.508574</td>\n",
       "      <td>14.663351</td>\n",
       "      <td>15.680500</td>\n",
       "    </tr>\n",
       "    <tr>\n",
       "      <th>18</th>\n",
       "      <td>9.245620</td>\n",
       "      <td>17.078636</td>\n",
       "      <td>4.557835</td>\n",
       "      <td>7.277240</td>\n",
       "      <td>85.481497</td>\n",
       "      <td>33.168462</td>\n",
       "      <td>20.773861</td>\n",
       "      <td>16.894913</td>\n",
       "      <td>0.183723</td>\n",
       "      <td>0.033754</td>\n",
       "      <td>0.605567</td>\n",
       "      <td>16.289346</td>\n",
       "      <td>17.500480</td>\n",
       "    </tr>\n",
       "    <tr>\n",
       "      <th>19</th>\n",
       "      <td>9.961594</td>\n",
       "      <td>16.455396</td>\n",
       "      <td>5.273809</td>\n",
       "      <td>6.654001</td>\n",
       "      <td>99.233359</td>\n",
       "      <td>35.091927</td>\n",
       "      <td>27.813060</td>\n",
       "      <td>18.009208</td>\n",
       "      <td>-1.553811</td>\n",
       "      <td>2.414330</td>\n",
       "      <td>0.672687</td>\n",
       "      <td>17.336521</td>\n",
       "      <td>18.681894</td>\n",
       "    </tr>\n",
       "  </tbody>\n",
       "</table>\n",
       "</div>"
      ],
      "text/plain": [
       "           x          y        dx        dy         x2       dxdy        dx2  \\\n",
       "0   0.147616   0.644494 -4.540170 -9.156902   0.021790  41.573891  20.613141   \n",
       "1   0.321065   3.424974 -4.366720 -6.376422   0.103083  27.844049  19.068245   \n",
       "2   0.592428   3.124398 -4.095357 -6.676998   0.350971  27.344690  16.771949   \n",
       "3   1.157520   5.257620 -3.530266 -4.543776   1.339852  16.040737  12.462775   \n",
       "4   1.836808   6.558667 -2.850977 -3.242729   3.373865   9.244945   8.128070   \n",
       "5   2.179072   4.434518 -2.508714 -5.366877   4.748353  13.463958   6.293644   \n",
       "6   2.500296   8.563230 -2.187489 -1.238166   6.251481   2.708474   4.785109   \n",
       "7   2.793990   5.349960 -1.893796 -4.451436   7.806378   8.430110   3.586462   \n",
       "8   3.226339   7.578254 -1.461446 -2.223142  10.409266   3.249002   2.135824   \n",
       "9   4.736200  10.093643  0.048415  0.292247  22.431593   0.014149   0.002344   \n",
       "10  5.730839  10.657788  1.043054  0.856392  32.842519   0.893264   1.087962   \n",
       "11  5.956798   9.932025  1.269012  0.130629  35.483437   0.165770   1.610392   \n",
       "12  6.634105  15.186143  1.946320  5.384747  44.011348  10.480439   3.788160   \n",
       "13  6.659276  13.787037  1.971491  3.985641  44.345962   7.857656   3.886777   \n",
       "14  6.727560  16.080185  2.039775  6.278789  45.260064  12.807316   4.160681   \n",
       "15  7.176100  12.838340  2.488315  3.036944  51.496412   7.556874   6.191711   \n",
       "16  8.033939  13.750350  3.346153  3.948954  64.544169  13.213806  11.196742   \n",
       "17  8.138540  15.232257  3.450755  5.430862  66.235837  18.740572  11.907709   \n",
       "18  9.245620  17.078636  4.557835  7.277240  85.481497  33.168462  20.773861   \n",
       "19  9.961594  16.455396  5.273809  6.654001  99.233359  35.091927  27.813060   \n",
       "\n",
       "        y_fit       res      res2  y_err_fit   y_lo_fit   y_hi_fit  \n",
       "0    2.735372 -2.090879  4.371773   0.603947   2.131425   3.339319  \n",
       "1    3.005318  0.419657  0.176112   0.588152   2.417166   3.593470  \n",
       "2    3.427650 -0.303252  0.091962   0.563857   2.863793   3.991507  \n",
       "3    4.307121  0.950498  0.903447   0.515182   3.791939   4.822304  \n",
       "4    5.364321  1.194346  1.426462   0.461064   4.903257   5.825386  \n",
       "5    5.896998 -1.462479  2.138846   0.436144   5.460854   6.333142  \n",
       "6    6.396931  2.166300  4.692854   0.414530   5.982401   6.811461  \n",
       "7    6.854016 -1.504056  2.262185   0.396517   6.457499   7.250533  \n",
       "8    7.526897  0.051357  0.002638   0.373557   7.153340   7.900454  \n",
       "9    9.876746  0.216898  0.047045   0.336959   9.539787  10.213705  \n",
       "10  11.424737 -0.766949  0.588210   0.356052  11.068685  11.780789  \n",
       "11  11.776404 -1.844379  3.401732   0.364884  11.411519  12.141288  \n",
       "12  12.830521  2.355623  5.548958   0.399605  12.430916  13.230125  \n",
       "13  12.869696  0.917341  0.841515   0.401106  12.468590  13.270802  \n",
       "14  12.975968  3.104217  9.636163   0.405246  12.570722  13.381214  \n",
       "15  13.674047 -0.835706  0.698405   0.434717  13.239329  14.108764  \n",
       "16  15.009130 -1.258780  1.584528   0.499982  14.509148  15.509113  \n",
       "17  15.171926  0.060332  0.003640   0.508574  14.663351  15.680500  \n",
       "18  16.894913  0.183723  0.033754   0.605567  16.289346  17.500480  \n",
       "19  18.009208 -1.553811  2.414330   0.672687  17.336521  18.681894  "
      ]
     },
     "execution_count": 13,
     "metadata": {},
     "output_type": "execute_result"
    }
   ],
   "source": [
    "df = pd.DataFrame({'x': x, 'y':y, 'dx': dx, 'dy': dy, 'x2': x2, 'dxdy': dxdy, 'dx2': dx2,\n",
    "    'y_fit': y_fit, 'res': res, 'res2': res2,\n",
    "    'y_err_fit': y_err_fit, 'y_lo_fit': y_lo_fit, 'y_hi_fit': y_hi_fit})\n",
    "df.to_csv('output/linear_regression.csv')\n",
    "df"
   ]
  }
 ],
 "metadata": {
  "kernelspec": {
   "display_name": "Python 3",
   "language": "python",
   "name": "python3"
  },
  "language_info": {
   "codemirror_mode": {
    "name": "ipython",
    "version": 3
   },
   "file_extension": ".py",
   "mimetype": "text/x-python",
   "name": "python",
   "nbconvert_exporter": "python",
   "pygments_lexer": "ipython3",
   "version": "3.7.3"
  }
 },
 "nbformat": 4,
 "nbformat_minor": 4
}
