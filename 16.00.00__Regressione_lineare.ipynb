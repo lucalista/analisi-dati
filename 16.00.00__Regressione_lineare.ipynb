{
 "cells": [
  {
   "cell_type": "markdown",
   "metadata": {},
   "source": [
    "# Regressione lineare\n",
    "\n",
    "L'applicazione del metodo del minimo $\\chi^2$ è nel caso di una funzione $f$ lineare:\n",
    "\n",
    "$y=f(x;a,b) = a+b\\,x$\n",
    "\n",
    "dobbiamo minimizzare:\n",
    "\n",
    "$\\displaystyle \\chi^2(a,b) = -2\\log p = \\sum_{i=1}^N\\frac{(y_i-a-b\\,x_i)^2}{\\sigma_i^2}$\n",
    "\n",
    "L'equazione sopra è vera *a meno di un termine costante* che non contribuisce alla minimizzazione."
   ]
  },
  {
   "cell_type": "markdown",
   "metadata": {},
   "source": [
    "## Pesi\n",
    "\n",
    "Conviene definire i *persi* $w_i$:\n",
    "\n",
    "$\\displaystyle w_i = \\frac{1/\\sigma_i^2}{1/\\sigma^2}$\n",
    "\n",
    "dove a sua volta $\\sigma$ è definito da:\n",
    "\n",
    "$\\displaystyle \\frac{1}{\\sigma^2} = \\sum_{i=1}^N\\frac{1}{\\sigma_i^2}$\n",
    "\n",
    "Questa scelta garantisce che $\\sum_{i=1}^Nw_i=1$."
   ]
  },
  {
   "cell_type": "markdown",
   "metadata": {},
   "source": [
    "## Minimizzazione del $\\chi^2$\n",
    "\n",
    "Possiamo quindi scrivere:\n",
    "\n",
    "$\\displaystyle \\chi^2(a, b) = \\frac{1}{\\sigma^2}\\sum_{i=1}^Nw_i(y_i-a-b\\,x_i)^2$"
   ]
  },
  {
   "cell_type": "markdown",
   "metadata": {},
   "source": [
    "Si può trovare il minimo di $\\chi^2(a,b)$ in maniera analitica imponendo:\n",
    "\n",
    "$\\displaystyle \\frac{\\partial \\chi^2(a,b)}{\\partial a} = 0$\n",
    "\n",
    "$\\displaystyle \\frac{\\partial \\chi^2(a,b)}{\\partial b} = 0$"
   ]
  },
  {
   "cell_type": "markdown",
   "metadata": {},
   "source": [
    "Le derivate si possono scrivere come:\n",
    "\n",
    "$\\displaystyle \\frac{\\partial \\chi^2(a,b)}{\\partial a} = \\frac{1}{\\sigma^2}\\sum_{i=1}^Nw_i\\frac{\\partial}{\\partial a}(y_i-a-b\\,x_i)^2=\n",
    "-2 \\frac{1}{\\sigma^2}\\sum_{i=1}^Nw_i(y_i-a-b\\,x_i) = \n",
    "\\frac{2}{\\sigma^2}\\left(-\\sum_{i=1}^Nw_i y_i+a+b\\sum_{i=1}^Nw_ix_i\\right)\n",
    "$\n",
    "\n",
    "$\\displaystyle \\frac{\\partial \\chi^2(a,b)}{\\partial b} = \\frac{1}{\\sigma^2}\\sum_{i=1}^N w_i\\frac{\\partial}{\\partial b}(y_i-a-b\\,x_i)^2=\n",
    "-2 \\frac{1}{\\sigma^2}\\sum_{i=1}^Nw_i(y_i-a-b\\,x_i)x_i = \n",
    "\\frac{2}{\\sigma^2}\\left(-\\sum_{i=1}^Nw_i x_i y_i + a\\sum_{i=1}^Nw_ix_i+b\\sum_{i=1}^Nw_ix_i^2\\right)\n",
    "$"
   ]
  },
  {
   "cell_type": "markdown",
   "metadata": {},
   "source": [
    "Possiamo introdurre le *medie pesate* per le quantità $\\alpha_i$, che di volta in volta potranno essere $x_i$, $y_i$, $x_i y_i$, $x_i^2$, ecc.:\n",
    "\n",
    "$\\displaystyle \\left<\\alpha\\right> = \\sum_{i=1}^Nw_i\\alpha_i$"
   ]
  },
  {
   "cell_type": "markdown",
   "metadata": {},
   "source": [
    "Riscriviamo quindi:\n",
    "\n",
    "$\\displaystyle \\frac{\\partial \\chi^2(a,b)}{\\partial a} =\n",
    "\\frac{2}{\\sigma^2}\\left(-\\left<y\\right>+a+b\\left<x\\right>\\right)\n",
    "$\n",
    "\n",
    "$\\displaystyle \\frac{\\partial \\chi^2(a,b)}{\\partial b} = \n",
    "\\frac{2}{\\sigma^2}\\left(-\\left<x y\\right> + a\\left<x\\right>+b\\left<x^2\\right>\\right)\n",
    "$"
   ]
  },
  {
   "cell_type": "markdown",
   "metadata": {},
   "source": [
    "Uguagliando le derivate a zero, si ottiene quindi:\n",
    "\n",
    "$\\displaystyle \\left<y\\right> = a+b\\left<x\\right>$\n",
    "\n",
    "$\\displaystyle \\left<x y\\right> = a\\left<x\\right>  + b\\left<x^2\\right>$"
   ]
  },
  {
   "cell_type": "markdown",
   "metadata": {},
   "source": [
    "In forma matriciale:\n",
    "\n",
    "\n",
    "$\\displaystyle\n",
    "\\left(\\begin{array}{c}\\left<y\\right>\\\\\\left<xy\\right>\\end{array}\n",
    "\\right)=\n",
    "\\left(\\begin{array}{cc} \n",
    "1 & \\left<x\\right> \\\\\n",
    "\\left<x\\right>  & \\left<x^2\\right> \n",
    "\\end{array}\n",
    "\\right)\n",
    "\\left(\\begin{array}{c} a\\\\b\\end{array}\n",
    "\\right)\n",
    "$"
   ]
  },
  {
   "cell_type": "markdown",
   "metadata": {},
   "source": [
    "L'inversione dell'equazione matriciale dà:\n",
    "\n",
    "$\\displaystyle\n",
    "\\left(\\begin{array}{c} a\\\\b\\end{array}\n",
    "\\right)\n",
    "=\n",
    "\\left(\\begin{array}{cc} \n",
    "1 & \\left<x\\right> \\\\\n",
    "\\left<x\\right>  & \\left<x^2\\right> \n",
    "\\end{array}\n",
    "\\right)^{-1}\n",
    "\\left(\\begin{array}{c}\\left<y\\right>\\\\\\left<xy\\right>\\end{array}\n",
    "\\right)\n",
    "$"
   ]
  },
  {
   "cell_type": "markdown",
   "metadata": {},
   "source": [
    "Per calcolare l'inversione consideriamo che:\n",
    "\n",
    "$\\mathrm{det}\\left[C^{-1}\\right] = \\left<x^2\\right> - \\left<x\\right>^2 = \n",
    "\\left<(x - \\left<x\\right>)^2\\right> =\n",
    "\\mathbb{V}\\mathrm{ar}[x]$\n",
    "\n",
    "$\\displaystyle\\left(\\begin{array}{cc} \n",
    "1 & \\left<x\\right> \\\\\n",
    "\\left<x\\right>  & \\left<x^2\\right> \n",
    "\\end{array}\n",
    "\\right)^{-1}\n",
    "=\\frac{1}{\\mathbb{V}\\mathrm{ar}[x]}\n",
    "\\left(\n",
    "\\begin{array}{cc}\n",
    "\\left<x^2\\right> & -\\left<x\\right> \\\\\n",
    "-\\left<x\\right> & 1\n",
    "\\end{array}\n",
    "\\right)\n",
    "$"
   ]
  },
  {
   "cell_type": "markdown",
   "metadata": {},
   "source": [
    "Dopo qualche passaggio:\n",
    "\n",
    "$\\displaystyle b = \\hat{b} = \n",
    "\\frac{\\left<x y\\right>-\\left<x\\right>\\left<y\\right>}{\\mathbb{V}\\mathrm{ar}[x]} =\n",
    "\\frac{\\mathbb{C}\\mathrm{ov}(x, y)}{\\mathbb{V}\\mathrm{ar}[x]}$\n",
    "\n",
    "$a = \\hat{a} = \\left<y\\right> -\\hat{b}\\left<x\\right>$"
   ]
  },
  {
   "cell_type": "markdown",
   "metadata": {},
   "source": [
    "Formule equivalenti sono:\n",
    "\n",
    "$\\displaystyle\\hat{b} = \\frac{\\left<(x-\\left<x\\right>)(y-\\left<y\\right>)\\right>}{\\left<(x-\\left<x\\right>)^2\\right>} =\n",
    "\\frac{\\left<x y\\right>-\\left<x\\right>\\left<y\\right>}{\\left<x^2\\right>-\\left<x\\right>^2} =\n",
    "\\frac{\\mathbb{C}\\mathrm{ov}(x, y)}{\\sigma_x^2}\n",
    "$\n",
    "\n",
    "$\\displaystyle\\hat{a} = \\left<y\\right> - \\hat{b}\\left<x\\right>$"
   ]
  },
  {
   "cell_type": "markdown",
   "metadata": {},
   "source": [
    "## Stima degli errori\n",
    "\n",
    "Gli errori si possono stimare come:\n",
    "\n",
    "$\\displaystyle  \\frac{1}{\\sigma_{\\hat{a}}^2} = -\\frac{\\partial^2 \\log L}{\\partial a^2} = \\frac{1}{2}\\frac{\\partial^2 \\chi^2}{\\partial a^2}$\n",
    "\n",
    "$\\displaystyle  \\frac{1}{\\sigma_{\\hat{b}}^2} = -\\frac{\\partial^2 \\log L}{\\partial b^2} = \\frac{1}{2}\\frac{\\partial^2 \\chi^2}{\\partial b^2}$\n",
    "\n",
    "Questi sono gli elementi diagonali della matrice di covarianza inversa, che ha come elemento non diagonale:\n",
    "\n",
    "$\\displaystyle  C_{ab}^{-1} = -\\frac{\\partial^2 \\log L}{\\partial a\\,\\partial b} = \\frac{1}{2}\\frac{\\partial^2 \\chi^2}{\\partial a\\,\\partial b}$"
   ]
  },
  {
   "cell_type": "markdown",
   "metadata": {},
   "source": [
    "Il calcolo delle derivate seconde si ottiene derivando le derivate prime, riportate di seguto per comodità:\n",
    "\n",
    "$\\displaystyle \\frac{\\partial \\chi^2(a,b)}{\\partial a} =\n",
    "\\frac{2}{\\sigma^2}\\left(\\left<y\\right>+a+b\\left<x\\right>\\right)\n",
    "$\n",
    "\n",
    "$\\displaystyle \\frac{\\partial \\chi^2(a,b)}{\\partial b} = \n",
    "\\frac{2}{\\sigma^2}\\left(-\\left<x y\\right> + a\\left<x\\right>+b\\left<x^2\\right>\\right)\n",
    "$"
   ]
  },
  {
   "cell_type": "markdown",
   "metadata": {},
   "source": [
    "Le derivate seconde sono quindi:\n",
    "\n",
    "$\\displaystyle \\frac{\\partial^2 \\chi^2(a,b)}{\\partial a^2} =\n",
    "\\frac{2}{\\sigma^2}\n",
    "$\n",
    "\n",
    "$\\displaystyle \\frac{\\partial^2 \\chi^2(a,b)}{\\partial b^2} = \n",
    "\\frac{2 \\left<x^2\\right>}{\\sigma^2}\n",
    "$\n",
    "\n",
    "$\\displaystyle \\frac{\\partial^2 \\chi^2(a,b)}{\\partial a\\,\\partial b} =\n",
    "\\frac{2 \\left<x\\right>}{\\sigma^2}\n",
    "$"
   ]
  },
  {
   "cell_type": "markdown",
   "metadata": {},
   "source": [
    "La matrice *inversa* di covarianza è quindi, ricordando il fattore $1/2$ davanti alla derivata seconda del $\\chi^2$:\n",
    "\n",
    "$\\displaystyle C^{-1} = \\frac{1}{\\sigma^2}\\left(\n",
    "\\begin{array}{cc}\n",
    "1 & \\left<x\\right> \\\\\n",
    "\\left<x\\right> & \\left<x^2\\right>\n",
    "\\end{array}\n",
    "\\right)$"
   ]
  },
  {
   "cell_type": "markdown",
   "metadata": {},
   "source": [
    "L'inversione è simile a quanto abbiamo già calcolato in precedenza. La matrice di covarianza è quindi:\n",
    "\n",
    "$\\displaystyle C =\\frac{\\sigma^2}{\\sigma_x^2}\\left(\n",
    "\\begin{array}{cc}\n",
    "\\left<x^2\\right> & - \\left<x\\right> \\\\\n",
    "- \\left<x\\right> & 1\n",
    "\\end{array}\n",
    "\\right)\n",
    "$"
   ]
  },
  {
   "cell_type": "markdown",
   "metadata": {},
   "source": [
    "Procedendo col calcolo si ottiene:\n",
    "\n",
    "$\\displaystyle \\sigma_{\\hat{b}}^2 = \\frac{\\sigma^2}{\\sigma_x^2}$\n",
    "\n",
    "$\\displaystyle \\sigma_{\\hat{a}}^2 = \\frac{\\sigma^2}{\\sigma_x^2} \\left<x^2\\right> = \n",
    "\\sigma_{\\hat{b}}^2 \\left<x^2\\right>\n",
    "$\n",
    "\n",
    "\n",
    "$\\displaystyle \\mathbb{C}\\mathrm{ov}(\\hat{a}, \\hat{b}) = - \\frac{\\sigma^2}{\\sigma_x^2} \\left<x\\right> = \n",
    "- \\sigma_{\\hat{b}}^2\\left<x\\right>\n",
    "$"
   ]
  },
  {
   "cell_type": "markdown",
   "metadata": {},
   "source": [
    "Al posto di $\\sigma^2$ definito in precedenza, si preferisce stimare l'errore medio in base alle effettive deviazioni dei punti sperimentali dalle retta ottenuta dal fit. Si usa quindi, nelle formule precedenti, per gli errori su $\\hat{a}$ e $\\hat{b}$:\n",
    "\n",
    "$\\displaystyle \\hat{\\sigma}^2 = \\frac{1}{N-2}\\sum_{i=1}^Nw_i\\left(y_i -\\hat{y}_i\\right)^2$\n",
    "\n",
    "Dove abbiamo definito $\\hat{y}_i = f(x_i; \\hat{a}, \\hat{b}) = \\hat{a}+\\hat{b}\\, x$, ossia i valori delle $y$ sulla curva interpolata.\n",
    "\n",
    "L'uso di $N-2$ al demonimatore tiene conto del numero di gradi di libertà determinati dal fit, ossia le stime dei parametri $a$ e $b$. In questo modo si evita un possibile **bias**."
   ]
  },
  {
   "cell_type": "markdown",
   "metadata": {},
   "source": [
    "I valori $\\varepsilon_i = y_i -\\hat{y}_i$ prendono il nome di **residui**.\n",
    "\n",
    "Possiamo scrivere quindi:\n",
    "\n",
    "$\\displaystyle \\hat{\\sigma}^2 = \\frac{1}{N-2}\\left<\\varepsilon^2\\right>$"
   ]
  },
  {
   "cell_type": "markdown",
   "metadata": {},
   "source": [
    "I valori $\\varepsilon_i = y_i -\\hat{y}_i$ prendono il nome di **residui**.\n",
    "\n",
    "Possiamo scrivere quindi:\n",
    "\n",
    "$\\displaystyle \\hat{\\sigma}^2 = \\frac{1}{N-2}\\left<\\varepsilon^2\\right>$"
   ]
  },
  {
   "cell_type": "markdown",
   "metadata": {},
   "source": [
    "<span style=\"color:blue\">Assumento pesi tutti uguali, l'uso di $\\hat{\\sigma}$ permette il calcolo dell'errore sui parametri $\\hat{a}$ e $\\hat{b}$ anche quandi l'errore sulle singole misure $y_i$ non sono noti.</span>"
   ]
  },
  {
   "cell_type": "markdown",
   "metadata": {},
   "source": [
    "<span style=\"color:blue\">Nota: questo calcolo dell'errore è il default nella funzione ```curve_fit``` che già abbiamo usato. Per usare gli errori $\\sigma_i$ anziché l'errore quadratico medio, bisogna abilitare l'opzione ```absolute_sigma```, che di default è ```False```."
   ]
  },
  {
   "cell_type": "markdown",
   "metadata": {},
   "source": [
    "## Il Coefficiente di determinazione $R^2$\n",
    "\n",
    "È poco usato in fisica, ma si trova in diverse liberie il **coefficiente di determinazione** $R^2$ che è definito come:\n",
    "\n",
    "$\\displaystyle R^2 = \\frac{\\sum_{i=1}^N(\\hat{y}_i-\\left<y\\right>)^2}{\\sum_{i=1}^N(y_i-\\left<y\\right>)^2}$\n",
    "\n",
    "$R^2$ varia tra 0 e 1 e talvolta è espresso come percentuale.\n",
    "\n",
    "$R^2=1$ corrisponde a punti totalmente allineati sulla curva (deve essere $\\hat{y}_i = y_i$), mentre $R^2=0$ corrisponde ad una retta perfettamente orizzontale, per cui la curva stimata prevede che $y$ sia insensibile ad $x$."
   ]
  },
  {
   "cell_type": "code",
   "execution_count": 7,
   "metadata": {},
   "outputs": [],
   "source": [
    "import math\n",
    "import numpy as np\n",
    "import matplotlib.pyplot as plt\n",
    "import pandas as pd\n",
    "from scipy import stats"
   ]
  },
  {
   "cell_type": "markdown",
   "metadata": {},
   "source": [
    "Generiamo una sequenza di punti allineati lungo una linea con dispersione verticale generata in modo gaussiano"
   ]
  },
  {
   "cell_type": "code",
   "execution_count": 21,
   "metadata": {},
   "outputs": [
    {
     "data": {
      "image/png": "[encoded data removed]",
      "text/plain": [
       "<Figure size 800x600 with 1 Axes>"
      ]
     },
     "metadata": {
      "needs_background": "light"
     },
     "output_type": "display_data"
    }
   ],
   "source": [
    "n_points = 20\n",
    "x_min = 0.0; x_max = 10.0\n",
    "sigma = 1.5\n",
    "a0 = 3.0; b0 = 1.5\n",
    "x = np.sort(np.random.uniform(x_min, x_max, size=n_points))\n",
    "y = np.random.normal(a0 + x*b0, sigma)\n",
    "plt.figure(figsize=(8,6), dpi=100)\n",
    "plt.errorbar(x, y, yerr=sigma, fmt='o')\n",
    "plt.xlabel('x')\n",
    "plt.ylabel('y')\n",
    "plt.show()"
   ]
  },
  {
   "cell_type": "markdown",
   "metadata": {},
   "source": [
    "Calcolo della media di $x$ e $y$ e dei vettori con le deviazioni"
   ]
  },
  {
   "cell_type": "code",
   "execution_count": 22,
   "metadata": {},
   "outputs": [],
   "source": [
    "x_mean, y_mean = x.mean(), y.mean()\n",
    "dx, dy = x - x_mean, y - y_mean\n",
    "dxdy = dx*dy; dx2 = dx*dx"
   ]
  },
  {
   "cell_type": "markdown",
   "metadata": {},
   "source": [
    "Calcolo dei coefficienti del fit"
   ]
  },
  {
   "cell_type": "code",
   "execution_count": 23,
   "metadata": {},
   "outputs": [
    {
     "name": "stdout",
     "output_type": "stream",
     "text": [
      "a, b =  2.538103225941562 1.556435374223889\n"
     ]
    }
   ],
   "source": [
    "dxdy_mean, dx2_mean = dxdy.mean(), dx2.mean()\n",
    "b_fit = dxdy_mean/dx2_mean\n",
    "a_fit = y_mean - b_fit*x_mean\n",
    "print(\"a, b = \", a_fit, b_fit)\n",
    "def fit_line(x):\n",
    "    return a_fit + x*b_fit"
   ]
  },
  {
   "cell_type": "code",
   "execution_count": 24,
   "metadata": {},
   "outputs": [
    {
     "data": {
      "image/png": "[encoded data removed]",
      "text/plain": [
       "<Figure size 800x600 with 1 Axes>"
      ]
     },
     "metadata": {
      "needs_background": "light"
     },
     "output_type": "display_data"
    }
   ],
   "source": [
    "plt.figure(figsize=(8,6), dpi=100)\n",
    "plt.errorbar(x, y, yerr=sigma, fmt='o')\n",
    "plt.plot([x_min,x_max],[fit_line(x_min), fit_line(x_max)])\n",
    "plt.xlabel('x')\n",
    "plt.ylabel('y')\n",
    "plt.show()"
   ]
  },
  {
   "cell_type": "markdown",
   "metadata": {},
   "source": [
    "Calcolo dei valori interpolati e dei residui"
   ]
  },
  {
   "cell_type": "code",
   "execution_count": 25,
   "metadata": {},
   "outputs": [],
   "source": [
    "y_fit = fit_line(x)\n",
    "res = y - y_fit\n",
    "res2 = res*res"
   ]
  },
  {
   "cell_type": "markdown",
   "metadata": {},
   "source": [
    "Stima degli errori"
   ]
  },
  {
   "cell_type": "code",
   "execution_count": 28,
   "metadata": {},
   "outputs": [
    {
     "name": "stdout",
     "output_type": "stream",
     "text": [
      "b =  1.556435374223889 +/- 0.1014711268140414\n",
      "a =  2.538103225941562 +/- 0.6003683242459736\n",
      "cov(a,b) =  -0.05357398321759771\n",
      "chi^2 =  13.06991507817523 / 18 ndof\n",
      "p =  0.7874029065546324\n"
     ]
    }
   ],
   "source": [
    "x2 = x*x\n",
    "x2_mean = x2.mean()\n",
    "res2_mean = res2.mean()\n",
    "chi2 = res2_mean*n_points/(sigma*sigma)\n",
    "ndof = n_points-2\n",
    "var_b = res2_mean/dx2_mean/(n_points-2)\n",
    "var_a = var_b*x2_mean\n",
    "cov_ab = -var_b*x_mean\n",
    "err_b = math.sqrt(var_b)\n",
    "err_a = math.sqrt(var_a)\n",
    "print('b = ', b_fit , '+/-', err_b)\n",
    "print('a = ', a_fit , '+/-', err_a)\n",
    "print('cov(a,b) = ', cov_ab)\n",
    "print('chi^2 = ', chi2, \"/\", ndof, \"ndof\")\n",
    "print('p = ', 1 - stats.chi2.cdf(chi2, ndof))"
   ]
  },
  {
   "cell_type": "markdown",
   "metadata": {},
   "source": [
    "Confrontiamo con [```scipy.stats.linregres```](https://docs.scipy.org/doc/scipy/reference/generated/scipy.stats.linregress.html).\n",
    "\n",
    "<span style=\"color: blue\">Da notare che il $p$-value è relativo all'ipotesi che la pendenza sia zero, non è relativo al $\\chi^2$ del fit.</span>\n",
    "\n",
    "<span style=\"color: red\">La funzione non implementa fit pesati.</span>"
   ]
  },
  {
   "cell_type": "code",
   "execution_count": 29,
   "metadata": {},
   "outputs": [
    {
     "name": "stdout",
     "output_type": "stream",
     "text": [
      "b =  1.5564353742238892\n",
      "a =  2.538103225941562\n",
      "err =  0.10147112681404111\n",
      "R^2 =  0.9289312223148549\n",
      "p =  8.866362874772059e-12\n"
     ]
    }
   ],
   "source": [
    "slope, intercept, r_value, p_value, std_err = stats.linregress(x, y)\n",
    "print('b = ', slope)\n",
    "print('a = ', intercept)\n",
    "print('err = ', std_err)\n",
    "print('R^2 = ', r_value*r_value)\n",
    "print('p = ', p_value)"
   ]
  },
  {
   "cell_type": "markdown",
   "metadata": {},
   "source": [
    "Propagazione degli errori su $a$ e $b$, considerando il coefficiente di covarianza:\n",
    "\n",
    "$y = a + b x$\n",
    "\n",
    "$\\sigma_y^2 = \\sigma_a^2 + 2x\\,\\mathrm{cov}(a,b) + x^2\\sigma_b^2$"
   ]
  },
  {
   "cell_type": "code",
   "execution_count": 30,
   "metadata": {},
   "outputs": [],
   "source": [
    "y_err_fit = np.sqrt(var_a + 2*x*cov_ab + x2*var_b)\n",
    "y_lo_fit = y_fit - y_err_fit\n",
    "y_hi_fit = y_fit + y_err_fit"
   ]
  },
  {
   "cell_type": "code",
   "execution_count": 32,
   "metadata": {},
   "outputs": [
    {
     "data": {
      "image/png": "[encoded data removed]",
      "text/plain": [
       "<Figure size 800x600 with 1 Axes>"
      ]
     },
     "metadata": {
      "needs_background": "light"
     },
     "output_type": "display_data"
    }
   ],
   "source": [
    "plt.figure(figsize=(8,6), dpi=100)\n",
    "plt.fill_between(x, y_lo_fit, y_hi_fit, facecolor='orange')\n",
    "plt.errorbar(x, y, yerr=sigma, fmt='o')\n",
    "plt.plot([x_min,x_max],[fit_line(x_min), fit_line(x_max)], color='darkred')\n",
    "plt.xlabel('x')\n",
    "plt.ylabel('y')\n",
    "plt.show()"
   ]
  },
  {
   "cell_type": "markdown",
   "metadata": {},
   "source": [
    "Possiamo costruzione un ```DataFrame``` pandas per visualizzazione della tabella e salvarlo in formato csv per poterlo importare in un foglio di calcolo."
   ]
  },
  {
   "cell_type": "code",
   "execution_count": 33,
   "metadata": {},
   "outputs": [
    {
     "data": {
      "text/html": [
       "<div>\n",
       "<style scoped>\n",
       "    .dataframe tbody tr th:only-of-type {\n",
       "        vertical-align: middle;\n",
       "    }\n",
       "\n",
       "    .dataframe tbody tr th {\n",
       "        vertical-align: top;\n",
       "    }\n",
       "\n",
       "    .dataframe thead th {\n",
       "        text-align: right;\n",
       "    }\n",
       "</style>\n",
       "<table border=\"1\" class=\"dataframe\">\n",
       "  <thead>\n",
       "    <tr style=\"text-align: right;\">\n",
       "      <th></th>\n",
       "      <th>x</th>\n",
       "      <th>y</th>\n",
       "      <th>dx</th>\n",
       "      <th>dy</th>\n",
       "      <th>x2</th>\n",
       "      <th>dxdy</th>\n",
       "      <th>dx2</th>\n",
       "      <th>y_fit</th>\n",
       "      <th>res</th>\n",
       "      <th>res2</th>\n",
       "      <th>y_err_fit</th>\n",
       "      <th>y_lo_fit</th>\n",
       "      <th>y_hi_fit</th>\n",
       "    </tr>\n",
       "  </thead>\n",
       "  <tbody>\n",
       "    <tr>\n",
       "      <th>0</th>\n",
       "      <td>0.400200</td>\n",
       "      <td>2.812938</td>\n",
       "      <td>-4.802981</td>\n",
       "      <td>-7.823581</td>\n",
       "      <td>0.160160</td>\n",
       "      <td>37.576514</td>\n",
       "      <td>23.068629</td>\n",
       "      <td>3.160989</td>\n",
       "      <td>-0.348051</td>\n",
       "      <td>0.121140</td>\n",
       "      <td>0.564987</td>\n",
       "      <td>2.596002</td>\n",
       "      <td>3.725976</td>\n",
       "    </tr>\n",
       "    <tr>\n",
       "      <th>1</th>\n",
       "      <td>0.923250</td>\n",
       "      <td>2.718178</td>\n",
       "      <td>-4.279932</td>\n",
       "      <td>-7.918341</td>\n",
       "      <td>0.852390</td>\n",
       "      <td>33.889957</td>\n",
       "      <td>18.317814</td>\n",
       "      <td>3.975082</td>\n",
       "      <td>-1.256904</td>\n",
       "      <td>1.579808</td>\n",
       "      <td>0.519898</td>\n",
       "      <td>3.455184</td>\n",
       "      <td>4.494980</td>\n",
       "    </tr>\n",
       "    <tr>\n",
       "      <th>2</th>\n",
       "      <td>1.032028</td>\n",
       "      <td>5.525743</td>\n",
       "      <td>-4.171153</td>\n",
       "      <td>-5.110776</td>\n",
       "      <td>1.065082</td>\n",
       "      <td>21.317832</td>\n",
       "      <td>17.398521</td>\n",
       "      <td>4.144388</td>\n",
       "      <td>1.381355</td>\n",
       "      <td>1.908140</td>\n",
       "      <td>0.510714</td>\n",
       "      <td>3.633674</td>\n",
       "      <td>4.655102</td>\n",
       "    </tr>\n",
       "    <tr>\n",
       "      <th>3</th>\n",
       "      <td>2.542475</td>\n",
       "      <td>6.771506</td>\n",
       "      <td>-2.660706</td>\n",
       "      <td>-3.865013</td>\n",
       "      <td>6.464182</td>\n",
       "      <td>10.283662</td>\n",
       "      <td>7.079356</td>\n",
       "      <td>6.495302</td>\n",
       "      <td>0.276204</td>\n",
       "      <td>0.076289</td>\n",
       "      <td>0.393165</td>\n",
       "      <td>6.102137</td>\n",
       "      <td>6.888467</td>\n",
       "    </tr>\n",
       "    <tr>\n",
       "      <th>4</th>\n",
       "      <td>2.732777</td>\n",
       "      <td>6.585828</td>\n",
       "      <td>-2.470404</td>\n",
       "      <td>-4.050691</td>\n",
       "      <td>7.468073</td>\n",
       "      <td>10.006843</td>\n",
       "      <td>6.102896</td>\n",
       "      <td>6.791495</td>\n",
       "      <td>-0.205667</td>\n",
       "      <td>0.042299</td>\n",
       "      <td>0.380164</td>\n",
       "      <td>6.411331</td>\n",
       "      <td>7.171659</td>\n",
       "    </tr>\n",
       "    <tr>\n",
       "      <th>5</th>\n",
       "      <td>3.020885</td>\n",
       "      <td>8.827444</td>\n",
       "      <td>-2.182297</td>\n",
       "      <td>-1.809075</td>\n",
       "      <td>9.125746</td>\n",
       "      <td>3.947939</td>\n",
       "      <td>4.762418</td>\n",
       "      <td>7.239915</td>\n",
       "      <td>1.587528</td>\n",
       "      <td>2.520246</td>\n",
       "      <td>0.361556</td>\n",
       "      <td>6.878359</td>\n",
       "      <td>7.601471</td>\n",
       "    </tr>\n",
       "    <tr>\n",
       "      <th>6</th>\n",
       "      <td>3.285872</td>\n",
       "      <td>8.234426</td>\n",
       "      <td>-1.917310</td>\n",
       "      <td>-2.402093</td>\n",
       "      <td>10.796953</td>\n",
       "      <td>4.605556</td>\n",
       "      <td>3.676076</td>\n",
       "      <td>7.652350</td>\n",
       "      <td>0.582076</td>\n",
       "      <td>0.338812</td>\n",
       "      <td>0.345742</td>\n",
       "      <td>7.306609</td>\n",
       "      <td>7.998092</td>\n",
       "    </tr>\n",
       "    <tr>\n",
       "      <th>7</th>\n",
       "      <td>3.832548</td>\n",
       "      <td>7.287703</td>\n",
       "      <td>-1.370634</td>\n",
       "      <td>-3.348815</td>\n",
       "      <td>14.688424</td>\n",
       "      <td>4.589999</td>\n",
       "      <td>1.878636</td>\n",
       "      <td>8.503216</td>\n",
       "      <td>-1.215513</td>\n",
       "      <td>1.477472</td>\n",
       "      <td>0.317852</td>\n",
       "      <td>8.185364</td>\n",
       "      <td>8.821069</td>\n",
       "    </tr>\n",
       "    <tr>\n",
       "      <th>8</th>\n",
       "      <td>4.588568</td>\n",
       "      <td>10.643371</td>\n",
       "      <td>-0.614614</td>\n",
       "      <td>0.006852</td>\n",
       "      <td>21.054954</td>\n",
       "      <td>-0.004212</td>\n",
       "      <td>0.377750</td>\n",
       "      <td>9.679912</td>\n",
       "      <td>0.963459</td>\n",
       "      <td>0.928253</td>\n",
       "      <td>0.292534</td>\n",
       "      <td>9.387378</td>\n",
       "      <td>9.972447</td>\n",
       "    </tr>\n",
       "    <tr>\n",
       "      <th>9</th>\n",
       "      <td>5.040002</td>\n",
       "      <td>10.444821</td>\n",
       "      <td>-0.163180</td>\n",
       "      <td>-0.191698</td>\n",
       "      <td>25.401618</td>\n",
       "      <td>0.031281</td>\n",
       "      <td>0.026628</td>\n",
       "      <td>10.382540</td>\n",
       "      <td>0.062281</td>\n",
       "      <td>0.003879</td>\n",
       "      <td>0.286289</td>\n",
       "      <td>10.096252</td>\n",
       "      <td>10.668829</td>\n",
       "    </tr>\n",
       "    <tr>\n",
       "      <th>10</th>\n",
       "      <td>5.958948</td>\n",
       "      <td>10.207314</td>\n",
       "      <td>0.755767</td>\n",
       "      <td>-0.429204</td>\n",
       "      <td>35.509064</td>\n",
       "      <td>-0.324378</td>\n",
       "      <td>0.571183</td>\n",
       "      <td>11.812821</td>\n",
       "      <td>-1.605507</td>\n",
       "      <td>2.577651</td>\n",
       "      <td>0.295919</td>\n",
       "      <td>11.516902</td>\n",
       "      <td>12.108740</td>\n",
       "    </tr>\n",
       "    <tr>\n",
       "      <th>11</th>\n",
       "      <td>6.027357</td>\n",
       "      <td>12.454850</td>\n",
       "      <td>0.824175</td>\n",
       "      <td>1.818331</td>\n",
       "      <td>36.329029</td>\n",
       "      <td>1.498623</td>\n",
       "      <td>0.679265</td>\n",
       "      <td>11.919294</td>\n",
       "      <td>0.535555</td>\n",
       "      <td>0.286819</td>\n",
       "      <td>0.297793</td>\n",
       "      <td>11.621501</td>\n",
       "      <td>12.217088</td>\n",
       "    </tr>\n",
       "    <tr>\n",
       "      <th>12</th>\n",
       "      <td>6.629842</td>\n",
       "      <td>10.976664</td>\n",
       "      <td>1.426660</td>\n",
       "      <td>0.340145</td>\n",
       "      <td>43.954804</td>\n",
       "      <td>0.485272</td>\n",
       "      <td>2.035360</td>\n",
       "      <td>12.857024</td>\n",
       "      <td>-1.880359</td>\n",
       "      <td>3.535752</td>\n",
       "      <td>0.320381</td>\n",
       "      <td>12.536643</td>\n",
       "      <td>13.177405</td>\n",
       "    </tr>\n",
       "    <tr>\n",
       "      <th>13</th>\n",
       "      <td>6.867804</td>\n",
       "      <td>13.611851</td>\n",
       "      <td>1.664623</td>\n",
       "      <td>2.975332</td>\n",
       "      <td>47.166735</td>\n",
       "      <td>4.952806</td>\n",
       "      <td>2.770969</td>\n",
       "      <td>13.227397</td>\n",
       "      <td>0.384454</td>\n",
       "      <td>0.147805</td>\n",
       "      <td>0.331991</td>\n",
       "      <td>12.895406</td>\n",
       "      <td>13.559388</td>\n",
       "    </tr>\n",
       "    <tr>\n",
       "      <th>14</th>\n",
       "      <td>7.553645</td>\n",
       "      <td>12.984384</td>\n",
       "      <td>2.350463</td>\n",
       "      <td>2.347865</td>\n",
       "      <td>57.057549</td>\n",
       "      <td>5.518570</td>\n",
       "      <td>5.524678</td>\n",
       "      <td>14.294863</td>\n",
       "      <td>-1.310479</td>\n",
       "      <td>1.717356</td>\n",
       "      <td>0.372252</td>\n",
       "      <td>13.922612</td>\n",
       "      <td>14.667115</td>\n",
       "    </tr>\n",
       "    <tr>\n",
       "      <th>15</th>\n",
       "      <td>7.555161</td>\n",
       "      <td>13.975556</td>\n",
       "      <td>2.351979</td>\n",
       "      <td>3.339037</td>\n",
       "      <td>57.080455</td>\n",
       "      <td>7.853347</td>\n",
       "      <td>5.531807</td>\n",
       "      <td>14.297223</td>\n",
       "      <td>-0.321667</td>\n",
       "      <td>0.103469</td>\n",
       "      <td>0.372350</td>\n",
       "      <td>13.924873</td>\n",
       "      <td>14.669573</td>\n",
       "    </tr>\n",
       "    <tr>\n",
       "      <th>16</th>\n",
       "      <td>8.723008</td>\n",
       "      <td>18.919509</td>\n",
       "      <td>3.519827</td>\n",
       "      <td>8.282991</td>\n",
       "      <td>76.090875</td>\n",
       "      <td>29.154693</td>\n",
       "      <td>12.389181</td>\n",
       "      <td>16.114902</td>\n",
       "      <td>2.804607</td>\n",
       "      <td>7.865823</td>\n",
       "      <td>0.457439</td>\n",
       "      <td>15.657463</td>\n",
       "      <td>16.572341</td>\n",
       "    </tr>\n",
       "    <tr>\n",
       "      <th>17</th>\n",
       "      <td>8.768990</td>\n",
       "      <td>16.498050</td>\n",
       "      <td>3.565808</td>\n",
       "      <td>5.861531</td>\n",
       "      <td>76.895183</td>\n",
       "      <td>20.901098</td>\n",
       "      <td>12.714990</td>\n",
       "      <td>16.186469</td>\n",
       "      <td>0.311581</td>\n",
       "      <td>0.097083</td>\n",
       "      <td>0.461092</td>\n",
       "      <td>15.725378</td>\n",
       "      <td>16.647561</td>\n",
       "    </tr>\n",
       "    <tr>\n",
       "      <th>18</th>\n",
       "      <td>8.866716</td>\n",
       "      <td>14.587378</td>\n",
       "      <td>3.663535</td>\n",
       "      <td>3.950860</td>\n",
       "      <td>78.618661</td>\n",
       "      <td>14.474112</td>\n",
       "      <td>13.421489</td>\n",
       "      <td>16.338574</td>\n",
       "      <td>-1.751196</td>\n",
       "      <td>3.066687</td>\n",
       "      <td>0.468913</td>\n",
       "      <td>15.869661</td>\n",
       "      <td>16.807488</td>\n",
       "    </tr>\n",
       "    <tr>\n",
       "      <th>19</th>\n",
       "      <td>9.713552</td>\n",
       "      <td>18.662863</td>\n",
       "      <td>4.510371</td>\n",
       "      <td>8.026344</td>\n",
       "      <td>94.353099</td>\n",
       "      <td>36.201787</td>\n",
       "      <td>20.343445</td>\n",
       "      <td>17.656620</td>\n",
       "      <td>1.006243</td>\n",
       "      <td>1.012525</td>\n",
       "      <td>0.539584</td>\n",
       "      <td>17.117036</td>\n",
       "      <td>18.196204</td>\n",
       "    </tr>\n",
       "  </tbody>\n",
       "</table>\n",
       "</div>"
      ],
      "text/plain": [
       "           x          y        dx        dy         x2       dxdy        dx2  \\\n",
       "0   0.400200   2.812938 -4.802981 -7.823581   0.160160  37.576514  23.068629   \n",
       "1   0.923250   2.718178 -4.279932 -7.918341   0.852390  33.889957  18.317814   \n",
       "2   1.032028   5.525743 -4.171153 -5.110776   1.065082  21.317832  17.398521   \n",
       "3   2.542475   6.771506 -2.660706 -3.865013   6.464182  10.283662   7.079356   \n",
       "4   2.732777   6.585828 -2.470404 -4.050691   7.468073  10.006843   6.102896   \n",
       "5   3.020885   8.827444 -2.182297 -1.809075   9.125746   3.947939   4.762418   \n",
       "6   3.285872   8.234426 -1.917310 -2.402093  10.796953   4.605556   3.676076   \n",
       "7   3.832548   7.287703 -1.370634 -3.348815  14.688424   4.589999   1.878636   \n",
       "8   4.588568  10.643371 -0.614614  0.006852  21.054954  -0.004212   0.377750   \n",
       "9   5.040002  10.444821 -0.163180 -0.191698  25.401618   0.031281   0.026628   \n",
       "10  5.958948  10.207314  0.755767 -0.429204  35.509064  -0.324378   0.571183   \n",
       "11  6.027357  12.454850  0.824175  1.818331  36.329029   1.498623   0.679265   \n",
       "12  6.629842  10.976664  1.426660  0.340145  43.954804   0.485272   2.035360   \n",
       "13  6.867804  13.611851  1.664623  2.975332  47.166735   4.952806   2.770969   \n",
       "14  7.553645  12.984384  2.350463  2.347865  57.057549   5.518570   5.524678   \n",
       "15  7.555161  13.975556  2.351979  3.339037  57.080455   7.853347   5.531807   \n",
       "16  8.723008  18.919509  3.519827  8.282991  76.090875  29.154693  12.389181   \n",
       "17  8.768990  16.498050  3.565808  5.861531  76.895183  20.901098  12.714990   \n",
       "18  8.866716  14.587378  3.663535  3.950860  78.618661  14.474112  13.421489   \n",
       "19  9.713552  18.662863  4.510371  8.026344  94.353099  36.201787  20.343445   \n",
       "\n",
       "        y_fit       res      res2  y_err_fit   y_lo_fit   y_hi_fit  \n",
       "0    3.160989 -0.348051  0.121140   0.564987   2.596002   3.725976  \n",
       "1    3.975082 -1.256904  1.579808   0.519898   3.455184   4.494980  \n",
       "2    4.144388  1.381355  1.908140   0.510714   3.633674   4.655102  \n",
       "3    6.495302  0.276204  0.076289   0.393165   6.102137   6.888467  \n",
       "4    6.791495 -0.205667  0.042299   0.380164   6.411331   7.171659  \n",
       "5    7.239915  1.587528  2.520246   0.361556   6.878359   7.601471  \n",
       "6    7.652350  0.582076  0.338812   0.345742   7.306609   7.998092  \n",
       "7    8.503216 -1.215513  1.477472   0.317852   8.185364   8.821069  \n",
       "8    9.679912  0.963459  0.928253   0.292534   9.387378   9.972447  \n",
       "9   10.382540  0.062281  0.003879   0.286289  10.096252  10.668829  \n",
       "10  11.812821 -1.605507  2.577651   0.295919  11.516902  12.108740  \n",
       "11  11.919294  0.535555  0.286819   0.297793  11.621501  12.217088  \n",
       "12  12.857024 -1.880359  3.535752   0.320381  12.536643  13.177405  \n",
       "13  13.227397  0.384454  0.147805   0.331991  12.895406  13.559388  \n",
       "14  14.294863 -1.310479  1.717356   0.372252  13.922612  14.667115  \n",
       "15  14.297223 -0.321667  0.103469   0.372350  13.924873  14.669573  \n",
       "16  16.114902  2.804607  7.865823   0.457439  15.657463  16.572341  \n",
       "17  16.186469  0.311581  0.097083   0.461092  15.725378  16.647561  \n",
       "18  16.338574 -1.751196  3.066687   0.468913  15.869661  16.807488  \n",
       "19  17.656620  1.006243  1.012525   0.539584  17.117036  18.196204  "
      ]
     },
     "execution_count": 33,
     "metadata": {},
     "output_type": "execute_result"
    }
   ],
   "source": [
    "df = pd.DataFrame({'x': x, 'y':y, 'dx': dx, 'dy': dy, 'x2': x2, 'dxdy': dxdy, 'dx2': dx2,\n",
    "    'y_fit': y_fit, 'res': res, 'res2': res2,\n",
    "    'y_err_fit': y_err_fit, 'y_lo_fit': y_lo_fit, 'y_hi_fit': y_hi_fit})\n",
    "df.to_csv('output/linear_regression.csv')\n",
    "df"
   ]
  },
  {
   "cell_type": "code",
   "execution_count": null,
   "metadata": {},
   "outputs": [],
   "source": []
  }
 ],
 "metadata": {
  "kernelspec": {
   "display_name": "Python 3",
   "language": "python",
   "name": "python3"
  },
  "language_info": {
   "codemirror_mode": {
    "name": "ipython",
    "version": 3
   },
   "file_extension": ".py",
   "mimetype": "text/x-python",
   "name": "python",
   "nbconvert_exporter": "python",
   "pygments_lexer": "ipython3",
   "version": "3.7.3"
  }
 },
 "nbformat": 4,
 "nbformat_minor": 4
}
