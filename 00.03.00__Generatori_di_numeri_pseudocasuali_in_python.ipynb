{
 "cells": [
  {
   "cell_type": "markdown",
   "metadata": {},
   "source": [
    "# Generatori di numeri pseudocasuali in python\n",
    "\n",
    "Cominciamo ad utilizzare il modulo ```random``` che contiene un algoritmo per la generazione di numeri casuali uniformi tra 0 e 1. \n",
    "\n",
    "Nel seguito introdurremo altre librerie che contengono generatori con distribuzioni non uniformi, dopo che avremo definito meglio cosa si intende per *distribuzione*.\n",
    "\n",
    "La documentazione si trova facilmente con Google. Di seguito alcuni link:\n",
    "* <a href=\"https://docs.python.org/3/library/random.html\">random</a> (python.org)\n",
    "* <a href=\"https://www.w3schools.com/python/module_random.asp\">Python Random Module</a> (W3School)"
   ]
  },
  {
   "cell_type": "code",
   "execution_count": 1,
   "metadata": {},
   "outputs": [
    {
     "name": "stdout",
     "output_type": "stream",
     "text": [
      "Help on built-in function random:\n",
      "\n",
      "random(...) method of random.Random instance\n",
      "    random() -> x in the interval [0, 1).\n",
      "\n",
      "None\n"
     ]
    }
   ],
   "source": [
    "import random\n",
    "print(help(random.random))"
   ]
  },
  {
   "cell_type": "markdown",
   "metadata": {},
   "source": [
    "Da notare: usando lo stesso *seed* la sequenza è riproducibile.\n",
    "\n",
    "Se non si inizializza il *seed*, viene inizializzato dall'orario di sistema."
   ]
  },
  {
   "cell_type": "code",
   "execution_count": 3,
   "metadata": {},
   "outputs": [
    {
     "name": "stdout",
     "output_type": "stream",
     "text": [
      "0.41661987254534116\n",
      "0.010169169457068361\n",
      "0.8252065092537432\n",
      "0.2986398551995928\n",
      "0.3684116894884757\n",
      "0.19366134904507426\n",
      "0.5660081687288613\n",
      "0.1616878239293682\n",
      "0.12426688428353017\n",
      "0.4329362680099159\n"
     ]
    }
   ],
   "source": [
    "random.seed(12345)\n",
    "for i in range(10):\n",
    "    print(random.random())"
   ]
  },
  {
   "cell_type": "markdown",
   "metadata": {},
   "source": [
    "Per generare numeri casuali da un minimo $a$ ad un massimo $b$ basta:\n",
    "* generare un numero casuale con ```random.random()```\n",
    "* moltiplicare per $b-a$\n",
    "* sommare $a$\n",
    "Il risultato sarà compreso in $[a,\\,b)$"
   ]
  },
  {
   "cell_type": "code",
   "execution_count": 5,
   "metadata": {},
   "outputs": [
    {
     "name": "stdout",
     "output_type": "stream",
     "text": [
      "0.03284282826184359\n",
      "1.2455872426158878\n",
      "-1.7561441539741058\n",
      "-1.3488786880759158\n",
      "1.9584497741311604\n",
      "-0.8025587052997727\n",
      "-1.648212625646012\n",
      "0.20358226794068912\n",
      "-0.059650676078566445\n",
      "1.8951055744417022\n"
     ]
    }
   ],
   "source": [
    "def rnd_ab(a, b):\n",
    "    return a+(b-a)*random.random()\n",
    "for i in range(10):\n",
    "    print(rnd_ab(-2,2))"
   ]
  },
  {
   "cell_type": "code",
   "execution_count": 8,
   "metadata": {},
   "outputs": [
    {
     "name": "stdout",
     "output_type": "stream",
     "text": [
      "-0.5404077719270335\n",
      "1.9618202179115345\n",
      "0.6911934881831829\n",
      "-1.6281139814018517\n",
      "1.213180715089519\n",
      "0.8734302585273506\n",
      "1.3166565770018352\n",
      "1.4766049968861337\n",
      "1.5408872051547275\n",
      "-1.5610968511747356\n"
     ]
    }
   ],
   "source": [
    "for i in range(10):\n",
    "    print(random.uniform(-2,2))"
   ]
  },
  {
   "cell_type": "markdown",
   "metadata": {},
   "source": [
    "... a questo punto, abbiamo degli strumenti per generare numeri casuali e simulare, quindi, i risultati di un esperimento.\n",
    "\n",
    "Però, dobbiamo definire meglio cosa significa:\n",
    "* Probabilità\n",
    "* Distrubuzione di probabilità"
   ]
  },
  {
   "cell_type": "markdown",
   "metadata": {},
   "source": [
    "# Idee per esercizi\n",
    "\n",
    "Generare grafici delle distribuzioni d numeri casuali generati con il modulo ```random```:\n",
    "1. uniformi tra 0 e 1, come dalla funzione ```random()```\n",
    "* uniformi tra due valoro $a$ e $b$, come indicato sopra\n",
    "* provare graficare la distribuzione di $x^2$, dove $x$ è un numero random uniforme oppure di $e^x$ o $\\mathrm{log}(x)$"
   ]
  },
  {
   "cell_type": "code",
   "execution_count": null,
   "metadata": {},
   "outputs": [],
   "source": []
  }
 ],
 "metadata": {
  "kernelspec": {
   "display_name": "Python 3",
   "language": "python",
   "name": "python3"
  },
  "language_info": {
   "codemirror_mode": {
    "name": "ipython",
    "version": 3
   },
   "file_extension": ".py",
   "mimetype": "text/x-python",
   "name": "python",
   "nbconvert_exporter": "python",
   "pygments_lexer": "ipython3",
   "version": "3.7.3"
  }
 },
 "nbformat": 4,
 "nbformat_minor": 4
}
