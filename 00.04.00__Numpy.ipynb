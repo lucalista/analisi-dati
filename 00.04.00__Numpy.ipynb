{
 "cells": [
  {
   "cell_type": "markdown",
   "metadata": {},
   "source": [
    "# Numpy\n",
    "\n",
    "Numpy è un modulo che gestisce e manipola array di numeri.\n",
    "\n",
    "Permette di svolgere operazioni tra tutti gli elementi con una sola istruzione facendo risparmiare molte linee di codice. In questo modo lo stile del codice eviterà diversi *look* uno dentro l'altro favorendo una scrittura più lineare.\n",
    "\n",
    "A differenze delle liste python, **il tipo di dati è fisso** in numpy e usa aree di memoria contigue. Questo rende l'implementazione più rapida delle liste usuali. \n",
    "\n",
    "* <a href=\"https://numpy.org/\">documentazione</a>\n",
    "\n",
    "* <a href=\"https://youtu.be/GB9ByFAIAH4\">tutorial online</a>"
   ]
  },
  {
   "cell_type": "code",
   "execution_count": 1,
   "metadata": {},
   "outputs": [],
   "source": [
    "import numpy as np\n",
    "import math"
   ]
  },
  {
   "cell_type": "code",
   "execution_count": 2,
   "metadata": {},
   "outputs": [
    {
     "name": "stdout",
     "output_type": "stream",
     "text": [
      "[ 5 12 14]\n"
     ]
    }
   ],
   "source": [
    "x = np.array([2, 5, 6])\n",
    "y = np.array([3, 7, 8])\n",
    "xy = x+y\n",
    "print(xy)"
   ]
  },
  {
   "cell_type": "markdown",
   "metadata": {},
   "source": [
    "Definiamo una matrice di rotazione di un angolo $\\theta = \\pi/3$:"
   ]
  },
  {
   "cell_type": "code",
   "execution_count": 3,
   "metadata": {},
   "outputs": [
    {
     "name": "stdout",
     "output_type": "stream",
     "text": [
      "[[ 0.5        0.8660254]\n",
      " [-0.8660254  0.5      ]]\n",
      "dimensions:  2\n",
      "rows, cols:  (2, 2)\n",
      "data type:  float64\n"
     ]
    }
   ],
   "source": [
    "theta = math.pi/3\n",
    "st = math.sin(theta); ct = math.cos(theta)\n",
    "rot = np.array([[ct, st],[-st, ct]])\n",
    "print(rot)\n",
    "print(\"dimensions: \", rot.ndim)\n",
    "print(\"rows, cols: \", rot.shape)\n",
    "print(\"data type: \", rot.dtype)"
   ]
  },
  {
   "cell_type": "code",
   "execution_count": 4,
   "metadata": {},
   "outputs": [
    {
     "name": "stdout",
     "output_type": "stream",
     "text": [
      "0.5000000000000001 0.8660254037844386\n",
      "-0.8660254037844386 0.5000000000000001\n"
     ]
    }
   ],
   "source": [
    "rot11 = rot[0,0]; rot12 = rot[0,1]\n",
    "rot21 = rot[1,0]; rot22 = rot[1,1]\n",
    "print(rot11, rot12)\n",
    "print(rot21, rot22)"
   ]
  },
  {
   "cell_type": "markdown",
   "metadata": {},
   "source": [
    "Accesso alle specifiche righe:"
   ]
  },
  {
   "cell_type": "code",
   "execution_count": 12,
   "metadata": {},
   "outputs": [
    {
     "name": "stdout",
     "output_type": "stream",
     "text": [
      "[0.5       0.8660254]\n",
      "[-0.8660254  0.5      ]\n",
      "[0.5       0.8660254]\n",
      "[-0.8660254  0.5      ]\n"
     ]
    }
   ],
   "source": [
    "print(rot[0])\n",
    "print(rot[1])\n",
    "print(rot[0, :])\n",
    "print(rot[1, :])"
   ]
  },
  {
   "cell_type": "markdown",
   "metadata": {},
   "source": [
    "Accesso alle specifiche colonne:"
   ]
  },
  {
   "cell_type": "code",
   "execution_count": 6,
   "metadata": {},
   "outputs": [
    {
     "name": "stdout",
     "output_type": "stream",
     "text": [
      "[ 0.5       -0.8660254]\n",
      "[0.8660254 0.5      ]\n"
     ]
    }
   ],
   "source": [
    "print(rot[:, 0])\n",
    "print(rot[:, 1])"
   ]
  },
  {
   "cell_type": "markdown",
   "metadata": {},
   "source": [
    "Accesso a sottoinsiemi della matrice:"
   ]
  },
  {
   "cell_type": "code",
   "execution_count": 10,
   "metadata": {},
   "outputs": [
    {
     "name": "stdout",
     "output_type": "stream",
     "text": [
      "[[ 1  2  3  4]\n",
      " [ 5  6  7  8]\n",
      " [ 9 10 11 12]]\n",
      "[[ 6  7]\n",
      " [10 11]]\n"
     ]
    }
   ],
   "source": [
    "m = np.array([[1, 2, 3, 4], [5, 6, 7, 8], [9, 10 , 11, 12]])\n",
    "print(m)\n",
    "m1 = m[1:3, 1:3]\n",
    "print(m1)"
   ]
  },
  {
   "cell_type": "markdown",
   "metadata": {},
   "source": [
    "Accesso agli elementi saltandone un certo numero"
   ]
  },
  {
   "cell_type": "code",
   "execution_count": 8,
   "metadata": {},
   "outputs": [
    {
     "name": "stdout",
     "output_type": "stream",
     "text": [
      "[[ 1  2  3  4  5  6  7  8]\n",
      " [ 9 10 11 12 13 14 15 16]]\n",
      "[[ 1  3  5  7]\n",
      " [ 9 11 13 15]]\n",
      "[[ 2  4  6  8]\n",
      " [10 12 14 16]]\n"
     ]
    }
   ],
   "source": [
    "m = np.array([[1, 2, 3, 4, 5, 6, 7, 8], [9, 10 , 11, 12, 13, 14, 15, 16]])\n",
    "print(m)\n",
    "me = m[0:2, 0:9:2]\n",
    "mo = m[0:2, 1:9:2]\n",
    "print(me)\n",
    "print(mo)"
   ]
  },
  {
   "cell_type": "markdown",
   "metadata": {},
   "source": [
    "Accesso a sottoinsiemi in scrittura:"
   ]
  },
  {
   "cell_type": "code",
   "execution_count": 15,
   "metadata": {},
   "outputs": [
    {
     "name": "stdout",
     "output_type": "stream",
     "text": [
      "[0. 0. 0. 0. 0. 0. 0. 0. 0. 0.]\n",
      "[0. 0. 2. 2. 2. 0. 0. 0. 0. 0.]\n",
      "[0. 0. 1. 2. 3. 0. 0. 0. 0. 0.]\n"
     ]
    }
   ],
   "source": [
    "x = np.zeros(10)\n",
    "print(x)\n",
    "x[2:5] = 2\n",
    "print(x)\n",
    "x[2:5] = [1, 2, 3]\n",
    "print(x)"
   ]
  },
  {
   "cell_type": "markdown",
   "metadata": {},
   "source": [
    "Inizializzazione: tutti zeri"
   ]
  },
  {
   "cell_type": "code",
   "execution_count": 16,
   "metadata": {},
   "outputs": [
    {
     "name": "stdout",
     "output_type": "stream",
     "text": [
      "[[1. 1.]\n",
      " [1. 1.]\n",
      " [1. 1.]]\n"
     ]
    }
   ],
   "source": [
    "x = np.ones((3,2))\n",
    "print(x)"
   ]
  },
  {
   "cell_type": "markdown",
   "metadata": {},
   "source": [
    "Inizializzazione: tutti valori uguali"
   ]
  },
  {
   "cell_type": "code",
   "execution_count": 11,
   "metadata": {},
   "outputs": [
    {
     "name": "stdout",
     "output_type": "stream",
     "text": [
      "[[2 2 2]\n",
      " [2 2 2]]\n"
     ]
    }
   ],
   "source": [
    "x = np.full((2,3),2)\n",
    "print(x)"
   ]
  },
  {
   "cell_type": "markdown",
   "metadata": {},
   "source": [
    "Inizializzazione: casuale"
   ]
  },
  {
   "cell_type": "code",
   "execution_count": 12,
   "metadata": {},
   "outputs": [
    {
     "name": "stdout",
     "output_type": "stream",
     "text": [
      "[[0.40243467 0.58207529 0.89458879]\n",
      " [0.59485948 0.70133184 0.14887871]\n",
      " [0.37443767 0.60970832 0.15567004]]\n"
     ]
    }
   ],
   "source": [
    "r = np.random.rand(3,3)\n",
    "print(r)"
   ]
  },
  {
   "cell_type": "markdown",
   "metadata": {},
   "source": [
    "Matrice identità"
   ]
  },
  {
   "cell_type": "code",
   "execution_count": 13,
   "metadata": {},
   "outputs": [
    {
     "name": "stdout",
     "output_type": "stream",
     "text": [
      "[[1. 0. 0. 0.]\n",
      " [0. 1. 0. 0.]\n",
      " [0. 0. 1. 0.]\n",
      " [0. 0. 0. 1.]]\n"
     ]
    }
   ],
   "source": [
    "i = np.identity(4)\n",
    "print(i)"
   ]
  },
  {
   "cell_type": "markdown",
   "metadata": {},
   "source": [
    "Accesso a blocchi"
   ]
  },
  {
   "cell_type": "code",
   "execution_count": 14,
   "metadata": {},
   "outputs": [
    {
     "name": "stdout",
     "output_type": "stream",
     "text": [
      "[[ 1.         0.         0.         0.       ]\n",
      " [ 0.         1.         0.         0.       ]\n",
      " [ 0.5        0.8660254  1.         0.       ]\n",
      " [-0.8660254  0.5        0.         1.       ]]\n"
     ]
    }
   ],
   "source": [
    "i[2:4,0:2] = rot\n",
    "print(i)"
   ]
  },
  {
   "cell_type": "code",
   "execution_count": 15,
   "metadata": {},
   "outputs": [
    {
     "name": "stdout",
     "output_type": "stream",
     "text": [
      "[[ 1.         0.         0.5        0.8660254]\n",
      " [ 0.         1.        -0.8660254  0.5      ]\n",
      " [ 0.5        0.8660254  1.         0.       ]\n",
      " [-0.8660254  0.5        0.         1.       ]]\n"
     ]
    }
   ],
   "source": [
    "i[0:2,2:4] = rot\n",
    "print(i)"
   ]
  },
  {
   "cell_type": "markdown",
   "metadata": {},
   "source": [
    "Selezione di elementi multipli"
   ]
  },
  {
   "cell_type": "code",
   "execution_count": 16,
   "metadata": {},
   "outputs": [
    {
     "name": "stdout",
     "output_type": "stream",
     "text": [
      "[2 4 6 8]\n",
      "[1 3 5 7]\n"
     ]
    }
   ],
   "source": [
    "x = np.array([1, 2, 3, 4, 5, 6, 7, 8])\n",
    "ev = x[[1, 3, 5, 7]]\n",
    "od = x[[0, 2, 4, 6]]\n",
    "print(ev)\n",
    "print(od)"
   ]
  },
  {
   "cell_type": "code",
   "execution_count": 17,
   "metadata": {},
   "outputs": [
    {
     "name": "stdout",
     "output_type": "stream",
     "text": [
      "[1 2 3 4]\n"
     ]
    }
   ],
   "source": [
    "m = np.array([[1, 0, 0, 0], [0, 2, 0, 0], [0, 0, 3, 0], [0, 0, 0, 4]])\n",
    "diag = m[[0, 1, 2, 3], [0, 1, 2, 3]]\n",
    "print(diag)"
   ]
  },
  {
   "cell_type": "markdown",
   "metadata": {},
   "source": [
    "# Copie: shallow vs deep\n",
    "La copia di default è *shallow*, ossia viene assegnato un puntatore all'oggetto originale. Per avere una copia diversa dall'ogetto originale bisogna usare il metodo ```copy()```."
   ]
  },
  {
   "cell_type": "code",
   "execution_count": 18,
   "metadata": {},
   "outputs": [
    {
     "name": "stdout",
     "output_type": "stream",
     "text": [
      "[0. 0. 0. 0. 0.] [0. 0. 0. 0. 0.]\n",
      "[0. 0. 9. 0. 0.] [0. 0. 9. 0. 0.]\n"
     ]
    }
   ],
   "source": [
    "a = np.zeros(5)\n",
    "b = a\n",
    "print(a, b)\n",
    "a[2] = 9\n",
    "print(a,b)"
   ]
  },
  {
   "cell_type": "code",
   "execution_count": 19,
   "metadata": {},
   "outputs": [
    {
     "name": "stdout",
     "output_type": "stream",
     "text": [
      "[0. 0. 0. 0. 0.] [0. 0. 0. 0. 0.]\n",
      "[0. 0. 9. 0. 0.] [0. 0. 0. 0. 0.]\n"
     ]
    }
   ],
   "source": [
    "a = np.zeros(5)\n",
    "b = a.copy()\n",
    "print(a, b)\n",
    "a[2] = 9\n",
    "print(a,b)"
   ]
  },
  {
   "cell_type": "markdown",
   "metadata": {},
   "source": [
    "# Manipolazione con operazioni matematiche\n",
    "In sostanza, tutte le operazioni vengono fatte elemento per elemento.\n",
    "\n",
    "Attenzione! La moltiplicazione tra matrici su puà fare come ```np.matmul(a,b)```, **non** come ```a*b```."
   ]
  },
  {
   "cell_type": "code",
   "execution_count": 20,
   "metadata": {},
   "outputs": [
    {
     "name": "stdout",
     "output_type": "stream",
     "text": [
      "[1 2 3] [2 4 6]\n"
     ]
    }
   ],
   "source": [
    "a = np.array([1,2,3])\n",
    "b = a*2\n",
    "print(a, b)"
   ]
  },
  {
   "cell_type": "markdown",
   "metadata": {},
   "source": [
    "Moltiplicazione elemento per elento"
   ]
  },
  {
   "cell_type": "code",
   "execution_count": 21,
   "metadata": {},
   "outputs": [
    {
     "name": "stdout",
     "output_type": "stream",
     "text": [
      "[1 2 3 4] [3 4 5 6] [ 3  8 15 24]\n"
     ]
    }
   ],
   "source": [
    "a = np.array([1,2,3,4]); b = np.array([3, 4, 5,6])\n",
    "ab = a*b\n",
    "print(a, b,ab)"
   ]
  },
  {
   "cell_type": "code",
   "execution_count": 22,
   "metadata": {},
   "outputs": [
    {
     "name": "stdout",
     "output_type": "stream",
     "text": [
      "[1 2 3 4] [ 1  4  9 16]\n"
     ]
    }
   ],
   "source": [
    "a2 = a**2\n",
    "print(a, a2)"
   ]
  },
  {
   "cell_type": "code",
   "execution_count": 23,
   "metadata": {},
   "outputs": [
    {
     "name": "stdout",
     "output_type": "stream",
     "text": [
      "[0.         0.31415927 0.62831853 0.9424778  1.25663706 1.57079633\n",
      " 1.88495559 2.19911486 2.51327412 2.82743339 3.14159265]\n"
     ]
    }
   ],
   "source": [
    "bins = 10\n",
    "step = math.pi/bins\n",
    "theta = np.arange(0, math.pi+step, step)\n",
    "print(theta)"
   ]
  },
  {
   "cell_type": "code",
   "execution_count": 24,
   "metadata": {},
   "outputs": [
    {
     "name": "stdout",
     "output_type": "stream",
     "text": [
      "[ 1.      0.9511  0.809   0.5878  0.309   0.     -0.309  -0.5878 -0.809\n",
      " -0.9511 -1.    ]\n",
      "[0.     0.309  0.5878 0.809  0.9511 1.     0.9511 0.809  0.5878 0.309\n",
      " 0.    ]\n"
     ]
    }
   ],
   "source": [
    "ct = np.cos(theta)\n",
    "st = np.sin(theta)\n",
    "np.set_printoptions(precision=4, suppress=True)\n",
    "print(ct)\n",
    "print(st)"
   ]
  },
  {
   "cell_type": "markdown",
   "metadata": {},
   "source": [
    "Applicare ripetutamente una funzione. Questa possibilità sfrutta il fatto che python è un interprete. Purché sia definito l'operatore ```**``` (```x**2```), la funzione ```fun``` può essere eseguita."
   ]
  },
  {
   "cell_type": "code",
   "execution_count": 25,
   "metadata": {},
   "outputs": [
    {
     "name": "stdout",
     "output_type": "stream",
     "text": [
      "[ 0  3  8 15 24]\n"
     ]
    }
   ],
   "source": [
    "v = np.array([1, 2, 3, 4, 5])\n",
    "fun = lambda x: x**2 - 1\n",
    "f = fun(v)\n",
    "print(f)"
   ]
  },
  {
   "cell_type": "markdown",
   "metadata": {},
   "source": [
    "Si può definire una funzione che prende come argomento un ```np.array``` e applica ripetutamente un'altra funzione data a ciascun elemento."
   ]
  },
  {
   "cell_type": "code",
   "execution_count": 31,
   "metadata": {},
   "outputs": [],
   "source": [
    "def sinus(x):\n",
    "    return math.sin(x)+math.cos(x)\n",
    "# questa istruzione darebbe un errore\n",
    "#f = sinus(x)"
   ]
  },
  {
   "cell_type": "code",
   "execution_count": 32,
   "metadata": {},
   "outputs": [
    {
     "name": "stdout",
     "output_type": "stream",
     "text": [
      "[ 1.3818  0.4932 -0.8489 -1.4104 -0.6753]\n"
     ]
    }
   ],
   "source": [
    "vfunc = np.vectorize(sinus)\n",
    "f = vfunc(v)\n",
    "print(f)"
   ]
  },
  {
   "cell_type": "markdown",
   "metadata": {},
   "source": [
    "# Algebra lineare"
   ]
  },
  {
   "cell_type": "markdown",
   "metadata": {},
   "source": [
    "Prodotto tra matrici"
   ]
  },
  {
   "cell_type": "code",
   "execution_count": 33,
   "metadata": {},
   "outputs": [
    {
     "name": "stdout",
     "output_type": "stream",
     "text": [
      "[[22 28]\n",
      " [49 64]]\n"
     ]
    }
   ],
   "source": [
    "a = np.array([[1, 2, 3],[4, 5, 6]])\n",
    "b = np.array([[1,2], [3, 4], [5,6]])\n",
    "ab = np.matmul(a,b)\n",
    "print(ab)"
   ]
  },
  {
   "cell_type": "markdown",
   "metadata": {},
   "source": [
    "Determinante"
   ]
  },
  {
   "cell_type": "code",
   "execution_count": 34,
   "metadata": {},
   "outputs": [
    {
     "name": "stdout",
     "output_type": "stream",
     "text": [
      "35.99999999999982\n",
      "36\n"
     ]
    }
   ],
   "source": [
    "det = np.linalg.det(ab)\n",
    "print(det)\n",
    "print(22*64-28*49)"
   ]
  },
  {
   "cell_type": "markdown",
   "metadata": {},
   "source": [
    "Matrice inversa"
   ]
  },
  {
   "cell_type": "code",
   "execution_count": 35,
   "metadata": {},
   "outputs": [
    {
     "name": "stdout",
     "output_type": "stream",
     "text": [
      "[[ 1.7778 -0.7778]\n",
      " [-1.3611  0.6111]]\n"
     ]
    }
   ],
   "source": [
    "inv = np.linalg.inv(ab)\n",
    "print(inv)"
   ]
  },
  {
   "cell_type": "markdown",
   "metadata": {},
   "source": [
    "Calcolo degli autovalori ed autovettori"
   ]
  },
  {
   "cell_type": "code",
   "execution_count": 36,
   "metadata": {},
   "outputs": [
    {
     "name": "stdout",
     "output_type": "stream",
     "text": [
      "[[1 2 0 0]\n",
      " [2 1 0 0]\n",
      " [0 0 2 3]\n",
      " [0 0 3 2]]\n"
     ]
    }
   ],
   "source": [
    "a = np.array([[1, 2, 0, 0],[2, 1, 0, 0], [0, 0, 2, 3],[0, 0, 3, 2]])\n",
    "print(a)"
   ]
  },
  {
   "cell_type": "code",
   "execution_count": 37,
   "metadata": {},
   "outputs": [
    {
     "name": "stdout",
     "output_type": "stream",
     "text": [
      "[ 3. -1.  5. -1.]\n",
      "[[ 0.7071 -0.7071  0.      0.    ]\n",
      " [ 0.7071  0.7071  0.      0.    ]\n",
      " [ 0.      0.      0.7071 -0.7071]\n",
      " [ 0.      0.      0.7071  0.7071]]\n"
     ]
    }
   ],
   "source": [
    "w, v = np.linalg.eig(a)\n",
    "print(w)\n",
    "print(v)"
   ]
  },
  {
   "cell_type": "markdown",
   "metadata": {},
   "source": [
    "# Principali indicatori statistici\n",
    "\n",
    "In seguito daremo una più precisa definizione degli indicatori statistici. Quella che segue è solo un'anteprima."
   ]
  },
  {
   "cell_type": "code",
   "execution_count": 38,
   "metadata": {},
   "outputs": [
    {
     "name": "stdout",
     "output_type": "stream",
     "text": [
      "0.07922973341985506 0.7557359681919099\n",
      "sum:  4.7544451290916525\n",
      "mean:  0.47544451290916523\n",
      "mean:  0.47544451290916523\n",
      "mean sq:  0.28032160657364297\n",
      "variance:  0.054274121718209584\n",
      "variance:  0.05427412171820965\n",
      "std. dev:  0.23296807016887455\n",
      "std. dev:  0.23296807016887455\n"
     ]
    }
   ],
   "source": [
    "x = np.random.rand(10)\n",
    "print(x.min(),x.max())\n",
    "print(\"sum: \", x.sum())\n",
    "print(\"mean: \", x.sum()/x.shape[0])\n",
    "print(\"mean: \", x.mean())\n",
    "print(\"mean sq: \", (x**2).mean())\n",
    "print(\"variance: \", (x**2).mean()-x.mean()**2)\n",
    "print(\"variance: \", x.var())\n",
    "print(\"std. dev: \", math.sqrt(x.var()))\n",
    "print(\"std. dev: \", x.std())"
   ]
  },
  {
   "cell_type": "code",
   "execution_count": 39,
   "metadata": {},
   "outputs": [
    {
     "name": "stdout",
     "output_type": "stream",
     "text": [
      "[[0.8043 0.3784 0.0708 0.6106]\n",
      " [0.1298 0.6332 0.1935 0.2074]\n",
      " [0.5379 0.9974 0.224  0.8335]\n",
      " [0.1313 0.6553 0.3676 0.9654]\n",
      " [0.2806 0.3611 0.3491 0.8272]\n",
      " [0.2686 0.7154 0.1553 0.4903]]\n",
      "sum:  11.187772218844398\n",
      "sum cols:  [2.1524 3.7408 1.3602 3.9344]\n",
      "sum rows:  [1.8641 1.1638 2.5927 2.1196 1.818  1.6296]\n"
     ]
    }
   ],
   "source": [
    "m = np.random.rand(6, 4)\n",
    "print(m)\n",
    "print(\"sum: \", m.sum())\n",
    "print(\"sum cols: \", m.sum(axis = 0))\n",
    "print(\"sum rows: \", m.sum(axis = 1))"
   ]
  },
  {
   "cell_type": "markdown",
   "metadata": {},
   "source": [
    "# Altre manipolazioni"
   ]
  },
  {
   "cell_type": "code",
   "execution_count": 40,
   "metadata": {},
   "outputs": [
    {
     "name": "stdout",
     "output_type": "stream",
     "text": [
      "[[1 2 3 4]\n",
      " [5 6 7 8]]\n"
     ]
    }
   ],
   "source": [
    "v1 = np.array([1,2,3,4])\n",
    "v2 = np.array([5,6,7,8])\n",
    "v = np.vstack([v1,v2])\n",
    "print(v)"
   ]
  },
  {
   "cell_type": "code",
   "execution_count": 41,
   "metadata": {},
   "outputs": [
    {
     "name": "stdout",
     "output_type": "stream",
     "text": [
      "[[ 1  2  5  6  7]\n",
      " [ 3  4  8  9 10]]\n"
     ]
    }
   ],
   "source": [
    "h1 = np.array([[1,2], [3, 4]])\n",
    "h2 = np.array([[5, 6, 7], [8, 9, 10]])\n",
    "h = np.hstack([h1, h2])\n",
    "print(h)"
   ]
  },
  {
   "cell_type": "markdown",
   "metadata": {},
   "source": [
    "# Input da file\n",
    "I numeri sono di default interpretati come float"
   ]
  },
  {
   "cell_type": "code",
   "execution_count": 42,
   "metadata": {},
   "outputs": [
    {
     "name": "stdout",
     "output_type": "stream",
     "text": [
      "[[1. 2.]\n",
      " [3. 4.]\n",
      " [5. 6.]\n",
      " [7. 8.]]\n",
      "[[1 2]\n",
      " [3 4]\n",
      " [5 6]\n",
      " [7 8]]\n"
     ]
    }
   ],
   "source": [
    "m = np.genfromtxt('data/np-data.txt', delimiter=',')\n",
    "print(m)\n",
    "m = m.astype('int32')\n",
    "print(m)"
   ]
  },
  {
   "cell_type": "markdown",
   "metadata": {},
   "source": [
    "# Condizioni booleane"
   ]
  },
  {
   "cell_type": "code",
   "execution_count": 43,
   "metadata": {},
   "outputs": [
    {
     "data": {
      "text/plain": [
       "array([[False, False],\n",
       "       [False,  True],\n",
       "       [ True,  True],\n",
       "       [ True,  True]])"
      ]
     },
     "execution_count": 43,
     "metadata": {},
     "output_type": "execute_result"
    }
   ],
   "source": [
    "(m > 3)"
   ]
  },
  {
   "cell_type": "code",
   "execution_count": 44,
   "metadata": {},
   "outputs": [
    {
     "data": {
      "text/plain": [
       "array([[False, False],\n",
       "       [False,  True],\n",
       "       [ True,  True],\n",
       "       [False, False]])"
      ]
     },
     "execution_count": 44,
     "metadata": {},
     "output_type": "execute_result"
    }
   ],
   "source": [
    "((m > 3) & (m < 7))"
   ]
  },
  {
   "cell_type": "code",
   "execution_count": null,
   "metadata": {},
   "outputs": [],
   "source": []
  },
  {
   "cell_type": "code",
   "execution_count": null,
   "metadata": {},
   "outputs": [],
   "source": []
  }
 ],
 "metadata": {
  "kernelspec": {
   "display_name": "Python 3",
   "language": "python",
   "name": "python3"
  },
  "language_info": {
   "codemirror_mode": {
    "name": "ipython",
    "version": 3
   },
   "file_extension": ".py",
   "mimetype": "text/x-python",
   "name": "python",
   "nbconvert_exporter": "python",
   "pygments_lexer": "ipython3",
   "version": "3.7.3"
  }
 },
 "nbformat": 4,
 "nbformat_minor": 4
}
