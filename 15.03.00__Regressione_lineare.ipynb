{
 "cells": [
  {
   "cell_type": "markdown",
   "metadata": {},
   "source": [
    "# Regressione lineare\n",
    "\n",
    "L'applicazione del metodo del minimo $\\chi^2$ è nel caso di una funzione $f$ lineare:\n",
    "\n",
    "$y=f(x;a,b) = a+b\\,x$\n",
    "\n",
    "dobbiamo minimizzare:\n",
    "\n",
    "$\\displaystyle \\chi^2(a,b) = -2\\log p = \\sum_{i=1}^N\\frac{(y_i-a-b\\,x_i)^2}{\\sigma_i^2}$\n",
    "\n",
    "L'equazione sopra è vera *a meno di un termine costante* che non contribuisce alla minimizzazione."
   ]
  },
  {
   "cell_type": "markdown",
   "metadata": {},
   "source": [
    "## Pesi\n",
    "\n",
    "Conviene definire i *persi* $w_i$:\n",
    "\n",
    "$\\displaystyle w_i = \\frac{1/\\sigma_i^2}{1/\\sigma^2}$\n",
    "\n",
    "dove a sua volta $\\sigma$ è definito da:\n",
    "\n",
    "$\\displaystyle \\frac{1}{\\sigma^2} = \\sum_{i=1}^N\\frac{1}{\\sigma_i^2}$\n",
    "\n",
    "Questa scelta garantisce che $\\sum_{i=1}^Nw_i=1$."
   ]
  },
  {
   "cell_type": "markdown",
   "metadata": {},
   "source": [
    "## Minimizzazione del $\\chi^2$\n",
    "\n",
    "Possiamo quindi scrivere:\n",
    "\n",
    "$\\displaystyle \\chi^2(a, b) = \\frac{1}{\\sigma^2}\\sum_{i=1}^Nw_i(y_i-a-b\\,x_i)^2$"
   ]
  },
  {
   "cell_type": "markdown",
   "metadata": {},
   "source": [
    "Si può trovare il minimo di $\\chi^2(a,b)$ in maniera analitica imponendo:\n",
    "\n",
    "$\\displaystyle \\frac{\\partial \\chi^2(a,b)}{\\partial a} = 0$\n",
    "\n",
    "$\\displaystyle \\frac{\\partial \\chi^2(a,b)}{\\partial b} = 0$"
   ]
  },
  {
   "cell_type": "markdown",
   "metadata": {},
   "source": [
    "Le derivate si possono scrivere come:\n",
    "\n",
    "$\\displaystyle \\frac{\\partial \\chi^2(a,b)}{\\partial a} = \\frac{1}{\\sigma^2}\\sum_{i=1}^Nw_i\\frac{\\partial}{\\partial a}(y_i-a-b\\,x_i)^2=\n",
    "-2 \\frac{1}{\\sigma^2}\\sum_{i=1}^Nw_i(y_i-a-b\\,x_i) = \n",
    "\\frac{2}{\\sigma^2}\\left(-\\sum_{i=1}^Nw_i y_i+a+b\\sum_{i=1}^Nw_ix_i\\right)\n",
    "$\n",
    "\n",
    "$\\displaystyle \\frac{\\partial \\chi^2(a,b)}{\\partial b} = \\frac{1}{\\sigma^2}\\sum_{i=1}^N w_i\\frac{\\partial}{\\partial b}(y_i-a-b\\,x_i)^2=\n",
    "-2 \\frac{1}{\\sigma^2}\\sum_{i=1}^Nw_i(y_i-a-b\\,x_i) = \n",
    "\\frac{2}{\\sigma^2}\\left(-\\sum_{i=1}^Nw_i x_i y_i + a\\sum_{i=1}^Nw_ix_i+b\\sum_{i=1}^Nw_ix_i^2\\right)\n",
    "$"
   ]
  },
  {
   "cell_type": "markdown",
   "metadata": {},
   "source": [
    "Possiamo introdurre le *medie pesate* per le quantità $\\alpha_i$, che di volta in volta potranno essere $x_i$, $y_i$, $x_i y_i$, $x_i^2$, ecc.:\n",
    "\n",
    "$\\displaystyle \\left<\\alpha\\right> = \\sum_{i=1}^Nw_i\\alpha_i$"
   ]
  },
  {
   "cell_type": "markdown",
   "metadata": {},
   "source": [
    "Riscriviamo quindi:\n",
    "\n",
    "$\\displaystyle \\frac{\\partial \\chi^2(a,b)}{\\partial a} =\n",
    "\\frac{2}{\\sigma^2}\\left(-\\left<y\\right>+a+b\\left<x\\right>\\right)\n",
    "$\n",
    "\n",
    "$\\displaystyle \\frac{\\partial \\chi^2(a,b)}{\\partial b} = \n",
    "\\frac{2}{\\sigma^2}\\left(-\\left<x y\\right> + a\\left<x\\right>+b\\left<x^2\\right>\\right)\n",
    "$"
   ]
  },
  {
   "cell_type": "markdown",
   "metadata": {},
   "source": [
    "Uguagliando le derivate a zero, si ottiene quindi:\n",
    "\n",
    "$\\displaystyle \\left<y\\right> = a+b\\left<x\\right>$\n",
    "\n",
    "$\\displaystyle \\left<x y\\right> = a\\left<x\\right> b + \\left<x^2\\right>$"
   ]
  },
  {
   "cell_type": "markdown",
   "metadata": {},
   "source": [
    "In forma matriciale:\n",
    "\n",
    "\n",
    "$\\displaystyle\n",
    "\\left(\\begin{array}{c}\\left<y\\right>\\\\\\left<xy\\right>\\end{array}\n",
    "\\right)=\n",
    "\\left(\\begin{array}{cc} \n",
    "1 & \\left<x\\right> \\\\\n",
    "\\left<x\\right>  & \\left<x^2\\right> \n",
    "\\end{array}\n",
    "\\right)\n",
    "\\left(\\begin{array}{c} a\\\\b\\end{array}\n",
    "\\right)\n",
    "$"
   ]
  },
  {
   "cell_type": "markdown",
   "metadata": {},
   "source": [
    "L'inversione dell'equazione matriciale dà:\n",
    "\n",
    "$\\displaystyle\n",
    "\\left(\\begin{array}{c} a\\\\b\\end{array}\n",
    "\\right)\n",
    "=\n",
    "\\left(\\begin{array}{cc} \n",
    "1 & \\left<x\\right> \\\\\n",
    "\\left<x\\right>  & \\left<x^2\\right> \n",
    "\\end{array}\n",
    "\\right)^{-1}\n",
    "\\left(\\begin{array}{c}\\left<y\\right>\\\\\\left<xy\\right>\\end{array}\n",
    "\\right)\n",
    "$\n",
    "\n",
    "Per calcolare l'inversione consideriamo che:\n",
    "\n",
    "$\\mathrm{det}\\left[C^{-1}\\right] = \\left<x^2\\right> - \\left<x\\right>^2 = \n",
    "\\left<(x - \\left<x\\right>)^2\\right> =\n",
    "\\mathbb{V}\\mathrm{ar}[x]$\n",
    "\n",
    "$\\displaystyle\\left(\\begin{array}{cc} \n",
    "1 & \\left<x\\right> \\\\\n",
    "\\left<x\\right>  & \\left<x^2\\right> \n",
    "\\end{array}\n",
    "\\right)^{-1}\n",
    "=\\frac{1}{\\mathbb{V}\\mathrm{ar}[x]}\n",
    "\\left(\n",
    "\\begin{array}{cc}\n",
    "1 & \\left<x\\right> \\\\\n",
    "\\left<x\\right> & \\left<x^2\\right>\n",
    "\\end{array}\n",
    "\\right)\n",
    "$"
   ]
  },
  {
   "cell_type": "markdown",
   "metadata": {},
   "source": [
    "Dopo qualche passaggio:\n",
    "\n",
    "$\\displaystyle b = \\hat{b} = \n",
    "\\frac{\\left<x y\\right>-\\left<x\\right>\\left<y\\right>}{\\mathbb{V}\\mathrm{ar}[x]} =\n",
    "\\frac{\\mathbb{C}\\mathrm{ov}(x, y)}{\\mathbb{V}\\mathrm{ar}[x]}$\n",
    "\n",
    "$a = \\hat{a} = \\left<y\\right> -\\hat{b}\\left<x\\right>$"
   ]
  },
  {
   "cell_type": "markdown",
   "metadata": {},
   "source": [
    "Formule equivalenti sono:\n",
    "\n",
    "$\\displaystyle\\hat{b} = \\frac{\\left<(x-\\left<x\\right>)(y-\\left<y\\right>)\\right>}{\\left<(x-\\left<x\\right>)^2\\right>} =\n",
    "\\frac{\\left<x y\\right>-\\left<x\\right>\\left<y\\right>}{\\left<x^2\\right>-\\left<x\\right>^2} =\n",
    "\\frac{\\mathbb{C}\\mathrm{ov}(x, y)}{\\sigma_x^2}\n",
    "$\n",
    "\n",
    "$\\displaystyle\\hat{a} = \\left<y\\right> - \\hat{b}\\left<x\\right>$"
   ]
  },
  {
   "cell_type": "markdown",
   "metadata": {},
   "source": [
    "## Stima degli errori\n",
    "\n",
    "Gli errori si possono stimare come:\n",
    "\n",
    "$\\displaystyle  \\frac{1}{\\sigma_{\\hat{a}}^2} = -\\frac{\\partial^2 \\log L}{\\partial a^2} = \\frac{1}{2}\\frac{\\partial^2 \\chi^2}{\\partial a^2}$\n",
    "\n",
    "$\\displaystyle  \\frac{1}{\\sigma_{\\hat{b}}^2} = -\\frac{\\partial^2 \\log L}{\\partial b^2} = \\frac{1}{2}\\frac{\\partial^2 \\chi^2}{\\partial b^2}$\n",
    "\n",
    "Questi sono gli elementi diagonali della matrice di covarianza inversa, che ha come elemento non diagonale:\n",
    "\n",
    "$\\displaystyle  C_{ab}^{-1} = -\\frac{\\partial^2 \\log L}{\\partial a\\,\\partial b} = \\frac{1}{2}\\frac{\\partial^2 \\chi^2}{\\partial a\\,\\partial b}$"
   ]
  },
  {
   "cell_type": "markdown",
   "metadata": {},
   "source": [
    "Il calcolo delle derivate seconde si ottiene derivando le derivate prime, riportate di seguto per comodità:\n",
    "\n",
    "$\\displaystyle \\frac{\\partial \\chi^2(a,b)}{\\partial a} =\n",
    "\\frac{2}{\\sigma^2}\\left(\\left<y\\right>+a+b\\left<x\\right>\\right)\n",
    "$\n",
    "\n",
    "$\\displaystyle \\frac{\\partial \\chi^2(a,b)}{\\partial b} = \n",
    "\\frac{2}{\\sigma^2}\\left(-\\left<x y\\right> + a\\left<x\\right>+b\\left<x^2\\right>\\right)\n",
    "$"
   ]
  },
  {
   "cell_type": "markdown",
   "metadata": {},
   "source": [
    "Le derivate seconde sono quindi:\n",
    "\n",
    "$\\displaystyle \\frac{\\partial^2 \\chi^2(a,b)}{\\partial a^2} =\n",
    "\\frac{2}{\\sigma^2}\n",
    "$\n",
    "\n",
    "$\\displaystyle \\frac{\\partial^2 \\chi^2(a,b)}{\\partial b^2} = \n",
    "\\frac{2 \\left<x^2\\right>}{\\sigma^2}\n",
    "$\n",
    "\n",
    "$\\displaystyle \\frac{\\partial^2 \\chi^2(a,b)}{\\partial a\\,\\partial b} =\n",
    "\\frac{2 \\left<x\\right>}{\\sigma^2}\n",
    "$"
   ]
  },
  {
   "cell_type": "markdown",
   "metadata": {},
   "source": [
    "La matrice *inversa* di covarianza è quindi, ricrdando il fattore $1/2$ davanti alla derivata seconda del $\\chi^2$:\n",
    "\n",
    "$\\displaystyle C^{-1} = \\frac{1}{\\sigma^2}\\left(\n",
    "\\begin{array}{cc}\n",
    "1 & \\left<x\\right> \\\\\n",
    "\\left<x\\right> & \\left<x^2\\right>\n",
    "\\end{array}\n",
    "\\right)$"
   ]
  },
  {
   "cell_type": "markdown",
   "metadata": {},
   "source": [
    "L'inversione è simile a quanto abbiamo già calcolato in precedenza. La matrice di covarianza è quindi:\n",
    "\n",
    "$\\displaystyle C =\\frac{\\sigma^2}{\\sigma_x^2}\\left(\n",
    "\\begin{array}{cc}\n",
    "\\left<x^2\\right> & - \\left<x\\right> \\\\\n",
    "- \\left<x\\right> & 1\n",
    "\\end{array}\n",
    "\\right)\n",
    "$"
   ]
  },
  {
   "cell_type": "markdown",
   "metadata": {},
   "source": [
    "Procedendo col calcolo si ottiene:\n",
    "\n",
    "$\\displaystyle \\sigma_{\\hat{b}}^2 = \\frac{\\sigma^2}{\\sigma_x^2}$\n",
    "\n",
    "$\\displaystyle \\sigma_{\\hat{a}}^2 = \\frac{\\sigma^2}{\\sigma_x^2} \\left<x^2\\right> = \n",
    "\\sigma_{\\hat{b}}^2 \\left<x^2\\right>\n",
    "$\n",
    "\n",
    "\n",
    "$\\displaystyle \\mathbb{C}\\mathrm{ov}(\\hat{a}, \\hat{b}) = - \\frac{\\sigma^2}{\\sigma_x^2} \\left<x\\right> = \n",
    "- \\sigma_{\\hat{b}}^2\\left<x\\right>\n",
    "$"
   ]
  },
  {
   "cell_type": "markdown",
   "metadata": {},
   "source": [
    "Al posto di $\\sigma^2$ definito in precedenza, si preferisce stimare l'errore medio in base alle effettive deviazioni dei punti sperimentali dalle retta ottenuta dal fit. Si usa quindi, nelle formule precedenti, per gli errori su $\\hat{a}$ e $\\hat{b}$:\n",
    "\n",
    "$\\displaystyle \\hat{\\sigma}^2 = \\frac{1}{N-2}\\sum_{i=1}^Nw_i\\left(y_i -\\hat{y}_i\\right)^2$\n",
    "\n",
    "Dove abbiamo definito $\\hat{y}_i = f(x_i; a, b) = \\hat{a}+\\hat{b}\\, x$, ossia i valori delle $y$ sulla curva interpolata.\n",
    "\n",
    "L'uso di $N-2$ al demonimatore tiene conto del numero di gradi di libertà determinati dal fit, ossia le stime dei parametri $a$ e $b$. In questo modo si evita un possibile **bias**."
   ]
  },
  {
   "cell_type": "markdown",
   "metadata": {},
   "source": [
    "I valori $\\varepsilon_i = y_i -\\hat{y}_i$ prendono il nome di **residui**.\n",
    "\n",
    "Possiamo scrivere quindi:\n",
    "\n",
    "$\\displaystyle \\hat{\\sigma}^2 = \\frac{1}{N-2}\\left<\\varepsilon^2\\right>$"
   ]
  },
  {
   "cell_type": "markdown",
   "metadata": {},
   "source": [
    "<span style=\"color:blue\">Assumento pesi tutti uguali, l'uso di $\\hat{\\sigma}$ permette il calcolo dell'errore sui parametri $\\hat{a}$ e $\\hat{b}$ anche quandi l'errore sulle singole misure $y_i$ non sono noti.</span>"
   ]
  },
  {
   "cell_type": "markdown",
   "metadata": {},
   "source": [
    "## Il Coefficiente di determinazione $R^2$\n",
    "\n",
    "È poco usato in fisica, ma si trova in diverse liberie il **coefficiente di determinazione** $R^2$ che è definito come:\n",
    "\n",
    "$\\displaystyle R^2 = \\frac{\\sum_{i=1}^n(\\hat{y}_i-\\left<y\\right>)^2}{\\sum_{i=1}^n(y_i-\\left<y\\right>)^2}$\n",
    "\n",
    "$R^2$ varia tra 0 e 1 e talvolta è espressa come percentuale.\n",
    "\n",
    "$R^2=1$ corrisponde a punti totalmente allineati sulla curva (deve essere $\\hat{y}_i = y_i$), mentr $R^2=0$ corrisponde ad una retta perfettamente orizzontale, per cui la curva stimata prevede che $y$ sia insensibile ad $x$."
   ]
  },
  {
   "cell_type": "code",
   "execution_count": 1,
   "metadata": {},
   "outputs": [],
   "source": [
    "import math\n",
    "import random\n",
    "import numpy as np\n",
    "import matplotlib.pyplot as plt\n",
    "import pandas as pd\n",
    "from scipy import stats"
   ]
  },
  {
   "cell_type": "markdown",
   "metadata": {},
   "source": [
    "Generiamo una sequenza di punti allineati lungo una linea con dispersione verticale generata in modo gaussiano"
   ]
  },
  {
   "cell_type": "code",
   "execution_count": 2,
   "metadata": {},
   "outputs": [
    {
     "data": {
      "image/png": "[encoded data removed]",
      "text/plain": [
       "<Figure size 432x288 with 1 Axes>"
      ]
     },
     "metadata": {
      "needs_background": "light"
     },
     "output_type": "display_data"
    }
   ],
   "source": [
    "n_points = 20\n",
    "x_min = 0.0; x_max = 10.0\n",
    "sigma = 1.5\n",
    "a0 = 3.0; b0 = 1.5\n",
    "x = np.empty(n_points)\n",
    "y = np.empty(n_points)\n",
    "for i in range(n_points):\n",
    "    xr = random.uniform(x_min, x_max)\n",
    "    x[i] = xr\n",
    "x = np.sort(x)\n",
    "for i in range(n_points):\n",
    "    yr = random.gauss(a0 + x[i]*b0, sigma)\n",
    "    y[i] = yr\n",
    "plt.plot(x,y, 'o')\n",
    "plt.xlabel('s')\n",
    "plt.show()"
   ]
  },
  {
   "cell_type": "markdown",
   "metadata": {},
   "source": [
    "Calcolo della media di $x$ e $y$ e dei vettori con le deviazioni"
   ]
  },
  {
   "cell_type": "code",
   "execution_count": 3,
   "metadata": {},
   "outputs": [],
   "source": [
    "x_mean = x.mean()\n",
    "y_mean = y.mean()\n",
    "dx = x - x_mean; dy = y - y_mean\n",
    "dxdy = dx*dy; dx2 = dx*dx"
   ]
  },
  {
   "cell_type": "markdown",
   "metadata": {},
   "source": [
    "Calcolo dei coefficienti del fit"
   ]
  },
  {
   "cell_type": "code",
   "execution_count": 4,
   "metadata": {},
   "outputs": [
    {
     "name": "stdout",
     "output_type": "stream",
     "text": [
      "a, b =  2.2409273490767383 1.5440303739692314\n"
     ]
    }
   ],
   "source": [
    "dxdy_mean = dxdy.mean()\n",
    "dx2_mean = dx2.mean()\n",
    "b_fit = dxdy_mean/dx2_mean\n",
    "a_fit = y_mean - b_fit*x_mean\n",
    "print(\"a, b = \", a_fit, b_fit)\n",
    "def fit_line(x):\n",
    "    return a_fit + x*b_fit"
   ]
  },
  {
   "cell_type": "code",
   "execution_count": 5,
   "metadata": {},
   "outputs": [
    {
     "data": {
      "image/png": "[encoded data removed]",
      "text/plain": [
       "<Figure size 432x288 with 1 Axes>"
      ]
     },
     "metadata": {
      "needs_background": "light"
     },
     "output_type": "display_data"
    }
   ],
   "source": [
    "plt.plot(x,y, 'o')\n",
    "plt.plot([x_min,x_max],[fit_line(x_min), fit_line(x_max)])\n",
    "plt.show()"
   ]
  },
  {
   "cell_type": "markdown",
   "metadata": {},
   "source": [
    "Calcolo dei valori interpolati e dei residui"
   ]
  },
  {
   "cell_type": "code",
   "execution_count": 6,
   "metadata": {},
   "outputs": [],
   "source": [
    "y_fit = a_fit + b_fit*x\n",
    "res = y - y_fit\n",
    "res2 = res*res"
   ]
  },
  {
   "cell_type": "markdown",
   "metadata": {},
   "source": [
    "Stima degli errori"
   ]
  },
  {
   "cell_type": "code",
   "execution_count": 10,
   "metadata": {},
   "outputs": [
    {
     "name": "stdout",
     "output_type": "stream",
     "text": [
      "b =  1.5440303739692314 +/- 0.11560280442280928\n",
      "a =  2.2409273490767383 +/- 0.6734645928399143\n",
      "cov(a,b) =  -0.0670475118431507\n",
      "chi^2 =  18.748124376667285 / 18 ndof\n",
      "p =  0.40748554857114483\n"
     ]
    }
   ],
   "source": [
    "x2 = x*x\n",
    "x2_mean = x2.mean()\n",
    "res2_mean = res2.mean()\n",
    "chi2 = res2_mean*n_points/(sigma*sigma)\n",
    "ndof = n_points-2\n",
    "var_b = res2_mean/dx2_mean/(n_points-2)\n",
    "var_a = var_b*x2_mean\n",
    "cov_ab = -var_b*x_mean\n",
    "err_b = math.sqrt(var_b)\n",
    "err_a = math.sqrt(var_a)\n",
    "print('b = ', b_fit , '+/-', err_b)\n",
    "print('a = ', a_fit , '+/-', err_a)\n",
    "print('cov(a,b) = ', cov_ab)\n",
    "print('chi^2 = ', chi2, \"/\", ndof, \"ndof\")\n",
    "print('p = ', 1 - stats.chi2.cdf(chi_2, ndof))"
   ]
  },
  {
   "cell_type": "markdown",
   "metadata": {},
   "source": [
    "Confronto con ```scipy.stats.linregres```\n",
    "\n",
    "<span style=\"color: blue\">Da notare che il $p$-value è relativo all'ipotesi che la pendenza sia zero, non è relativo al $\\chi^2$ del fit.</span>\n",
    "\n",
    "<span style=\"color: red\">La funzione non implementa fit pesati.</span>"
   ]
  },
  {
   "cell_type": "code",
   "execution_count": 11,
   "metadata": {},
   "outputs": [
    {
     "name": "stdout",
     "output_type": "stream",
     "text": [
      "b =  1.544030373969231\n",
      "a =  2.24092734907674\n",
      "err =  0.11560280442280929\n",
      "R^2 =  0.9083464887336299\n",
      "p =  8.837395976684247e-11\n"
     ]
    }
   ],
   "source": [
    "slope, intercept, r_value, p_value, std_err = stats.linregress(x, y)\n",
    "print('b = ', slope)\n",
    "print('a = ', intercept)\n",
    "print('err = ', std_err)\n",
    "print('R^2 = ', r_value*r_value)\n",
    "print('p = ', p_value)"
   ]
  },
  {
   "cell_type": "markdown",
   "metadata": {},
   "source": [
    "Propagazione degli errori su $a$ e $b$, considerando il coefficiente di covarianza:\n",
    "\n",
    "$y = a + b x$\n",
    "\n",
    "$\\sigma_y^2 = \\sigma_a^2 + 2x\\,\\mathrm{cov}(a,b) + x^2\\sigma_b^2$"
   ]
  },
  {
   "cell_type": "code",
   "execution_count": 12,
   "metadata": {},
   "outputs": [],
   "source": [
    "y_err_fit = np.sqrt(var_a + 2*x*cov_ab + x2*var_b)\n",
    "y_lo_fit = y_fit - y_err_fit\n",
    "y_hi_fit = y_fit + y_err_fit"
   ]
  },
  {
   "cell_type": "code",
   "execution_count": 13,
   "metadata": {},
   "outputs": [
    {
     "data": {
      "image/png": "[encoded data removed]",
      "text/plain": [
       "<Figure size 432x288 with 1 Axes>"
      ]
     },
     "metadata": {
      "needs_background": "light"
     },
     "output_type": "display_data"
    }
   ],
   "source": [
    "plt.fill_between(x, y_lo_fit, y_hi_fit, facecolor='yellow')\n",
    "plt.plot(x,y, 'o')\n",
    "plt.plot([x_min,x_max],[fit_line(x_min), fit_line(x_max)])\n",
    "plt.show()"
   ]
  },
  {
   "cell_type": "markdown",
   "metadata": {},
   "source": [
    "Costruzione del dataframe pandas per visualizzazione della tabella"
   ]
  },
  {
   "cell_type": "code",
   "execution_count": 14,
   "metadata": {},
   "outputs": [
    {
     "data": {
      "text/html": [
       "<div>\n",
       "<style scoped>\n",
       "    .dataframe tbody tr th:only-of-type {\n",
       "        vertical-align: middle;\n",
       "    }\n",
       "\n",
       "    .dataframe tbody tr th {\n",
       "        vertical-align: top;\n",
       "    }\n",
       "\n",
       "    .dataframe thead th {\n",
       "        text-align: right;\n",
       "    }\n",
       "</style>\n",
       "<table border=\"1\" class=\"dataframe\">\n",
       "  <thead>\n",
       "    <tr style=\"text-align: right;\">\n",
       "      <th></th>\n",
       "      <th>x</th>\n",
       "      <th>y</th>\n",
       "      <th>dx</th>\n",
       "      <th>dy</th>\n",
       "      <th>x2</th>\n",
       "      <th>dxdy</th>\n",
       "      <th>dx2</th>\n",
       "      <th>y_fit</th>\n",
       "      <th>res</th>\n",
       "      <th>res2</th>\n",
       "      <th>y_err_fit</th>\n",
       "      <th>y_lo_fit</th>\n",
       "      <th>y_hi_fit</th>\n",
       "    </tr>\n",
       "  </thead>\n",
       "  <tbody>\n",
       "    <tr>\n",
       "      <th>0</th>\n",
       "      <td>0.601058</td>\n",
       "      <td>4.897780</td>\n",
       "      <td>-4.415963</td>\n",
       "      <td>-5.089580</td>\n",
       "      <td>0.361270</td>\n",
       "      <td>22.475400</td>\n",
       "      <td>19.500733</td>\n",
       "      <td>3.168979</td>\n",
       "      <td>1.728802</td>\n",
       "      <td>2.988755</td>\n",
       "      <td>0.614641</td>\n",
       "      <td>2.554337</td>\n",
       "      <td>3.783620</td>\n",
       "    </tr>\n",
       "    <tr>\n",
       "      <th>1</th>\n",
       "      <td>1.183433</td>\n",
       "      <td>3.757204</td>\n",
       "      <td>-3.833588</td>\n",
       "      <td>-6.230157</td>\n",
       "      <td>1.400513</td>\n",
       "      <td>23.883856</td>\n",
       "      <td>14.696400</td>\n",
       "      <td>4.068183</td>\n",
       "      <td>-0.310980</td>\n",
       "      <td>0.096708</td>\n",
       "      <td>0.559981</td>\n",
       "      <td>3.508203</td>\n",
       "      <td>4.628164</td>\n",
       "    </tr>\n",
       "    <tr>\n",
       "      <th>2</th>\n",
       "      <td>1.637184</td>\n",
       "      <td>7.744571</td>\n",
       "      <td>-3.379837</td>\n",
       "      <td>-2.242790</td>\n",
       "      <td>2.680372</td>\n",
       "      <td>7.580263</td>\n",
       "      <td>11.423297</td>\n",
       "      <td>4.768789</td>\n",
       "      <td>2.975781</td>\n",
       "      <td>8.855274</td>\n",
       "      <td>0.519458</td>\n",
       "      <td>4.249331</td>\n",
       "      <td>5.288248</td>\n",
       "    </tr>\n",
       "    <tr>\n",
       "      <th>3</th>\n",
       "      <td>1.828313</td>\n",
       "      <td>4.934198</td>\n",
       "      <td>-3.188709</td>\n",
       "      <td>-5.053163</td>\n",
       "      <td>3.342727</td>\n",
       "      <td>16.113063</td>\n",
       "      <td>10.167862</td>\n",
       "      <td>5.063897</td>\n",
       "      <td>-0.129700</td>\n",
       "      <td>0.016822</td>\n",
       "      <td>0.503050</td>\n",
       "      <td>4.560848</td>\n",
       "      <td>5.566947</td>\n",
       "    </tr>\n",
       "    <tr>\n",
       "      <th>4</th>\n",
       "      <td>2.057667</td>\n",
       "      <td>4.216263</td>\n",
       "      <td>-2.959355</td>\n",
       "      <td>-5.771097</td>\n",
       "      <td>4.233992</td>\n",
       "      <td>17.078723</td>\n",
       "      <td>8.757779</td>\n",
       "      <td>5.418027</td>\n",
       "      <td>-1.201764</td>\n",
       "      <td>1.444237</td>\n",
       "      <td>0.483957</td>\n",
       "      <td>4.934070</td>\n",
       "      <td>5.901984</td>\n",
       "    </tr>\n",
       "    <tr>\n",
       "      <th>5</th>\n",
       "      <td>2.206270</td>\n",
       "      <td>3.833734</td>\n",
       "      <td>-2.810751</td>\n",
       "      <td>-6.153626</td>\n",
       "      <td>4.867626</td>\n",
       "      <td>17.296314</td>\n",
       "      <td>7.900323</td>\n",
       "      <td>5.647475</td>\n",
       "      <td>-1.813741</td>\n",
       "      <td>3.289656</td>\n",
       "      <td>0.471970</td>\n",
       "      <td>5.175505</td>\n",
       "      <td>6.119445</td>\n",
       "    </tr>\n",
       "    <tr>\n",
       "      <th>6</th>\n",
       "      <td>2.772777</td>\n",
       "      <td>7.707080</td>\n",
       "      <td>-2.244244</td>\n",
       "      <td>-2.280281</td>\n",
       "      <td>7.688290</td>\n",
       "      <td>5.117507</td>\n",
       "      <td>5.036633</td>\n",
       "      <td>6.522179</td>\n",
       "      <td>1.184901</td>\n",
       "      <td>1.403990</td>\n",
       "      <td>0.429518</td>\n",
       "      <td>6.092661</td>\n",
       "      <td>6.951696</td>\n",
       "    </tr>\n",
       "    <tr>\n",
       "      <th>7</th>\n",
       "      <td>3.387232</td>\n",
       "      <td>8.130766</td>\n",
       "      <td>-1.629790</td>\n",
       "      <td>-1.856594</td>\n",
       "      <td>11.473337</td>\n",
       "      <td>3.025858</td>\n",
       "      <td>2.656214</td>\n",
       "      <td>7.470916</td>\n",
       "      <td>0.659850</td>\n",
       "      <td>0.435403</td>\n",
       "      <td>0.390734</td>\n",
       "      <td>7.080181</td>\n",
       "      <td>7.861650</td>\n",
       "    </tr>\n",
       "    <tr>\n",
       "      <th>8</th>\n",
       "      <td>4.217604</td>\n",
       "      <td>7.830543</td>\n",
       "      <td>-0.799417</td>\n",
       "      <td>-2.156817</td>\n",
       "      <td>17.788181</td>\n",
       "      <td>1.724197</td>\n",
       "      <td>0.639068</td>\n",
       "      <td>8.753036</td>\n",
       "      <td>-0.922493</td>\n",
       "      <td>0.850992</td>\n",
       "      <td>0.354565</td>\n",
       "      <td>8.398471</td>\n",
       "      <td>9.107600</td>\n",
       "    </tr>\n",
       "    <tr>\n",
       "      <th>9</th>\n",
       "      <td>4.753832</td>\n",
       "      <td>6.758510</td>\n",
       "      <td>-0.263189</td>\n",
       "      <td>-3.228851</td>\n",
       "      <td>22.598920</td>\n",
       "      <td>0.849798</td>\n",
       "      <td>0.069268</td>\n",
       "      <td>9.580989</td>\n",
       "      <td>-2.822479</td>\n",
       "      <td>7.966388</td>\n",
       "      <td>0.343659</td>\n",
       "      <td>9.237330</td>\n",
       "      <td>9.924647</td>\n",
       "    </tr>\n",
       "    <tr>\n",
       "      <th>10</th>\n",
       "      <td>5.041170</td>\n",
       "      <td>8.246265</td>\n",
       "      <td>0.024149</td>\n",
       "      <td>-1.741096</td>\n",
       "      <td>25.413396</td>\n",
       "      <td>-0.042046</td>\n",
       "      <td>0.000583</td>\n",
       "      <td>10.024647</td>\n",
       "      <td>-1.778383</td>\n",
       "      <td>3.162645</td>\n",
       "      <td>0.342321</td>\n",
       "      <td>9.682326</td>\n",
       "      <td>10.366968</td>\n",
       "    </tr>\n",
       "    <tr>\n",
       "      <th>11</th>\n",
       "      <td>5.156830</td>\n",
       "      <td>10.814604</td>\n",
       "      <td>0.139809</td>\n",
       "      <td>0.827243</td>\n",
       "      <td>26.592898</td>\n",
       "      <td>0.115656</td>\n",
       "      <td>0.019547</td>\n",
       "      <td>10.203230</td>\n",
       "      <td>0.611374</td>\n",
       "      <td>0.373778</td>\n",
       "      <td>0.342691</td>\n",
       "      <td>9.860539</td>\n",
       "      <td>10.545921</td>\n",
       "    </tr>\n",
       "    <tr>\n",
       "      <th>12</th>\n",
       "      <td>6.270200</td>\n",
       "      <td>12.431545</td>\n",
       "      <td>1.253179</td>\n",
       "      <td>2.444185</td>\n",
       "      <td>39.315405</td>\n",
       "      <td>3.063001</td>\n",
       "      <td>1.570457</td>\n",
       "      <td>11.922306</td>\n",
       "      <td>0.509239</td>\n",
       "      <td>0.259325</td>\n",
       "      <td>0.371703</td>\n",
       "      <td>11.550603</td>\n",
       "      <td>12.294010</td>\n",
       "    </tr>\n",
       "    <tr>\n",
       "      <th>13</th>\n",
       "      <td>6.369335</td>\n",
       "      <td>10.212142</td>\n",
       "      <td>1.352314</td>\n",
       "      <td>0.224782</td>\n",
       "      <td>40.568425</td>\n",
       "      <td>0.303976</td>\n",
       "      <td>1.828752</td>\n",
       "      <td>12.075374</td>\n",
       "      <td>-1.863231</td>\n",
       "      <td>3.471631</td>\n",
       "      <td>0.376318</td>\n",
       "      <td>11.699056</td>\n",
       "      <td>12.451692</td>\n",
       "    </tr>\n",
       "    <tr>\n",
       "      <th>14</th>\n",
       "      <td>7.467192</td>\n",
       "      <td>13.674153</td>\n",
       "      <td>2.450171</td>\n",
       "      <td>3.686793</td>\n",
       "      <td>55.758955</td>\n",
       "      <td>9.033272</td>\n",
       "      <td>6.003337</td>\n",
       "      <td>13.770498</td>\n",
       "      <td>-0.096345</td>\n",
       "      <td>0.009282</td>\n",
       "      <td>0.444302</td>\n",
       "      <td>13.326196</td>\n",
       "      <td>14.214801</td>\n",
       "    </tr>\n",
       "    <tr>\n",
       "      <th>15</th>\n",
       "      <td>7.801837</td>\n",
       "      <td>16.168305</td>\n",
       "      <td>2.784816</td>\n",
       "      <td>6.180945</td>\n",
       "      <td>60.868659</td>\n",
       "      <td>17.212793</td>\n",
       "      <td>7.755199</td>\n",
       "      <td>14.287200</td>\n",
       "      <td>1.881105</td>\n",
       "      <td>3.538555</td>\n",
       "      <td>0.469911</td>\n",
       "      <td>13.817290</td>\n",
       "      <td>14.757111</td>\n",
       "    </tr>\n",
       "    <tr>\n",
       "      <th>16</th>\n",
       "      <td>8.789065</td>\n",
       "      <td>15.132183</td>\n",
       "      <td>3.772044</td>\n",
       "      <td>5.144823</td>\n",
       "      <td>77.247657</td>\n",
       "      <td>19.406497</td>\n",
       "      <td>14.228312</td>\n",
       "      <td>15.811510</td>\n",
       "      <td>-0.679327</td>\n",
       "      <td>0.461485</td>\n",
       "      <td>0.554367</td>\n",
       "      <td>15.257143</td>\n",
       "      <td>16.365877</td>\n",
       "    </tr>\n",
       "    <tr>\n",
       "      <th>17</th>\n",
       "      <td>9.417368</td>\n",
       "      <td>17.717425</td>\n",
       "      <td>4.400347</td>\n",
       "      <td>7.730064</td>\n",
       "      <td>88.686827</td>\n",
       "      <td>34.014968</td>\n",
       "      <td>19.363056</td>\n",
       "      <td>16.781630</td>\n",
       "      <td>0.935794</td>\n",
       "      <td>0.875711</td>\n",
       "      <td>0.613143</td>\n",
       "      <td>16.168488</td>\n",
       "      <td>17.394773</td>\n",
       "    </tr>\n",
       "    <tr>\n",
       "      <th>18</th>\n",
       "      <td>9.531801</td>\n",
       "      <td>18.534657</td>\n",
       "      <td>4.514780</td>\n",
       "      <td>8.547297</td>\n",
       "      <td>90.855227</td>\n",
       "      <td>38.589163</td>\n",
       "      <td>20.383236</td>\n",
       "      <td>16.958317</td>\n",
       "      <td>1.576340</td>\n",
       "      <td>2.484847</td>\n",
       "      <td>0.624161</td>\n",
       "      <td>16.334156</td>\n",
       "      <td>17.582479</td>\n",
       "    </tr>\n",
       "    <tr>\n",
       "      <th>19</th>\n",
       "      <td>9.850257</td>\n",
       "      <td>17.005280</td>\n",
       "      <td>4.833236</td>\n",
       "      <td>7.017919</td>\n",
       "      <td>97.027560</td>\n",
       "      <td>33.919258</td>\n",
       "      <td>23.360168</td>\n",
       "      <td>17.450023</td>\n",
       "      <td>-0.444744</td>\n",
       "      <td>0.197797</td>\n",
       "      <td>0.655257</td>\n",
       "      <td>16.794767</td>\n",
       "      <td>18.105280</td>\n",
       "    </tr>\n",
       "  </tbody>\n",
       "</table>\n",
       "</div>"
      ],
      "text/plain": [
       "           x          y        dx        dy         x2       dxdy        dx2  \\\n",
       "0   0.601058   4.897780 -4.415963 -5.089580   0.361270  22.475400  19.500733   \n",
       "1   1.183433   3.757204 -3.833588 -6.230157   1.400513  23.883856  14.696400   \n",
       "2   1.637184   7.744571 -3.379837 -2.242790   2.680372   7.580263  11.423297   \n",
       "3   1.828313   4.934198 -3.188709 -5.053163   3.342727  16.113063  10.167862   \n",
       "4   2.057667   4.216263 -2.959355 -5.771097   4.233992  17.078723   8.757779   \n",
       "5   2.206270   3.833734 -2.810751 -6.153626   4.867626  17.296314   7.900323   \n",
       "6   2.772777   7.707080 -2.244244 -2.280281   7.688290   5.117507   5.036633   \n",
       "7   3.387232   8.130766 -1.629790 -1.856594  11.473337   3.025858   2.656214   \n",
       "8   4.217604   7.830543 -0.799417 -2.156817  17.788181   1.724197   0.639068   \n",
       "9   4.753832   6.758510 -0.263189 -3.228851  22.598920   0.849798   0.069268   \n",
       "10  5.041170   8.246265  0.024149 -1.741096  25.413396  -0.042046   0.000583   \n",
       "11  5.156830  10.814604  0.139809  0.827243  26.592898   0.115656   0.019547   \n",
       "12  6.270200  12.431545  1.253179  2.444185  39.315405   3.063001   1.570457   \n",
       "13  6.369335  10.212142  1.352314  0.224782  40.568425   0.303976   1.828752   \n",
       "14  7.467192  13.674153  2.450171  3.686793  55.758955   9.033272   6.003337   \n",
       "15  7.801837  16.168305  2.784816  6.180945  60.868659  17.212793   7.755199   \n",
       "16  8.789065  15.132183  3.772044  5.144823  77.247657  19.406497  14.228312   \n",
       "17  9.417368  17.717425  4.400347  7.730064  88.686827  34.014968  19.363056   \n",
       "18  9.531801  18.534657  4.514780  8.547297  90.855227  38.589163  20.383236   \n",
       "19  9.850257  17.005280  4.833236  7.017919  97.027560  33.919258  23.360168   \n",
       "\n",
       "        y_fit       res      res2  y_err_fit   y_lo_fit   y_hi_fit  \n",
       "0    3.168979  1.728802  2.988755   0.614641   2.554337   3.783620  \n",
       "1    4.068183 -0.310980  0.096708   0.559981   3.508203   4.628164  \n",
       "2    4.768789  2.975781  8.855274   0.519458   4.249331   5.288248  \n",
       "3    5.063897 -0.129700  0.016822   0.503050   4.560848   5.566947  \n",
       "4    5.418027 -1.201764  1.444237   0.483957   4.934070   5.901984  \n",
       "5    5.647475 -1.813741  3.289656   0.471970   5.175505   6.119445  \n",
       "6    6.522179  1.184901  1.403990   0.429518   6.092661   6.951696  \n",
       "7    7.470916  0.659850  0.435403   0.390734   7.080181   7.861650  \n",
       "8    8.753036 -0.922493  0.850992   0.354565   8.398471   9.107600  \n",
       "9    9.580989 -2.822479  7.966388   0.343659   9.237330   9.924647  \n",
       "10  10.024647 -1.778383  3.162645   0.342321   9.682326  10.366968  \n",
       "11  10.203230  0.611374  0.373778   0.342691   9.860539  10.545921  \n",
       "12  11.922306  0.509239  0.259325   0.371703  11.550603  12.294010  \n",
       "13  12.075374 -1.863231  3.471631   0.376318  11.699056  12.451692  \n",
       "14  13.770498 -0.096345  0.009282   0.444302  13.326196  14.214801  \n",
       "15  14.287200  1.881105  3.538555   0.469911  13.817290  14.757111  \n",
       "16  15.811510 -0.679327  0.461485   0.554367  15.257143  16.365877  \n",
       "17  16.781630  0.935794  0.875711   0.613143  16.168488  17.394773  \n",
       "18  16.958317  1.576340  2.484847   0.624161  16.334156  17.582479  \n",
       "19  17.450023 -0.444744  0.197797   0.655257  16.794767  18.105280  "
      ]
     },
     "execution_count": 14,
     "metadata": {},
     "output_type": "execute_result"
    }
   ],
   "source": [
    "df = pd.DataFrame({'x': x, 'y':y, 'dx': dx, 'dy': dy, 'x2': x2, 'dxdy': dxdy, 'dx2': dx2,\n",
    "    'y_fit': y_fit, 'res': res, 'res2': res2,\n",
    "    'y_err_fit': y_err_fit, 'y_lo_fit': y_lo_fit, 'y_hi_fit': y_hi_fit})\n",
    "df"
   ]
  },
  {
   "cell_type": "code",
   "execution_count": null,
   "metadata": {},
   "outputs": [],
   "source": []
  }
 ],
 "metadata": {
  "kernelspec": {
   "display_name": "Python 3",
   "language": "python",
   "name": "python3"
  },
  "language_info": {
   "codemirror_mode": {
    "name": "ipython",
    "version": 3
   },
   "file_extension": ".py",
   "mimetype": "text/x-python",
   "name": "python",
   "nbconvert_exporter": "python",
   "pygments_lexer": "ipython3",
   "version": "3.7.3"
  }
 },
 "nbformat": 4,
 "nbformat_minor": 4
}
