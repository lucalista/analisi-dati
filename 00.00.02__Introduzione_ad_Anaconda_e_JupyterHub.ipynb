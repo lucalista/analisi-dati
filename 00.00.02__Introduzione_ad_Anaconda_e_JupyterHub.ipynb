{
 "cells": [
  {
   "cell_type": "markdown",
   "metadata": {},
   "source": [
    "# Sviluppare con python in ambiente JupyterHub"
   ]
  },
  {
   "cell_type": "markdown",
   "metadata": {},
   "source": [
    "<img style=\"width: 500px;\" src=\"img/anaconda-logo.png\">\n",
    "Anaconda (individual edition) fornisce il supporto locale per sviluppare python in ambiente Jupyter Hub\n",
    "\n",
    "https://www.anaconda.com/products/individual\n"
   ]
  },
  {
   "cell_type": "markdown",
   "metadata": {},
   "source": [
    "<img style=\"width: 400px;\" src=\"img/colab-logo.png\">\n",
    "Anche Google fornisce una piattaforma di sviluppo python. Le risorse di calcolo sono disponibili direttamente in rete.\n",
    "\n",
    "https://colab.research.google.com"
   ]
  },
  {
   "cell_type": "markdown",
   "metadata": {},
   "source": [
    "Per installare Anaconda:\n",
    "1. scaricare la versione per la propria piattaforma (>400MB; il download può richiedere un po' di tempo...)\n",
    "* installare il pacchetto    "
   ]
  },
  {
   "cell_type": "markdown",
   "metadata": {},
   "source": [
    "Per cominciare a sviluppare:\n",
    "1. avviare Anaconda navigator\n",
    "* far partire l'ambiente jupyter notebook (richiede un browser web)\n",
    "* cerare un nuovo notebook python 3 (menu *New*)\n",
    "\n",
    "Ci saranno moduli che non sono installati di defaut. Quindi l'import può fallire:"
   ]
  },
  {
   "cell_type": "code",
   "execution_count": 1,
   "metadata": {},
   "outputs": [
    {
     "ename": "ModuleNotFoundError",
     "evalue": "No module named 'unknown_module'",
     "output_type": "error",
     "traceback": [
      "\u001b[0;31m---------------------------------------------------------------------------\u001b[0m",
      "\u001b[0;31mModuleNotFoundError\u001b[0m                       Traceback (most recent call last)",
      "\u001b[0;32m<ipython-input-1-ea1fee4a82af>\u001b[0m in \u001b[0;36m<module>\u001b[0;34m\u001b[0m\n\u001b[0;32m----> 1\u001b[0;31m \u001b[0;32mimport\u001b[0m \u001b[0munknown_module\u001b[0m\u001b[0;34m\u001b[0m\u001b[0;34m\u001b[0m\u001b[0m\n\u001b[0m",
      "\u001b[0;31mModuleNotFoundError\u001b[0m: No module named 'unknown_module'"
     ]
    }
   ],
   "source": [
    "import unknown_module"
   ]
  },
  {
   "cell_type": "markdown",
   "metadata": {},
   "source": [
    "Per installare un nuovo modulo:\n",
    "1. Aprire un nuovo terminale (menu *New*)\n",
    "* digitare il comando per l'installazione al prompt del terminale\n",
    "\n",
    "di seguito quanto apparirà sul terminale:\n",
    "\n",
    "    conda install iminuit\n",
    "    Collecting package metadata (current_repodata.json): done\n",
    "    Solving environment: done\n",
    "\n",
    "    ## Package Plan ##\n",
    "\n",
    "    environment location: /Users/lista/opt/anaconda3\n",
    "\n",
    "    added / updated specs:\n",
    "    - iminuit\n",
    "\n",
    "    The following packages will be downloaded:\n",
    "\n",
    "    package                    |            build\n",
    "    ---------------------------|-----------------\n",
    "    iminuit-2.2.0              |   py38h23ab428_0         326 KB\n",
    "    ------------------------------------------------------------\n",
    "                                           Total:         326 KB\n",
    "\n",
    "    The following NEW packages will be INSTALLED:\n",
    "\n",
    "    iminuit            pkgs/main/osx-64::iminuit-2.2.0-py38h23ab428_0\n",
    "\n",
    "    Proceed ([y]/n)?\n"
   ]
  },
  {
   "cell_type": "markdown",
   "metadata": {},
   "source": [
    "battere ```y``` per proseguire:"
   ]
  },
  {
   "cell_type": "markdown",
   "metadata": {},
   "source": [
    "    Downloading and Extracting Packages\n",
    "    iminuit-2.2.0        | 326 KB    | ############################################################# | 100%\n",
    "    Preparing transaction: done\n",
    "    Verifying transaction: done\n",
    "    Executing transaction: done"
   ]
  },
  {
   "cell_type": "markdown",
   "metadata": {},
   "source": [
    "Il comando ```import``` dal notebook non darà più errore:"
   ]
  },
  {
   "cell_type": "code",
   "execution_count": 2,
   "metadata": {},
   "outputs": [],
   "source": [
    "import iminuit"
   ]
  },
  {
   "cell_type": "markdown",
   "metadata": {},
   "source": [
    "# Git\n",
    "\n",
    "I notebook di questo corso sono disponibili in un reposityey GitHub: <a href=\"https://github.com/lucalista/analisi-dati\">https://github.com/lucalista/analisi-dati</a>\n",
    "\n",
    "Sarà conveniente scaricare il software direttamente con <a href=\"https://git-scm.com/\">```git```</a>.\n",
    "\n",
    "Su sistemi unix o mac si può scaricare l'intero reposotory con il comando:\n",
    "\n",
    "    git clone https://github.com/lucalista/analisi-dati.git\n",
    "    \n",
    "Dopo ogni lezione ci saranno aggiornamenti che si possono scaricare con:\n",
    "\n",
    "    git pull\n",
    "\n",
    "È anche disponibile la <a href=\"https://git-scm.com/download/gui/mac\">versione GUI</a> anziché a linea di comando, comoda in particolare su Windows.\n",
    "\n"
   ]
  },
  {
   "cell_type": "markdown",
   "metadata": {},
   "source": [
    "# Pacchetti che useremo\n",
    "\n",
    "Useremo i seguenti pacchetti che conviene installare da subito. Diversi potrebbero essere già presenti:\n",
    "* numpy\n",
    "* pandas\n",
    "* scipy\n",
    "* matplotlib\n",
    "* wget\n",
    "* random\n",
    "* iminuit"
   ]
  },
  {
   "cell_type": "markdown",
   "metadata": {},
   "source": [
    "# Spunti per esercizi\n",
    "\n",
    "* Provare ad installare alcuni dei pacchetti sopra indicati"
   ]
  },
  {
   "cell_type": "code",
   "execution_count": null,
   "metadata": {},
   "outputs": [],
   "source": []
  }
 ],
 "metadata": {
  "kernelspec": {
   "display_name": "Python 3",
   "language": "python",
   "name": "python3"
  },
  "language_info": {
   "codemirror_mode": {
    "name": "ipython",
    "version": 3
   },
   "file_extension": ".py",
   "mimetype": "text/x-python",
   "name": "python",
   "nbconvert_exporter": "python",
   "pygments_lexer": "ipython3",
   "version": "3.7.3"
  }
 },
 "nbformat": 4,
 "nbformat_minor": 4
}
